{
  "nbformat": 4,
  "nbformat_minor": 0,
  "metadata": {
    "colab": {
      "provenance": [],
      "authorship_tag": "ABX9TyOM6FUH8uneZvvdygYIAFeh",
      "include_colab_link": true
    },
    "kernelspec": {
      "name": "python3",
      "display_name": "Python 3"
    },
    "language_info": {
      "name": "python"
    }
  },
  "cells": [
    {
      "cell_type": "markdown",
      "metadata": {
        "id": "view-in-github",
        "colab_type": "text"
      },
      "source": [
        "<a href=\"https://colab.research.google.com/github/asheta66/Machine-Learning-2022/blob/main/ANN_Classification.ipynb\" target=\"_parent\"><img src=\"https://colab.research.google.com/assets/colab-badge.svg\" alt=\"Open In Colab\"/></a>"
      ]
    },
    {
      "cell_type": "code",
      "execution_count": null,
      "metadata": {
        "collapsed": true,
        "id": "0taDGBmTWOqV"
      },
      "outputs": [],
      "source": [
        "import pandas as pd\n",
        "import numpy as np\n",
        "import matplotlib.pyplot as plt\n",
        "import seaborn as sns\n",
        "from sklearn.model_selection import train_test_split\n",
        "from sklearn.preprocessing import LabelBinarizer\n",
        "from sklearn.metrics import accuracy_score, precision_score, recall_score, f1_score\n",
        "\n",
        "import tensorflow as tf\n",
        "from tensorflow.keras.models import Sequential\n",
        "from tensorflow.keras.layers import Dense\n",
        "from tensorflow.keras.optimizers import Adam\n",
        "\n",
        "# Load data\n",
        "data = pd.read_excel('geometric_features_labels.xlsx')\n",
        "\n",
        "# Split data into features and labels\n",
        "features = data.iloc[:, :-1]\n",
        "labels = data.iloc[:, -1]\n",
        "\n",
        "# Binarize the labels\n",
        "lb = LabelBinarizer()\n",
        "labels_binarized = lb.fit_transform(labels)\n",
        "\n",
        "# Split the data into training and testing sets\n",
        "x_train, x_test, y_train, y_test = train_test_split(features, labels_binarized, test_size=0.4, stratify=labels, random_state=23)\n",
        "\n",
        "# Define the model\n",
        "model = Sequential()\n",
        "model.add(Dense(128, input_dim=features.shape[1], activation='relu'))\n",
        "model.add(Dense(64, activation='relu'))\n",
        "model.add(Dense(20, activation='softmax'))  # 20 classes\n",
        "\n",
        "# Compile the model\n",
        "model.compile(optimizer=Adam(learning_rate=0.001), loss='categorical_crossentropy', metrics=['accuracy'])\n",
        "\n",
        "# Train the model\n",
        "history = model.fit(x_train, y_train, epochs=100, batch_size=32, validation_split=0.2, verbose=1)\n",
        "\n",
        "# Evaluate the model on the training data\n",
        "y_train_pred = model.predict(x_train)\n",
        "y_train_pred_classes = np.argmax(y_train_pred, axis=1)\n",
        "y_train_true_classes = np.argmax(y_train, axis=1)\n",
        "\n",
        "# Evaluate the model on the testing data\n",
        "y_test_pred = model.predict(x_test)\n",
        "y_test_pred_classes = np.argmax(y_test_pred, axis=1)\n",
        "y_test_true_classes = np.argmax(y_test, axis=1)"
      ]
    },
    {
      "cell_type": "code",
      "source": [
        "# Compute metrics\n",
        "metrics = {\n",
        "    'Data': ['Training', 'Testing'],\n",
        "    'Accuracy': [accuracy_score(y_train_true_classes, y_train_pred_classes), accuracy_score(y_test_true_classes, y_test_pred_classes)],\n",
        "    'Precision': [precision_score(y_train_true_classes, y_train_pred_classes, average='weighted'), precision_score(y_test_true_classes, y_test_pred_classes, average='weighted')],\n",
        "    'Recall': [recall_score(y_train_true_classes, y_train_pred_classes, average='weighted'), recall_score(y_test_true_classes, y_test_pred_classes, average='weighted')],\n",
        "    'F1 Score': [f1_score(y_train_true_classes, y_train_pred_classes, average='weighted'), f1_score(y_test_true_classes, y_test_pred_classes, average='weighted')]\n",
        "}\n",
        "\n",
        "metrics_df = pd.DataFrame(metrics)\n",
        "print(\"Metrics DataFrame:\")\n",
        "print(metrics_df)"
      ],
      "metadata": {
        "id": "kFci6mRVYfT5"
      },
      "execution_count": null,
      "outputs": []
    },
    {
      "cell_type": "code",
      "source": [
        "# Plot the convergence curve\n",
        "plt.figure(figsize=(5, 5))\n",
        "plt.plot(history.history['loss'], label='Training Loss')\n",
        "plt.plot(history.history['val_loss'], label='Validation Loss')\n",
        "plt.title('Convergence Curve', fontsize=16)\n",
        "plt.xlabel('Epochs', fontsize=14)\n",
        "plt.ylabel('Loss', fontsize=14)\n",
        "plt.legend()\n",
        "plt.grid(True)\n",
        "plt.savefig('convergence_curve.png')\n",
        "plt.show()"
      ],
      "metadata": {
        "collapsed": true,
        "id": "Ct31v6vvYTP5"
      },
      "execution_count": null,
      "outputs": []
    }
  ]
}