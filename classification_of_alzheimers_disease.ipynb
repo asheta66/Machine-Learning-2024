{
  "nbformat": 4,
  "nbformat_minor": 0,
  "metadata": {
    "colab": {
      "provenance": [],
      "authorship_tag": "ABX9TyMj69z9UWzi0QEQu4T7wEdN",
      "include_colab_link": true
    },
    "kernelspec": {
      "name": "python3",
      "display_name": "Python 3"
    },
    "language_info": {
      "name": "python"
    }
  },
  "cells": [
    {
      "cell_type": "markdown",
      "metadata": {
        "id": "view-in-github",
        "colab_type": "text"
      },
      "source": [
        "<a href=\"https://colab.research.google.com/github/asheta66/Machine-Learning-2024/blob/main/classification_of_alzheimers_disease.ipynb\" target=\"_parent\"><img src=\"https://colab.research.google.com/assets/colab-badge.svg\" alt=\"Open In Colab\"/></a>"
      ]
    },
    {
      "cell_type": "code",
      "execution_count": 213,
      "metadata": {
        "id": "e6mRzwKChEHE"
      },
      "outputs": [],
      "source": [
        "# Importing the libraries\n",
        "import math\n",
        "import numpy as np\n",
        "import pandas as pd\n",
        "\n",
        "import numpy as np\n",
        "import matplotlib.pyplot as plt\n",
        "import pandas as pd\n",
        "import seaborn as sns\n",
        "sns.set_style(\"whitegrid\")\n",
        "\n",
        "from sklearn.model_selection import train_test_split, KFold, cross_val_score\n",
        "from sklearn.linear_model import LogisticRegression\n",
        "from sklearn.svm import SVC\n",
        "from sklearn.ensemble import GradientBoostingClassifier\n",
        "from sklearn.naive_bayes import GaussianNB\n",
        "from sklearn.ensemble import RandomForestClassifier\n",
        "from sklearn.neighbors import KNeighborsClassifier\n",
        "from matplotlib import pyplot as plt"
      ]
    },
    {
      "cell_type": "code",
      "source": [
        "# !apt install texlive-xetex texlive-fonts-recommended texlive-generic-recommended\n",
        "# !apt install cm-super"
      ],
      "metadata": {
        "id": "pbOqPajai_7N"
      },
      "execution_count": 214,
      "outputs": []
    },
    {
      "cell_type": "code",
      "source": [
        "# plt.rcParams['text.usetex'] = True"
      ],
      "metadata": {
        "id": "onJVMLeRjZbr"
      },
      "execution_count": 215,
      "outputs": []
    },
    {
      "cell_type": "markdown",
      "source": [
        "**Reading the data**"
      ],
      "metadata": {
        "id": "wYhqVAFmia0T"
      }
    },
    {
      "cell_type": "code",
      "source": [
        "# Importing the datasets\n",
        "df     = pd.read_csv('alzheimers_disease_data.csv')"
      ],
      "metadata": {
        "id": "nlAAPqfXimI6"
      },
      "execution_count": 216,
      "outputs": []
    },
    {
      "cell_type": "markdown",
      "source": [
        "**Display the data**"
      ],
      "metadata": {
        "id": "SlwgKvhai3Ii"
      }
    },
    {
      "cell_type": "code",
      "source": [
        "df.shape"
      ],
      "metadata": {
        "colab": {
          "base_uri": "https://localhost:8080/"
        },
        "id": "aKlQrzCojDrB",
        "outputId": "2f44ee88-e240-45c5-cdf0-2cafb2970227"
      },
      "execution_count": 217,
      "outputs": [
        {
          "output_type": "execute_result",
          "data": {
            "text/plain": [
              "(2149, 35)"
            ]
          },
          "metadata": {},
          "execution_count": 217
        }
      ]
    },
    {
      "cell_type": "markdown",
      "source": [
        "**Display sample data**"
      ],
      "metadata": {
        "id": "th_Z44koiuiC"
      }
    },
    {
      "cell_type": "code",
      "source": [
        "df.head()"
      ],
      "metadata": {
        "id": "G4EAUiE66FnU",
        "outputId": "c52793ff-5379-48c4-ee5e-8fb32341c4ca",
        "colab": {
          "base_uri": "https://localhost:8080/",
          "height": 255
        }
      },
      "execution_count": 218,
      "outputs": [
        {
          "output_type": "execute_result",
          "data": {
            "text/plain": [
              "   PatientID  Age  Gender  Ethnicity  EducationLevel        BMI  Smoking  \\\n",
              "0       4751   73       0          0               2  22.927749        0   \n",
              "1       4752   89       0          0               0  26.827681        0   \n",
              "2       4753   73       0          3               1  17.795882        0   \n",
              "3       4754   74       1          0               1  33.800817        1   \n",
              "4       4755   89       0          0               0  20.716974        0   \n",
              "\n",
              "   AlcoholConsumption  PhysicalActivity  DietQuality  ...  MemoryComplaints  \\\n",
              "0           13.297218          6.327112     1.347214  ...                 0   \n",
              "1            4.542524          7.619885     0.518767  ...                 0   \n",
              "2           19.555085          7.844988     1.826335  ...                 0   \n",
              "3           12.209266          8.428001     7.435604  ...                 0   \n",
              "4           18.454356          6.310461     0.795498  ...                 0   \n",
              "\n",
              "   BehavioralProblems       ADL  Confusion  Disorientation  \\\n",
              "0                   0  1.725883          0               0   \n",
              "1                   0  2.592424          0               0   \n",
              "2                   0  7.119548          0               1   \n",
              "3                   1  6.481226          0               0   \n",
              "4                   0  0.014691          0               0   \n",
              "\n",
              "   PersonalityChanges  DifficultyCompletingTasks  Forgetfulness  Diagnosis  \\\n",
              "0                   0                          1              0          0   \n",
              "1                   0                          0              1          0   \n",
              "2                   0                          1              0          0   \n",
              "3                   0                          0              0          0   \n",
              "4                   1                          1              0          0   \n",
              "\n",
              "   DoctorInCharge  \n",
              "0       XXXConfid  \n",
              "1       XXXConfid  \n",
              "2       XXXConfid  \n",
              "3       XXXConfid  \n",
              "4       XXXConfid  \n",
              "\n",
              "[5 rows x 35 columns]"
            ],
            "text/html": [
              "\n",
              "  <div id=\"df-eb8b40a1-5aa1-4967-b460-2778f4ee5a5c\" class=\"colab-df-container\">\n",
              "    <div>\n",
              "<style scoped>\n",
              "    .dataframe tbody tr th:only-of-type {\n",
              "        vertical-align: middle;\n",
              "    }\n",
              "\n",
              "    .dataframe tbody tr th {\n",
              "        vertical-align: top;\n",
              "    }\n",
              "\n",
              "    .dataframe thead th {\n",
              "        text-align: right;\n",
              "    }\n",
              "</style>\n",
              "<table border=\"1\" class=\"dataframe\">\n",
              "  <thead>\n",
              "    <tr style=\"text-align: right;\">\n",
              "      <th></th>\n",
              "      <th>PatientID</th>\n",
              "      <th>Age</th>\n",
              "      <th>Gender</th>\n",
              "      <th>Ethnicity</th>\n",
              "      <th>EducationLevel</th>\n",
              "      <th>BMI</th>\n",
              "      <th>Smoking</th>\n",
              "      <th>AlcoholConsumption</th>\n",
              "      <th>PhysicalActivity</th>\n",
              "      <th>DietQuality</th>\n",
              "      <th>...</th>\n",
              "      <th>MemoryComplaints</th>\n",
              "      <th>BehavioralProblems</th>\n",
              "      <th>ADL</th>\n",
              "      <th>Confusion</th>\n",
              "      <th>Disorientation</th>\n",
              "      <th>PersonalityChanges</th>\n",
              "      <th>DifficultyCompletingTasks</th>\n",
              "      <th>Forgetfulness</th>\n",
              "      <th>Diagnosis</th>\n",
              "      <th>DoctorInCharge</th>\n",
              "    </tr>\n",
              "  </thead>\n",
              "  <tbody>\n",
              "    <tr>\n",
              "      <th>0</th>\n",
              "      <td>4751</td>\n",
              "      <td>73</td>\n",
              "      <td>0</td>\n",
              "      <td>0</td>\n",
              "      <td>2</td>\n",
              "      <td>22.927749</td>\n",
              "      <td>0</td>\n",
              "      <td>13.297218</td>\n",
              "      <td>6.327112</td>\n",
              "      <td>1.347214</td>\n",
              "      <td>...</td>\n",
              "      <td>0</td>\n",
              "      <td>0</td>\n",
              "      <td>1.725883</td>\n",
              "      <td>0</td>\n",
              "      <td>0</td>\n",
              "      <td>0</td>\n",
              "      <td>1</td>\n",
              "      <td>0</td>\n",
              "      <td>0</td>\n",
              "      <td>XXXConfid</td>\n",
              "    </tr>\n",
              "    <tr>\n",
              "      <th>1</th>\n",
              "      <td>4752</td>\n",
              "      <td>89</td>\n",
              "      <td>0</td>\n",
              "      <td>0</td>\n",
              "      <td>0</td>\n",
              "      <td>26.827681</td>\n",
              "      <td>0</td>\n",
              "      <td>4.542524</td>\n",
              "      <td>7.619885</td>\n",
              "      <td>0.518767</td>\n",
              "      <td>...</td>\n",
              "      <td>0</td>\n",
              "      <td>0</td>\n",
              "      <td>2.592424</td>\n",
              "      <td>0</td>\n",
              "      <td>0</td>\n",
              "      <td>0</td>\n",
              "      <td>0</td>\n",
              "      <td>1</td>\n",
              "      <td>0</td>\n",
              "      <td>XXXConfid</td>\n",
              "    </tr>\n",
              "    <tr>\n",
              "      <th>2</th>\n",
              "      <td>4753</td>\n",
              "      <td>73</td>\n",
              "      <td>0</td>\n",
              "      <td>3</td>\n",
              "      <td>1</td>\n",
              "      <td>17.795882</td>\n",
              "      <td>0</td>\n",
              "      <td>19.555085</td>\n",
              "      <td>7.844988</td>\n",
              "      <td>1.826335</td>\n",
              "      <td>...</td>\n",
              "      <td>0</td>\n",
              "      <td>0</td>\n",
              "      <td>7.119548</td>\n",
              "      <td>0</td>\n",
              "      <td>1</td>\n",
              "      <td>0</td>\n",
              "      <td>1</td>\n",
              "      <td>0</td>\n",
              "      <td>0</td>\n",
              "      <td>XXXConfid</td>\n",
              "    </tr>\n",
              "    <tr>\n",
              "      <th>3</th>\n",
              "      <td>4754</td>\n",
              "      <td>74</td>\n",
              "      <td>1</td>\n",
              "      <td>0</td>\n",
              "      <td>1</td>\n",
              "      <td>33.800817</td>\n",
              "      <td>1</td>\n",
              "      <td>12.209266</td>\n",
              "      <td>8.428001</td>\n",
              "      <td>7.435604</td>\n",
              "      <td>...</td>\n",
              "      <td>0</td>\n",
              "      <td>1</td>\n",
              "      <td>6.481226</td>\n",
              "      <td>0</td>\n",
              "      <td>0</td>\n",
              "      <td>0</td>\n",
              "      <td>0</td>\n",
              "      <td>0</td>\n",
              "      <td>0</td>\n",
              "      <td>XXXConfid</td>\n",
              "    </tr>\n",
              "    <tr>\n",
              "      <th>4</th>\n",
              "      <td>4755</td>\n",
              "      <td>89</td>\n",
              "      <td>0</td>\n",
              "      <td>0</td>\n",
              "      <td>0</td>\n",
              "      <td>20.716974</td>\n",
              "      <td>0</td>\n",
              "      <td>18.454356</td>\n",
              "      <td>6.310461</td>\n",
              "      <td>0.795498</td>\n",
              "      <td>...</td>\n",
              "      <td>0</td>\n",
              "      <td>0</td>\n",
              "      <td>0.014691</td>\n",
              "      <td>0</td>\n",
              "      <td>0</td>\n",
              "      <td>1</td>\n",
              "      <td>1</td>\n",
              "      <td>0</td>\n",
              "      <td>0</td>\n",
              "      <td>XXXConfid</td>\n",
              "    </tr>\n",
              "  </tbody>\n",
              "</table>\n",
              "<p>5 rows × 35 columns</p>\n",
              "</div>\n",
              "    <div class=\"colab-df-buttons\">\n",
              "\n",
              "  <div class=\"colab-df-container\">\n",
              "    <button class=\"colab-df-convert\" onclick=\"convertToInteractive('df-eb8b40a1-5aa1-4967-b460-2778f4ee5a5c')\"\n",
              "            title=\"Convert this dataframe to an interactive table.\"\n",
              "            style=\"display:none;\">\n",
              "\n",
              "  <svg xmlns=\"http://www.w3.org/2000/svg\" height=\"24px\" viewBox=\"0 -960 960 960\">\n",
              "    <path d=\"M120-120v-720h720v720H120Zm60-500h600v-160H180v160Zm220 220h160v-160H400v160Zm0 220h160v-160H400v160ZM180-400h160v-160H180v160Zm440 0h160v-160H620v160ZM180-180h160v-160H180v160Zm440 0h160v-160H620v160Z\"/>\n",
              "  </svg>\n",
              "    </button>\n",
              "\n",
              "  <style>\n",
              "    .colab-df-container {\n",
              "      display:flex;\n",
              "      gap: 12px;\n",
              "    }\n",
              "\n",
              "    .colab-df-convert {\n",
              "      background-color: #E8F0FE;\n",
              "      border: none;\n",
              "      border-radius: 50%;\n",
              "      cursor: pointer;\n",
              "      display: none;\n",
              "      fill: #1967D2;\n",
              "      height: 32px;\n",
              "      padding: 0 0 0 0;\n",
              "      width: 32px;\n",
              "    }\n",
              "\n",
              "    .colab-df-convert:hover {\n",
              "      background-color: #E2EBFA;\n",
              "      box-shadow: 0px 1px 2px rgba(60, 64, 67, 0.3), 0px 1px 3px 1px rgba(60, 64, 67, 0.15);\n",
              "      fill: #174EA6;\n",
              "    }\n",
              "\n",
              "    .colab-df-buttons div {\n",
              "      margin-bottom: 4px;\n",
              "    }\n",
              "\n",
              "    [theme=dark] .colab-df-convert {\n",
              "      background-color: #3B4455;\n",
              "      fill: #D2E3FC;\n",
              "    }\n",
              "\n",
              "    [theme=dark] .colab-df-convert:hover {\n",
              "      background-color: #434B5C;\n",
              "      box-shadow: 0px 1px 3px 1px rgba(0, 0, 0, 0.15);\n",
              "      filter: drop-shadow(0px 1px 2px rgba(0, 0, 0, 0.3));\n",
              "      fill: #FFFFFF;\n",
              "    }\n",
              "  </style>\n",
              "\n",
              "    <script>\n",
              "      const buttonEl =\n",
              "        document.querySelector('#df-eb8b40a1-5aa1-4967-b460-2778f4ee5a5c button.colab-df-convert');\n",
              "      buttonEl.style.display =\n",
              "        google.colab.kernel.accessAllowed ? 'block' : 'none';\n",
              "\n",
              "      async function convertToInteractive(key) {\n",
              "        const element = document.querySelector('#df-eb8b40a1-5aa1-4967-b460-2778f4ee5a5c');\n",
              "        const dataTable =\n",
              "          await google.colab.kernel.invokeFunction('convertToInteractive',\n",
              "                                                    [key], {});\n",
              "        if (!dataTable) return;\n",
              "\n",
              "        const docLinkHtml = 'Like what you see? Visit the ' +\n",
              "          '<a target=\"_blank\" href=https://colab.research.google.com/notebooks/data_table.ipynb>data table notebook</a>'\n",
              "          + ' to learn more about interactive tables.';\n",
              "        element.innerHTML = '';\n",
              "        dataTable['output_type'] = 'display_data';\n",
              "        await google.colab.output.renderOutput(dataTable, element);\n",
              "        const docLink = document.createElement('div');\n",
              "        docLink.innerHTML = docLinkHtml;\n",
              "        element.appendChild(docLink);\n",
              "      }\n",
              "    </script>\n",
              "  </div>\n",
              "\n",
              "\n",
              "    <div id=\"df-1f909363-b5a2-4d33-bd1f-3f0622306ee5\">\n",
              "      <button class=\"colab-df-quickchart\" onclick=\"quickchart('df-1f909363-b5a2-4d33-bd1f-3f0622306ee5')\"\n",
              "                title=\"Suggest charts\"\n",
              "                style=\"display:none;\">\n",
              "\n",
              "<svg xmlns=\"http://www.w3.org/2000/svg\" height=\"24px\"viewBox=\"0 0 24 24\"\n",
              "     width=\"24px\">\n",
              "    <g>\n",
              "        <path d=\"M19 3H5c-1.1 0-2 .9-2 2v14c0 1.1.9 2 2 2h14c1.1 0 2-.9 2-2V5c0-1.1-.9-2-2-2zM9 17H7v-7h2v7zm4 0h-2V7h2v10zm4 0h-2v-4h2v4z\"/>\n",
              "    </g>\n",
              "</svg>\n",
              "      </button>\n",
              "\n",
              "<style>\n",
              "  .colab-df-quickchart {\n",
              "      --bg-color: #E8F0FE;\n",
              "      --fill-color: #1967D2;\n",
              "      --hover-bg-color: #E2EBFA;\n",
              "      --hover-fill-color: #174EA6;\n",
              "      --disabled-fill-color: #AAA;\n",
              "      --disabled-bg-color: #DDD;\n",
              "  }\n",
              "\n",
              "  [theme=dark] .colab-df-quickchart {\n",
              "      --bg-color: #3B4455;\n",
              "      --fill-color: #D2E3FC;\n",
              "      --hover-bg-color: #434B5C;\n",
              "      --hover-fill-color: #FFFFFF;\n",
              "      --disabled-bg-color: #3B4455;\n",
              "      --disabled-fill-color: #666;\n",
              "  }\n",
              "\n",
              "  .colab-df-quickchart {\n",
              "    background-color: var(--bg-color);\n",
              "    border: none;\n",
              "    border-radius: 50%;\n",
              "    cursor: pointer;\n",
              "    display: none;\n",
              "    fill: var(--fill-color);\n",
              "    height: 32px;\n",
              "    padding: 0;\n",
              "    width: 32px;\n",
              "  }\n",
              "\n",
              "  .colab-df-quickchart:hover {\n",
              "    background-color: var(--hover-bg-color);\n",
              "    box-shadow: 0 1px 2px rgba(60, 64, 67, 0.3), 0 1px 3px 1px rgba(60, 64, 67, 0.15);\n",
              "    fill: var(--button-hover-fill-color);\n",
              "  }\n",
              "\n",
              "  .colab-df-quickchart-complete:disabled,\n",
              "  .colab-df-quickchart-complete:disabled:hover {\n",
              "    background-color: var(--disabled-bg-color);\n",
              "    fill: var(--disabled-fill-color);\n",
              "    box-shadow: none;\n",
              "  }\n",
              "\n",
              "  .colab-df-spinner {\n",
              "    border: 2px solid var(--fill-color);\n",
              "    border-color: transparent;\n",
              "    border-bottom-color: var(--fill-color);\n",
              "    animation:\n",
              "      spin 1s steps(1) infinite;\n",
              "  }\n",
              "\n",
              "  @keyframes spin {\n",
              "    0% {\n",
              "      border-color: transparent;\n",
              "      border-bottom-color: var(--fill-color);\n",
              "      border-left-color: var(--fill-color);\n",
              "    }\n",
              "    20% {\n",
              "      border-color: transparent;\n",
              "      border-left-color: var(--fill-color);\n",
              "      border-top-color: var(--fill-color);\n",
              "    }\n",
              "    30% {\n",
              "      border-color: transparent;\n",
              "      border-left-color: var(--fill-color);\n",
              "      border-top-color: var(--fill-color);\n",
              "      border-right-color: var(--fill-color);\n",
              "    }\n",
              "    40% {\n",
              "      border-color: transparent;\n",
              "      border-right-color: var(--fill-color);\n",
              "      border-top-color: var(--fill-color);\n",
              "    }\n",
              "    60% {\n",
              "      border-color: transparent;\n",
              "      border-right-color: var(--fill-color);\n",
              "    }\n",
              "    80% {\n",
              "      border-color: transparent;\n",
              "      border-right-color: var(--fill-color);\n",
              "      border-bottom-color: var(--fill-color);\n",
              "    }\n",
              "    90% {\n",
              "      border-color: transparent;\n",
              "      border-bottom-color: var(--fill-color);\n",
              "    }\n",
              "  }\n",
              "</style>\n",
              "\n",
              "      <script>\n",
              "        async function quickchart(key) {\n",
              "          const quickchartButtonEl =\n",
              "            document.querySelector('#' + key + ' button');\n",
              "          quickchartButtonEl.disabled = true;  // To prevent multiple clicks.\n",
              "          quickchartButtonEl.classList.add('colab-df-spinner');\n",
              "          try {\n",
              "            const charts = await google.colab.kernel.invokeFunction(\n",
              "                'suggestCharts', [key], {});\n",
              "          } catch (error) {\n",
              "            console.error('Error during call to suggestCharts:', error);\n",
              "          }\n",
              "          quickchartButtonEl.classList.remove('colab-df-spinner');\n",
              "          quickchartButtonEl.classList.add('colab-df-quickchart-complete');\n",
              "        }\n",
              "        (() => {\n",
              "          let quickchartButtonEl =\n",
              "            document.querySelector('#df-1f909363-b5a2-4d33-bd1f-3f0622306ee5 button');\n",
              "          quickchartButtonEl.style.display =\n",
              "            google.colab.kernel.accessAllowed ? 'block' : 'none';\n",
              "        })();\n",
              "      </script>\n",
              "    </div>\n",
              "\n",
              "    </div>\n",
              "  </div>\n"
            ],
            "application/vnd.google.colaboratory.intrinsic+json": {
              "type": "dataframe",
              "variable_name": "df"
            }
          },
          "metadata": {},
          "execution_count": 218
        }
      ]
    },
    {
      "cell_type": "code",
      "source": [
        "# df.sample(n = 10)"
      ],
      "metadata": {
        "id": "58Jpr3_y6Kwk"
      },
      "execution_count": 219,
      "outputs": []
    },
    {
      "cell_type": "code",
      "source": [
        "# Drop the DoctorInCharge column\n",
        "df.drop(columns='DoctorInCharge', inplace=True)"
      ],
      "metadata": {
        "id": "MmnC1tQRcKBo"
      },
      "execution_count": 220,
      "outputs": []
    },
    {
      "cell_type": "code",
      "source": [
        "# Drop rows with any NaN values\n",
        "df = df.dropna()"
      ],
      "metadata": {
        "id": "qoslSB76mw5T"
      },
      "execution_count": 221,
      "outputs": []
    },
    {
      "cell_type": "code",
      "source": [
        "df.sample(n = 10)"
      ],
      "metadata": {
        "colab": {
          "base_uri": "https://localhost:8080/",
          "height": 412
        },
        "id": "h6AQLPjHBj1n",
        "outputId": "2e00810b-2450-44dd-8a21-ca7002d23b1a"
      },
      "execution_count": 222,
      "outputs": [
        {
          "output_type": "execute_result",
          "data": {
            "text/plain": [
              "      PatientID  Age  Gender  Ethnicity  EducationLevel        BMI  Smoking  \\\n",
              "171        4922   67       1          0               1  32.917797        0   \n",
              "593        5344   76       1          0               2  38.768590        1   \n",
              "494        5245   64       1          1               1  23.946180        0   \n",
              "109        4860   60       1          0               2  24.974286        0   \n",
              "889        5640   78       1          0               1  23.855643        1   \n",
              "759        5510   77       1          0               3  36.391951        1   \n",
              "2072       6823   68       0          0               3  34.244492        1   \n",
              "550        5301   76       1          0               3  26.336276        0   \n",
              "1023       5774   69       0          0               2  20.611454        0   \n",
              "972        5723   81       0          0               0  34.046496        0   \n",
              "\n",
              "      AlcoholConsumption  PhysicalActivity  DietQuality  ...  \\\n",
              "171             6.089406          2.244523     6.156295  ...   \n",
              "593             9.013919          8.296794     7.892595  ...   \n",
              "494            12.510151          8.479569     9.677325  ...   \n",
              "109            18.454896          3.722786     3.795212  ...   \n",
              "889            17.671372          1.456080     4.566922  ...   \n",
              "759             0.498616          7.621075     8.649806  ...   \n",
              "2072            3.451172          0.482210     4.616107  ...   \n",
              "550            14.871869          4.560890     6.875791  ...   \n",
              "1023           14.079511          2.895825     3.167207  ...   \n",
              "972             4.870626          1.893030     7.642268  ...   \n",
              "\n",
              "      FunctionalAssessment  MemoryComplaints  BehavioralProblems       ADL  \\\n",
              "171               4.320277                 1                   0  0.422911   \n",
              "593               8.626984                 0                   0  9.413984   \n",
              "494               1.607025                 0                   0  6.639352   \n",
              "109               8.039720                 0                   0  6.943432   \n",
              "889               2.823188                 0                   0  3.574842   \n",
              "759               7.826850                 0                   0  3.161108   \n",
              "2072              7.804990                 0                   0  0.035591   \n",
              "550               4.281652                 0                   0  9.675192   \n",
              "1023              7.253109                 0                   0  6.303598   \n",
              "972               9.520988                 1                   0  3.982008   \n",
              "\n",
              "      Confusion  Disorientation  PersonalityChanges  \\\n",
              "171           0               0                   1   \n",
              "593           0               0                   0   \n",
              "494           0               0                   0   \n",
              "109           0               0                   1   \n",
              "889           0               1                   1   \n",
              "759           1               0                   0   \n",
              "2072          0               0                   0   \n",
              "550           0               0                   0   \n",
              "1023          0               0                   1   \n",
              "972           0               0                   0   \n",
              "\n",
              "      DifficultyCompletingTasks  Forgetfulness  Diagnosis  \n",
              "171                           0              0          1  \n",
              "593                           0              1          0  \n",
              "494                           0              0          0  \n",
              "109                           0              1          0  \n",
              "889                           0              1          0  \n",
              "759                           0              0          0  \n",
              "2072                          0              0          0  \n",
              "550                           0              1          0  \n",
              "1023                          0              1          0  \n",
              "972                           0              1          1  \n",
              "\n",
              "[10 rows x 34 columns]"
            ],
            "text/html": [
              "\n",
              "  <div id=\"df-e4ad4baa-d4a2-42f2-b4f2-09b60c987a43\" class=\"colab-df-container\">\n",
              "    <div>\n",
              "<style scoped>\n",
              "    .dataframe tbody tr th:only-of-type {\n",
              "        vertical-align: middle;\n",
              "    }\n",
              "\n",
              "    .dataframe tbody tr th {\n",
              "        vertical-align: top;\n",
              "    }\n",
              "\n",
              "    .dataframe thead th {\n",
              "        text-align: right;\n",
              "    }\n",
              "</style>\n",
              "<table border=\"1\" class=\"dataframe\">\n",
              "  <thead>\n",
              "    <tr style=\"text-align: right;\">\n",
              "      <th></th>\n",
              "      <th>PatientID</th>\n",
              "      <th>Age</th>\n",
              "      <th>Gender</th>\n",
              "      <th>Ethnicity</th>\n",
              "      <th>EducationLevel</th>\n",
              "      <th>BMI</th>\n",
              "      <th>Smoking</th>\n",
              "      <th>AlcoholConsumption</th>\n",
              "      <th>PhysicalActivity</th>\n",
              "      <th>DietQuality</th>\n",
              "      <th>...</th>\n",
              "      <th>FunctionalAssessment</th>\n",
              "      <th>MemoryComplaints</th>\n",
              "      <th>BehavioralProblems</th>\n",
              "      <th>ADL</th>\n",
              "      <th>Confusion</th>\n",
              "      <th>Disorientation</th>\n",
              "      <th>PersonalityChanges</th>\n",
              "      <th>DifficultyCompletingTasks</th>\n",
              "      <th>Forgetfulness</th>\n",
              "      <th>Diagnosis</th>\n",
              "    </tr>\n",
              "  </thead>\n",
              "  <tbody>\n",
              "    <tr>\n",
              "      <th>171</th>\n",
              "      <td>4922</td>\n",
              "      <td>67</td>\n",
              "      <td>1</td>\n",
              "      <td>0</td>\n",
              "      <td>1</td>\n",
              "      <td>32.917797</td>\n",
              "      <td>0</td>\n",
              "      <td>6.089406</td>\n",
              "      <td>2.244523</td>\n",
              "      <td>6.156295</td>\n",
              "      <td>...</td>\n",
              "      <td>4.320277</td>\n",
              "      <td>1</td>\n",
              "      <td>0</td>\n",
              "      <td>0.422911</td>\n",
              "      <td>0</td>\n",
              "      <td>0</td>\n",
              "      <td>1</td>\n",
              "      <td>0</td>\n",
              "      <td>0</td>\n",
              "      <td>1</td>\n",
              "    </tr>\n",
              "    <tr>\n",
              "      <th>593</th>\n",
              "      <td>5344</td>\n",
              "      <td>76</td>\n",
              "      <td>1</td>\n",
              "      <td>0</td>\n",
              "      <td>2</td>\n",
              "      <td>38.768590</td>\n",
              "      <td>1</td>\n",
              "      <td>9.013919</td>\n",
              "      <td>8.296794</td>\n",
              "      <td>7.892595</td>\n",
              "      <td>...</td>\n",
              "      <td>8.626984</td>\n",
              "      <td>0</td>\n",
              "      <td>0</td>\n",
              "      <td>9.413984</td>\n",
              "      <td>0</td>\n",
              "      <td>0</td>\n",
              "      <td>0</td>\n",
              "      <td>0</td>\n",
              "      <td>1</td>\n",
              "      <td>0</td>\n",
              "    </tr>\n",
              "    <tr>\n",
              "      <th>494</th>\n",
              "      <td>5245</td>\n",
              "      <td>64</td>\n",
              "      <td>1</td>\n",
              "      <td>1</td>\n",
              "      <td>1</td>\n",
              "      <td>23.946180</td>\n",
              "      <td>0</td>\n",
              "      <td>12.510151</td>\n",
              "      <td>8.479569</td>\n",
              "      <td>9.677325</td>\n",
              "      <td>...</td>\n",
              "      <td>1.607025</td>\n",
              "      <td>0</td>\n",
              "      <td>0</td>\n",
              "      <td>6.639352</td>\n",
              "      <td>0</td>\n",
              "      <td>0</td>\n",
              "      <td>0</td>\n",
              "      <td>0</td>\n",
              "      <td>0</td>\n",
              "      <td>0</td>\n",
              "    </tr>\n",
              "    <tr>\n",
              "      <th>109</th>\n",
              "      <td>4860</td>\n",
              "      <td>60</td>\n",
              "      <td>1</td>\n",
              "      <td>0</td>\n",
              "      <td>2</td>\n",
              "      <td>24.974286</td>\n",
              "      <td>0</td>\n",
              "      <td>18.454896</td>\n",
              "      <td>3.722786</td>\n",
              "      <td>3.795212</td>\n",
              "      <td>...</td>\n",
              "      <td>8.039720</td>\n",
              "      <td>0</td>\n",
              "      <td>0</td>\n",
              "      <td>6.943432</td>\n",
              "      <td>0</td>\n",
              "      <td>0</td>\n",
              "      <td>1</td>\n",
              "      <td>0</td>\n",
              "      <td>1</td>\n",
              "      <td>0</td>\n",
              "    </tr>\n",
              "    <tr>\n",
              "      <th>889</th>\n",
              "      <td>5640</td>\n",
              "      <td>78</td>\n",
              "      <td>1</td>\n",
              "      <td>0</td>\n",
              "      <td>1</td>\n",
              "      <td>23.855643</td>\n",
              "      <td>1</td>\n",
              "      <td>17.671372</td>\n",
              "      <td>1.456080</td>\n",
              "      <td>4.566922</td>\n",
              "      <td>...</td>\n",
              "      <td>2.823188</td>\n",
              "      <td>0</td>\n",
              "      <td>0</td>\n",
              "      <td>3.574842</td>\n",
              "      <td>0</td>\n",
              "      <td>1</td>\n",
              "      <td>1</td>\n",
              "      <td>0</td>\n",
              "      <td>1</td>\n",
              "      <td>0</td>\n",
              "    </tr>\n",
              "    <tr>\n",
              "      <th>759</th>\n",
              "      <td>5510</td>\n",
              "      <td>77</td>\n",
              "      <td>1</td>\n",
              "      <td>0</td>\n",
              "      <td>3</td>\n",
              "      <td>36.391951</td>\n",
              "      <td>1</td>\n",
              "      <td>0.498616</td>\n",
              "      <td>7.621075</td>\n",
              "      <td>8.649806</td>\n",
              "      <td>...</td>\n",
              "      <td>7.826850</td>\n",
              "      <td>0</td>\n",
              "      <td>0</td>\n",
              "      <td>3.161108</td>\n",
              "      <td>1</td>\n",
              "      <td>0</td>\n",
              "      <td>0</td>\n",
              "      <td>0</td>\n",
              "      <td>0</td>\n",
              "      <td>0</td>\n",
              "    </tr>\n",
              "    <tr>\n",
              "      <th>2072</th>\n",
              "      <td>6823</td>\n",
              "      <td>68</td>\n",
              "      <td>0</td>\n",
              "      <td>0</td>\n",
              "      <td>3</td>\n",
              "      <td>34.244492</td>\n",
              "      <td>1</td>\n",
              "      <td>3.451172</td>\n",
              "      <td>0.482210</td>\n",
              "      <td>4.616107</td>\n",
              "      <td>...</td>\n",
              "      <td>7.804990</td>\n",
              "      <td>0</td>\n",
              "      <td>0</td>\n",
              "      <td>0.035591</td>\n",
              "      <td>0</td>\n",
              "      <td>0</td>\n",
              "      <td>0</td>\n",
              "      <td>0</td>\n",
              "      <td>0</td>\n",
              "      <td>0</td>\n",
              "    </tr>\n",
              "    <tr>\n",
              "      <th>550</th>\n",
              "      <td>5301</td>\n",
              "      <td>76</td>\n",
              "      <td>1</td>\n",
              "      <td>0</td>\n",
              "      <td>3</td>\n",
              "      <td>26.336276</td>\n",
              "      <td>0</td>\n",
              "      <td>14.871869</td>\n",
              "      <td>4.560890</td>\n",
              "      <td>6.875791</td>\n",
              "      <td>...</td>\n",
              "      <td>4.281652</td>\n",
              "      <td>0</td>\n",
              "      <td>0</td>\n",
              "      <td>9.675192</td>\n",
              "      <td>0</td>\n",
              "      <td>0</td>\n",
              "      <td>0</td>\n",
              "      <td>0</td>\n",
              "      <td>1</td>\n",
              "      <td>0</td>\n",
              "    </tr>\n",
              "    <tr>\n",
              "      <th>1023</th>\n",
              "      <td>5774</td>\n",
              "      <td>69</td>\n",
              "      <td>0</td>\n",
              "      <td>0</td>\n",
              "      <td>2</td>\n",
              "      <td>20.611454</td>\n",
              "      <td>0</td>\n",
              "      <td>14.079511</td>\n",
              "      <td>2.895825</td>\n",
              "      <td>3.167207</td>\n",
              "      <td>...</td>\n",
              "      <td>7.253109</td>\n",
              "      <td>0</td>\n",
              "      <td>0</td>\n",
              "      <td>6.303598</td>\n",
              "      <td>0</td>\n",
              "      <td>0</td>\n",
              "      <td>1</td>\n",
              "      <td>0</td>\n",
              "      <td>1</td>\n",
              "      <td>0</td>\n",
              "    </tr>\n",
              "    <tr>\n",
              "      <th>972</th>\n",
              "      <td>5723</td>\n",
              "      <td>81</td>\n",
              "      <td>0</td>\n",
              "      <td>0</td>\n",
              "      <td>0</td>\n",
              "      <td>34.046496</td>\n",
              "      <td>0</td>\n",
              "      <td>4.870626</td>\n",
              "      <td>1.893030</td>\n",
              "      <td>7.642268</td>\n",
              "      <td>...</td>\n",
              "      <td>9.520988</td>\n",
              "      <td>1</td>\n",
              "      <td>0</td>\n",
              "      <td>3.982008</td>\n",
              "      <td>0</td>\n",
              "      <td>0</td>\n",
              "      <td>0</td>\n",
              "      <td>0</td>\n",
              "      <td>1</td>\n",
              "      <td>1</td>\n",
              "    </tr>\n",
              "  </tbody>\n",
              "</table>\n",
              "<p>10 rows × 34 columns</p>\n",
              "</div>\n",
              "    <div class=\"colab-df-buttons\">\n",
              "\n",
              "  <div class=\"colab-df-container\">\n",
              "    <button class=\"colab-df-convert\" onclick=\"convertToInteractive('df-e4ad4baa-d4a2-42f2-b4f2-09b60c987a43')\"\n",
              "            title=\"Convert this dataframe to an interactive table.\"\n",
              "            style=\"display:none;\">\n",
              "\n",
              "  <svg xmlns=\"http://www.w3.org/2000/svg\" height=\"24px\" viewBox=\"0 -960 960 960\">\n",
              "    <path d=\"M120-120v-720h720v720H120Zm60-500h600v-160H180v160Zm220 220h160v-160H400v160Zm0 220h160v-160H400v160ZM180-400h160v-160H180v160Zm440 0h160v-160H620v160ZM180-180h160v-160H180v160Zm440 0h160v-160H620v160Z\"/>\n",
              "  </svg>\n",
              "    </button>\n",
              "\n",
              "  <style>\n",
              "    .colab-df-container {\n",
              "      display:flex;\n",
              "      gap: 12px;\n",
              "    }\n",
              "\n",
              "    .colab-df-convert {\n",
              "      background-color: #E8F0FE;\n",
              "      border: none;\n",
              "      border-radius: 50%;\n",
              "      cursor: pointer;\n",
              "      display: none;\n",
              "      fill: #1967D2;\n",
              "      height: 32px;\n",
              "      padding: 0 0 0 0;\n",
              "      width: 32px;\n",
              "    }\n",
              "\n",
              "    .colab-df-convert:hover {\n",
              "      background-color: #E2EBFA;\n",
              "      box-shadow: 0px 1px 2px rgba(60, 64, 67, 0.3), 0px 1px 3px 1px rgba(60, 64, 67, 0.15);\n",
              "      fill: #174EA6;\n",
              "    }\n",
              "\n",
              "    .colab-df-buttons div {\n",
              "      margin-bottom: 4px;\n",
              "    }\n",
              "\n",
              "    [theme=dark] .colab-df-convert {\n",
              "      background-color: #3B4455;\n",
              "      fill: #D2E3FC;\n",
              "    }\n",
              "\n",
              "    [theme=dark] .colab-df-convert:hover {\n",
              "      background-color: #434B5C;\n",
              "      box-shadow: 0px 1px 3px 1px rgba(0, 0, 0, 0.15);\n",
              "      filter: drop-shadow(0px 1px 2px rgba(0, 0, 0, 0.3));\n",
              "      fill: #FFFFFF;\n",
              "    }\n",
              "  </style>\n",
              "\n",
              "    <script>\n",
              "      const buttonEl =\n",
              "        document.querySelector('#df-e4ad4baa-d4a2-42f2-b4f2-09b60c987a43 button.colab-df-convert');\n",
              "      buttonEl.style.display =\n",
              "        google.colab.kernel.accessAllowed ? 'block' : 'none';\n",
              "\n",
              "      async function convertToInteractive(key) {\n",
              "        const element = document.querySelector('#df-e4ad4baa-d4a2-42f2-b4f2-09b60c987a43');\n",
              "        const dataTable =\n",
              "          await google.colab.kernel.invokeFunction('convertToInteractive',\n",
              "                                                    [key], {});\n",
              "        if (!dataTable) return;\n",
              "\n",
              "        const docLinkHtml = 'Like what you see? Visit the ' +\n",
              "          '<a target=\"_blank\" href=https://colab.research.google.com/notebooks/data_table.ipynb>data table notebook</a>'\n",
              "          + ' to learn more about interactive tables.';\n",
              "        element.innerHTML = '';\n",
              "        dataTable['output_type'] = 'display_data';\n",
              "        await google.colab.output.renderOutput(dataTable, element);\n",
              "        const docLink = document.createElement('div');\n",
              "        docLink.innerHTML = docLinkHtml;\n",
              "        element.appendChild(docLink);\n",
              "      }\n",
              "    </script>\n",
              "  </div>\n",
              "\n",
              "\n",
              "    <div id=\"df-70fe0a92-7574-4b6f-95f8-dc4fe21419b3\">\n",
              "      <button class=\"colab-df-quickchart\" onclick=\"quickchart('df-70fe0a92-7574-4b6f-95f8-dc4fe21419b3')\"\n",
              "                title=\"Suggest charts\"\n",
              "                style=\"display:none;\">\n",
              "\n",
              "<svg xmlns=\"http://www.w3.org/2000/svg\" height=\"24px\"viewBox=\"0 0 24 24\"\n",
              "     width=\"24px\">\n",
              "    <g>\n",
              "        <path d=\"M19 3H5c-1.1 0-2 .9-2 2v14c0 1.1.9 2 2 2h14c1.1 0 2-.9 2-2V5c0-1.1-.9-2-2-2zM9 17H7v-7h2v7zm4 0h-2V7h2v10zm4 0h-2v-4h2v4z\"/>\n",
              "    </g>\n",
              "</svg>\n",
              "      </button>\n",
              "\n",
              "<style>\n",
              "  .colab-df-quickchart {\n",
              "      --bg-color: #E8F0FE;\n",
              "      --fill-color: #1967D2;\n",
              "      --hover-bg-color: #E2EBFA;\n",
              "      --hover-fill-color: #174EA6;\n",
              "      --disabled-fill-color: #AAA;\n",
              "      --disabled-bg-color: #DDD;\n",
              "  }\n",
              "\n",
              "  [theme=dark] .colab-df-quickchart {\n",
              "      --bg-color: #3B4455;\n",
              "      --fill-color: #D2E3FC;\n",
              "      --hover-bg-color: #434B5C;\n",
              "      --hover-fill-color: #FFFFFF;\n",
              "      --disabled-bg-color: #3B4455;\n",
              "      --disabled-fill-color: #666;\n",
              "  }\n",
              "\n",
              "  .colab-df-quickchart {\n",
              "    background-color: var(--bg-color);\n",
              "    border: none;\n",
              "    border-radius: 50%;\n",
              "    cursor: pointer;\n",
              "    display: none;\n",
              "    fill: var(--fill-color);\n",
              "    height: 32px;\n",
              "    padding: 0;\n",
              "    width: 32px;\n",
              "  }\n",
              "\n",
              "  .colab-df-quickchart:hover {\n",
              "    background-color: var(--hover-bg-color);\n",
              "    box-shadow: 0 1px 2px rgba(60, 64, 67, 0.3), 0 1px 3px 1px rgba(60, 64, 67, 0.15);\n",
              "    fill: var(--button-hover-fill-color);\n",
              "  }\n",
              "\n",
              "  .colab-df-quickchart-complete:disabled,\n",
              "  .colab-df-quickchart-complete:disabled:hover {\n",
              "    background-color: var(--disabled-bg-color);\n",
              "    fill: var(--disabled-fill-color);\n",
              "    box-shadow: none;\n",
              "  }\n",
              "\n",
              "  .colab-df-spinner {\n",
              "    border: 2px solid var(--fill-color);\n",
              "    border-color: transparent;\n",
              "    border-bottom-color: var(--fill-color);\n",
              "    animation:\n",
              "      spin 1s steps(1) infinite;\n",
              "  }\n",
              "\n",
              "  @keyframes spin {\n",
              "    0% {\n",
              "      border-color: transparent;\n",
              "      border-bottom-color: var(--fill-color);\n",
              "      border-left-color: var(--fill-color);\n",
              "    }\n",
              "    20% {\n",
              "      border-color: transparent;\n",
              "      border-left-color: var(--fill-color);\n",
              "      border-top-color: var(--fill-color);\n",
              "    }\n",
              "    30% {\n",
              "      border-color: transparent;\n",
              "      border-left-color: var(--fill-color);\n",
              "      border-top-color: var(--fill-color);\n",
              "      border-right-color: var(--fill-color);\n",
              "    }\n",
              "    40% {\n",
              "      border-color: transparent;\n",
              "      border-right-color: var(--fill-color);\n",
              "      border-top-color: var(--fill-color);\n",
              "    }\n",
              "    60% {\n",
              "      border-color: transparent;\n",
              "      border-right-color: var(--fill-color);\n",
              "    }\n",
              "    80% {\n",
              "      border-color: transparent;\n",
              "      border-right-color: var(--fill-color);\n",
              "      border-bottom-color: var(--fill-color);\n",
              "    }\n",
              "    90% {\n",
              "      border-color: transparent;\n",
              "      border-bottom-color: var(--fill-color);\n",
              "    }\n",
              "  }\n",
              "</style>\n",
              "\n",
              "      <script>\n",
              "        async function quickchart(key) {\n",
              "          const quickchartButtonEl =\n",
              "            document.querySelector('#' + key + ' button');\n",
              "          quickchartButtonEl.disabled = true;  // To prevent multiple clicks.\n",
              "          quickchartButtonEl.classList.add('colab-df-spinner');\n",
              "          try {\n",
              "            const charts = await google.colab.kernel.invokeFunction(\n",
              "                'suggestCharts', [key], {});\n",
              "          } catch (error) {\n",
              "            console.error('Error during call to suggestCharts:', error);\n",
              "          }\n",
              "          quickchartButtonEl.classList.remove('colab-df-spinner');\n",
              "          quickchartButtonEl.classList.add('colab-df-quickchart-complete');\n",
              "        }\n",
              "        (() => {\n",
              "          let quickchartButtonEl =\n",
              "            document.querySelector('#df-70fe0a92-7574-4b6f-95f8-dc4fe21419b3 button');\n",
              "          quickchartButtonEl.style.display =\n",
              "            google.colab.kernel.accessAllowed ? 'block' : 'none';\n",
              "        })();\n",
              "      </script>\n",
              "    </div>\n",
              "\n",
              "    </div>\n",
              "  </div>\n"
            ],
            "application/vnd.google.colaboratory.intrinsic+json": {
              "type": "dataframe"
            }
          },
          "metadata": {},
          "execution_count": 222
        }
      ]
    },
    {
      "cell_type": "code",
      "source": [
        "ones_count = df['Diagnosis'].value_counts()[1]\n",
        "print(ones_count)"
      ],
      "metadata": {
        "colab": {
          "base_uri": "https://localhost:8080/"
        },
        "id": "lkxMl0dXuflE",
        "outputId": "465f0ba4-f666-4213-839c-f798c2ca8331"
      },
      "execution_count": 223,
      "outputs": [
        {
          "output_type": "stream",
          "name": "stdout",
          "text": [
            "760\n"
          ]
        }
      ]
    },
    {
      "cell_type": "code",
      "source": [
        "zeros_count = (df['Diagnosis'] == 0).sum()\n",
        "print(zeros_count)"
      ],
      "metadata": {
        "colab": {
          "base_uri": "https://localhost:8080/"
        },
        "id": "aHOV77JmuhRo",
        "outputId": "f98976b2-55f3-489f-811d-a090345ad32a"
      },
      "execution_count": 224,
      "outputs": [
        {
          "output_type": "stream",
          "name": "stdout",
          "text": [
            "1389\n"
          ]
        }
      ]
    },
    {
      "cell_type": "code",
      "source": [
        "import matplotlib.pyplot as plt\n",
        "import seaborn as sns\n",
        "\n",
        "# Create a figure with size 4x3 inches, 80 DPI resolution\n",
        "fig = plt.figure(figsize=(4, 3), dpi=80)\n",
        "\n",
        "# Use 'Diagnosis' as both x and hue to apply palette safely\n",
        "sns.countplot(data=df, x='Diagnosis', hue='Diagnosis', palette='Set2', legend=False)\n",
        "\n",
        "plt.tight_layout()\n",
        "plt.savefig('classes.png')\n",
        "plt.show()"
      ],
      "metadata": {
        "colab": {
          "base_uri": "https://localhost:8080/",
          "height": 249
        },
        "id": "PTwXwIjic4MW",
        "outputId": "d54cb500-9cd5-40e3-e5e2-c8e0cba238d3"
      },
      "execution_count": 225,
      "outputs": [
        {
          "output_type": "display_data",
          "data": {
            "text/plain": [
              "<Figure size 320x240 with 1 Axes>"
            ],
            "image/png": "[encoded data removed]"
          },
          "metadata": {}
        }
      ]
    },
    {
      "cell_type": "code",
      "source": [
        "from matplotlib import pyplot as plt\n",
        "import seaborn as sns\n",
        "\n",
        "fig, axes = plt.subplots(1, 3, figsize=(8, 3), sharey=True)\n",
        "\n",
        "sns.countplot(ax=axes[0], data=df, x='Diagnosis', hue='Diagnosis', palette='Set2', legend=False)\n",
        "sns.countplot(ax=axes[1], data=df, x='Gender', hue='Gender', palette='Set1', legend=False)\n",
        "sns.countplot(ax=axes[2], data=df, x='Smoking', hue='Smoking', palette='Set3', legend=False)\n",
        "\n",
        "plt.tight_layout()\n",
        "plt.savefig('Statistics.png')\n",
        "plt.show()"
      ],
      "metadata": {
        "id": "o1zcACsf1bid",
        "colab": {
          "base_uri": "https://localhost:8080/",
          "height": 307
        },
        "outputId": "839cd58f-586e-402c-acc0-296718c22a9b"
      },
      "execution_count": 226,
      "outputs": [
        {
          "output_type": "display_data",
          "data": {
            "text/plain": [
              "<Figure size 800x300 with 3 Axes>"
            ],
            "image/png": "[encoded data removed]"
          },
          "metadata": {}
        }
      ]
    },
    {
      "cell_type": "markdown",
      "source": [
        "\n",
        "\n",
        "```\n",
        "# This is formatted as code\n",
        "```\n",
        "\n",
        "**Correlation between different variables**"
      ],
      "metadata": {
        "id": "387bzq4IvdXv"
      }
    },
    {
      "cell_type": "code",
      "source": [
        "# Correlation heatmap with mask for upper traingle\n",
        "# Correlation between different variables\n",
        "corr = df.corr()\n",
        "\n",
        "# get absolute correlation coefficients and sort in descending order\n",
        "abs_corr = corr.abs().sort_values(by='Diagnosis', ascending=False)\n",
        "\n",
        "# display the rank of features based on correlation coefficients\n",
        "rank = abs_corr['Diagnosis'].rank(ascending=False).astype(int)\n",
        "print('Rank of features based on correlation coefficients:\\n', rank)"
      ],
      "metadata": {
        "id": "xgFRof3nvcZ3",
        "outputId": "094b7210-b5a8-4423-e609-a96b060223f5",
        "colab": {
          "base_uri": "https://localhost:8080/"
        }
      },
      "execution_count": 227,
      "outputs": [
        {
          "output_type": "stream",
          "name": "stdout",
          "text": [
            "Rank of features based on correlation coefficients:\n",
            " Diagnosis                     1\n",
            "FunctionalAssessment          2\n",
            "ADL                           3\n",
            "MemoryComplaints              4\n",
            "MMSE                          5\n",
            "BehavioralProblems            6\n",
            "SleepQuality                  7\n",
            "EducationLevel                8\n",
            "CholesterolHDL                9\n",
            "PatientID                    10\n",
            "Hypertension                 11\n",
            "FamilyHistoryAlzheimers      12\n",
            "CholesterolLDL               13\n",
            "Diabetes                     14\n",
            "CardiovascularDisease        15\n",
            "BMI                          16\n",
            "Disorientation               17\n",
            "CholesterolTriglycerides     18\n",
            "HeadInjury                   19\n",
            "Gender                       20\n",
            "PersonalityChanges           21\n",
            "Confusion                    22\n",
            "SystolicBP                   23\n",
            "Ethnicity                    24\n",
            "DifficultyCompletingTasks    25\n",
            "DietQuality                  26\n",
            "AlcoholConsumption           27\n",
            "CholesterolTotal             28\n",
            "PhysicalActivity             29\n",
            "Depression                   30\n",
            "Age                          31\n",
            "DiastolicBP                  32\n",
            "Smoking                      33\n",
            "Forgetfulness                34\n",
            "Name: Diagnosis, dtype: int64\n"
          ]
        }
      ]
    },
    {
      "cell_type": "code",
      "source": [
        "# # Set up the matplotlib plot configuration\n",
        "# f, ax = plt.subplots(figsize=(18, 4))\n",
        "# # Generate a mask for upper traingle\n",
        "# mask = np.triu(np.ones_like(corr, dtype=bool))\n",
        "# # Configure a custom diverging colormap\n",
        "# cmap = sns.diverging_palette(230, 20, as_cmap=True)\n",
        "# # Draw the heatmap\n",
        "# sns.heatmap(corr, annot=True, mask = mask, cmap=cmap)\n",
        "# plt.savefig('Heatmap.png')"
      ],
      "metadata": {
        "id": "vskauaF1Y7DO"
      },
      "execution_count": 228,
      "outputs": []
    },
    {
      "cell_type": "markdown",
      "source": [
        "**Oversampling**"
      ],
      "metadata": {
        "id": "qTjX6lZlFbij"
      }
    },
    {
      "cell_type": "code",
      "source": [
        "from imblearn.over_sampling import RandomOverSampler\n",
        "\n",
        "# Assuming your DataFrame is called `df` and the target variable is called `Prediction`\n",
        "X = df.drop('Diagnosis', axis=1)\n",
        "y = df['Diagnosis']\n",
        "\n",
        "# Instantiate a RandomOverSampler object\n",
        "oversampler = RandomOverSampler()\n",
        "\n",
        "# Fit and transform the data\n",
        "X_resampled, y_resampled = oversampler.fit_resample(X, y)\n",
        "\n",
        "# Combine the resampled X and y into a new DataFrame\n",
        "df = pd.concat([X_resampled, y_resampled], axis=1)\n"
      ],
      "metadata": {
        "id": "Z306uzWVBZXv"
      },
      "execution_count": 229,
      "outputs": []
    },
    {
      "cell_type": "code",
      "source": [
        "df.shape"
      ],
      "metadata": {
        "id": "nGlKBMEKBlJG",
        "outputId": "efea2520-3cf0-4250-a460-53fbd3a93422",
        "colab": {
          "base_uri": "https://localhost:8080/"
        }
      },
      "execution_count": 230,
      "outputs": [
        {
          "output_type": "execute_result",
          "data": {
            "text/plain": [
              "(2778, 34)"
            ]
          },
          "metadata": {},
          "execution_count": 230
        }
      ]
    },
    {
      "cell_type": "code",
      "source": [
        "# # example of random undersampling to balance the class distribution\n",
        "# from collections import Counter\n",
        "# from sklearn.datasets import make_classification\n",
        "# from imblearn.under_sampling import RandomUnderSampler\n",
        "# from imblearn.over_sampling import RandomOverSampler\n",
        "\n",
        "# # The class can be used just like the RandomOverSampler class in the\n",
        "# # previous section, except the strategies impact the majority class\n",
        "# # instead of the minority class. For example, setting the sampling_strategy\n",
        "# # argument to “majority” will oversample the majority class determined\n",
        "# # by the class with the largest number of examples.\n",
        "\n",
        "# # define Oversample strategy\n",
        "# oversample = RandomOverSampler(sampling_strategy='not majority')\n",
        "# x_over, y_over = oversample.fit_resample(x_data,y_data)"
      ],
      "metadata": {
        "id": "GJiDJDEkqTHL"
      },
      "execution_count": 231,
      "outputs": []
    },
    {
      "cell_type": "code",
      "source": [
        "# y_over.value_counts().plot.pie(autopct='%.2f')"
      ],
      "metadata": {
        "id": "w0HhWNiuq-5L"
      },
      "execution_count": 232,
      "outputs": []
    },
    {
      "cell_type": "code",
      "source": [
        "# x_over.shape"
      ],
      "metadata": {
        "id": "D-VLe_QzrNV7"
      },
      "execution_count": 233,
      "outputs": []
    },
    {
      "cell_type": "code",
      "source": [
        "# X"
      ],
      "metadata": {
        "id": "zjD2OqY8cVVg"
      },
      "execution_count": 234,
      "outputs": []
    },
    {
      "cell_type": "markdown",
      "source": [
        "**Preparing data for machine learning classifier**\n",
        "\n"
      ],
      "metadata": {
        "id": "2xZAwB-bj_VT"
      }
    },
    {
      "cell_type": "code",
      "source": [
        "from sklearn.model_selection import train_test_split\n",
        "\n",
        "# Define features and labels\n",
        "X = df.drop(['Diagnosis'], axis=1)\n",
        "y = df['Diagnosis']\n",
        "\n",
        "# Split into training and testing sets\n",
        "x_train, x_test, y_train, y_test = train_test_split(X, y, test_size=0.2, random_state=42)"
      ],
      "metadata": {
        "id": "23DauDz0kFy5"
      },
      "execution_count": 235,
      "outputs": []
    },
    {
      "cell_type": "markdown",
      "source": [
        "**Feature selection**"
      ],
      "metadata": {
        "id": "2lTEwq4Q_QEp"
      }
    },
    {
      "cell_type": "code",
      "source": [
        "import pandas as pd\n",
        "from sklearn.model_selection import train_test_split\n",
        "from sklearn.linear_model import LogisticRegression\n",
        "from sklearn.feature_selection import SelectKBest, f_classif\n",
        "\n",
        "#======================================\n",
        "# Apply feature selection using SelectKBest and F-test\n",
        "# We apply feature selection using SelectKBest and F-test, which selects the top 5 features based on their importance.\n",
        "#======================================\n",
        "selector  = SelectKBest(f_classif, k=5)\n",
        "\n",
        "x_train    = selector.fit_transform(x_train, y_train)\n",
        "x_test     = selector.transform(x_test)\n",
        "\n",
        "# y_train = Y_train\n",
        "# y_test  = Y_test"
      ],
      "metadata": {
        "id": "9lFWsazaGdWz"
      },
      "execution_count": 236,
      "outputs": []
    },
    {
      "cell_type": "code",
      "source": [
        "from sklearn.feature_selection import SelectKBest, f_classif\n",
        "import pandas as pd\n",
        "\n",
        "# Get the selected feature names\n",
        "selected_feature_names = X_train.columns[selector.get_support()]\n",
        "\n",
        "print(selected_feature_names)"
      ],
      "metadata": {
        "id": "wzcbU2X2Y9nS",
        "outputId": "d3d199e7-9f53-4132-a41e-786dea659fa5",
        "colab": {
          "base_uri": "https://localhost:8080/"
        }
      },
      "execution_count": 237,
      "outputs": [
        {
          "output_type": "stream",
          "name": "stdout",
          "text": [
            "Index(['MMSE', 'FunctionalAssessment', 'MemoryComplaints',\n",
            "       'BehavioralProblems', 'ADL'],\n",
            "      dtype='object')\n"
          ]
        }
      ]
    },
    {
      "cell_type": "code",
      "source": [
        "import matplotlib.pyplot as plt\n",
        "import seaborn as sns\n",
        "\n",
        "# Select the desired columns\n",
        "cols = ['MMSE', 'FunctionalAssessment', 'MemoryComplaints', 'BehavioralProblems', 'ADL']\n",
        "\n",
        "# Compute the correlation matrix\n",
        "corr_matrix = df[cols].corr()\n",
        "\n",
        "# Plot the heatmap\n",
        "plt.figure(figsize=(6, 4))\n",
        "sns.heatmap(corr_matrix, annot=True, cmap='Oranges', fmt=\".2f\", square=True)\n",
        "\n",
        "# Save the figure\n",
        "plt.tight_layout()\n",
        "plt.savefig('Correlation with Diagnosis.png')\n",
        "plt.show()"
      ],
      "metadata": {
        "id": "ARYJ966H6fT_",
        "colab": {
          "base_uri": "https://localhost:8080/",
          "height": 407
        },
        "outputId": "256aaded-2f17-4002-f1ba-2f37341e43ab"
      },
      "execution_count": 238,
      "outputs": [
        {
          "output_type": "display_data",
          "data": {
            "text/plain": [
              "<Figure size 600x400 with 2 Axes>"
            ],
            "image/png": "[encoded data removed]"
          },
          "metadata": {}
        }
      ]
    },
    {
      "cell_type": "code",
      "source": [
        "X_train[selected_feature_names].head()"
      ],
      "metadata": {
        "id": "X4zNO6Vvj1XK",
        "outputId": "6b6e0265-faaa-47f7-d7cb-ae06f4c33fcb",
        "colab": {
          "base_uri": "https://localhost:8080/",
          "height": 206
        }
      },
      "execution_count": 239,
      "outputs": [
        {
          "output_type": "execute_result",
          "data": {
            "text/plain": [
              "           MMSE  FunctionalAssessment  MemoryComplaints  BehavioralProblems  \\\n",
              "1334  25.908248              2.567683                 0                   0   \n",
              "2547  12.014901              1.576858                 0                   0   \n",
              "2157   3.599028              2.432234                 0                   0   \n",
              "1590  25.154378              4.243117                 0                   0   \n",
              "1351  25.520716              3.794439                 0                   1   \n",
              "\n",
              "           ADL  \n",
              "1334  4.938271  \n",
              "2547  2.720543  \n",
              "2157  3.464816  \n",
              "1590  8.936122  \n",
              "1351  6.303048  "
            ],
            "text/html": [
              "\n",
              "  <div id=\"df-76917d9e-8a00-450f-8878-3d9ed3bb1c6d\" class=\"colab-df-container\">\n",
              "    <div>\n",
              "<style scoped>\n",
              "    .dataframe tbody tr th:only-of-type {\n",
              "        vertical-align: middle;\n",
              "    }\n",
              "\n",
              "    .dataframe tbody tr th {\n",
              "        vertical-align: top;\n",
              "    }\n",
              "\n",
              "    .dataframe thead th {\n",
              "        text-align: right;\n",
              "    }\n",
              "</style>\n",
              "<table border=\"1\" class=\"dataframe\">\n",
              "  <thead>\n",
              "    <tr style=\"text-align: right;\">\n",
              "      <th></th>\n",
              "      <th>MMSE</th>\n",
              "      <th>FunctionalAssessment</th>\n",
              "      <th>MemoryComplaints</th>\n",
              "      <th>BehavioralProblems</th>\n",
              "      <th>ADL</th>\n",
              "    </tr>\n",
              "  </thead>\n",
              "  <tbody>\n",
              "    <tr>\n",
              "      <th>1334</th>\n",
              "      <td>25.908248</td>\n",
              "      <td>2.567683</td>\n",
              "      <td>0</td>\n",
              "      <td>0</td>\n",
              "      <td>4.938271</td>\n",
              "    </tr>\n",
              "    <tr>\n",
              "      <th>2547</th>\n",
              "      <td>12.014901</td>\n",
              "      <td>1.576858</td>\n",
              "      <td>0</td>\n",
              "      <td>0</td>\n",
              "      <td>2.720543</td>\n",
              "    </tr>\n",
              "    <tr>\n",
              "      <th>2157</th>\n",
              "      <td>3.599028</td>\n",
              "      <td>2.432234</td>\n",
              "      <td>0</td>\n",
              "      <td>0</td>\n",
              "      <td>3.464816</td>\n",
              "    </tr>\n",
              "    <tr>\n",
              "      <th>1590</th>\n",
              "      <td>25.154378</td>\n",
              "      <td>4.243117</td>\n",
              "      <td>0</td>\n",
              "      <td>0</td>\n",
              "      <td>8.936122</td>\n",
              "    </tr>\n",
              "    <tr>\n",
              "      <th>1351</th>\n",
              "      <td>25.520716</td>\n",
              "      <td>3.794439</td>\n",
              "      <td>0</td>\n",
              "      <td>1</td>\n",
              "      <td>6.303048</td>\n",
              "    </tr>\n",
              "  </tbody>\n",
              "</table>\n",
              "</div>\n",
              "    <div class=\"colab-df-buttons\">\n",
              "\n",
              "  <div class=\"colab-df-container\">\n",
              "    <button class=\"colab-df-convert\" onclick=\"convertToInteractive('df-76917d9e-8a00-450f-8878-3d9ed3bb1c6d')\"\n",
              "            title=\"Convert this dataframe to an interactive table.\"\n",
              "            style=\"display:none;\">\n",
              "\n",
              "  <svg xmlns=\"http://www.w3.org/2000/svg\" height=\"24px\" viewBox=\"0 -960 960 960\">\n",
              "    <path d=\"M120-120v-720h720v720H120Zm60-500h600v-160H180v160Zm220 220h160v-160H400v160Zm0 220h160v-160H400v160ZM180-400h160v-160H180v160Zm440 0h160v-160H620v160ZM180-180h160v-160H180v160Zm440 0h160v-160H620v160Z\"/>\n",
              "  </svg>\n",
              "    </button>\n",
              "\n",
              "  <style>\n",
              "    .colab-df-container {\n",
              "      display:flex;\n",
              "      gap: 12px;\n",
              "    }\n",
              "\n",
              "    .colab-df-convert {\n",
              "      background-color: #E8F0FE;\n",
              "      border: none;\n",
              "      border-radius: 50%;\n",
              "      cursor: pointer;\n",
              "      display: none;\n",
              "      fill: #1967D2;\n",
              "      height: 32px;\n",
              "      padding: 0 0 0 0;\n",
              "      width: 32px;\n",
              "    }\n",
              "\n",
              "    .colab-df-convert:hover {\n",
              "      background-color: #E2EBFA;\n",
              "      box-shadow: 0px 1px 2px rgba(60, 64, 67, 0.3), 0px 1px 3px 1px rgba(60, 64, 67, 0.15);\n",
              "      fill: #174EA6;\n",
              "    }\n",
              "\n",
              "    .colab-df-buttons div {\n",
              "      margin-bottom: 4px;\n",
              "    }\n",
              "\n",
              "    [theme=dark] .colab-df-convert {\n",
              "      background-color: #3B4455;\n",
              "      fill: #D2E3FC;\n",
              "    }\n",
              "\n",
              "    [theme=dark] .colab-df-convert:hover {\n",
              "      background-color: #434B5C;\n",
              "      box-shadow: 0px 1px 3px 1px rgba(0, 0, 0, 0.15);\n",
              "      filter: drop-shadow(0px 1px 2px rgba(0, 0, 0, 0.3));\n",
              "      fill: #FFFFFF;\n",
              "    }\n",
              "  </style>\n",
              "\n",
              "    <script>\n",
              "      const buttonEl =\n",
              "        document.querySelector('#df-76917d9e-8a00-450f-8878-3d9ed3bb1c6d button.colab-df-convert');\n",
              "      buttonEl.style.display =\n",
              "        google.colab.kernel.accessAllowed ? 'block' : 'none';\n",
              "\n",
              "      async function convertToInteractive(key) {\n",
              "        const element = document.querySelector('#df-76917d9e-8a00-450f-8878-3d9ed3bb1c6d');\n",
              "        const dataTable =\n",
              "          await google.colab.kernel.invokeFunction('convertToInteractive',\n",
              "                                                    [key], {});\n",
              "        if (!dataTable) return;\n",
              "\n",
              "        const docLinkHtml = 'Like what you see? Visit the ' +\n",
              "          '<a target=\"_blank\" href=https://colab.research.google.com/notebooks/data_table.ipynb>data table notebook</a>'\n",
              "          + ' to learn more about interactive tables.';\n",
              "        element.innerHTML = '';\n",
              "        dataTable['output_type'] = 'display_data';\n",
              "        await google.colab.output.renderOutput(dataTable, element);\n",
              "        const docLink = document.createElement('div');\n",
              "        docLink.innerHTML = docLinkHtml;\n",
              "        element.appendChild(docLink);\n",
              "      }\n",
              "    </script>\n",
              "  </div>\n",
              "\n",
              "\n",
              "    <div id=\"df-5bb80f9b-b93e-4852-a609-30dba24b5ae7\">\n",
              "      <button class=\"colab-df-quickchart\" onclick=\"quickchart('df-5bb80f9b-b93e-4852-a609-30dba24b5ae7')\"\n",
              "                title=\"Suggest charts\"\n",
              "                style=\"display:none;\">\n",
              "\n",
              "<svg xmlns=\"http://www.w3.org/2000/svg\" height=\"24px\"viewBox=\"0 0 24 24\"\n",
              "     width=\"24px\">\n",
              "    <g>\n",
              "        <path d=\"M19 3H5c-1.1 0-2 .9-2 2v14c0 1.1.9 2 2 2h14c1.1 0 2-.9 2-2V5c0-1.1-.9-2-2-2zM9 17H7v-7h2v7zm4 0h-2V7h2v10zm4 0h-2v-4h2v4z\"/>\n",
              "    </g>\n",
              "</svg>\n",
              "      </button>\n",
              "\n",
              "<style>\n",
              "  .colab-df-quickchart {\n",
              "      --bg-color: #E8F0FE;\n",
              "      --fill-color: #1967D2;\n",
              "      --hover-bg-color: #E2EBFA;\n",
              "      --hover-fill-color: #174EA6;\n",
              "      --disabled-fill-color: #AAA;\n",
              "      --disabled-bg-color: #DDD;\n",
              "  }\n",
              "\n",
              "  [theme=dark] .colab-df-quickchart {\n",
              "      --bg-color: #3B4455;\n",
              "      --fill-color: #D2E3FC;\n",
              "      --hover-bg-color: #434B5C;\n",
              "      --hover-fill-color: #FFFFFF;\n",
              "      --disabled-bg-color: #3B4455;\n",
              "      --disabled-fill-color: #666;\n",
              "  }\n",
              "\n",
              "  .colab-df-quickchart {\n",
              "    background-color: var(--bg-color);\n",
              "    border: none;\n",
              "    border-radius: 50%;\n",
              "    cursor: pointer;\n",
              "    display: none;\n",
              "    fill: var(--fill-color);\n",
              "    height: 32px;\n",
              "    padding: 0;\n",
              "    width: 32px;\n",
              "  }\n",
              "\n",
              "  .colab-df-quickchart:hover {\n",
              "    background-color: var(--hover-bg-color);\n",
              "    box-shadow: 0 1px 2px rgba(60, 64, 67, 0.3), 0 1px 3px 1px rgba(60, 64, 67, 0.15);\n",
              "    fill: var(--button-hover-fill-color);\n",
              "  }\n",
              "\n",
              "  .colab-df-quickchart-complete:disabled,\n",
              "  .colab-df-quickchart-complete:disabled:hover {\n",
              "    background-color: var(--disabled-bg-color);\n",
              "    fill: var(--disabled-fill-color);\n",
              "    box-shadow: none;\n",
              "  }\n",
              "\n",
              "  .colab-df-spinner {\n",
              "    border: 2px solid var(--fill-color);\n",
              "    border-color: transparent;\n",
              "    border-bottom-color: var(--fill-color);\n",
              "    animation:\n",
              "      spin 1s steps(1) infinite;\n",
              "  }\n",
              "\n",
              "  @keyframes spin {\n",
              "    0% {\n",
              "      border-color: transparent;\n",
              "      border-bottom-color: var(--fill-color);\n",
              "      border-left-color: var(--fill-color);\n",
              "    }\n",
              "    20% {\n",
              "      border-color: transparent;\n",
              "      border-left-color: var(--fill-color);\n",
              "      border-top-color: var(--fill-color);\n",
              "    }\n",
              "    30% {\n",
              "      border-color: transparent;\n",
              "      border-left-color: var(--fill-color);\n",
              "      border-top-color: var(--fill-color);\n",
              "      border-right-color: var(--fill-color);\n",
              "    }\n",
              "    40% {\n",
              "      border-color: transparent;\n",
              "      border-right-color: var(--fill-color);\n",
              "      border-top-color: var(--fill-color);\n",
              "    }\n",
              "    60% {\n",
              "      border-color: transparent;\n",
              "      border-right-color: var(--fill-color);\n",
              "    }\n",
              "    80% {\n",
              "      border-color: transparent;\n",
              "      border-right-color: var(--fill-color);\n",
              "      border-bottom-color: var(--fill-color);\n",
              "    }\n",
              "    90% {\n",
              "      border-color: transparent;\n",
              "      border-bottom-color: var(--fill-color);\n",
              "    }\n",
              "  }\n",
              "</style>\n",
              "\n",
              "      <script>\n",
              "        async function quickchart(key) {\n",
              "          const quickchartButtonEl =\n",
              "            document.querySelector('#' + key + ' button');\n",
              "          quickchartButtonEl.disabled = true;  // To prevent multiple clicks.\n",
              "          quickchartButtonEl.classList.add('colab-df-spinner');\n",
              "          try {\n",
              "            const charts = await google.colab.kernel.invokeFunction(\n",
              "                'suggestCharts', [key], {});\n",
              "          } catch (error) {\n",
              "            console.error('Error during call to suggestCharts:', error);\n",
              "          }\n",
              "          quickchartButtonEl.classList.remove('colab-df-spinner');\n",
              "          quickchartButtonEl.classList.add('colab-df-quickchart-complete');\n",
              "        }\n",
              "        (() => {\n",
              "          let quickchartButtonEl =\n",
              "            document.querySelector('#df-5bb80f9b-b93e-4852-a609-30dba24b5ae7 button');\n",
              "          quickchartButtonEl.style.display =\n",
              "            google.colab.kernel.accessAllowed ? 'block' : 'none';\n",
              "        })();\n",
              "      </script>\n",
              "    </div>\n",
              "\n",
              "    </div>\n",
              "  </div>\n"
            ],
            "application/vnd.google.colaboratory.intrinsic+json": {
              "type": "dataframe",
              "summary": "{\n  \"name\": \"X_train[selected_feature_names]\",\n  \"rows\": 5,\n  \"fields\": [\n    {\n      \"column\": \"MMSE\",\n      \"properties\": {\n        \"dtype\": \"number\",\n        \"std\": 10.155423378288404,\n        \"min\": 3.59902786799735,\n        \"max\": 25.9082479137816,\n        \"num_unique_values\": 5,\n        \"samples\": [\n          12.01490099086859,\n          25.52071646869185,\n          3.59902786799735\n        ],\n        \"semantic_type\": \"\",\n        \"description\": \"\"\n      }\n    },\n    {\n      \"column\": \"FunctionalAssessment\",\n      \"properties\": {\n        \"dtype\": \"number\",\n        \"std\": 1.0818170696008924,\n        \"min\": 1.576858379643622,\n        \"max\": 4.24311665159035,\n        \"num_unique_values\": 5,\n        \"samples\": [\n          1.576858379643622,\n          3.794439209595545,\n          2.4322339561388384\n        ],\n        \"semantic_type\": \"\",\n        \"description\": \"\"\n      }\n    },\n    {\n      \"column\": \"MemoryComplaints\",\n      \"properties\": {\n        \"dtype\": \"number\",\n        \"std\": 0,\n        \"min\": 0,\n        \"max\": 0,\n        \"num_unique_values\": 1,\n        \"samples\": [\n          0\n        ],\n        \"semantic_type\": \"\",\n        \"description\": \"\"\n      }\n    },\n    {\n      \"column\": \"BehavioralProblems\",\n      \"properties\": {\n        \"dtype\": \"number\",\n        \"std\": 0,\n        \"min\": 0,\n        \"max\": 1,\n        \"num_unique_values\": 2,\n        \"samples\": [\n          1\n        ],\n        \"semantic_type\": \"\",\n        \"description\": \"\"\n      }\n    },\n    {\n      \"column\": \"ADL\",\n      \"properties\": {\n        \"dtype\": \"number\",\n        \"std\": 2.468606471962132,\n        \"min\": 2.720543185495644,\n        \"max\": 8.93612245174379,\n        \"num_unique_values\": 5,\n        \"samples\": [\n          2.720543185495644\n        ],\n        \"semantic_type\": \"\",\n        \"description\": \"\"\n      }\n    }\n  ]\n}"
            }
          },
          "metadata": {},
          "execution_count": 239
        }
      ]
    },
    {
      "cell_type": "markdown",
      "source": [
        "**Scaling the data**"
      ],
      "metadata": {
        "id": "n3Ez-4XlQTtV"
      }
    },
    {
      "cell_type": "code",
      "source": [
        "from sklearn.preprocessing import StandardScaler\n",
        "\n",
        "sc = StandardScaler()\n",
        "x_train = sc.fit_transform(x_train)\n",
        "x_test  = sc.fit_transform(x_test)"
      ],
      "metadata": {
        "id": "tfhRvhWeQWw9"
      },
      "execution_count": 240,
      "outputs": []
    },
    {
      "cell_type": "code",
      "source": [
        "import numpy as np\n",
        "import matplotlib.pyplot as plt\n",
        "import seaborn as sns\n",
        "from sklearn.metrics import accuracy_score, precision_score, recall_score, f1_score, confusion_matrix\n",
        "from tabulate import tabulate\n",
        "\n",
        "def calculate_confusion(clf_name, y_train, y_pred_train, y_test, y_pred_test):\n",
        "\n",
        "    # Calculate accuracy, precision, recall, and F1 score for training and testing sets\n",
        "    train_acc = accuracy_score(y_train, y_pred_train)\n",
        "    test_acc = accuracy_score(y_test, y_pred_test)\n",
        "    train_prec = precision_score(y_train, y_pred_train)\n",
        "    test_prec = precision_score(y_test, y_pred_test)\n",
        "    train_rec = recall_score(y_train, y_pred_train)\n",
        "    test_rec = recall_score(y_test, y_pred_test)\n",
        "    train_f1 = f1_score(y_train, y_pred_train)\n",
        "    test_f1 = f1_score(y_test, y_pred_test)\n",
        "\n",
        "    # Calculate the confusion matrix for training and testing sets\n",
        "    train_cm = confusion_matrix(y_train, y_pred_train)\n",
        "    test_cm = confusion_matrix(y_test, y_pred_test)\n",
        "\n",
        "    # Create a 1x2 figure with the confusion matrix on the left and evaluation metrics on the right\n",
        "    fig, axs = plt.subplots(1, 2, figsize=(6,2),sharey=True)\n",
        "\n",
        "    # Plot the confusion matrix for training set\n",
        "    sns.heatmap(train_cm, annot=True, cmap='YlGnBu', fmt='g', ax=axs[0], annot_kws={\"size\": 12}, cbar_kws={\"shrink\": 0.7})\n",
        "    axs[0].set_title('Training Set',fontsize=10)\n",
        "    axs[0].set_xlabel('Predicted Labels',fontsize=10)\n",
        "    axs[0].set_ylabel('True Labels',fontsize=10)\n",
        "\n",
        "    # Plot the confusion matrix for testing set\n",
        "    sns.heatmap(test_cm, annot=True, cmap='YlGnBu', fmt='g', ax=axs[1], annot_kws={\"size\": 12}, cbar_kws={\"shrink\": 0.7})\n",
        "    axs[1].set_title('Testing Set',fontsize=10)\n",
        "    axs[1].set_xlabel('Predicted Labels',fontsize=10)\n",
        "    axs[1].set_ylabel('True Labels',fontsize=10)\n",
        "\n",
        "    # Add a main title to the figure\n",
        "    # fig.suptitle(f'Confusion matrix using {clf_name} ', fontsize=12, y=1.01, fontname='Times')\n",
        "    # fig.suptitle(f'Confusion matrix using {clf_name} ', fontsize=12, y=1.09)\n",
        "    plt.savefig(clf_name + \".png\")\n",
        "    # Show the plot\n",
        "    plt.show()\n",
        "\n",
        "    # Define the performance metrics for training and testing cases\n",
        "    train_metrics = [\"Train Accuracy\", \"Train Precision\", \"Train Recall\", \"Train F1\"]\n",
        "    test_metrics = [\"Test Accuracy\", \"Test Precision\", \"Test Recall\", \"Test F1\"]\n",
        "\n",
        "    # Create a list of lists containing the metrics\n",
        "    table = [train_metrics + test_metrics,\n",
        "         [train_acc, train_prec, train_rec, train_f1, test_acc, test_prec, test_rec, test_f1]]\n",
        "\n",
        "    # Print the table\n",
        "    print('-----Results for',clf_name,'----------------------')\n",
        "    print(tabulate(table, headers='firstrow'))"
      ],
      "metadata": {
        "id": "Q3Wi-Qc4LxFJ"
      },
      "execution_count": 241,
      "outputs": []
    },
    {
      "cell_type": "markdown",
      "source": [
        "# Logistic Regression"
      ],
      "metadata": {
        "id": "q-L7MnxU1Qtd"
      }
    },
    {
      "cell_type": "code",
      "source": [
        "#set up plotting area\n",
        "from matplotlib.pyplot import figure\n",
        "from sklearn import metrics\n",
        "from sklearn.metrics import confusion_matrix\n",
        "from sklearn.metrics import roc_curve, roc_auc_score\n",
        "\n",
        "# We now prepare our selected models\n",
        "models  = []\n",
        "results = []\n",
        "names   = []\n",
        "scoring = 'accuracy'\n",
        "names   = ['LRC', 'SVC', 'GBC', 'GNB', 'RFC', 'KNC']\n",
        "\n",
        "#LogisticRegression ####################################\n",
        "from sklearn.linear_model import LogisticRegression\n",
        "lr = LogisticRegression(solver='liblinear', max_iter=20)\n",
        "lr.fit(x_train, y_train)\n",
        "y_pred_train = lr.predict(x_train)\n",
        "y_pred_test  = lr.predict(x_test)\n",
        "calculate_confusion(\"LR\",y_train, y_pred_train, y_test, y_pred_test)\n",
        "fpr1, tpr1, _ = metrics.roc_curve(y_test, y_pred_test)\n",
        "auc = round(metrics.roc_auc_score(y_test, y_pred_test), 4)\n",
        "cv_results = cross_val_score(lr, x_test, y_test)\n",
        "results.append(cv_results)"
      ],
      "metadata": {
        "id": "XjCSnIoViOul",
        "outputId": "59206ca0-1cf5-4678-b45b-709d084b97d1",
        "colab": {
          "base_uri": "https://localhost:8080/",
          "height": 322
        }
      },
      "execution_count": 242,
      "outputs": [
        {
          "output_type": "display_data",
          "data": {
            "text/plain": [
              "<Figure size 600x200 with 4 Axes>"
            ],
            "image/png": "[encoded data removed]"
          },
          "metadata": {}
        },
        {
          "output_type": "stream",
          "name": "stdout",
          "text": [
            "-----Results for LR ----------------------\n",
            "  Train Accuracy    Train Precision    Train Recall    Train F1    Test Accuracy    Test Precision    Test Recall    Test F1\n",
            "----------------  -----------------  --------------  ----------  ---------------  ----------------  -------------  ---------\n",
            "        0.833933           0.833484        0.832731    0.833107          0.82554          0.832143       0.823322   0.827709\n"
          ]
        }
      ]
    },
    {
      "cell_type": "code",
      "source": [
        "# Compute False postive rate, and True positive rate\n",
        "fpr1, tpr1, thresholds1 = metrics.roc_curve(y_train, y_pred_train)\n",
        "# Calculate Area under the curve to display on the plot\n",
        "auc1 = metrics.roc_auc_score(y_train,lr.predict(x_train))"
      ],
      "metadata": {
        "id": "ar2ulcp1EsoU"
      },
      "execution_count": 243,
      "outputs": []
    },
    {
      "cell_type": "markdown",
      "source": [
        "# Support Vector Machine"
      ],
      "metadata": {
        "id": "ciA4UQuD1Uld"
      }
    },
    {
      "cell_type": "code",
      "source": [
        "#SVM ####################################\n",
        "from sklearn.svm import SVC\n",
        "svm = SVC(kernel='rbf', C=1.0, probability=True)\n",
        "svm.fit(x_train, y_train)\n",
        "y_pred_train = svm.predict(x_train)\n",
        "y_pred_test  = svm.predict(x_test)\n",
        "calculate_confusion(\"SVM\",y_train, y_pred_train, y_test, y_pred_test)\n",
        "fpr2, tpr2, _ = metrics.roc_curve(y_test, y_pred_test)\n",
        "auc = round(metrics.roc_auc_score(y_test, y_pred_test), 4)\n",
        "cv_results = cross_val_score(svm, x_test, y_test)\n",
        "results.append(cv_results)"
      ],
      "metadata": {
        "id": "GF3yuI06iz3t",
        "outputId": "4565d459-c4c5-4917-f146-c03e74d23e77",
        "colab": {
          "base_uri": "https://localhost:8080/",
          "height": 322
        }
      },
      "execution_count": 244,
      "outputs": [
        {
          "output_type": "display_data",
          "data": {
            "text/plain": [
              "<Figure size 600x200 with 4 Axes>"
            ],
            "image/png": "[encoded data removed]"
          },
          "metadata": {}
        },
        {
          "output_type": "stream",
          "name": "stdout",
          "text": [
            "-----Results for SVM ----------------------\n",
            "  Train Accuracy    Train Precision    Train Recall    Train F1    Test Accuracy    Test Precision    Test Recall    Test F1\n",
            "----------------  -----------------  --------------  ----------  ---------------  ----------------  -------------  ---------\n",
            "        0.927093           0.933028         0.91953     0.92623         0.911871          0.920863       0.904594   0.912656\n"
          ]
        }
      ]
    },
    {
      "cell_type": "code",
      "source": [
        "# Compute False postive rate, and True positive rate\n",
        "fpr2, tpr2, thresholds2 = metrics.roc_curve(y_train, y_pred_train)\n",
        "# Calculate Area under the curve to display on the plot\n",
        "auc2 = metrics.roc_auc_score(y_train,svm.predict(x_train))"
      ],
      "metadata": {
        "id": "3WEhQ3qqExl0"
      },
      "execution_count": 245,
      "outputs": []
    },
    {
      "cell_type": "markdown",
      "source": [
        "# Gradient Boosting Classifier"
      ],
      "metadata": {
        "id": "ctnPKAdu1Y3m"
      }
    },
    {
      "cell_type": "code",
      "source": [
        "#GradientBoostingClassifier\n",
        "from sklearn.ensemble import GradientBoostingClassifier\n",
        "from sklearn.model_selection import GridSearchCV\n",
        "\n",
        "GBC = GradientBoostingClassifier(random_state=1)\n",
        "GBC.fit(x_train, y_train)\n",
        "y_pred_train = GBC.predict(x_train)\n",
        "y_pred_test  = GBC.predict(x_test)\n",
        "\n",
        "calculate_confusion(\"GBC\",y_train, y_pred_train, y_test, y_pred_test)\n",
        "fpr3, tpr3, _ = metrics.roc_curve(y_test, y_pred_test)\n",
        "auc = round(metrics.roc_auc_score(y_test, y_pred_test), 4)\n",
        "cv_results = cross_val_score(GBC, x_test, y_test)\n",
        "results.append(cv_results)"
      ],
      "metadata": {
        "id": "MwwZrX6qi6CN",
        "outputId": "612b0215-30b8-4e4d-f1e8-d92c00c62492",
        "colab": {
          "base_uri": "https://localhost:8080/",
          "height": 322
        }
      },
      "execution_count": 246,
      "outputs": [
        {
          "output_type": "display_data",
          "data": {
            "text/plain": [
              "<Figure size 600x200 with 4 Axes>"
            ],
            "image/png": "[encoded data removed]"
          },
          "metadata": {}
        },
        {
          "output_type": "stream",
          "name": "stdout",
          "text": [
            "-----Results for GBC ----------------------\n",
            "  Train Accuracy    Train Precision    Train Recall    Train F1    Test Accuracy    Test Precision    Test Recall    Test F1\n",
            "----------------  -----------------  --------------  ----------  ---------------  ----------------  -------------  ---------\n",
            "        0.961746           0.973123        0.949367    0.961098         0.933453          0.955556       0.911661   0.933092\n"
          ]
        }
      ]
    },
    {
      "cell_type": "code",
      "source": [
        "# Compute False postive rate, and True positive rate\n",
        "fpr3, tpr3, thresholds3 = metrics.roc_curve(y_train, y_pred_train)\n",
        "# Calculate Area under the curve to display on the plot\n",
        "auc3 = metrics.roc_auc_score(y_train,y_pred_train)"
      ],
      "metadata": {
        "id": "tFvVZbETEz00"
      },
      "execution_count": 247,
      "outputs": []
    },
    {
      "cell_type": "markdown",
      "source": [
        "# GaussianNB"
      ],
      "metadata": {
        "id": "9s0YzF8W1b5Y"
      }
    },
    {
      "cell_type": "code",
      "source": [
        "#GaussianNB\n",
        "from sklearn.metrics import precision_score\n",
        "from sklearn.naive_bayes import GaussianNB\n",
        "\n",
        "GNB = GaussianNB(priors=None, var_smoothing=1e-9)\n",
        "GNB.fit(x_train, y_train)\n",
        "\n",
        "# Adjust classification threshold to 0.3\n",
        "y_pred_train = GNB.predict(x_train)\n",
        "# y_pred_train = (y_pred_train >= 0.1).astype(int)\n",
        "\n",
        "y_pred_test  = GNB.predict(x_test)\n",
        "# y_pred_test = (y_pred_test >= 0.1).astype(int)\n",
        "\n",
        "calculate_confusion(\"GNB\",y_train, y_pred_train, y_test, y_pred_test)\n",
        "fpr4, tpr4, _ = metrics.roc_curve(y_test, y_pred_test)\n",
        "auc = round(metrics.roc_auc_score(y_test, y_pred_test), 4)\n",
        "cv_results = cross_val_score(GNB, x_test, y_test)\n",
        "results.append(cv_results)"
      ],
      "metadata": {
        "id": "tdYyIkUDi8iR",
        "outputId": "f676a960-2306-45d0-add2-3a2a3829666f",
        "colab": {
          "base_uri": "https://localhost:8080/",
          "height": 322
        }
      },
      "execution_count": 248,
      "outputs": [
        {
          "output_type": "display_data",
          "data": {
            "text/plain": [
              "<Figure size 600x200 with 4 Axes>"
            ],
            "image/png": "[encoded data removed]"
          },
          "metadata": {}
        },
        {
          "output_type": "stream",
          "name": "stdout",
          "text": [
            "-----Results for GNB ----------------------\n",
            "  Train Accuracy    Train Precision    Train Recall    Train F1    Test Accuracy    Test Precision    Test Recall    Test F1\n",
            "----------------  -----------------  --------------  ----------  ---------------  ----------------  -------------  ---------\n",
            "        0.826283           0.818584        0.836347     0.82737         0.829137          0.838129       0.823322    0.83066\n"
          ]
        }
      ]
    },
    {
      "cell_type": "code",
      "source": [
        "# Compute False postive rate, and True positive rate\n",
        "fpr4, tpr4, thresholds4 = metrics.roc_curve(y_train, y_pred_train)\n",
        "# Calculate Area under the curve to display on the plot\n",
        "auc4 = metrics.roc_auc_score(y_train,GNB.predict(x_train))"
      ],
      "metadata": {
        "id": "Fq--0hXpE7dD"
      },
      "execution_count": 249,
      "outputs": []
    },
    {
      "cell_type": "markdown",
      "source": [
        "# KNeighborsClassifier"
      ],
      "metadata": {
        "id": "LLxcE3UY1fSt"
      }
    },
    {
      "cell_type": "code",
      "source": [
        "# KNN Model\n",
        "from sklearn.neighbors import KNeighborsClassifier\n",
        "KNC = KNeighborsClassifier()\n",
        "KNC.fit(x_train, y_train)\n",
        "y_pred_train = KNC.predict(x_train)\n",
        "y_pred_test  = KNC.predict(x_test)\n",
        "calculate_confusion(\"KNC\",y_train, y_pred_train, y_test, y_pred_test)\n",
        "fpr5, tpr5, _ = metrics.roc_curve(y_test, y_pred_test)\n",
        "auc = round(metrics.roc_auc_score(y_test, y_pred_test), 4)\n",
        "cv_results = cross_val_score(KNC, x_test, y_test)\n",
        "results.append(cv_results)"
      ],
      "metadata": {
        "id": "wgv2kjk6jBpY",
        "outputId": "1d86db7a-c096-49a6-f9e0-2aa092ba0a5a",
        "colab": {
          "base_uri": "https://localhost:8080/",
          "height": 322
        }
      },
      "execution_count": 250,
      "outputs": [
        {
          "output_type": "display_data",
          "data": {
            "text/plain": [
              "<Figure size 600x200 with 4 Axes>"
            ],
            "image/png": "[encoded data removed]"
          },
          "metadata": {}
        },
        {
          "output_type": "stream",
          "name": "stdout",
          "text": [
            "-----Results for KNC ----------------------\n",
            "  Train Accuracy    Train Precision    Train Recall    Train F1    Test Accuracy    Test Precision    Test Recall    Test F1\n",
            "----------------  -----------------  --------------  ----------  ---------------  ----------------  -------------  ---------\n",
            "        0.939694           0.926316        0.954792    0.940338         0.915468          0.915493       0.918728   0.917108\n"
          ]
        }
      ]
    },
    {
      "cell_type": "code",
      "source": [
        "# Compute False postive rate, and True positive rate\n",
        "fpr5, tpr5, thresholds5 = metrics.roc_curve(y_train, y_pred_train)\n",
        "# Calculate Area under the curve to display on the plot\n",
        "auc5 = metrics.roc_auc_score(y_train,KNC.predict(x_train))"
      ],
      "metadata": {
        "id": "GMiIIM1vFJ1b"
      },
      "execution_count": 251,
      "outputs": []
    },
    {
      "cell_type": "markdown",
      "source": [
        "# Decision Tree"
      ],
      "metadata": {
        "id": "fpCVmu1L1iNa"
      }
    },
    {
      "cell_type": "code",
      "source": [
        "# Decision Tree Model\n",
        "from sklearn import tree\n",
        "DT = tree.DecisionTreeClassifier(criterion='gini', splitter='best', max_depth=None,ccp_alpha=0.01)\n",
        "DT.fit(x_train, y_train)\n",
        "y_pred_train = DT.predict(x_train)\n",
        "y_pred_test  = DT.predict(x_test)\n",
        "calculate_confusion(\"DT\",y_train, y_pred_train, y_test, y_pred_test)\n",
        "fpr6, tpr6, _ = metrics.roc_curve(y_test, y_pred_test)\n",
        "auc = round(metrics.roc_auc_score(y_test, y_pred_test), 4)\n",
        "cv_results = cross_val_score(DT, x_test, y_test)\n",
        "results.append(cv_results)"
      ],
      "metadata": {
        "id": "VtfQhLBxjOcN",
        "outputId": "8947e688-b1ca-4f10-cc2e-bb4e8750b613",
        "colab": {
          "base_uri": "https://localhost:8080/",
          "height": 322
        }
      },
      "execution_count": 252,
      "outputs": [
        {
          "output_type": "display_data",
          "data": {
            "text/plain": [
              "<Figure size 600x200 with 4 Axes>"
            ],
            "image/png": "[encoded data removed]"
          },
          "metadata": {}
        },
        {
          "output_type": "stream",
          "name": "stdout",
          "text": [
            "-----Results for DT ----------------------\n",
            "  Train Accuracy    Train Precision    Train Recall    Train F1    Test Accuracy    Test Precision    Test Recall    Test F1\n",
            "----------------  -----------------  --------------  ----------  ---------------  ----------------  -------------  ---------\n",
            "        0.948695           0.961825        0.933996    0.947706         0.931655           0.95539       0.908127   0.931159\n"
          ]
        }
      ]
    },
    {
      "cell_type": "code",
      "source": [
        "# Compute False postive rate, and True positive rate\n",
        "fpr6, tpr6, thresholds6 = metrics.roc_curve(y_train, DT.predict_proba(x_train)[:,1])\n",
        "# Calculate Area under the curve to display on the plot\n",
        "auc6 = metrics.roc_auc_score(y_train,y_pred_train)"
      ],
      "metadata": {
        "id": "SiuRx0FQFO-8"
      },
      "execution_count": 253,
      "outputs": []
    },
    {
      "cell_type": "code",
      "source": [
        "from sklearn.preprocessing import StandardScaler\n",
        "from sklearn.tree import DecisionTreeClassifier, export_graphviz\n",
        "import graphviz\n",
        "\n",
        "X_train, X_test, Y_train, Y_test = train_test_split(df.drop(['Diagnosis'], axis=1),\n",
        "                                                    df['Diagnosis'],\n",
        "                                                    test_size=0.25,\n",
        "                                                    random_state=42)\n",
        "\n",
        "# Train the decision tree on the scaled data\n",
        "DT = tree.DecisionTreeClassifier(criterion='gini', splitter='best', max_depth=None,ccp_alpha=0.01)\n",
        "DT.fit(x_train, y_train)\n",
        "\n",
        "# Export the tree as a Graphviz dot file\n",
        "dot_data = export_graphviz(DT, out_file=None, feature_names=selected_feature_names,\n",
        "                           class_names=['Negative', 'Positive'], filled=True, rounded=True,\n",
        "                           special_characters=True, rotate=True)\n",
        "\n",
        "# Create a graph from the dot file\n",
        "graph = graphviz.Source(dot_data)\n",
        "\n",
        "# Render the graph as a PNG image\n",
        "graph.format = 'png'\n",
        "graph.render('decision tree', view=False)\n",
        "\n",
        "# Display the graph\n",
        "graph\n"
      ],
      "metadata": {
        "id": "9IwVUvkP6rGN",
        "outputId": "8acaa8c1-815f-4260-d8c1-0041a12ed7d9",
        "colab": {
          "base_uri": "https://localhost:8080/",
          "height": 881
        }
      },
      "execution_count": 254,
      "outputs": [
        {
          "output_type": "execute_result",
          "data": {
            "image/svg+xml": "<?xml version=\"1.0\" encoding=\"UTF-8\" standalone=\"no\"?>\n<!DOCTYPE svg PUBLIC \"-//W3C//DTD SVG 1.1//EN\"\n \"http://www.w3.org/Graphics/SVG/1.1/DTD/svg11.dtd\">\n<!-- Generated by graphviz version 2.43.0 (0)\n -->\n<!-- Title: Tree Pages: 1 -->\n<svg width=\"1249pt\" height=\"630pt\"\n viewBox=\"0.00 0.00 1249.00 630.00\" xmlns=\"http://www.w3.org/2000/svg\" xmlns:xlink=\"http://www.w3.org/1999/xlink\">\n<g id=\"graph0\" class=\"graph\" transform=\"scale(1 1) rotate(0) translate(4 626)\">\n<title>Tree</title>\n<polygon fill=\"white\" stroke=\"transparent\" points=\"-4,4 -4,-626 1245,-626 1245,4 -4,4\"/>\n<!-- 0 -->\n<g id=\"node1\" class=\"node\">\n<title>0</title>\n<path fill=\"#fffefd\" stroke=\"black\" d=\"M190,-356.5C190,-356.5 12,-356.5 12,-356.5 6,-356.5 0,-350.5 0,-344.5 0,-344.5 0,-285.5 0,-285.5 0,-279.5 6,-273.5 12,-273.5 12,-273.5 190,-273.5 190,-273.5 196,-273.5 202,-279.5 202,-285.5 202,-285.5 202,-344.5 202,-344.5 202,-350.5 196,-356.5 190,-356.5\"/>\n<text text-anchor=\"start\" x=\"8\" y=\"-341.3\" font-family=\"Helvetica,sans-Serif\" font-size=\"14.00\">FunctionalAssessment ≤ 0.093</text>\n<text text-anchor=\"start\" x=\"73\" y=\"-326.3\" font-family=\"Helvetica,sans-Serif\" font-size=\"14.00\">gini = 0.5</text>\n<text text-anchor=\"start\" x=\"52.5\" y=\"-311.3\" font-family=\"Helvetica,sans-Serif\" font-size=\"14.00\">samples = 2222</text>\n<text text-anchor=\"start\" x=\"39\" y=\"-296.3\" font-family=\"Helvetica,sans-Serif\" font-size=\"14.00\">value = [1116, 1106]</text>\n<text text-anchor=\"start\" x=\"51\" y=\"-281.3\" font-family=\"Helvetica,sans-Serif\" font-size=\"14.00\">class = Negative</text>\n</g>\n<!-- 1 -->\n<g id=\"node2\" class=\"node\">\n<title>1</title>\n<path fill=\"#8fc8f0\" stroke=\"black\" d=\"M380.5,-407.5C380.5,-407.5 279.5,-407.5 279.5,-407.5 273.5,-407.5 267.5,-401.5 267.5,-395.5 267.5,-395.5 267.5,-336.5 267.5,-336.5 267.5,-330.5 273.5,-324.5 279.5,-324.5 279.5,-324.5 380.5,-324.5 380.5,-324.5 386.5,-324.5 392.5,-330.5 392.5,-336.5 392.5,-336.5 392.5,-395.5 392.5,-395.5 392.5,-401.5 386.5,-407.5 380.5,-407.5\"/>\n<text text-anchor=\"start\" x=\"284.5\" y=\"-392.3\" font-family=\"Helvetica,sans-Serif\" font-size=\"14.00\">MMSE ≤ 1.197</text>\n<text text-anchor=\"start\" x=\"294.5\" y=\"-377.3\" font-family=\"Helvetica,sans-Serif\" font-size=\"14.00\">gini = 0.422</text>\n<text text-anchor=\"start\" x=\"281.5\" y=\"-362.3\" font-family=\"Helvetica,sans-Serif\" font-size=\"14.00\">samples = 1238</text>\n<text text-anchor=\"start\" x=\"275.5\" y=\"-347.3\" font-family=\"Helvetica,sans-Serif\" font-size=\"14.00\">value = [375, 863]</text>\n<text text-anchor=\"start\" x=\"283\" y=\"-332.3\" font-family=\"Helvetica,sans-Serif\" font-size=\"14.00\">class = Positive</text>\n</g>\n<!-- 0&#45;&gt;1 -->\n<g id=\"edge1\" class=\"edge\">\n<title>0&#45;&gt;1</title>\n<path fill=\"none\" stroke=\"black\" d=\"M202.23,-337.52C220.79,-341.69 239.84,-345.97 257.34,-349.9\"/>\n<polygon fill=\"black\" stroke=\"black\" points=\"256.93,-353.4 267.45,-352.17 258.46,-346.57 256.93,-353.4\"/>\n<text text-anchor=\"middle\" x=\"246.33\" y=\"-361.85\" font-family=\"Helvetica,sans-Serif\" font-size=\"14.00\">True</text>\n</g>\n<!-- 10 -->\n<g id=\"node11\" class=\"node\">\n<title>10</title>\n<path fill=\"#eeaa7a\" stroke=\"black\" d=\"M410,-306.5C410,-306.5 250,-306.5 250,-306.5 244,-306.5 238,-300.5 238,-294.5 238,-294.5 238,-235.5 238,-235.5 238,-229.5 244,-223.5 250,-223.5 250,-223.5 410,-223.5 410,-223.5 416,-223.5 422,-229.5 422,-235.5 422,-235.5 422,-294.5 422,-294.5 422,-300.5 416,-306.5 410,-306.5\"/>\n<text text-anchor=\"start\" x=\"246\" y=\"-291.3\" font-family=\"Helvetica,sans-Serif\" font-size=\"14.00\">MemoryComplaints ≤ 0.544</text>\n<text text-anchor=\"start\" x=\"294.5\" y=\"-276.3\" font-family=\"Helvetica,sans-Serif\" font-size=\"14.00\">gini = 0.372</text>\n<text text-anchor=\"start\" x=\"285\" y=\"-261.3\" font-family=\"Helvetica,sans-Serif\" font-size=\"14.00\">samples = 984</text>\n<text text-anchor=\"start\" x=\"275.5\" y=\"-246.3\" font-family=\"Helvetica,sans-Serif\" font-size=\"14.00\">value = [741, 243]</text>\n<text text-anchor=\"start\" x=\"280\" y=\"-231.3\" font-family=\"Helvetica,sans-Serif\" font-size=\"14.00\">class = Negative</text>\n</g>\n<!-- 0&#45;&gt;10 -->\n<g id=\"edge10\" class=\"edge\">\n<title>0&#45;&gt;10</title>\n<path fill=\"none\" stroke=\"black\" d=\"M202.23,-292.92C210.76,-291.04 219.4,-289.14 227.94,-287.26\"/>\n<polygon fill=\"black\" stroke=\"black\" points=\"228.9,-290.63 237.92,-285.06 227.4,-283.8 228.9,-290.63\"/>\n<text text-anchor=\"middle\" x=\"216.85\" y=\"-267.9\" font-family=\"Helvetica,sans-Serif\" font-size=\"14.00\">False</text>\n</g>\n<!-- 2 -->\n<g id=\"node3\" class=\"node\">\n<title>2</title>\n<path fill=\"#6db7ec\" stroke=\"black\" d=\"M602,-499.5C602,-499.5 501,-499.5 501,-499.5 495,-499.5 489,-493.5 489,-487.5 489,-487.5 489,-428.5 489,-428.5 489,-422.5 495,-416.5 501,-416.5 501,-416.5 602,-416.5 602,-416.5 608,-416.5 614,-422.5 614,-428.5 614,-428.5 614,-487.5 614,-487.5 614,-493.5 608,-499.5 602,-499.5\"/>\n<text text-anchor=\"start\" x=\"513.5\" y=\"-484.3\" font-family=\"Helvetica,sans-Serif\" font-size=\"14.00\">ADL ≤ 0.137</text>\n<text text-anchor=\"start\" x=\"516\" y=\"-469.3\" font-family=\"Helvetica,sans-Serif\" font-size=\"14.00\">gini = 0.328</text>\n<text text-anchor=\"start\" x=\"503\" y=\"-454.3\" font-family=\"Helvetica,sans-Serif\" font-size=\"14.00\">samples = 1073</text>\n<text text-anchor=\"start\" x=\"497\" y=\"-439.3\" font-family=\"Helvetica,sans-Serif\" font-size=\"14.00\">value = [222, 851]</text>\n<text text-anchor=\"start\" x=\"504.5\" y=\"-424.3\" font-family=\"Helvetica,sans-Serif\" font-size=\"14.00\">class = Positive</text>\n</g>\n<!-- 1&#45;&gt;2 -->\n<g id=\"edge2\" class=\"edge\">\n<title>1&#45;&gt;2</title>\n<path fill=\"none\" stroke=\"black\" d=\"M392.73,-391.87C419.73,-403.19 451.56,-416.53 479.53,-428.25\"/>\n<polygon fill=\"black\" stroke=\"black\" points=\"478.28,-431.53 488.86,-432.16 480.99,-425.07 478.28,-431.53\"/>\n</g>\n<!-- 9 -->\n<g id=\"node10\" class=\"node\">\n<title>9</title>\n<path fill=\"#e78b49\" stroke=\"black\" d=\"M598,-398C598,-398 505,-398 505,-398 499,-398 493,-392 493,-386 493,-386 493,-342 493,-342 493,-336 499,-330 505,-330 505,-330 598,-330 598,-330 604,-330 610,-336 610,-342 610,-342 610,-386 610,-386 610,-392 604,-398 598,-398\"/>\n<text text-anchor=\"start\" x=\"516\" y=\"-382.8\" font-family=\"Helvetica,sans-Serif\" font-size=\"14.00\">gini = 0.135</text>\n<text text-anchor=\"start\" x=\"506.5\" y=\"-367.8\" font-family=\"Helvetica,sans-Serif\" font-size=\"14.00\">samples = 165</text>\n<text text-anchor=\"start\" x=\"501\" y=\"-352.8\" font-family=\"Helvetica,sans-Serif\" font-size=\"14.00\">value = [153, 12]</text>\n<text text-anchor=\"start\" x=\"501.5\" y=\"-337.8\" font-family=\"Helvetica,sans-Serif\" font-size=\"14.00\">class = Negative</text>\n</g>\n<!-- 1&#45;&gt;9 -->\n<g id=\"edge9\" class=\"edge\">\n<title>1&#45;&gt;9</title>\n<path fill=\"none\" stroke=\"black\" d=\"M392.73,-365.44C420.73,-365.18 453.94,-364.88 482.64,-364.62\"/>\n<polygon fill=\"black\" stroke=\"black\" points=\"483.03,-368.11 493,-364.52 482.97,-361.12 483.03,-368.11\"/>\n</g>\n<!-- 3 -->\n<g id=\"node4\" class=\"node\">\n<title>3</title>\n<path fill=\"#3e9fe6\" stroke=\"black\" d=\"M819.5,-585C819.5,-585 726.5,-585 726.5,-585 720.5,-585 714.5,-579 714.5,-573 714.5,-573 714.5,-529 714.5,-529 714.5,-523 720.5,-517 726.5,-517 726.5,-517 819.5,-517 819.5,-517 825.5,-517 831.5,-523 831.5,-529 831.5,-529 831.5,-573 831.5,-573 831.5,-579 825.5,-585 819.5,-585\"/>\n<text text-anchor=\"start\" x=\"737.5\" y=\"-569.8\" font-family=\"Helvetica,sans-Serif\" font-size=\"14.00\">gini = 0.045</text>\n<text text-anchor=\"start\" x=\"728\" y=\"-554.8\" font-family=\"Helvetica,sans-Serif\" font-size=\"14.00\">samples = 689</text>\n<text text-anchor=\"start\" x=\"722.5\" y=\"-539.8\" font-family=\"Helvetica,sans-Serif\" font-size=\"14.00\">value = [16, 673]</text>\n<text text-anchor=\"start\" x=\"726\" y=\"-524.8\" font-family=\"Helvetica,sans-Serif\" font-size=\"14.00\">class = Positive</text>\n</g>\n<!-- 2&#45;&gt;3 -->\n<g id=\"edge3\" class=\"edge\">\n<title>2&#45;&gt;3</title>\n<path fill=\"none\" stroke=\"black\" d=\"M614.23,-484.15C642.6,-496.18 676.31,-510.46 705.28,-522.73\"/>\n<polygon fill=\"black\" stroke=\"black\" points=\"703.93,-525.96 714.5,-526.64 706.66,-519.51 703.93,-525.96\"/>\n</g>\n<!-- 4 -->\n<g id=\"node5\" class=\"node\">\n<title>4</title>\n<path fill=\"#fbeee4\" stroke=\"black\" d=\"M853,-498.5C853,-498.5 693,-498.5 693,-498.5 687,-498.5 681,-492.5 681,-486.5 681,-486.5 681,-427.5 681,-427.5 681,-421.5 687,-415.5 693,-415.5 693,-415.5 853,-415.5 853,-415.5 859,-415.5 865,-421.5 865,-427.5 865,-427.5 865,-486.5 865,-486.5 865,-492.5 859,-498.5 853,-498.5\"/>\n<text text-anchor=\"start\" x=\"689\" y=\"-483.3\" font-family=\"Helvetica,sans-Serif\" font-size=\"14.00\">MemoryComplaints ≤ 0.544</text>\n<text text-anchor=\"start\" x=\"737.5\" y=\"-468.3\" font-family=\"Helvetica,sans-Serif\" font-size=\"14.00\">gini = 0.497</text>\n<text text-anchor=\"start\" x=\"728\" y=\"-453.3\" font-family=\"Helvetica,sans-Serif\" font-size=\"14.00\">samples = 384</text>\n<text text-anchor=\"start\" x=\"718.5\" y=\"-438.3\" font-family=\"Helvetica,sans-Serif\" font-size=\"14.00\">value = [206, 178]</text>\n<text text-anchor=\"start\" x=\"723\" y=\"-423.3\" font-family=\"Helvetica,sans-Serif\" font-size=\"14.00\">class = Negative</text>\n</g>\n<!-- 2&#45;&gt;4 -->\n<g id=\"edge4\" class=\"edge\">\n<title>2&#45;&gt;4</title>\n<path fill=\"none\" stroke=\"black\" d=\"M614.23,-457.72C631.83,-457.64 651.48,-457.55 670.78,-457.46\"/>\n<polygon fill=\"black\" stroke=\"black\" points=\"670.84,-460.96 680.83,-457.42 670.81,-453.96 670.84,-460.96\"/>\n</g>\n<!-- 5 -->\n<g id=\"node6\" class=\"node\">\n<title>5</title>\n<path fill=\"#eeae80\" stroke=\"black\" d=\"M1076,-586.5C1076,-586.5 913,-586.5 913,-586.5 907,-586.5 901,-580.5 901,-574.5 901,-574.5 901,-515.5 901,-515.5 901,-509.5 907,-503.5 913,-503.5 913,-503.5 1076,-503.5 1076,-503.5 1082,-503.5 1088,-509.5 1088,-515.5 1088,-515.5 1088,-574.5 1088,-574.5 1088,-580.5 1082,-586.5 1076,-586.5\"/>\n<text text-anchor=\"start\" x=\"909\" y=\"-571.3\" font-family=\"Helvetica,sans-Serif\" font-size=\"14.00\">BehavioralProblems ≤ 0.915</text>\n<text text-anchor=\"start\" x=\"959\" y=\"-556.3\" font-family=\"Helvetica,sans-Serif\" font-size=\"14.00\">gini = 0.388</text>\n<text text-anchor=\"start\" x=\"949.5\" y=\"-541.3\" font-family=\"Helvetica,sans-Serif\" font-size=\"14.00\">samples = 277</text>\n<text text-anchor=\"start\" x=\"932.5\" y=\"-526.3\" font-family=\"Helvetica,sans-Serif\" font-size=\"14.00\">value = [204.0, 73.0]</text>\n<text text-anchor=\"start\" x=\"944.5\" y=\"-511.3\" font-family=\"Helvetica,sans-Serif\" font-size=\"14.00\">class = Negative</text>\n</g>\n<!-- 4&#45;&gt;5 -->\n<g id=\"edge5\" class=\"edge\">\n<title>4&#45;&gt;5</title>\n<path fill=\"none\" stroke=\"black\" d=\"M865.18,-493.56C873.83,-497.02 882.64,-500.55 891.38,-504.06\"/>\n<polygon fill=\"black\" stroke=\"black\" points=\"890.25,-507.38 900.83,-507.85 892.86,-500.88 890.25,-507.38\"/>\n</g>\n<!-- 8 -->\n<g id=\"node9\" class=\"node\">\n<title>8</title>\n<path fill=\"#3d9fe5\" stroke=\"black\" d=\"M1048.5,-485C1048.5,-485 940.5,-485 940.5,-485 934.5,-485 928.5,-479 928.5,-473 928.5,-473 928.5,-429 928.5,-429 928.5,-423 934.5,-417 940.5,-417 940.5,-417 1048.5,-417 1048.5,-417 1054.5,-417 1060.5,-423 1060.5,-429 1060.5,-429 1060.5,-473 1060.5,-473 1060.5,-479 1054.5,-485 1048.5,-485\"/>\n<text text-anchor=\"start\" x=\"959\" y=\"-469.8\" font-family=\"Helvetica,sans-Serif\" font-size=\"14.00\">gini = 0.037</text>\n<text text-anchor=\"start\" x=\"949.5\" y=\"-454.8\" font-family=\"Helvetica,sans-Serif\" font-size=\"14.00\">samples = 107</text>\n<text text-anchor=\"start\" x=\"936.5\" y=\"-439.8\" font-family=\"Helvetica,sans-Serif\" font-size=\"14.00\">value = [2.0, 105.0]</text>\n<text text-anchor=\"start\" x=\"947.5\" y=\"-424.8\" font-family=\"Helvetica,sans-Serif\" font-size=\"14.00\">class = Positive</text>\n</g>\n<!-- 4&#45;&gt;8 -->\n<g id=\"edge8\" class=\"edge\">\n<title>4&#45;&gt;8</title>\n<path fill=\"none\" stroke=\"black\" d=\"M865.18,-454.51C882.74,-454.03 900.95,-453.53 917.94,-453.07\"/>\n<polygon fill=\"black\" stroke=\"black\" points=\"918.45,-456.55 928.35,-452.78 918.26,-449.56 918.45,-456.55\"/>\n</g>\n<!-- 6 -->\n<g id=\"node7\" class=\"node\">\n<title>6</title>\n<path fill=\"#e78946\" stroke=\"black\" d=\"M1229,-622C1229,-622 1136,-622 1136,-622 1130,-622 1124,-616 1124,-610 1124,-610 1124,-566 1124,-566 1124,-560 1130,-554 1136,-554 1136,-554 1229,-554 1229,-554 1235,-554 1241,-560 1241,-566 1241,-566 1241,-610 1241,-610 1241,-616 1235,-622 1229,-622\"/>\n<text text-anchor=\"start\" x=\"1147\" y=\"-606.8\" font-family=\"Helvetica,sans-Serif\" font-size=\"14.00\">gini = 0.114</text>\n<text text-anchor=\"start\" x=\"1137.5\" y=\"-591.8\" font-family=\"Helvetica,sans-Serif\" font-size=\"14.00\">samples = 214</text>\n<text text-anchor=\"start\" x=\"1132\" y=\"-576.8\" font-family=\"Helvetica,sans-Serif\" font-size=\"14.00\">value = [201, 13]</text>\n<text text-anchor=\"start\" x=\"1132.5\" y=\"-561.8\" font-family=\"Helvetica,sans-Serif\" font-size=\"14.00\">class = Negative</text>\n</g>\n<!-- 5&#45;&gt;6 -->\n<g id=\"edge6\" class=\"edge\">\n<title>5&#45;&gt;6</title>\n<path fill=\"none\" stroke=\"black\" d=\"M1088.23,-566.44C1096.99,-568.46 1105.76,-570.49 1114.22,-572.45\"/>\n<polygon fill=\"black\" stroke=\"black\" points=\"1113.46,-575.86 1123.99,-574.7 1115.03,-569.04 1113.46,-575.86\"/>\n</g>\n<!-- 7 -->\n<g id=\"node8\" class=\"node\">\n<title>7</title>\n<path fill=\"#43a2e6\" stroke=\"black\" d=\"M1225.5,-536C1225.5,-536 1139.5,-536 1139.5,-536 1133.5,-536 1127.5,-530 1127.5,-524 1127.5,-524 1127.5,-480 1127.5,-480 1127.5,-474 1133.5,-468 1139.5,-468 1139.5,-468 1225.5,-468 1225.5,-468 1231.5,-468 1237.5,-474 1237.5,-480 1237.5,-480 1237.5,-524 1237.5,-524 1237.5,-530 1231.5,-536 1225.5,-536\"/>\n<text text-anchor=\"start\" x=\"1147\" y=\"-520.8\" font-family=\"Helvetica,sans-Serif\" font-size=\"14.00\">gini = 0.091</text>\n<text text-anchor=\"start\" x=\"1141.5\" y=\"-505.8\" font-family=\"Helvetica,sans-Serif\" font-size=\"14.00\">samples = 63</text>\n<text text-anchor=\"start\" x=\"1139.5\" y=\"-490.8\" font-family=\"Helvetica,sans-Serif\" font-size=\"14.00\">value = [3, 60]</text>\n<text text-anchor=\"start\" x=\"1135.5\" y=\"-475.8\" font-family=\"Helvetica,sans-Serif\" font-size=\"14.00\">class = Positive</text>\n</g>\n<!-- 5&#45;&gt;7 -->\n<g id=\"edge7\" class=\"edge\">\n<title>5&#45;&gt;7</title>\n<path fill=\"none\" stroke=\"black\" d=\"M1088.23,-523.56C1098.05,-521.29 1107.88,-519.02 1117.27,-516.85\"/>\n<polygon fill=\"black\" stroke=\"black\" points=\"1118.32,-520.2 1127.27,-514.54 1116.74,-513.38 1118.32,-520.2\"/>\n</g>\n<!-- 11 -->\n<g id=\"node12\" class=\"node\">\n<title>11</title>\n<path fill=\"#e89253\" stroke=\"black\" d=\"M633,-309.5C633,-309.5 470,-309.5 470,-309.5 464,-309.5 458,-303.5 458,-297.5 458,-297.5 458,-238.5 458,-238.5 458,-232.5 464,-226.5 470,-226.5 470,-226.5 633,-226.5 633,-226.5 639,-226.5 645,-232.5 645,-238.5 645,-238.5 645,-297.5 645,-297.5 645,-303.5 639,-309.5 633,-309.5\"/>\n<text text-anchor=\"start\" x=\"466\" y=\"-294.3\" font-family=\"Helvetica,sans-Serif\" font-size=\"14.00\">BehavioralProblems ≤ 0.915</text>\n<text text-anchor=\"start\" x=\"516\" y=\"-279.3\" font-family=\"Helvetica,sans-Serif\" font-size=\"14.00\">gini = 0.207</text>\n<text text-anchor=\"start\" x=\"506.5\" y=\"-264.3\" font-family=\"Helvetica,sans-Serif\" font-size=\"14.00\">samples = 723</text>\n<text text-anchor=\"start\" x=\"501\" y=\"-249.3\" font-family=\"Helvetica,sans-Serif\" font-size=\"14.00\">value = [638, 85]</text>\n<text text-anchor=\"start\" x=\"501.5\" y=\"-234.3\" font-family=\"Helvetica,sans-Serif\" font-size=\"14.00\">class = Negative</text>\n</g>\n<!-- 10&#45;&gt;11 -->\n<g id=\"edge11\" class=\"edge\">\n<title>10&#45;&gt;11</title>\n<path fill=\"none\" stroke=\"black\" d=\"M422.18,-266.25C430.65,-266.36 439.26,-266.48 447.82,-266.6\"/>\n<polygon fill=\"black\" stroke=\"black\" points=\"447.79,-270.1 457.83,-266.73 447.88,-263.1 447.79,-270.1\"/>\n</g>\n<!-- 16 -->\n<g id=\"node17\" class=\"node\">\n<title>16</title>\n<path fill=\"#baddf6\" stroke=\"black\" d=\"M602,-208.5C602,-208.5 501,-208.5 501,-208.5 495,-208.5 489,-202.5 489,-196.5 489,-196.5 489,-137.5 489,-137.5 489,-131.5 495,-125.5 501,-125.5 501,-125.5 602,-125.5 602,-125.5 608,-125.5 614,-131.5 614,-137.5 614,-137.5 614,-196.5 614,-196.5 614,-202.5 608,-208.5 602,-208.5\"/>\n<text text-anchor=\"start\" x=\"506\" y=\"-193.3\" font-family=\"Helvetica,sans-Serif\" font-size=\"14.00\">MMSE ≤ 1.081</text>\n<text text-anchor=\"start\" x=\"516\" y=\"-178.3\" font-family=\"Helvetica,sans-Serif\" font-size=\"14.00\">gini = 0.478</text>\n<text text-anchor=\"start\" x=\"506.5\" y=\"-163.3\" font-family=\"Helvetica,sans-Serif\" font-size=\"14.00\">samples = 261</text>\n<text text-anchor=\"start\" x=\"497\" y=\"-148.3\" font-family=\"Helvetica,sans-Serif\" font-size=\"14.00\">value = [103, 158]</text>\n<text text-anchor=\"start\" x=\"504.5\" y=\"-133.3\" font-family=\"Helvetica,sans-Serif\" font-size=\"14.00\">class = Positive</text>\n</g>\n<!-- 10&#45;&gt;16 -->\n<g id=\"edge16\" class=\"edge\">\n<title>10&#45;&gt;16</title>\n<path fill=\"none\" stroke=\"black\" d=\"M422.18,-224.29C441.43,-215.7 461.46,-206.75 479.81,-198.56\"/>\n<polygon fill=\"black\" stroke=\"black\" points=\"481.25,-201.75 488.96,-194.48 478.4,-195.36 481.25,-201.75\"/>\n</g>\n<!-- 12 -->\n<g id=\"node13\" class=\"node\">\n<title>12</title>\n<path fill=\"#e78946\" stroke=\"black\" d=\"M819.5,-396C819.5,-396 726.5,-396 726.5,-396 720.5,-396 714.5,-390 714.5,-384 714.5,-384 714.5,-340 714.5,-340 714.5,-334 720.5,-328 726.5,-328 726.5,-328 819.5,-328 819.5,-328 825.5,-328 831.5,-334 831.5,-340 831.5,-340 831.5,-384 831.5,-384 831.5,-390 825.5,-396 819.5,-396\"/>\n<text text-anchor=\"start\" x=\"737.5\" y=\"-380.8\" font-family=\"Helvetica,sans-Serif\" font-size=\"14.00\">gini = 0.112</text>\n<text text-anchor=\"start\" x=\"728\" y=\"-365.8\" font-family=\"Helvetica,sans-Serif\" font-size=\"14.00\">samples = 604</text>\n<text text-anchor=\"start\" x=\"722.5\" y=\"-350.8\" font-family=\"Helvetica,sans-Serif\" font-size=\"14.00\">value = [568, 36]</text>\n<text text-anchor=\"start\" x=\"723\" y=\"-335.8\" font-family=\"Helvetica,sans-Serif\" font-size=\"14.00\">class = Negative</text>\n</g>\n<!-- 11&#45;&gt;12 -->\n<g id=\"edge12\" class=\"edge\">\n<title>11&#45;&gt;12</title>\n<path fill=\"none\" stroke=\"black\" d=\"M645.27,-307.73C665.29,-316.3 686.08,-325.2 704.89,-333.26\"/>\n<polygon fill=\"black\" stroke=\"black\" points=\"703.67,-336.55 714.24,-337.27 706.43,-330.11 703.67,-336.55\"/>\n</g>\n<!-- 13 -->\n<g id=\"node14\" class=\"node\">\n<title>13</title>\n<path fill=\"#f7d9c4\" stroke=\"black\" d=\"M819,-309.5C819,-309.5 727,-309.5 727,-309.5 721,-309.5 715,-303.5 715,-297.5 715,-297.5 715,-238.5 715,-238.5 715,-232.5 721,-226.5 727,-226.5 727,-226.5 819,-226.5 819,-226.5 825,-226.5 831,-232.5 831,-238.5 831,-238.5 831,-297.5 831,-297.5 831,-303.5 825,-309.5 819,-309.5\"/>\n<text text-anchor=\"start\" x=\"735\" y=\"-294.3\" font-family=\"Helvetica,sans-Serif\" font-size=\"14.00\">ADL ≤ 0.108</text>\n<text text-anchor=\"start\" x=\"737.5\" y=\"-279.3\" font-family=\"Helvetica,sans-Serif\" font-size=\"14.00\">gini = 0.484</text>\n<text text-anchor=\"start\" x=\"728\" y=\"-264.3\" font-family=\"Helvetica,sans-Serif\" font-size=\"14.00\">samples = 119</text>\n<text text-anchor=\"start\" x=\"726\" y=\"-249.3\" font-family=\"Helvetica,sans-Serif\" font-size=\"14.00\">value = [70, 49]</text>\n<text text-anchor=\"start\" x=\"723\" y=\"-234.3\" font-family=\"Helvetica,sans-Serif\" font-size=\"14.00\">class = Negative</text>\n</g>\n<!-- 11&#45;&gt;13 -->\n<g id=\"edge13\" class=\"edge\">\n<title>11&#45;&gt;13</title>\n<path fill=\"none\" stroke=\"black\" d=\"M645.27,-268C665.21,-268 685.92,-268 704.68,-268\"/>\n<polygon fill=\"black\" stroke=\"black\" points=\"704.88,-271.5 714.88,-268 704.88,-264.5 704.88,-271.5\"/>\n</g>\n<!-- 14 -->\n<g id=\"node15\" class=\"node\">\n<title>14</title>\n<path fill=\"#79bded\" stroke=\"black\" d=\"M1037.5,-384C1037.5,-384 951.5,-384 951.5,-384 945.5,-384 939.5,-378 939.5,-372 939.5,-372 939.5,-328 939.5,-328 939.5,-322 945.5,-316 951.5,-316 951.5,-316 1037.5,-316 1037.5,-316 1043.5,-316 1049.5,-322 1049.5,-328 1049.5,-328 1049.5,-372 1049.5,-372 1049.5,-378 1043.5,-384 1037.5,-384\"/>\n<text text-anchor=\"start\" x=\"959\" y=\"-368.8\" font-family=\"Helvetica,sans-Serif\" font-size=\"14.00\">gini = 0.371</text>\n<text text-anchor=\"start\" x=\"953.5\" y=\"-353.8\" font-family=\"Helvetica,sans-Serif\" font-size=\"14.00\">samples = 57</text>\n<text text-anchor=\"start\" x=\"947.5\" y=\"-338.8\" font-family=\"Helvetica,sans-Serif\" font-size=\"14.00\">value = [14, 43]</text>\n<text text-anchor=\"start\" x=\"947.5\" y=\"-323.8\" font-family=\"Helvetica,sans-Serif\" font-size=\"14.00\">class = Positive</text>\n</g>\n<!-- 13&#45;&gt;14 -->\n<g id=\"edge14\" class=\"edge\">\n<title>13&#45;&gt;14</title>\n<path fill=\"none\" stroke=\"black\" d=\"M831.1,-289.33C861.37,-300.64 898.65,-314.57 929.86,-326.23\"/>\n<polygon fill=\"black\" stroke=\"black\" points=\"928.74,-329.54 939.33,-329.76 931.19,-322.99 928.74,-329.54\"/>\n</g>\n<!-- 15 -->\n<g id=\"node16\" class=\"node\">\n<title>15</title>\n<path fill=\"#e88e4e\" stroke=\"black\" d=\"M1040.5,-298C1040.5,-298 948.5,-298 948.5,-298 942.5,-298 936.5,-292 936.5,-286 936.5,-286 936.5,-242 936.5,-242 936.5,-236 942.5,-230 948.5,-230 948.5,-230 1040.5,-230 1040.5,-230 1046.5,-230 1052.5,-236 1052.5,-242 1052.5,-242 1052.5,-286 1052.5,-286 1052.5,-292 1046.5,-298 1040.5,-298\"/>\n<text text-anchor=\"start\" x=\"959\" y=\"-282.8\" font-family=\"Helvetica,sans-Serif\" font-size=\"14.00\">gini = 0.175</text>\n<text text-anchor=\"start\" x=\"953.5\" y=\"-267.8\" font-family=\"Helvetica,sans-Serif\" font-size=\"14.00\">samples = 62</text>\n<text text-anchor=\"start\" x=\"951.5\" y=\"-252.8\" font-family=\"Helvetica,sans-Serif\" font-size=\"14.00\">value = [56, 6]</text>\n<text text-anchor=\"start\" x=\"944.5\" y=\"-237.8\" font-family=\"Helvetica,sans-Serif\" font-size=\"14.00\">class = Negative</text>\n</g>\n<!-- 13&#45;&gt;15 -->\n<g id=\"edge15\" class=\"edge\">\n<title>13&#45;&gt;15</title>\n<path fill=\"none\" stroke=\"black\" d=\"M831.1,-266.96C860.2,-266.43 895.77,-265.78 926.2,-265.23\"/>\n<polygon fill=\"black\" stroke=\"black\" points=\"926.37,-268.72 936.31,-265.04 926.24,-261.73 926.37,-268.72\"/>\n</g>\n<!-- 17 -->\n<g id=\"node18\" class=\"node\">\n<title>17</title>\n<path fill=\"#86c3ef\" stroke=\"black\" d=\"M819.5,-208.5C819.5,-208.5 726.5,-208.5 726.5,-208.5 720.5,-208.5 714.5,-202.5 714.5,-196.5 714.5,-196.5 714.5,-137.5 714.5,-137.5 714.5,-131.5 720.5,-125.5 726.5,-125.5 726.5,-125.5 819.5,-125.5 819.5,-125.5 825.5,-125.5 831.5,-131.5 831.5,-137.5 831.5,-137.5 831.5,-196.5 831.5,-196.5 831.5,-202.5 825.5,-208.5 819.5,-208.5\"/>\n<text text-anchor=\"start\" x=\"735\" y=\"-193.3\" font-family=\"Helvetica,sans-Serif\" font-size=\"14.00\">ADL ≤ 0.092</text>\n<text text-anchor=\"start\" x=\"737.5\" y=\"-178.3\" font-family=\"Helvetica,sans-Serif\" font-size=\"14.00\">gini = 0.403</text>\n<text text-anchor=\"start\" x=\"728\" y=\"-163.3\" font-family=\"Helvetica,sans-Serif\" font-size=\"14.00\">samples = 218</text>\n<text text-anchor=\"start\" x=\"722.5\" y=\"-148.3\" font-family=\"Helvetica,sans-Serif\" font-size=\"14.00\">value = [61, 157]</text>\n<text text-anchor=\"start\" x=\"726\" y=\"-133.3\" font-family=\"Helvetica,sans-Serif\" font-size=\"14.00\">class = Positive</text>\n</g>\n<!-- 16&#45;&gt;17 -->\n<g id=\"edge17\" class=\"edge\">\n<title>16&#45;&gt;17</title>\n<path fill=\"none\" stroke=\"black\" d=\"M614.23,-167C642.23,-167 675.44,-167 704.14,-167\"/>\n<polygon fill=\"black\" stroke=\"black\" points=\"704.5,-170.5 714.5,-167 704.5,-163.5 704.5,-170.5\"/>\n</g>\n<!-- 22 -->\n<g id=\"node23\" class=\"node\">\n<title>22</title>\n<path fill=\"#e6843e\" stroke=\"black\" d=\"M819,-107C819,-107 727,-107 727,-107 721,-107 715,-101 715,-95 715,-95 715,-51 715,-51 715,-45 721,-39 727,-39 727,-39 819,-39 819,-39 825,-39 831,-45 831,-51 831,-51 831,-95 831,-95 831,-101 825,-107 819,-107\"/>\n<text text-anchor=\"start\" x=\"737.5\" y=\"-91.8\" font-family=\"Helvetica,sans-Serif\" font-size=\"14.00\">gini = 0.045</text>\n<text text-anchor=\"start\" x=\"732\" y=\"-76.8\" font-family=\"Helvetica,sans-Serif\" font-size=\"14.00\">samples = 43</text>\n<text text-anchor=\"start\" x=\"730\" y=\"-61.8\" font-family=\"Helvetica,sans-Serif\" font-size=\"14.00\">value = [42, 1]</text>\n<text text-anchor=\"start\" x=\"723\" y=\"-46.8\" font-family=\"Helvetica,sans-Serif\" font-size=\"14.00\">class = Negative</text>\n</g>\n<!-- 16&#45;&gt;22 -->\n<g id=\"edge22\" class=\"edge\">\n<title>16&#45;&gt;22</title>\n<path fill=\"none\" stroke=\"black\" d=\"M614.23,-140.57C642.72,-128.36 676.59,-113.86 705.63,-101.42\"/>\n<polygon fill=\"black\" stroke=\"black\" points=\"707.06,-104.62 714.87,-97.46 704.3,-98.18 707.06,-104.62\"/>\n</g>\n<!-- 18 -->\n<g id=\"node19\" class=\"node\">\n<title>18</title>\n<path fill=\"#43a2e6\" stroke=\"black\" d=\"M1037.5,-205C1037.5,-205 951.5,-205 951.5,-205 945.5,-205 939.5,-199 939.5,-193 939.5,-193 939.5,-149 939.5,-149 939.5,-143 945.5,-137 951.5,-137 951.5,-137 1037.5,-137 1037.5,-137 1043.5,-137 1049.5,-143 1049.5,-149 1049.5,-149 1049.5,-193 1049.5,-193 1049.5,-199 1043.5,-205 1037.5,-205\"/>\n<text text-anchor=\"start\" x=\"962.5\" y=\"-189.8\" font-family=\"Helvetica,sans-Serif\" font-size=\"14.00\">gini = 0.09</text>\n<text text-anchor=\"start\" x=\"949.5\" y=\"-174.8\" font-family=\"Helvetica,sans-Serif\" font-size=\"14.00\">samples = 127</text>\n<text text-anchor=\"start\" x=\"947.5\" y=\"-159.8\" font-family=\"Helvetica,sans-Serif\" font-size=\"14.00\">value = [6, 121]</text>\n<text text-anchor=\"start\" x=\"947.5\" y=\"-144.8\" font-family=\"Helvetica,sans-Serif\" font-size=\"14.00\">class = Positive</text>\n</g>\n<!-- 17&#45;&gt;18 -->\n<g id=\"edge18\" class=\"edge\">\n<title>17&#45;&gt;18</title>\n<path fill=\"none\" stroke=\"black\" d=\"M831.67,-168.05C861.57,-168.6 898.18,-169.26 929.02,-169.82\"/>\n<polygon fill=\"black\" stroke=\"black\" points=\"929.17,-173.33 939.23,-170.01 929.3,-166.33 929.17,-173.33\"/>\n</g>\n<!-- 19 -->\n<g id=\"node20\" class=\"node\">\n<title>19</title>\n<path fill=\"#f6d3bb\" stroke=\"black\" d=\"M1076,-118.5C1076,-118.5 913,-118.5 913,-118.5 907,-118.5 901,-112.5 901,-106.5 901,-106.5 901,-47.5 901,-47.5 901,-41.5 907,-35.5 913,-35.5 913,-35.5 1076,-35.5 1076,-35.5 1082,-35.5 1088,-41.5 1088,-47.5 1088,-47.5 1088,-106.5 1088,-106.5 1088,-112.5 1082,-118.5 1076,-118.5\"/>\n<text text-anchor=\"start\" x=\"909\" y=\"-103.3\" font-family=\"Helvetica,sans-Serif\" font-size=\"14.00\">BehavioralProblems ≤ 0.915</text>\n<text text-anchor=\"start\" x=\"959\" y=\"-88.3\" font-family=\"Helvetica,sans-Serif\" font-size=\"14.00\">gini = 0.478</text>\n<text text-anchor=\"start\" x=\"953.5\" y=\"-73.3\" font-family=\"Helvetica,sans-Serif\" font-size=\"14.00\">samples = 91</text>\n<text text-anchor=\"start\" x=\"947.5\" y=\"-58.3\" font-family=\"Helvetica,sans-Serif\" font-size=\"14.00\">value = [55, 36]</text>\n<text text-anchor=\"start\" x=\"944.5\" y=\"-43.3\" font-family=\"Helvetica,sans-Serif\" font-size=\"14.00\">class = Negative</text>\n</g>\n<!-- 17&#45;&gt;19 -->\n<g id=\"edge19\" class=\"edge\">\n<title>17&#45;&gt;19</title>\n<path fill=\"none\" stroke=\"black\" d=\"M831.67,-143.35C850.07,-135.81 871,-127.23 891.57,-118.79\"/>\n<polygon fill=\"black\" stroke=\"black\" points=\"893.06,-121.97 900.98,-114.93 890.4,-115.49 893.06,-121.97\"/>\n</g>\n<!-- 20 -->\n<g id=\"node21\" class=\"node\">\n<title>20</title>\n<path fill=\"#e78c4b\" stroke=\"black\" d=\"M1228.5,-154C1228.5,-154 1136.5,-154 1136.5,-154 1130.5,-154 1124.5,-148 1124.5,-142 1124.5,-142 1124.5,-98 1124.5,-98 1124.5,-92 1130.5,-86 1136.5,-86 1136.5,-86 1228.5,-86 1228.5,-86 1234.5,-86 1240.5,-92 1240.5,-98 1240.5,-98 1240.5,-142 1240.5,-142 1240.5,-148 1234.5,-154 1228.5,-154\"/>\n<text text-anchor=\"start\" x=\"1147\" y=\"-138.8\" font-family=\"Helvetica,sans-Serif\" font-size=\"14.00\">gini = 0.153</text>\n<text text-anchor=\"start\" x=\"1141.5\" y=\"-123.8\" font-family=\"Helvetica,sans-Serif\" font-size=\"14.00\">samples = 60</text>\n<text text-anchor=\"start\" x=\"1139.5\" y=\"-108.8\" font-family=\"Helvetica,sans-Serif\" font-size=\"14.00\">value = [55, 5]</text>\n<text text-anchor=\"start\" x=\"1132.5\" y=\"-93.8\" font-family=\"Helvetica,sans-Serif\" font-size=\"14.00\">class = Negative</text>\n</g>\n<!-- 19&#45;&gt;20 -->\n<g id=\"edge20\" class=\"edge\">\n<title>19&#45;&gt;20</title>\n<path fill=\"none\" stroke=\"black\" d=\"M1088.23,-98.44C1097.12,-100.49 1106.02,-102.55 1114.6,-104.53\"/>\n<polygon fill=\"black\" stroke=\"black\" points=\"1113.97,-107.98 1124.5,-106.82 1115.54,-101.16 1113.97,-107.98\"/>\n</g>\n<!-- 21 -->\n<g id=\"node22\" class=\"node\">\n<title>21</title>\n<path fill=\"#399de5\" stroke=\"black\" d=\"M1225.5,-68C1225.5,-68 1139.5,-68 1139.5,-68 1133.5,-68 1127.5,-62 1127.5,-56 1127.5,-56 1127.5,-12 1127.5,-12 1127.5,-6 1133.5,0 1139.5,0 1139.5,0 1225.5,0 1225.5,0 1231.5,0 1237.5,-6 1237.5,-12 1237.5,-12 1237.5,-56 1237.5,-56 1237.5,-62 1231.5,-68 1225.5,-68\"/>\n<text text-anchor=\"start\" x=\"1154.5\" y=\"-52.8\" font-family=\"Helvetica,sans-Serif\" font-size=\"14.00\">gini = 0.0</text>\n<text text-anchor=\"start\" x=\"1141.5\" y=\"-37.8\" font-family=\"Helvetica,sans-Serif\" font-size=\"14.00\">samples = 31</text>\n<text text-anchor=\"start\" x=\"1139.5\" y=\"-22.8\" font-family=\"Helvetica,sans-Serif\" font-size=\"14.00\">value = [0, 31]</text>\n<text text-anchor=\"start\" x=\"1135.5\" y=\"-7.8\" font-family=\"Helvetica,sans-Serif\" font-size=\"14.00\">class = Positive</text>\n</g>\n<!-- 19&#45;&gt;21 -->\n<g id=\"edge21\" class=\"edge\">\n<title>19&#45;&gt;21</title>\n<path fill=\"none\" stroke=\"black\" d=\"M1088.23,-55.56C1098.05,-53.29 1107.88,-51.02 1117.27,-48.85\"/>\n<polygon fill=\"black\" stroke=\"black\" points=\"1118.32,-52.2 1127.27,-46.54 1116.74,-45.38 1118.32,-52.2\"/>\n</g>\n</g>\n</svg>\n",
            "text/plain": [
              "<graphviz.sources.Source at 0x7ed5842f9950>"
            ]
          },
          "metadata": {},
          "execution_count": 254
        }
      ]
    },
    {
      "cell_type": "code",
      "source": [
        "# Plotting the Decision Tree diagram\n",
        "# from sklearn.tree import plot_tree\n",
        "# plt.figure(figsize=(4,4))\n",
        "# plot_tree(DT, filled=True, feature_names=selected_feature_names, class_names='Diagnosis')\n",
        "# plt.show()"
      ],
      "metadata": {
        "id": "iJxy4CbsCfFR"
      },
      "execution_count": 255,
      "outputs": []
    },
    {
      "cell_type": "markdown",
      "source": [
        "# Random Forest Classifier"
      ],
      "metadata": {
        "id": "qfmm4IwY1lvl"
      }
    },
    {
      "cell_type": "code",
      "source": [
        "#RandomForestClassifier\n",
        "from sklearn.ensemble import RandomForestClassifier\n",
        "# Create a Random Forest classifier with max_features set to 0.5\n",
        "RFC = RandomForestClassifier(n_estimators=100, max_depth=7, criterion='gini', max_features=1.0, random_state=42)\n",
        "RFC.fit(x_train, y_train)\n",
        "y_pred_train = RFC.predict(x_train)\n",
        "y_pred_test  = RFC.predict(x_test)\n",
        "calculate_confusion(\"RFC\",y_train, y_pred_train, y_test, y_pred_test)\n",
        "fpr7, tpr7, _ = metrics.roc_curve(y_test, y_pred_test)\n",
        "auc = round(metrics.roc_auc_score(y_test, y_pred_test), 4)\n",
        "cv_results = cross_val_score(RFC, x_test, y_test)\n",
        "results.append(cv_results)"
      ],
      "metadata": {
        "id": "R3C9uzf7hY5e",
        "outputId": "92e67f44-7f90-499f-a2e4-4afd3fcc1884",
        "colab": {
          "base_uri": "https://localhost:8080/",
          "height": 322
        }
      },
      "execution_count": 256,
      "outputs": [
        {
          "output_type": "display_data",
          "data": {
            "text/plain": [
              "<Figure size 600x200 with 4 Axes>"
            ],
            "image/png": "[encoded data removed]"
          },
          "metadata": {}
        },
        {
          "output_type": "stream",
          "name": "stdout",
          "text": [
            "-----Results for RFC ----------------------\n",
            "  Train Accuracy    Train Precision    Train Recall    Train F1    Test Accuracy    Test Precision    Test Recall    Test F1\n",
            "----------------  -----------------  --------------  ----------  ---------------  ----------------  -------------  ---------\n",
            "        0.969397           0.977022        0.961121    0.969006         0.931655          0.948718       0.915194   0.931655\n"
          ]
        }
      ]
    },
    {
      "cell_type": "code",
      "source": [
        "# Compute False postive rate, and True positive rate\n",
        "fpr7, tpr7, thresholds7 = metrics.roc_curve(y_train, RFC.predict_proba(x_train)[:,1])\n",
        "# Calculate Area under the curve to display on the plot\n",
        "auc7 = metrics.roc_auc_score(y_train,y_pred_train)"
      ],
      "metadata": {
        "id": "5lptiiD5FSzL"
      },
      "execution_count": 257,
      "outputs": []
    },
    {
      "cell_type": "code",
      "source": [
        "# Create a Random Forest classifier object\n",
        "RFC= RandomForestClassifier(n_estimators=10, ccp_alpha=0.01)\n",
        "\n",
        "# Train the model on the data\n",
        "RFC.fit(X, y)\n",
        "\n",
        "# Print the trained decision trees\n",
        "for i, tree in enumerate(RFC.estimators_):\n",
        "    print(f\"Tree {i}:\")\n",
        "    print(tree.tree_.max_depth)  # print the depth of each tree"
      ],
      "metadata": {
        "id": "hoDJCrJ4KUZT",
        "outputId": "3d167661-9d67-40a0-9654-6c8cd014f122",
        "colab": {
          "base_uri": "https://localhost:8080/"
        }
      },
      "execution_count": 258,
      "outputs": [
        {
          "output_type": "stream",
          "name": "stdout",
          "text": [
            "Tree 0:\n",
            "4\n",
            "Tree 1:\n",
            "7\n",
            "Tree 2:\n",
            "13\n",
            "Tree 3:\n",
            "7\n",
            "Tree 4:\n",
            "7\n",
            "Tree 5:\n",
            "5\n",
            "Tree 6:\n",
            "10\n",
            "Tree 7:\n",
            "5\n",
            "Tree 8:\n",
            "4\n",
            "Tree 9:\n",
            "7\n"
          ]
        }
      ]
    },
    {
      "cell_type": "code",
      "source": [
        "# from sklearn.ensemble import RandomForestClassifier\n",
        "# from sklearn.tree import plot_tree\n",
        "# import matplotlib.pyplot as plt\n",
        "\n",
        "# # Assuming you have trained your RandomForestClassifier and named it RFC\n",
        "# # Make sure to replace RFC with your actual RandomForestClassifier instance\n",
        "\n",
        "# # Check if the RFC has been fitted and contains estimators\n",
        "# if hasattr(RFC, 'estimators_') and len(RFC.estimators_) > 0:\n",
        "#     # Choose the best tree from the forest based on mean decrease impurity\n",
        "#     best_tree_index = RFC.feature_importances_.argmax()\n",
        "\n",
        "#     # Verify that the best_tree_index is within valid range\n",
        "#     if 0 <= best_tree_index < len(RFC.estimators_):\n",
        "#         # Plot the best tree in the forest\n",
        "#         fig, ax = plt.subplots(figsize=(10, 10))\n",
        "#         plot_tree(RFC.estimators_[best_tree_index], ax=ax)\n",
        "#         plt.show()\n",
        "#     else:\n",
        "#         print(\"Invalid best_tree_index.\")\n",
        "# else:\n",
        "#     print(\"RandomForestClassifier not properly fitted.\")\n"
      ],
      "metadata": {
        "id": "wZMDfm8RWzI6"
      },
      "execution_count": 259,
      "outputs": []
    },
    {
      "cell_type": "code",
      "source": [
        "print(selected_feature_names)"
      ],
      "metadata": {
        "id": "wgreOIqyK6rc",
        "outputId": "e27c0843-2ac2-4af0-9dfd-fecd67d071ef",
        "colab": {
          "base_uri": "https://localhost:8080/"
        }
      },
      "execution_count": 260,
      "outputs": [
        {
          "output_type": "stream",
          "name": "stdout",
          "text": [
            "Index(['MMSE', 'FunctionalAssessment', 'MemoryComplaints',\n",
            "       'BehavioralProblems', 'ADL'],\n",
            "      dtype='object')\n"
          ]
        }
      ]
    },
    {
      "cell_type": "code",
      "source": [
        "from sklearn.ensemble import RandomForestClassifier\n",
        "from sklearn.model_selection import train_test_split\n",
        "from sklearn.tree import export_graphviz\n",
        "import graphviz\n",
        "import pandas as pd\n",
        "\n",
        "# Assume df is your original DataFrame and 'Diagnosis' is the target\n",
        "X = df.drop('Diagnosis', axis=1)\n",
        "Y = df['Diagnosis']\n",
        "\n",
        "# Split the data\n",
        "X_train, X_test, Y_train, Y_test = train_test_split(X, Y, test_size=0.25, random_state=42)\n",
        "\n",
        "# Train the Random Forest model\n",
        "RFC = RandomForestClassifier(n_estimators=100, max_depth=7, criterion='gini',\n",
        "                             max_features=1.0, random_state=42, ccp_alpha=0.01)\n",
        "RFC.fit(X_train, Y_train)\n",
        "\n",
        "# Export the first decision tree from the Random Forest\n",
        "dot_data = export_graphviz(RFC.estimators_[0],\n",
        "                           out_file=None,\n",
        "                           feature_names=X_train.columns,\n",
        "                           class_names=['Negative', 'Positive'],\n",
        "                           filled=True,\n",
        "                           rounded=True,\n",
        "                           special_characters=True)\n",
        "\n",
        "# Generate and render the graph\n",
        "graph = graphviz.Source(dot_data)\n",
        "graph.format = 'png'\n",
        "graph.render('random_forest_tree', view=False)  # Saves as random_forest_tree.png\n",
        "\n",
        "# Display the graph (inline in notebooks or GUIs that support it)\n",
        "graph\n"
      ],
      "metadata": {
        "id": "2XrkGb9sKxou",
        "outputId": "691adf33-d127-4ba9-85a3-bece9b21c592",
        "colab": {
          "base_uri": "https://localhost:8080/",
          "height": 916
        }
      },
      "execution_count": 261,
      "outputs": [
        {
          "output_type": "execute_result",
          "data": {
            "image/svg+xml": "<?xml version=\"1.0\" encoding=\"UTF-8\" standalone=\"no\"?>\n<!DOCTYPE svg PUBLIC \"-//W3C//DTD SVG 1.1//EN\"\n \"http://www.w3.org/Graphics/SVG/1.1/DTD/svg11.dtd\">\n<!-- Generated by graphviz version 2.43.0 (0)\n -->\n<!-- Title: Tree Pages: 1 -->\n<svg width=\"1022pt\" height=\"671pt\"\n viewBox=\"0.00 0.00 1021.50 671.00\" xmlns=\"http://www.w3.org/2000/svg\" xmlns:xlink=\"http://www.w3.org/1999/xlink\">\n<g id=\"graph0\" class=\"graph\" transform=\"scale(1 1) rotate(0) translate(4 667)\">\n<title>Tree</title>\n<polygon fill=\"white\" stroke=\"transparent\" points=\"-4,4 -4,-667 1017.5,-667 1017.5,4 -4,4\"/>\n<!-- 0 -->\n<g id=\"node1\" class=\"node\">\n<title>0</title>\n<path fill=\"#fefcfa\" stroke=\"black\" d=\"M609.5,-663C609.5,-663 431.5,-663 431.5,-663 425.5,-663 419.5,-657 419.5,-651 419.5,-651 419.5,-592 419.5,-592 419.5,-586 425.5,-580 431.5,-580 431.5,-580 609.5,-580 609.5,-580 615.5,-580 621.5,-586 621.5,-592 621.5,-592 621.5,-651 621.5,-651 621.5,-657 615.5,-663 609.5,-663\"/>\n<text text-anchor=\"start\" x=\"427.5\" y=\"-647.8\" font-family=\"Helvetica,sans-Serif\" font-size=\"14.00\">FunctionalAssessment ≤ 4.967</text>\n<text text-anchor=\"start\" x=\"492.5\" y=\"-632.8\" font-family=\"Helvetica,sans-Serif\" font-size=\"14.00\">gini = 0.5</text>\n<text text-anchor=\"start\" x=\"472\" y=\"-617.8\" font-family=\"Helvetica,sans-Serif\" font-size=\"14.00\">samples = 1337</text>\n<text text-anchor=\"start\" x=\"458.5\" y=\"-602.8\" font-family=\"Helvetica,sans-Serif\" font-size=\"14.00\">value = [1056, 1027]</text>\n<text text-anchor=\"start\" x=\"470.5\" y=\"-587.8\" font-family=\"Helvetica,sans-Serif\" font-size=\"14.00\">class = Negative</text>\n</g>\n<!-- 1 -->\n<g id=\"node2\" class=\"node\">\n<title>1</title>\n<path fill=\"#90c8f0\" stroke=\"black\" d=\"M473,-544C473,-544 372,-544 372,-544 366,-544 360,-538 360,-532 360,-532 360,-473 360,-473 360,-467 366,-461 372,-461 372,-461 473,-461 473,-461 479,-461 485,-467 485,-473 485,-473 485,-532 485,-532 485,-538 479,-544 473,-544\"/>\n<text text-anchor=\"start\" x=\"373\" y=\"-528.8\" font-family=\"Helvetica,sans-Serif\" font-size=\"14.00\">MMSE ≤ 24.014</text>\n<text text-anchor=\"start\" x=\"387\" y=\"-513.8\" font-family=\"Helvetica,sans-Serif\" font-size=\"14.00\">gini = 0.425</text>\n<text text-anchor=\"start\" x=\"377.5\" y=\"-498.8\" font-family=\"Helvetica,sans-Serif\" font-size=\"14.00\">samples = 742</text>\n<text text-anchor=\"start\" x=\"368\" y=\"-483.8\" font-family=\"Helvetica,sans-Serif\" font-size=\"14.00\">value = [352, 798]</text>\n<text text-anchor=\"start\" x=\"375.5\" y=\"-468.8\" font-family=\"Helvetica,sans-Serif\" font-size=\"14.00\">class = Positive</text>\n</g>\n<!-- 0&#45;&gt;1 -->\n<g id=\"edge1\" class=\"edge\">\n<title>0&#45;&gt;1</title>\n<path fill=\"none\" stroke=\"black\" d=\"M486.5,-579.91C478.9,-570.83 470.76,-561.12 462.93,-551.77\"/>\n<polygon fill=\"black\" stroke=\"black\" points=\"465.54,-549.44 456.44,-544.02 460.18,-553.93 465.54,-549.44\"/>\n<text text-anchor=\"middle\" x=\"454.24\" y=\"-565.22\" font-family=\"Helvetica,sans-Serif\" font-size=\"14.00\">True</text>\n</g>\n<!-- 10 -->\n<g id=\"node11\" class=\"node\">\n<title>10</title>\n<path fill=\"#edaa79\" stroke=\"black\" d=\"M668,-544C668,-544 523,-544 523,-544 517,-544 511,-538 511,-532 511,-532 511,-473 511,-473 511,-467 517,-461 523,-461 523,-461 668,-461 668,-461 674,-461 680,-467 680,-473 680,-473 680,-532 680,-532 680,-538 674,-544 668,-544\"/>\n<text text-anchor=\"start\" x=\"519\" y=\"-528.8\" font-family=\"Helvetica,sans-Serif\" font-size=\"14.00\">MemoryComplaints ≤ 0.5</text>\n<text text-anchor=\"start\" x=\"563.5\" y=\"-513.8\" font-family=\"Helvetica,sans-Serif\" font-size=\"14.00\">gini = 0.37</text>\n<text text-anchor=\"start\" x=\"550.5\" y=\"-498.8\" font-family=\"Helvetica,sans-Serif\" font-size=\"14.00\">samples = 595</text>\n<text text-anchor=\"start\" x=\"541\" y=\"-483.8\" font-family=\"Helvetica,sans-Serif\" font-size=\"14.00\">value = [704, 229]</text>\n<text text-anchor=\"start\" x=\"545.5\" y=\"-468.8\" font-family=\"Helvetica,sans-Serif\" font-size=\"14.00\">class = Negative</text>\n</g>\n<!-- 0&#45;&gt;10 -->\n<g id=\"edge10\" class=\"edge\">\n<title>0&#45;&gt;10</title>\n<path fill=\"none\" stroke=\"black\" d=\"M546.52,-579.91C552.16,-571.1 558.19,-561.7 564.02,-552.61\"/>\n<polygon fill=\"black\" stroke=\"black\" points=\"567.07,-554.33 569.53,-544.02 561.18,-550.55 567.07,-554.33\"/>\n<text text-anchor=\"middle\" x=\"574.87\" y=\"-564.74\" font-family=\"Helvetica,sans-Serif\" font-size=\"14.00\">False</text>\n</g>\n<!-- 2 -->\n<g id=\"node3\" class=\"node\">\n<title>2</title>\n<path fill=\"#6db7ec\" stroke=\"black\" d=\"M319,-425C319,-425 218,-425 218,-425 212,-425 206,-419 206,-413 206,-413 206,-354 206,-354 206,-348 212,-342 218,-342 218,-342 319,-342 319,-342 325,-342 331,-348 331,-354 331,-354 331,-413 331,-413 331,-419 325,-425 319,-425\"/>\n<text text-anchor=\"start\" x=\"230.5\" y=\"-409.8\" font-family=\"Helvetica,sans-Serif\" font-size=\"14.00\">ADL ≤ 5.608</text>\n<text text-anchor=\"start\" x=\"233\" y=\"-394.8\" font-family=\"Helvetica,sans-Serif\" font-size=\"14.00\">gini = 0.331</text>\n<text text-anchor=\"start\" x=\"223.5\" y=\"-379.8\" font-family=\"Helvetica,sans-Serif\" font-size=\"14.00\">samples = 642</text>\n<text text-anchor=\"start\" x=\"214\" y=\"-364.8\" font-family=\"Helvetica,sans-Serif\" font-size=\"14.00\">value = [208, 787]</text>\n<text text-anchor=\"start\" x=\"221.5\" y=\"-349.8\" font-family=\"Helvetica,sans-Serif\" font-size=\"14.00\">class = Positive</text>\n</g>\n<!-- 1&#45;&gt;2 -->\n<g id=\"edge2\" class=\"edge\">\n<title>1&#45;&gt;2</title>\n<path fill=\"none\" stroke=\"black\" d=\"M369.07,-460.91C356.41,-451.29 342.81,-440.95 329.82,-431.09\"/>\n<polygon fill=\"black\" stroke=\"black\" points=\"331.92,-428.28 321.84,-425.02 327.68,-433.86 331.92,-428.28\"/>\n</g>\n<!-- 9 -->\n<g id=\"node10\" class=\"node\">\n<title>9</title>\n<path fill=\"#e78b48\" stroke=\"black\" d=\"M469,-417.5C469,-417.5 376,-417.5 376,-417.5 370,-417.5 364,-411.5 364,-405.5 364,-405.5 364,-361.5 364,-361.5 364,-355.5 370,-349.5 376,-349.5 376,-349.5 469,-349.5 469,-349.5 475,-349.5 481,-355.5 481,-361.5 481,-361.5 481,-405.5 481,-405.5 481,-411.5 475,-417.5 469,-417.5\"/>\n<text text-anchor=\"start\" x=\"387\" y=\"-402.3\" font-family=\"Helvetica,sans-Serif\" font-size=\"14.00\">gini = 0.132</text>\n<text text-anchor=\"start\" x=\"377.5\" y=\"-387.3\" font-family=\"Helvetica,sans-Serif\" font-size=\"14.00\">samples = 100</text>\n<text text-anchor=\"start\" x=\"372\" y=\"-372.3\" font-family=\"Helvetica,sans-Serif\" font-size=\"14.00\">value = [144, 11]</text>\n<text text-anchor=\"start\" x=\"372.5\" y=\"-357.3\" font-family=\"Helvetica,sans-Serif\" font-size=\"14.00\">class = Negative</text>\n</g>\n<!-- 1&#45;&gt;9 -->\n<g id=\"edge9\" class=\"edge\">\n<title>1&#45;&gt;9</title>\n<path fill=\"none\" stroke=\"black\" d=\"M422.5,-460.91C422.5,-450.2 422.5,-438.62 422.5,-427.78\"/>\n<polygon fill=\"black\" stroke=\"black\" points=\"426,-427.67 422.5,-417.67 419,-427.67 426,-427.67\"/>\n</g>\n<!-- 3 -->\n<g id=\"node4\" class=\"node\">\n<title>3</title>\n<path fill=\"#3fa0e6\" stroke=\"black\" d=\"M154,-298.5C154,-298.5 61,-298.5 61,-298.5 55,-298.5 49,-292.5 49,-286.5 49,-286.5 49,-242.5 49,-242.5 49,-236.5 55,-230.5 61,-230.5 61,-230.5 154,-230.5 154,-230.5 160,-230.5 166,-236.5 166,-242.5 166,-242.5 166,-286.5 166,-286.5 166,-292.5 160,-298.5 154,-298.5\"/>\n<text text-anchor=\"start\" x=\"72\" y=\"-283.3\" font-family=\"Helvetica,sans-Serif\" font-size=\"14.00\">gini = 0.053</text>\n<text text-anchor=\"start\" x=\"62.5\" y=\"-268.3\" font-family=\"Helvetica,sans-Serif\" font-size=\"14.00\">samples = 432</text>\n<text text-anchor=\"start\" x=\"57\" y=\"-253.3\" font-family=\"Helvetica,sans-Serif\" font-size=\"14.00\">value = [18, 643]</text>\n<text text-anchor=\"start\" x=\"60.5\" y=\"-238.3\" font-family=\"Helvetica,sans-Serif\" font-size=\"14.00\">class = Positive</text>\n</g>\n<!-- 2&#45;&gt;3 -->\n<g id=\"edge3\" class=\"edge\">\n<title>2&#45;&gt;3</title>\n<path fill=\"none\" stroke=\"black\" d=\"M212.64,-341.91C196.09,-329.88 178,-316.73 161.57,-304.79\"/>\n<polygon fill=\"black\" stroke=\"black\" points=\"163.29,-301.71 153.14,-298.67 159.17,-307.38 163.29,-301.71\"/>\n</g>\n<!-- 4 -->\n<g id=\"node5\" class=\"node\">\n<title>4</title>\n<path fill=\"#f9e0cf\" stroke=\"black\" d=\"M341,-306C341,-306 196,-306 196,-306 190,-306 184,-300 184,-294 184,-294 184,-235 184,-235 184,-229 190,-223 196,-223 196,-223 341,-223 341,-223 347,-223 353,-229 353,-235 353,-235 353,-294 353,-294 353,-300 347,-306 341,-306\"/>\n<text text-anchor=\"start\" x=\"192\" y=\"-290.8\" font-family=\"Helvetica,sans-Serif\" font-size=\"14.00\">MemoryComplaints ≤ 0.5</text>\n<text text-anchor=\"start\" x=\"233\" y=\"-275.8\" font-family=\"Helvetica,sans-Serif\" font-size=\"14.00\">gini = 0.491</text>\n<text text-anchor=\"start\" x=\"223.5\" y=\"-260.8\" font-family=\"Helvetica,sans-Serif\" font-size=\"14.00\">samples = 210</text>\n<text text-anchor=\"start\" x=\"203\" y=\"-245.8\" font-family=\"Helvetica,sans-Serif\" font-size=\"14.00\">value = [190.0, 144.0]</text>\n<text text-anchor=\"start\" x=\"218.5\" y=\"-230.8\" font-family=\"Helvetica,sans-Serif\" font-size=\"14.00\">class = Negative</text>\n</g>\n<!-- 2&#45;&gt;4 -->\n<g id=\"edge4\" class=\"edge\">\n<title>2&#45;&gt;4</title>\n<path fill=\"none\" stroke=\"black\" d=\"M268.5,-341.91C268.5,-333.65 268.5,-324.86 268.5,-316.3\"/>\n<polygon fill=\"black\" stroke=\"black\" points=\"272,-316.02 268.5,-306.02 265,-316.02 272,-316.02\"/>\n</g>\n<!-- 5 -->\n<g id=\"node6\" class=\"node\">\n<title>5</title>\n<path fill=\"#eeab7b\" stroke=\"black\" d=\"M198.5,-187C198.5,-187 50.5,-187 50.5,-187 44.5,-187 38.5,-181 38.5,-175 38.5,-175 38.5,-116 38.5,-116 38.5,-110 44.5,-104 50.5,-104 50.5,-104 198.5,-104 198.5,-104 204.5,-104 210.5,-110 210.5,-116 210.5,-116 210.5,-175 210.5,-175 210.5,-181 204.5,-187 198.5,-187\"/>\n<text text-anchor=\"start\" x=\"46.5\" y=\"-171.8\" font-family=\"Helvetica,sans-Serif\" font-size=\"14.00\">BehavioralProblems ≤ 0.5</text>\n<text text-anchor=\"start\" x=\"89\" y=\"-156.8\" font-family=\"Helvetica,sans-Serif\" font-size=\"14.00\">gini = 0.376</text>\n<text text-anchor=\"start\" x=\"79.5\" y=\"-141.8\" font-family=\"Helvetica,sans-Serif\" font-size=\"14.00\">samples = 153</text>\n<text text-anchor=\"start\" x=\"74\" y=\"-126.8\" font-family=\"Helvetica,sans-Serif\" font-size=\"14.00\">value = [188, 63]</text>\n<text text-anchor=\"start\" x=\"74.5\" y=\"-111.8\" font-family=\"Helvetica,sans-Serif\" font-size=\"14.00\">class = Negative</text>\n</g>\n<!-- 4&#45;&gt;5 -->\n<g id=\"edge5\" class=\"edge\">\n<title>4&#45;&gt;5</title>\n<path fill=\"none\" stroke=\"black\" d=\"M218.54,-222.91C206.81,-213.38 194.22,-203.15 182.19,-193.37\"/>\n<polygon fill=\"black\" stroke=\"black\" points=\"184.34,-190.61 174.37,-187.02 179.93,-196.04 184.34,-190.61\"/>\n</g>\n<!-- 8 -->\n<g id=\"node9\" class=\"node\">\n<title>8</title>\n<path fill=\"#3e9fe6\" stroke=\"black\" d=\"M326.5,-179.5C326.5,-179.5 240.5,-179.5 240.5,-179.5 234.5,-179.5 228.5,-173.5 228.5,-167.5 228.5,-167.5 228.5,-123.5 228.5,-123.5 228.5,-117.5 234.5,-111.5 240.5,-111.5 240.5,-111.5 326.5,-111.5 326.5,-111.5 332.5,-111.5 338.5,-117.5 338.5,-123.5 338.5,-123.5 338.5,-167.5 338.5,-167.5 338.5,-173.5 332.5,-179.5 326.5,-179.5\"/>\n<text text-anchor=\"start\" x=\"248\" y=\"-164.3\" font-family=\"Helvetica,sans-Serif\" font-size=\"14.00\">gini = 0.047</text>\n<text text-anchor=\"start\" x=\"242.5\" y=\"-149.3\" font-family=\"Helvetica,sans-Serif\" font-size=\"14.00\">samples = 57</text>\n<text text-anchor=\"start\" x=\"240.5\" y=\"-134.3\" font-family=\"Helvetica,sans-Serif\" font-size=\"14.00\">value = [2, 81]</text>\n<text text-anchor=\"start\" x=\"236.5\" y=\"-119.3\" font-family=\"Helvetica,sans-Serif\" font-size=\"14.00\">class = Positive</text>\n</g>\n<!-- 4&#45;&gt;8 -->\n<g id=\"edge8\" class=\"edge\">\n<title>4&#45;&gt;8</title>\n<path fill=\"none\" stroke=\"black\" d=\"M273.7,-222.91C275.08,-212.2 276.56,-200.62 277.95,-189.78\"/>\n<polygon fill=\"black\" stroke=\"black\" points=\"281.45,-190.03 279.25,-179.67 274.5,-189.14 281.45,-190.03\"/>\n</g>\n<!-- 6 -->\n<g id=\"node7\" class=\"node\">\n<title>6</title>\n<path fill=\"#e88d4c\" stroke=\"black\" d=\"M105,-68C105,-68 12,-68 12,-68 6,-68 0,-62 0,-56 0,-56 0,-12 0,-12 0,-6 6,0 12,0 12,0 105,0 105,0 111,0 117,-6 117,-12 117,-12 117,-56 117,-56 117,-62 111,-68 105,-68\"/>\n<text text-anchor=\"start\" x=\"23\" y=\"-52.8\" font-family=\"Helvetica,sans-Serif\" font-size=\"14.00\">gini = 0.162</text>\n<text text-anchor=\"start\" x=\"13.5\" y=\"-37.8\" font-family=\"Helvetica,sans-Serif\" font-size=\"14.00\">samples = 121</text>\n<text text-anchor=\"start\" x=\"8\" y=\"-22.8\" font-family=\"Helvetica,sans-Serif\" font-size=\"14.00\">value = [185, 18]</text>\n<text text-anchor=\"start\" x=\"8.5\" y=\"-7.8\" font-family=\"Helvetica,sans-Serif\" font-size=\"14.00\">class = Negative</text>\n</g>\n<!-- 5&#45;&gt;6 -->\n<g id=\"edge6\" class=\"edge\">\n<title>5&#45;&gt;6</title>\n<path fill=\"none\" stroke=\"black\" d=\"M99.92,-103.73C94.65,-94.97 89.06,-85.7 83.76,-76.91\"/>\n<polygon fill=\"black\" stroke=\"black\" points=\"86.73,-75.06 78.57,-68.3 80.74,-78.67 86.73,-75.06\"/>\n</g>\n<!-- 7 -->\n<g id=\"node8\" class=\"node\">\n<title>7</title>\n<path fill=\"#46a4e7\" stroke=\"black\" d=\"M233.5,-68C233.5,-68 147.5,-68 147.5,-68 141.5,-68 135.5,-62 135.5,-56 135.5,-56 135.5,-12 135.5,-12 135.5,-6 141.5,0 147.5,0 147.5,0 233.5,0 233.5,0 239.5,0 245.5,-6 245.5,-12 245.5,-12 245.5,-56 245.5,-56 245.5,-62 239.5,-68 233.5,-68\"/>\n<text text-anchor=\"start\" x=\"155\" y=\"-52.8\" font-family=\"Helvetica,sans-Serif\" font-size=\"14.00\">gini = 0.117</text>\n<text text-anchor=\"start\" x=\"149.5\" y=\"-37.8\" font-family=\"Helvetica,sans-Serif\" font-size=\"14.00\">samples = 32</text>\n<text text-anchor=\"start\" x=\"147.5\" y=\"-22.8\" font-family=\"Helvetica,sans-Serif\" font-size=\"14.00\">value = [3, 45]</text>\n<text text-anchor=\"start\" x=\"143.5\" y=\"-7.8\" font-family=\"Helvetica,sans-Serif\" font-size=\"14.00\">class = Positive</text>\n</g>\n<!-- 5&#45;&gt;7 -->\n<g id=\"edge7\" class=\"edge\">\n<title>5&#45;&gt;7</title>\n<path fill=\"none\" stroke=\"black\" d=\"M149.08,-103.73C154.35,-94.97 159.94,-85.7 165.24,-76.91\"/>\n<polygon fill=\"black\" stroke=\"black\" points=\"168.26,-78.67 170.43,-68.3 162.27,-75.06 168.26,-78.67\"/>\n</g>\n<!-- 11 -->\n<g id=\"node12\" class=\"node\">\n<title>11</title>\n<path fill=\"#e99254\" stroke=\"black\" d=\"M647.5,-425C647.5,-425 543.5,-425 543.5,-425 537.5,-425 531.5,-419 531.5,-413 531.5,-413 531.5,-354 531.5,-354 531.5,-348 537.5,-342 543.5,-342 543.5,-342 647.5,-342 647.5,-342 653.5,-342 659.5,-348 659.5,-354 659.5,-354 659.5,-413 659.5,-413 659.5,-419 653.5,-425 647.5,-425\"/>\n<text text-anchor=\"start\" x=\"539.5\" y=\"-409.8\" font-family=\"Helvetica,sans-Serif\" font-size=\"14.00\">PatientID ≤ 6750.0</text>\n<text text-anchor=\"start\" x=\"560\" y=\"-394.8\" font-family=\"Helvetica,sans-Serif\" font-size=\"14.00\">gini = 0.212</text>\n<text text-anchor=\"start\" x=\"550.5\" y=\"-379.8\" font-family=\"Helvetica,sans-Serif\" font-size=\"14.00\">samples = 435</text>\n<text text-anchor=\"start\" x=\"545\" y=\"-364.8\" font-family=\"Helvetica,sans-Serif\" font-size=\"14.00\">value = [597, 82]</text>\n<text text-anchor=\"start\" x=\"545.5\" y=\"-349.8\" font-family=\"Helvetica,sans-Serif\" font-size=\"14.00\">class = Negative</text>\n</g>\n<!-- 10&#45;&gt;11 -->\n<g id=\"edge11\" class=\"edge\">\n<title>10&#45;&gt;11</title>\n<path fill=\"none\" stroke=\"black\" d=\"M595.5,-460.91C595.5,-452.65 595.5,-443.86 595.5,-435.3\"/>\n<polygon fill=\"black\" stroke=\"black\" points=\"599,-435.02 595.5,-425.02 592,-435.02 599,-435.02\"/>\n</g>\n<!-- 18 -->\n<g id=\"node19\" class=\"node\">\n<title>18</title>\n<path fill=\"#c9e4f8\" stroke=\"black\" d=\"M799,-425C799,-425 698,-425 698,-425 692,-425 686,-419 686,-413 686,-413 686,-354 686,-354 686,-348 692,-342 698,-342 698,-342 799,-342 799,-342 805,-342 811,-348 811,-354 811,-354 811,-413 811,-413 811,-419 805,-425 799,-425\"/>\n<text text-anchor=\"start\" x=\"699\" y=\"-409.8\" font-family=\"Helvetica,sans-Serif\" font-size=\"14.00\">MMSE ≤ 23.047</text>\n<text text-anchor=\"start\" x=\"713\" y=\"-394.8\" font-family=\"Helvetica,sans-Serif\" font-size=\"14.00\">gini = 0.488</text>\n<text text-anchor=\"start\" x=\"703.5\" y=\"-379.8\" font-family=\"Helvetica,sans-Serif\" font-size=\"14.00\">samples = 160</text>\n<text text-anchor=\"start\" x=\"694\" y=\"-364.8\" font-family=\"Helvetica,sans-Serif\" font-size=\"14.00\">value = [107, 147]</text>\n<text text-anchor=\"start\" x=\"701.5\" y=\"-349.8\" font-family=\"Helvetica,sans-Serif\" font-size=\"14.00\">class = Positive</text>\n</g>\n<!-- 10&#45;&gt;18 -->\n<g id=\"edge18\" class=\"edge\">\n<title>10&#45;&gt;18</title>\n<path fill=\"none\" stroke=\"black\" d=\"M648.58,-460.91C661.04,-451.38 674.42,-441.15 687.21,-431.37\"/>\n<polygon fill=\"black\" stroke=\"black\" points=\"689.69,-433.88 695.51,-425.02 685.44,-428.32 689.69,-433.88\"/>\n</g>\n<!-- 12 -->\n<g id=\"node13\" class=\"node\">\n<title>12</title>\n<path fill=\"#e78b49\" stroke=\"black\" d=\"M531.5,-306C531.5,-306 383.5,-306 383.5,-306 377.5,-306 371.5,-300 371.5,-294 371.5,-294 371.5,-235 371.5,-235 371.5,-229 377.5,-223 383.5,-223 383.5,-223 531.5,-223 531.5,-223 537.5,-223 543.5,-229 543.5,-235 543.5,-235 543.5,-294 543.5,-294 543.5,-300 537.5,-306 531.5,-306\"/>\n<text text-anchor=\"start\" x=\"379.5\" y=\"-290.8\" font-family=\"Helvetica,sans-Serif\" font-size=\"14.00\">BehavioralProblems ≤ 0.5</text>\n<text text-anchor=\"start\" x=\"422\" y=\"-275.8\" font-family=\"Helvetica,sans-Serif\" font-size=\"14.00\">gini = 0.135</text>\n<text text-anchor=\"start\" x=\"412.5\" y=\"-260.8\" font-family=\"Helvetica,sans-Serif\" font-size=\"14.00\">samples = 394</text>\n<text text-anchor=\"start\" x=\"407\" y=\"-245.8\" font-family=\"Helvetica,sans-Serif\" font-size=\"14.00\">value = [571, 45]</text>\n<text text-anchor=\"start\" x=\"407.5\" y=\"-230.8\" font-family=\"Helvetica,sans-Serif\" font-size=\"14.00\">class = Negative</text>\n</g>\n<!-- 11&#45;&gt;12 -->\n<g id=\"edge12\" class=\"edge\">\n<title>11&#45;&gt;12</title>\n<path fill=\"none\" stroke=\"black\" d=\"M547.62,-341.91C536.49,-332.47 524.55,-322.34 513.11,-312.65\"/>\n<polygon fill=\"black\" stroke=\"black\" points=\"515.18,-309.82 505.29,-306.02 510.66,-315.16 515.18,-309.82\"/>\n</g>\n<!-- 17 -->\n<g id=\"node18\" class=\"node\">\n<title>17</title>\n<path fill=\"#c4e2f7\" stroke=\"black\" d=\"M659.5,-298.5C659.5,-298.5 573.5,-298.5 573.5,-298.5 567.5,-298.5 561.5,-292.5 561.5,-286.5 561.5,-286.5 561.5,-242.5 561.5,-242.5 561.5,-236.5 567.5,-230.5 573.5,-230.5 573.5,-230.5 659.5,-230.5 659.5,-230.5 665.5,-230.5 671.5,-236.5 671.5,-242.5 671.5,-242.5 671.5,-286.5 671.5,-286.5 671.5,-292.5 665.5,-298.5 659.5,-298.5\"/>\n<text text-anchor=\"start\" x=\"581\" y=\"-283.3\" font-family=\"Helvetica,sans-Serif\" font-size=\"14.00\">gini = 0.485</text>\n<text text-anchor=\"start\" x=\"575.5\" y=\"-268.3\" font-family=\"Helvetica,sans-Serif\" font-size=\"14.00\">samples = 41</text>\n<text text-anchor=\"start\" x=\"569.5\" y=\"-253.3\" font-family=\"Helvetica,sans-Serif\" font-size=\"14.00\">value = [26, 37]</text>\n<text text-anchor=\"start\" x=\"569.5\" y=\"-238.3\" font-family=\"Helvetica,sans-Serif\" font-size=\"14.00\">class = Positive</text>\n</g>\n<!-- 11&#45;&gt;17 -->\n<g id=\"edge17\" class=\"edge\">\n<title>11&#45;&gt;17</title>\n<path fill=\"none\" stroke=\"black\" d=\"M602.79,-341.91C604.71,-331.2 606.79,-319.62 608.73,-308.78\"/>\n<polygon fill=\"black\" stroke=\"black\" points=\"612.23,-309.13 610.55,-298.67 605.34,-307.89 612.23,-309.13\"/>\n</g>\n<!-- 13 -->\n<g id=\"node14\" class=\"node\">\n<title>13</title>\n<path fill=\"#e5823a\" stroke=\"black\" d=\"M489.5,-179.5C489.5,-179.5 397.5,-179.5 397.5,-179.5 391.5,-179.5 385.5,-173.5 385.5,-167.5 385.5,-167.5 385.5,-123.5 385.5,-123.5 385.5,-117.5 391.5,-111.5 397.5,-111.5 397.5,-111.5 489.5,-111.5 489.5,-111.5 495.5,-111.5 501.5,-117.5 501.5,-123.5 501.5,-123.5 501.5,-167.5 501.5,-167.5 501.5,-173.5 495.5,-179.5 489.5,-179.5\"/>\n<text text-anchor=\"start\" x=\"408\" y=\"-164.3\" font-family=\"Helvetica,sans-Serif\" font-size=\"14.00\">gini = 0.012</text>\n<text text-anchor=\"start\" x=\"398.5\" y=\"-149.3\" font-family=\"Helvetica,sans-Serif\" font-size=\"14.00\">samples = 326</text>\n<text text-anchor=\"start\" x=\"396.5\" y=\"-134.3\" font-family=\"Helvetica,sans-Serif\" font-size=\"14.00\">value = [501, 3]</text>\n<text text-anchor=\"start\" x=\"393.5\" y=\"-119.3\" font-family=\"Helvetica,sans-Serif\" font-size=\"14.00\">class = Negative</text>\n</g>\n<!-- 12&#45;&gt;13 -->\n<g id=\"edge13\" class=\"edge\">\n<title>12&#45;&gt;13</title>\n<path fill=\"none\" stroke=\"black\" d=\"M452.64,-222.91C451.36,-212.2 449.98,-200.62 448.68,-189.78\"/>\n<polygon fill=\"black\" stroke=\"black\" points=\"452.13,-189.18 447.47,-179.67 445.18,-190.01 452.13,-189.18\"/>\n</g>\n<!-- 14 -->\n<g id=\"node15\" class=\"node\">\n<title>14</title>\n<path fill=\"#f5cdb0\" stroke=\"black\" d=\"M623.5,-187C623.5,-187 531.5,-187 531.5,-187 525.5,-187 519.5,-181 519.5,-175 519.5,-175 519.5,-116 519.5,-116 519.5,-110 525.5,-104 531.5,-104 531.5,-104 623.5,-104 623.5,-104 629.5,-104 635.5,-110 635.5,-116 635.5,-116 635.5,-175 635.5,-175 635.5,-181 629.5,-187 623.5,-187\"/>\n<text text-anchor=\"start\" x=\"539.5\" y=\"-171.8\" font-family=\"Helvetica,sans-Serif\" font-size=\"14.00\">ADL ≤ 4.715</text>\n<text text-anchor=\"start\" x=\"542\" y=\"-156.8\" font-family=\"Helvetica,sans-Serif\" font-size=\"14.00\">gini = 0.469</text>\n<text text-anchor=\"start\" x=\"536.5\" y=\"-141.8\" font-family=\"Helvetica,sans-Serif\" font-size=\"14.00\">samples = 68</text>\n<text text-anchor=\"start\" x=\"530.5\" y=\"-126.8\" font-family=\"Helvetica,sans-Serif\" font-size=\"14.00\">value = [70, 42]</text>\n<text text-anchor=\"start\" x=\"527.5\" y=\"-111.8\" font-family=\"Helvetica,sans-Serif\" font-size=\"14.00\">class = Negative</text>\n</g>\n<!-- 12&#45;&gt;14 -->\n<g id=\"edge14\" class=\"edge\">\n<title>12&#45;&gt;14</title>\n<path fill=\"none\" stroke=\"black\" d=\"M499.13,-222.91C508.63,-213.65 518.8,-203.73 528.57,-194.21\"/>\n<polygon fill=\"black\" stroke=\"black\" points=\"531.22,-196.51 535.94,-187.02 526.34,-191.5 531.22,-196.51\"/>\n</g>\n<!-- 15 -->\n<g id=\"node16\" class=\"node\">\n<title>15</title>\n<path fill=\"#5fb0ea\" stroke=\"black\" d=\"M554.5,-68C554.5,-68 468.5,-68 468.5,-68 462.5,-68 456.5,-62 456.5,-56 456.5,-56 456.5,-12 456.5,-12 456.5,-6 462.5,0 468.5,0 468.5,0 554.5,0 554.5,0 560.5,0 566.5,-6 566.5,-12 566.5,-12 566.5,-56 566.5,-56 566.5,-62 560.5,-68 554.5,-68\"/>\n<text text-anchor=\"start\" x=\"476\" y=\"-52.8\" font-family=\"Helvetica,sans-Serif\" font-size=\"14.00\">gini = 0.269</text>\n<text text-anchor=\"start\" x=\"470.5\" y=\"-37.8\" font-family=\"Helvetica,sans-Serif\" font-size=\"14.00\">samples = 30</text>\n<text text-anchor=\"start\" x=\"468.5\" y=\"-22.8\" font-family=\"Helvetica,sans-Serif\" font-size=\"14.00\">value = [8, 42]</text>\n<text text-anchor=\"start\" x=\"464.5\" y=\"-7.8\" font-family=\"Helvetica,sans-Serif\" font-size=\"14.00\">class = Positive</text>\n</g>\n<!-- 14&#45;&gt;15 -->\n<g id=\"edge15\" class=\"edge\">\n<title>14&#45;&gt;15</title>\n<path fill=\"none\" stroke=\"black\" d=\"M552.92,-103.73C547.65,-94.97 542.06,-85.7 536.76,-76.91\"/>\n<polygon fill=\"black\" stroke=\"black\" points=\"539.73,-75.06 531.57,-68.3 533.74,-78.67 539.73,-75.06\"/>\n</g>\n<!-- 16 -->\n<g id=\"node17\" class=\"node\">\n<title>16</title>\n<path fill=\"#e58139\" stroke=\"black\" d=\"M688.5,-68C688.5,-68 596.5,-68 596.5,-68 590.5,-68 584.5,-62 584.5,-56 584.5,-56 584.5,-12 584.5,-12 584.5,-6 590.5,0 596.5,0 596.5,0 688.5,0 688.5,0 694.5,0 700.5,-6 700.5,-12 700.5,-12 700.5,-56 700.5,-56 700.5,-62 694.5,-68 688.5,-68\"/>\n<text text-anchor=\"start\" x=\"614.5\" y=\"-52.8\" font-family=\"Helvetica,sans-Serif\" font-size=\"14.00\">gini = 0.0</text>\n<text text-anchor=\"start\" x=\"601.5\" y=\"-37.8\" font-family=\"Helvetica,sans-Serif\" font-size=\"14.00\">samples = 38</text>\n<text text-anchor=\"start\" x=\"599.5\" y=\"-22.8\" font-family=\"Helvetica,sans-Serif\" font-size=\"14.00\">value = [62, 0]</text>\n<text text-anchor=\"start\" x=\"592.5\" y=\"-7.8\" font-family=\"Helvetica,sans-Serif\" font-size=\"14.00\">class = Negative</text>\n</g>\n<!-- 14&#45;&gt;16 -->\n<g id=\"edge16\" class=\"edge\">\n<title>14&#45;&gt;16</title>\n<path fill=\"none\" stroke=\"black\" d=\"M601.7,-103.73C606.9,-94.97 612.4,-85.7 617.62,-76.91\"/>\n<polygon fill=\"black\" stroke=\"black\" points=\"620.64,-78.69 622.73,-68.3 614.62,-75.11 620.64,-78.69\"/>\n</g>\n<!-- 19 -->\n<g id=\"node20\" class=\"node\">\n<title>19</title>\n<path fill=\"#93caf1\" stroke=\"black\" d=\"M795,-306C795,-306 702,-306 702,-306 696,-306 690,-300 690,-294 690,-294 690,-235 690,-235 690,-229 696,-223 702,-223 702,-223 795,-223 795,-223 801,-223 807,-229 807,-235 807,-235 807,-294 807,-294 807,-300 801,-306 795,-306\"/>\n<text text-anchor=\"start\" x=\"714.5\" y=\"-290.8\" font-family=\"Helvetica,sans-Serif\" font-size=\"14.00\">ADL ≤ 5.01</text>\n<text text-anchor=\"start\" x=\"716.5\" y=\"-275.8\" font-family=\"Helvetica,sans-Serif\" font-size=\"14.00\">gini = 0.43</text>\n<text text-anchor=\"start\" x=\"703.5\" y=\"-260.8\" font-family=\"Helvetica,sans-Serif\" font-size=\"14.00\">samples = 131</text>\n<text text-anchor=\"start\" x=\"698\" y=\"-245.8\" font-family=\"Helvetica,sans-Serif\" font-size=\"14.00\">value = [66, 145]</text>\n<text text-anchor=\"start\" x=\"701.5\" y=\"-230.8\" font-family=\"Helvetica,sans-Serif\" font-size=\"14.00\">class = Positive</text>\n</g>\n<!-- 18&#45;&gt;19 -->\n<g id=\"edge19\" class=\"edge\">\n<title>18&#45;&gt;19</title>\n<path fill=\"none\" stroke=\"black\" d=\"M748.5,-341.91C748.5,-333.65 748.5,-324.86 748.5,-316.3\"/>\n<polygon fill=\"black\" stroke=\"black\" points=\"752,-316.02 748.5,-306.02 745,-316.02 752,-316.02\"/>\n</g>\n<!-- 24 -->\n<g id=\"node25\" class=\"node\">\n<title>24</title>\n<path fill=\"#e68743\" stroke=\"black\" d=\"M929.5,-298.5C929.5,-298.5 837.5,-298.5 837.5,-298.5 831.5,-298.5 825.5,-292.5 825.5,-286.5 825.5,-286.5 825.5,-242.5 825.5,-242.5 825.5,-236.5 831.5,-230.5 837.5,-230.5 837.5,-230.5 929.5,-230.5 929.5,-230.5 935.5,-230.5 941.5,-236.5 941.5,-242.5 941.5,-242.5 941.5,-286.5 941.5,-286.5 941.5,-292.5 935.5,-298.5 929.5,-298.5\"/>\n<text text-anchor=\"start\" x=\"848\" y=\"-283.3\" font-family=\"Helvetica,sans-Serif\" font-size=\"14.00\">gini = 0.089</text>\n<text text-anchor=\"start\" x=\"842.5\" y=\"-268.3\" font-family=\"Helvetica,sans-Serif\" font-size=\"14.00\">samples = 29</text>\n<text text-anchor=\"start\" x=\"840.5\" y=\"-253.3\" font-family=\"Helvetica,sans-Serif\" font-size=\"14.00\">value = [41, 2]</text>\n<text text-anchor=\"start\" x=\"833.5\" y=\"-238.3\" font-family=\"Helvetica,sans-Serif\" font-size=\"14.00\">class = Negative</text>\n</g>\n<!-- 18&#45;&gt;24 -->\n<g id=\"edge24\" class=\"edge\">\n<title>18&#45;&gt;24</title>\n<path fill=\"none\" stroke=\"black\" d=\"M795.34,-341.91C808.96,-330.1 823.83,-317.22 837.4,-305.45\"/>\n<polygon fill=\"black\" stroke=\"black\" points=\"839.97,-307.86 845.23,-298.67 835.38,-302.57 839.97,-307.86\"/>\n</g>\n<!-- 20 -->\n<g id=\"node21\" class=\"node\">\n<title>20</title>\n<path fill=\"#4fa8e8\" stroke=\"black\" d=\"M777,-179.5C777,-179.5 684,-179.5 684,-179.5 678,-179.5 672,-173.5 672,-167.5 672,-167.5 672,-123.5 672,-123.5 672,-117.5 678,-111.5 684,-111.5 684,-111.5 777,-111.5 777,-111.5 783,-111.5 789,-117.5 789,-123.5 789,-123.5 789,-167.5 789,-167.5 789,-173.5 783,-179.5 777,-179.5\"/>\n<text text-anchor=\"start\" x=\"695\" y=\"-164.3\" font-family=\"Helvetica,sans-Serif\" font-size=\"14.00\">gini = 0.181</text>\n<text text-anchor=\"start\" x=\"689.5\" y=\"-149.3\" font-family=\"Helvetica,sans-Serif\" font-size=\"14.00\">samples = 74</text>\n<text text-anchor=\"start\" x=\"680\" y=\"-134.3\" font-family=\"Helvetica,sans-Serif\" font-size=\"14.00\">value = [12, 107]</text>\n<text text-anchor=\"start\" x=\"683.5\" y=\"-119.3\" font-family=\"Helvetica,sans-Serif\" font-size=\"14.00\">class = Positive</text>\n</g>\n<!-- 19&#45;&gt;20 -->\n<g id=\"edge20\" class=\"edge\">\n<title>19&#45;&gt;20</title>\n<path fill=\"none\" stroke=\"black\" d=\"M742.25,-222.91C740.61,-212.2 738.83,-200.62 737.16,-189.78\"/>\n<polygon fill=\"black\" stroke=\"black\" points=\"740.58,-189.02 735.6,-179.67 733.66,-190.08 740.58,-189.02\"/>\n</g>\n<!-- 21 -->\n<g id=\"node22\" class=\"node\">\n<title>21</title>\n<path fill=\"#f7dac4\" stroke=\"black\" d=\"M967.5,-187C967.5,-187 819.5,-187 819.5,-187 813.5,-187 807.5,-181 807.5,-175 807.5,-175 807.5,-116 807.5,-116 807.5,-110 813.5,-104 819.5,-104 819.5,-104 967.5,-104 967.5,-104 973.5,-104 979.5,-110 979.5,-116 979.5,-116 979.5,-175 979.5,-175 979.5,-181 973.5,-187 967.5,-187\"/>\n<text text-anchor=\"start\" x=\"815.5\" y=\"-171.8\" font-family=\"Helvetica,sans-Serif\" font-size=\"14.00\">BehavioralProblems ≤ 0.5</text>\n<text text-anchor=\"start\" x=\"858\" y=\"-156.8\" font-family=\"Helvetica,sans-Serif\" font-size=\"14.00\">gini = 0.485</text>\n<text text-anchor=\"start\" x=\"852.5\" y=\"-141.8\" font-family=\"Helvetica,sans-Serif\" font-size=\"14.00\">samples = 57</text>\n<text text-anchor=\"start\" x=\"835.5\" y=\"-126.8\" font-family=\"Helvetica,sans-Serif\" font-size=\"14.00\">value = [54.0, 38.0]</text>\n<text text-anchor=\"start\" x=\"843.5\" y=\"-111.8\" font-family=\"Helvetica,sans-Serif\" font-size=\"14.00\">class = Negative</text>\n</g>\n<!-- 19&#45;&gt;21 -->\n<g id=\"edge21\" class=\"edge\">\n<title>19&#45;&gt;21</title>\n<path fill=\"none\" stroke=\"black\" d=\"M798.81,-222.91C810.62,-213.38 823.29,-203.15 835.41,-193.37\"/>\n<polygon fill=\"black\" stroke=\"black\" points=\"837.7,-196.02 843.28,-187.02 833.3,-190.58 837.7,-196.02\"/>\n</g>\n<!-- 22 -->\n<g id=\"node23\" class=\"node\">\n<title>22</title>\n<path fill=\"#e99456\" stroke=\"black\" d=\"M873.5,-68C873.5,-68 781.5,-68 781.5,-68 775.5,-68 769.5,-62 769.5,-56 769.5,-56 769.5,-12 769.5,-12 769.5,-6 775.5,0 781.5,0 781.5,0 873.5,0 873.5,0 879.5,0 885.5,-6 885.5,-12 885.5,-12 885.5,-56 885.5,-56 885.5,-62 879.5,-68 873.5,-68\"/>\n<text text-anchor=\"start\" x=\"792\" y=\"-52.8\" font-family=\"Helvetica,sans-Serif\" font-size=\"14.00\">gini = 0.225</text>\n<text text-anchor=\"start\" x=\"786.5\" y=\"-37.8\" font-family=\"Helvetica,sans-Serif\" font-size=\"14.00\">samples = 39</text>\n<text text-anchor=\"start\" x=\"784.5\" y=\"-22.8\" font-family=\"Helvetica,sans-Serif\" font-size=\"14.00\">value = [54, 8]</text>\n<text text-anchor=\"start\" x=\"777.5\" y=\"-7.8\" font-family=\"Helvetica,sans-Serif\" font-size=\"14.00\">class = Negative</text>\n</g>\n<!-- 21&#45;&gt;22 -->\n<g id=\"edge22\" class=\"edge\">\n<title>21&#45;&gt;22</title>\n<path fill=\"none\" stroke=\"black\" d=\"M868.92,-103.73C863.65,-94.97 858.06,-85.7 852.76,-76.91\"/>\n<polygon fill=\"black\" stroke=\"black\" points=\"855.73,-75.06 847.57,-68.3 849.74,-78.67 855.73,-75.06\"/>\n</g>\n<!-- 23 -->\n<g id=\"node24\" class=\"node\">\n<title>23</title>\n<path fill=\"#399de5\" stroke=\"black\" d=\"M1001.5,-68C1001.5,-68 915.5,-68 915.5,-68 909.5,-68 903.5,-62 903.5,-56 903.5,-56 903.5,-12 903.5,-12 903.5,-6 909.5,0 915.5,0 915.5,0 1001.5,0 1001.5,0 1007.5,0 1013.5,-6 1013.5,-12 1013.5,-12 1013.5,-56 1013.5,-56 1013.5,-62 1007.5,-68 1001.5,-68\"/>\n<text text-anchor=\"start\" x=\"930.5\" y=\"-52.8\" font-family=\"Helvetica,sans-Serif\" font-size=\"14.00\">gini = 0.0</text>\n<text text-anchor=\"start\" x=\"917.5\" y=\"-37.8\" font-family=\"Helvetica,sans-Serif\" font-size=\"14.00\">samples = 18</text>\n<text text-anchor=\"start\" x=\"915.5\" y=\"-22.8\" font-family=\"Helvetica,sans-Serif\" font-size=\"14.00\">value = [0, 30]</text>\n<text text-anchor=\"start\" x=\"911.5\" y=\"-7.8\" font-family=\"Helvetica,sans-Serif\" font-size=\"14.00\">class = Positive</text>\n</g>\n<!-- 21&#45;&gt;23 -->\n<g id=\"edge23\" class=\"edge\">\n<title>21&#45;&gt;23</title>\n<path fill=\"none\" stroke=\"black\" d=\"M917.7,-103.73C922.9,-94.97 928.4,-85.7 933.62,-76.91\"/>\n<polygon fill=\"black\" stroke=\"black\" points=\"936.64,-78.69 938.73,-68.3 930.62,-75.11 936.64,-78.69\"/>\n</g>\n</g>\n</svg>\n",
            "text/plain": [
              "<graphviz.sources.Source at 0x7ed58631c990>"
            ]
          },
          "metadata": {},
          "execution_count": 261
        }
      ]
    },
    {
      "cell_type": "markdown",
      "source": [
        "# Artificial Neural Network"
      ],
      "metadata": {
        "id": "_ivbAdDV1qW9"
      }
    },
    {
      "cell_type": "code",
      "source": [
        "#Artificial Neural Network\n",
        "from sklearn.neural_network import MLPClassifier\n",
        "ANN = MLPClassifier(solver='adam', max_iter= 1000, alpha=1e-5,hidden_layer_sizes=(5, 2), random_state=1)\n",
        "ANN.fit(x_train, y_train)\n",
        "y_pred_train = ANN.predict(x_train)\n",
        "y_pred_test  = ANN.predict(x_test)\n",
        "calculate_confusion(\"ANN\",y_train, y_pred_train, y_test, y_pred_test)\n",
        "fpr8, tpr8, _ = metrics.roc_curve(y_test, y_pred_test)\n",
        "auc = round(metrics.roc_auc_score(y_test, y_pred_test), 4)\n",
        "cv_results = cross_val_score(ANN, x_test, y_test)\n",
        "results.append(cv_results)"
      ],
      "metadata": {
        "id": "qdjvGFCljT9H",
        "outputId": "d46beedb-34e3-4307-aafc-c9953a804986",
        "colab": {
          "base_uri": "https://localhost:8080/",
          "height": 377
        }
      },
      "execution_count": 262,
      "outputs": [
        {
          "output_type": "display_data",
          "data": {
            "text/plain": [
              "<Figure size 600x200 with 4 Axes>"
            ],
            "image/png": "[encoded data removed]"
          },
          "metadata": {}
        },
        {
          "output_type": "stream",
          "name": "stdout",
          "text": [
            "-----Results for ANN ----------------------\n",
            "  Train Accuracy    Train Precision    Train Recall    Train F1    Test Accuracy    Test Precision    Test Recall    Test F1\n",
            "----------------  -----------------  --------------  ----------  ---------------  ----------------  -------------  ---------\n",
            "        0.933393           0.944341        0.920434    0.932234         0.913669          0.930403       0.897527   0.913669\n"
          ]
        },
        {
          "output_type": "stream",
          "name": "stderr",
          "text": [
            "/usr/local/lib/python3.11/dist-packages/sklearn/neural_network/_multilayer_perceptron.py:691: ConvergenceWarning: Stochastic Optimizer: Maximum iterations (1000) reached and the optimization hasn't converged yet.\n",
            "  warnings.warn(\n"
          ]
        }
      ]
    },
    {
      "cell_type": "code",
      "source": [
        "# Compute False postive rate, and True positive rate\n",
        "fpr8, tpr8, thresholds8 = metrics.roc_curve(y_train, ANN.predict_proba(x_train)[:,1])\n",
        "# Calculate Area under the curve to display on the plot\n",
        "auc8 = metrics.roc_auc_score(y_train,y_pred_train)"
      ],
      "metadata": {
        "id": "Uel-FHMyFXWc"
      },
      "execution_count": 263,
      "outputs": []
    },
    {
      "cell_type": "code",
      "source": [
        "# Get the training loss values at each iteration\n",
        "loss_values = ANN.loss_curve_\n",
        "\n",
        "fig = plt.figure(figsize=(5,3))\n",
        "# Plot the convergence curve\n",
        "plt.plot(loss_values)\n",
        "plt.grid(True)\n",
        "plt.title('Convergence Curve')\n",
        "plt.xlabel('Iteration', fontsize=10)\n",
        "plt.ylabel('Training Loss', fontsize=10)\n",
        "plt.savefig('ANN_convergence.png')\n",
        "plt.show()"
      ],
      "metadata": {
        "id": "OfyCW1Ybh8Vc",
        "outputId": "d4ff9b5a-8751-47e4-cffe-a0c393842414",
        "colab": {
          "base_uri": "https://localhost:8080/",
          "height": 333
        }
      },
      "execution_count": 264,
      "outputs": [
        {
          "output_type": "display_data",
          "data": {
            "text/plain": [
              "<Figure size 500x300 with 1 Axes>"
            ],
            "image/png": "[encoded data removed]"
          },
          "metadata": {}
        }
      ]
    },
    {
      "cell_type": "markdown",
      "source": [
        "# Box Plot"
      ],
      "metadata": {
        "id": "N8xRW3sC1tcZ"
      }
    },
    {
      "cell_type": "code",
      "source": [
        "names = ['LRC', 'SVC', 'GBC', 'GNB', 'KNC', 'DT', 'RFC', 'ANN']\n",
        "\n",
        "# Create a figure with a single subplot\n",
        "fig, ax = plt.subplots(1, 1)\n",
        "\n",
        "# Draw the box plots\n",
        "ax.boxplot(results)\n",
        "\n",
        "# Set the labels for each box plot\n",
        "ax.set_xticklabels(names)\n",
        "\n",
        "# Add a title to the plot\n",
        "ax.set_title('Box Plots')\n",
        "\n",
        "# Save the figure\n",
        "plt.savefig('boxplots.png')\n",
        "\n",
        "# Show the plot\n",
        "plt.show()\n"
      ],
      "metadata": {
        "id": "bx31fqAJKoUR",
        "outputId": "3773dcb2-8fda-46a3-914e-6d673b3b42be",
        "colab": {
          "base_uri": "https://localhost:8080/",
          "height": 452
        }
      },
      "execution_count": 265,
      "outputs": [
        {
          "output_type": "display_data",
          "data": {
            "text/plain": [
              "<Figure size 640x480 with 1 Axes>"
            ],
            "image/png": "[encoded data removed]"
          },
          "metadata": {}
        }
      ]
    },
    {
      "cell_type": "code",
      "source": [
        "# import matplotlib.pyplot as plt\n",
        "# import numpy as np\n",
        "\n",
        "# # Define the FPR and TPR values for each algorithm as arrays\n",
        "# np.array(['LRC', 'SVC', 'GBC', 'GNB', 'KNC', 'DT','RFC', 'ANN'])\n",
        "# fpr = [fpr1,fpr2,fpr3,fpr4,fpr5,fpr6,fpr7,fpr8]\n",
        "# tpr = [tpr1,tpr2,tpr3,tpr4,tpr5,tpr6,tpr7,tpr8]\n",
        "# auc = [auc1,auc2,auc3,auc4,auc5,auc6,auc7,auc8]\n",
        "\n",
        "# # Plot the ROC curve for each algorithm\n",
        "# plt.figure(figsize=(8, 4))\n",
        "# # Create plot\n",
        "# for i in range(len(fpr)):\n",
        "#     label_str = f\"{names[i]} AUC = {auc[i]:.2f}\"\n",
        "#     plt.plot(fpr[i], tpr[i], label=label_str)\n",
        "\n",
        "# # Set the axis labels and title\n",
        "# plt.xlabel('False Positive Rate (FPR)')\n",
        "# plt.ylabel('True Positive Rate (TPR)')\n",
        "# plt.title('ROC Curve')\n",
        "\n",
        "# # Set the axis limits\n",
        "# plt.xlim([0, 1])\n",
        "# plt.ylim([0, 1])\n",
        "\n",
        "# # Add a legend\n",
        "# plt.legend()\n",
        "\n",
        "# # Show the plot\n",
        "# plt.show()"
      ],
      "metadata": {
        "id": "iM88mKG7cLS_"
      },
      "execution_count": 266,
      "outputs": []
    },
    {
      "cell_type": "code",
      "source": [
        "print(selected_feature_names)"
      ],
      "metadata": {
        "id": "ZY0KP3iYDXqF",
        "outputId": "a0c663e7-1e09-49c1-97b2-790b05a2f58d",
        "colab": {
          "base_uri": "https://localhost:8080/"
        }
      },
      "execution_count": 267,
      "outputs": [
        {
          "output_type": "stream",
          "name": "stdout",
          "text": [
            "Index(['MMSE', 'FunctionalAssessment', 'MemoryComplaints',\n",
            "       'BehavioralProblems', 'ADL'],\n",
            "      dtype='object')\n"
          ]
        }
      ]
    },
    {
      "cell_type": "markdown",
      "source": [
        "# ROC Curves"
      ],
      "metadata": {
        "id": "wf4r6ORq15Jv"
      }
    },
    {
      "cell_type": "code",
      "source": [
        "# Now, plot the computed values\n",
        "fig = plt.figure(figsize=(7,5))\n",
        "\n",
        "plt.plot(fpr1, tpr1, linestyle='-',color='green', label='LR ROC = %.2f' %auc1)\n",
        "plt.plot(fpr2, tpr2, linestyle='--',color='black', label='SVM ROC = %.2f' %auc2)\n",
        "plt.plot(fpr3, tpr3, linestyle='--',color='blue', label='GBC ROC = %.2f' %auc3)\n",
        "plt.plot(fpr4, tpr4, linestyle='--',color='green', label='GNB ROC = %.2f' %auc4)\n",
        "plt.plot(fpr5, tpr5, linestyle='--',color='magenta', label='KNN ROC = %.2f' %auc5)\n",
        "plt.plot(fpr6, tpr6, linestyle=':',color='blue', label='DT ROC = %.2f' %auc6)\n",
        "plt.plot(fpr7, tpr7, linestyle='-',color='black', label='RF ROC = %.2f' %auc7)\n",
        "plt.plot(fpr8, tpr8,linestyle='-',color='red', label='ANN ROC = %.2f' %auc8)\n",
        "\n",
        "# Custom settings for the plot\n",
        "plt.plot([0, 1], [0, 1],'r--')\n",
        "plt.xlim([0.0, 1.0])\n",
        "plt.ylim([0.0, 1.05])\n",
        "plt.xlabel('Specificity(False Positive Rate)')\n",
        "plt.ylabel('Sensitivity(True Positive Rate)')\n",
        "plt.title('Receiver Operating Characteristic')\n",
        "plt.legend(loc=\"lower right\")\n",
        "plt.savefig('ROC_Curves.png')\n",
        "plt.show()   # Display"
      ],
      "metadata": {
        "id": "RdZpNtT9-JVF",
        "outputId": "2491bbb6-dd6a-43a5-8080-546ed6cd5f8c",
        "colab": {
          "base_uri": "https://localhost:8080/",
          "height": 487
        }
      },
      "execution_count": 268,
      "outputs": [
        {
          "output_type": "display_data",
          "data": {
            "text/plain": [
              "<Figure size 700x500 with 1 Axes>"
            ],
            "image/png": "[encoded data removed]"
          },
          "metadata": {}
        }
      ]
    }
  ]
}