{
  "nbformat": 4,
  "nbformat_minor": 0,
  "metadata": {
    "colab": {
      "provenance": [],
      "authorship_tag": "ABX9TyPabK7uCeXlPYnRcYuIW/Pt",
      "include_colab_link": true
    },
    "kernelspec": {
      "name": "python3",
      "display_name": "Python 3"
    },
    "language_info": {
      "name": "python"
    }
  },
  "cells": [
    {
      "cell_type": "markdown",
      "metadata": {
        "id": "view-in-github",
        "colab_type": "text"
      },
      "source": [
        "<a href=\"https://colab.research.google.com/github/asheta66/Machine-Learning-2024/blob/main/classification_of_alzheimers_disease.ipynb\" target=\"_parent\"><img src=\"https://colab.research.google.com/assets/colab-badge.svg\" alt=\"Open In Colab\"/></a>"
      ]
    },
    {
      "cell_type": "code",
      "execution_count": null,
      "metadata": {
        "id": "e6mRzwKChEHE"
      },
      "outputs": [],
      "source": [
        "# Importing the libraries\n",
        "import math\n",
        "import numpy as np\n",
        "import pandas as pd\n",
        "\n",
        "import numpy as np\n",
        "import matplotlib.pyplot as plt\n",
        "import pandas as pd\n",
        "import seaborn as sns\n",
        "sns.set_style(\"whitegrid\")\n",
        "\n",
        "from sklearn.model_selection import train_test_split, KFold, cross_val_score\n",
        "from sklearn.linear_model import LogisticRegression\n",
        "from sklearn.svm import SVC\n",
        "from sklearn.ensemble import GradientBoostingClassifier\n",
        "from sklearn.naive_bayes import GaussianNB\n",
        "from sklearn.ensemble import RandomForestClassifier\n",
        "from sklearn.neighbors import KNeighborsClassifier\n",
        "from matplotlib import pyplot as plt"
      ]
    },
    {
      "cell_type": "code",
      "source": [
        "# !apt install texlive-xetex texlive-fonts-recommended texlive-generic-recommended\n",
        "# !apt install cm-super"
      ],
      "metadata": {
        "id": "pbOqPajai_7N"
      },
      "execution_count": null,
      "outputs": []
    },
    {
      "cell_type": "code",
      "source": [
        "# plt.rcParams['text.usetex'] = True"
      ],
      "metadata": {
        "id": "onJVMLeRjZbr"
      },
      "execution_count": null,
      "outputs": []
    },
    {
      "cell_type": "markdown",
      "source": [
        "**Reading the data**"
      ],
      "metadata": {
        "id": "wYhqVAFmia0T"
      }
    },
    {
      "cell_type": "code",
      "source": [
        "# Importing the datasets\n",
        "df     = pd.read_csv('alzheimers_disease_data.csv')"
      ],
      "metadata": {
        "id": "nlAAPqfXimI6"
      },
      "execution_count": null,
      "outputs": []
    },
    {
      "cell_type": "markdown",
      "source": [
        "**Display the data**"
      ],
      "metadata": {
        "id": "SlwgKvhai3Ii"
      }
    },
    {
      "cell_type": "code",
      "source": [
        "df.shape"
      ],
      "metadata": {
        "colab": {
          "base_uri": "https://localhost:8080/"
        },
        "id": "aKlQrzCojDrB",
        "outputId": "49644f38-5092-4368-a207-28a912956525"
      },
      "execution_count": null,
      "outputs": [
        {
          "output_type": "execute_result",
          "data": {
            "text/plain": [
              "(2149, 35)"
            ]
          },
          "metadata": {},
          "execution_count": 155
        }
      ]
    },
    {
      "cell_type": "markdown",
      "source": [
        "**Display sample data**"
      ],
      "metadata": {
        "id": "th_Z44koiuiC"
      }
    },
    {
      "cell_type": "code",
      "source": [
        "df.head()"
      ],
      "metadata": {
        "id": "G4EAUiE66FnU",
        "outputId": "b9a54500-c59e-42d4-e007-71480b7784c6",
        "colab": {
          "base_uri": "https://localhost:8080/",
          "height": 255
        }
      },
      "execution_count": null,
      "outputs": [
        {
          "output_type": "execute_result",
          "data": {
            "text/plain": [
              "   PatientID  Age  Gender  Ethnicity  EducationLevel        BMI  Smoking  \\\n",
              "0       4751   73       0          0               2  22.927749        0   \n",
              "1       4752   89       0          0               0  26.827681        0   \n",
              "2       4753   73       0          3               1  17.795882        0   \n",
              "3       4754   74       1          0               1  33.800817        1   \n",
              "4       4755   89       0          0               0  20.716974        0   \n",
              "\n",
              "   AlcoholConsumption  PhysicalActivity  DietQuality  ...  MemoryComplaints  \\\n",
              "0           13.297218          6.327112     1.347214  ...                 0   \n",
              "1            4.542524          7.619885     0.518767  ...                 0   \n",
              "2           19.555085          7.844988     1.826335  ...                 0   \n",
              "3           12.209266          8.428001     7.435604  ...                 0   \n",
              "4           18.454356          6.310461     0.795498  ...                 0   \n",
              "\n",
              "   BehavioralProblems       ADL  Confusion  Disorientation  \\\n",
              "0                   0  1.725883          0               0   \n",
              "1                   0  2.592424          0               0   \n",
              "2                   0  7.119548          0               1   \n",
              "3                   1  6.481226          0               0   \n",
              "4                   0  0.014691          0               0   \n",
              "\n",
              "   PersonalityChanges  DifficultyCompletingTasks  Forgetfulness  Diagnosis  \\\n",
              "0                   0                          1              0          0   \n",
              "1                   0                          0              1          0   \n",
              "2                   0                          1              0          0   \n",
              "3                   0                          0              0          0   \n",
              "4                   1                          1              0          0   \n",
              "\n",
              "   DoctorInCharge  \n",
              "0       XXXConfid  \n",
              "1       XXXConfid  \n",
              "2       XXXConfid  \n",
              "3       XXXConfid  \n",
              "4       XXXConfid  \n",
              "\n",
              "[5 rows x 35 columns]"
            ],
            "text/html": [
              "\n",
              "  <div id=\"df-f1acce25-a5fb-47ea-981d-3a9e29566ea7\" class=\"colab-df-container\">\n",
              "    <div>\n",
              "<style scoped>\n",
              "    .dataframe tbody tr th:only-of-type {\n",
              "        vertical-align: middle;\n",
              "    }\n",
              "\n",
              "    .dataframe tbody tr th {\n",
              "        vertical-align: top;\n",
              "    }\n",
              "\n",
              "    .dataframe thead th {\n",
              "        text-align: right;\n",
              "    }\n",
              "</style>\n",
              "<table border=\"1\" class=\"dataframe\">\n",
              "  <thead>\n",
              "    <tr style=\"text-align: right;\">\n",
              "      <th></th>\n",
              "      <th>PatientID</th>\n",
              "      <th>Age</th>\n",
              "      <th>Gender</th>\n",
              "      <th>Ethnicity</th>\n",
              "      <th>EducationLevel</th>\n",
              "      <th>BMI</th>\n",
              "      <th>Smoking</th>\n",
              "      <th>AlcoholConsumption</th>\n",
              "      <th>PhysicalActivity</th>\n",
              "      <th>DietQuality</th>\n",
              "      <th>...</th>\n",
              "      <th>MemoryComplaints</th>\n",
              "      <th>BehavioralProblems</th>\n",
              "      <th>ADL</th>\n",
              "      <th>Confusion</th>\n",
              "      <th>Disorientation</th>\n",
              "      <th>PersonalityChanges</th>\n",
              "      <th>DifficultyCompletingTasks</th>\n",
              "      <th>Forgetfulness</th>\n",
              "      <th>Diagnosis</th>\n",
              "      <th>DoctorInCharge</th>\n",
              "    </tr>\n",
              "  </thead>\n",
              "  <tbody>\n",
              "    <tr>\n",
              "      <th>0</th>\n",
              "      <td>4751</td>\n",
              "      <td>73</td>\n",
              "      <td>0</td>\n",
              "      <td>0</td>\n",
              "      <td>2</td>\n",
              "      <td>22.927749</td>\n",
              "      <td>0</td>\n",
              "      <td>13.297218</td>\n",
              "      <td>6.327112</td>\n",
              "      <td>1.347214</td>\n",
              "      <td>...</td>\n",
              "      <td>0</td>\n",
              "      <td>0</td>\n",
              "      <td>1.725883</td>\n",
              "      <td>0</td>\n",
              "      <td>0</td>\n",
              "      <td>0</td>\n",
              "      <td>1</td>\n",
              "      <td>0</td>\n",
              "      <td>0</td>\n",
              "      <td>XXXConfid</td>\n",
              "    </tr>\n",
              "    <tr>\n",
              "      <th>1</th>\n",
              "      <td>4752</td>\n",
              "      <td>89</td>\n",
              "      <td>0</td>\n",
              "      <td>0</td>\n",
              "      <td>0</td>\n",
              "      <td>26.827681</td>\n",
              "      <td>0</td>\n",
              "      <td>4.542524</td>\n",
              "      <td>7.619885</td>\n",
              "      <td>0.518767</td>\n",
              "      <td>...</td>\n",
              "      <td>0</td>\n",
              "      <td>0</td>\n",
              "      <td>2.592424</td>\n",
              "      <td>0</td>\n",
              "      <td>0</td>\n",
              "      <td>0</td>\n",
              "      <td>0</td>\n",
              "      <td>1</td>\n",
              "      <td>0</td>\n",
              "      <td>XXXConfid</td>\n",
              "    </tr>\n",
              "    <tr>\n",
              "      <th>2</th>\n",
              "      <td>4753</td>\n",
              "      <td>73</td>\n",
              "      <td>0</td>\n",
              "      <td>3</td>\n",
              "      <td>1</td>\n",
              "      <td>17.795882</td>\n",
              "      <td>0</td>\n",
              "      <td>19.555085</td>\n",
              "      <td>7.844988</td>\n",
              "      <td>1.826335</td>\n",
              "      <td>...</td>\n",
              "      <td>0</td>\n",
              "      <td>0</td>\n",
              "      <td>7.119548</td>\n",
              "      <td>0</td>\n",
              "      <td>1</td>\n",
              "      <td>0</td>\n",
              "      <td>1</td>\n",
              "      <td>0</td>\n",
              "      <td>0</td>\n",
              "      <td>XXXConfid</td>\n",
              "    </tr>\n",
              "    <tr>\n",
              "      <th>3</th>\n",
              "      <td>4754</td>\n",
              "      <td>74</td>\n",
              "      <td>1</td>\n",
              "      <td>0</td>\n",
              "      <td>1</td>\n",
              "      <td>33.800817</td>\n",
              "      <td>1</td>\n",
              "      <td>12.209266</td>\n",
              "      <td>8.428001</td>\n",
              "      <td>7.435604</td>\n",
              "      <td>...</td>\n",
              "      <td>0</td>\n",
              "      <td>1</td>\n",
              "      <td>6.481226</td>\n",
              "      <td>0</td>\n",
              "      <td>0</td>\n",
              "      <td>0</td>\n",
              "      <td>0</td>\n",
              "      <td>0</td>\n",
              "      <td>0</td>\n",
              "      <td>XXXConfid</td>\n",
              "    </tr>\n",
              "    <tr>\n",
              "      <th>4</th>\n",
              "      <td>4755</td>\n",
              "      <td>89</td>\n",
              "      <td>0</td>\n",
              "      <td>0</td>\n",
              "      <td>0</td>\n",
              "      <td>20.716974</td>\n",
              "      <td>0</td>\n",
              "      <td>18.454356</td>\n",
              "      <td>6.310461</td>\n",
              "      <td>0.795498</td>\n",
              "      <td>...</td>\n",
              "      <td>0</td>\n",
              "      <td>0</td>\n",
              "      <td>0.014691</td>\n",
              "      <td>0</td>\n",
              "      <td>0</td>\n",
              "      <td>1</td>\n",
              "      <td>1</td>\n",
              "      <td>0</td>\n",
              "      <td>0</td>\n",
              "      <td>XXXConfid</td>\n",
              "    </tr>\n",
              "  </tbody>\n",
              "</table>\n",
              "<p>5 rows × 35 columns</p>\n",
              "</div>\n",
              "    <div class=\"colab-df-buttons\">\n",
              "\n",
              "  <div class=\"colab-df-container\">\n",
              "    <button class=\"colab-df-convert\" onclick=\"convertToInteractive('df-f1acce25-a5fb-47ea-981d-3a9e29566ea7')\"\n",
              "            title=\"Convert this dataframe to an interactive table.\"\n",
              "            style=\"display:none;\">\n",
              "\n",
              "  <svg xmlns=\"http://www.w3.org/2000/svg\" height=\"24px\" viewBox=\"0 -960 960 960\">\n",
              "    <path d=\"M120-120v-720h720v720H120Zm60-500h600v-160H180v160Zm220 220h160v-160H400v160Zm0 220h160v-160H400v160ZM180-400h160v-160H180v160Zm440 0h160v-160H620v160ZM180-180h160v-160H180v160Zm440 0h160v-160H620v160Z\"/>\n",
              "  </svg>\n",
              "    </button>\n",
              "\n",
              "  <style>\n",
              "    .colab-df-container {\n",
              "      display:flex;\n",
              "      gap: 12px;\n",
              "    }\n",
              "\n",
              "    .colab-df-convert {\n",
              "      background-color: #E8F0FE;\n",
              "      border: none;\n",
              "      border-radius: 50%;\n",
              "      cursor: pointer;\n",
              "      display: none;\n",
              "      fill: #1967D2;\n",
              "      height: 32px;\n",
              "      padding: 0 0 0 0;\n",
              "      width: 32px;\n",
              "    }\n",
              "\n",
              "    .colab-df-convert:hover {\n",
              "      background-color: #E2EBFA;\n",
              "      box-shadow: 0px 1px 2px rgba(60, 64, 67, 0.3), 0px 1px 3px 1px rgba(60, 64, 67, 0.15);\n",
              "      fill: #174EA6;\n",
              "    }\n",
              "\n",
              "    .colab-df-buttons div {\n",
              "      margin-bottom: 4px;\n",
              "    }\n",
              "\n",
              "    [theme=dark] .colab-df-convert {\n",
              "      background-color: #3B4455;\n",
              "      fill: #D2E3FC;\n",
              "    }\n",
              "\n",
              "    [theme=dark] .colab-df-convert:hover {\n",
              "      background-color: #434B5C;\n",
              "      box-shadow: 0px 1px 3px 1px rgba(0, 0, 0, 0.15);\n",
              "      filter: drop-shadow(0px 1px 2px rgba(0, 0, 0, 0.3));\n",
              "      fill: #FFFFFF;\n",
              "    }\n",
              "  </style>\n",
              "\n",
              "    <script>\n",
              "      const buttonEl =\n",
              "        document.querySelector('#df-f1acce25-a5fb-47ea-981d-3a9e29566ea7 button.colab-df-convert');\n",
              "      buttonEl.style.display =\n",
              "        google.colab.kernel.accessAllowed ? 'block' : 'none';\n",
              "\n",
              "      async function convertToInteractive(key) {\n",
              "        const element = document.querySelector('#df-f1acce25-a5fb-47ea-981d-3a9e29566ea7');\n",
              "        const dataTable =\n",
              "          await google.colab.kernel.invokeFunction('convertToInteractive',\n",
              "                                                    [key], {});\n",
              "        if (!dataTable) return;\n",
              "\n",
              "        const docLinkHtml = 'Like what you see? Visit the ' +\n",
              "          '<a target=\"_blank\" href=https://colab.research.google.com/notebooks/data_table.ipynb>data table notebook</a>'\n",
              "          + ' to learn more about interactive tables.';\n",
              "        element.innerHTML = '';\n",
              "        dataTable['output_type'] = 'display_data';\n",
              "        await google.colab.output.renderOutput(dataTable, element);\n",
              "        const docLink = document.createElement('div');\n",
              "        docLink.innerHTML = docLinkHtml;\n",
              "        element.appendChild(docLink);\n",
              "      }\n",
              "    </script>\n",
              "  </div>\n",
              "\n",
              "\n",
              "    <div id=\"df-fdf9cff5-7bf9-4013-a761-d67caa5ae94e\">\n",
              "      <button class=\"colab-df-quickchart\" onclick=\"quickchart('df-fdf9cff5-7bf9-4013-a761-d67caa5ae94e')\"\n",
              "                title=\"Suggest charts\"\n",
              "                style=\"display:none;\">\n",
              "\n",
              "<svg xmlns=\"http://www.w3.org/2000/svg\" height=\"24px\"viewBox=\"0 0 24 24\"\n",
              "     width=\"24px\">\n",
              "    <g>\n",
              "        <path d=\"M19 3H5c-1.1 0-2 .9-2 2v14c0 1.1.9 2 2 2h14c1.1 0 2-.9 2-2V5c0-1.1-.9-2-2-2zM9 17H7v-7h2v7zm4 0h-2V7h2v10zm4 0h-2v-4h2v4z\"/>\n",
              "    </g>\n",
              "</svg>\n",
              "      </button>\n",
              "\n",
              "<style>\n",
              "  .colab-df-quickchart {\n",
              "      --bg-color: #E8F0FE;\n",
              "      --fill-color: #1967D2;\n",
              "      --hover-bg-color: #E2EBFA;\n",
              "      --hover-fill-color: #174EA6;\n",
              "      --disabled-fill-color: #AAA;\n",
              "      --disabled-bg-color: #DDD;\n",
              "  }\n",
              "\n",
              "  [theme=dark] .colab-df-quickchart {\n",
              "      --bg-color: #3B4455;\n",
              "      --fill-color: #D2E3FC;\n",
              "      --hover-bg-color: #434B5C;\n",
              "      --hover-fill-color: #FFFFFF;\n",
              "      --disabled-bg-color: #3B4455;\n",
              "      --disabled-fill-color: #666;\n",
              "  }\n",
              "\n",
              "  .colab-df-quickchart {\n",
              "    background-color: var(--bg-color);\n",
              "    border: none;\n",
              "    border-radius: 50%;\n",
              "    cursor: pointer;\n",
              "    display: none;\n",
              "    fill: var(--fill-color);\n",
              "    height: 32px;\n",
              "    padding: 0;\n",
              "    width: 32px;\n",
              "  }\n",
              "\n",
              "  .colab-df-quickchart:hover {\n",
              "    background-color: var(--hover-bg-color);\n",
              "    box-shadow: 0 1px 2px rgba(60, 64, 67, 0.3), 0 1px 3px 1px rgba(60, 64, 67, 0.15);\n",
              "    fill: var(--button-hover-fill-color);\n",
              "  }\n",
              "\n",
              "  .colab-df-quickchart-complete:disabled,\n",
              "  .colab-df-quickchart-complete:disabled:hover {\n",
              "    background-color: var(--disabled-bg-color);\n",
              "    fill: var(--disabled-fill-color);\n",
              "    box-shadow: none;\n",
              "  }\n",
              "\n",
              "  .colab-df-spinner {\n",
              "    border: 2px solid var(--fill-color);\n",
              "    border-color: transparent;\n",
              "    border-bottom-color: var(--fill-color);\n",
              "    animation:\n",
              "      spin 1s steps(1) infinite;\n",
              "  }\n",
              "\n",
              "  @keyframes spin {\n",
              "    0% {\n",
              "      border-color: transparent;\n",
              "      border-bottom-color: var(--fill-color);\n",
              "      border-left-color: var(--fill-color);\n",
              "    }\n",
              "    20% {\n",
              "      border-color: transparent;\n",
              "      border-left-color: var(--fill-color);\n",
              "      border-top-color: var(--fill-color);\n",
              "    }\n",
              "    30% {\n",
              "      border-color: transparent;\n",
              "      border-left-color: var(--fill-color);\n",
              "      border-top-color: var(--fill-color);\n",
              "      border-right-color: var(--fill-color);\n",
              "    }\n",
              "    40% {\n",
              "      border-color: transparent;\n",
              "      border-right-color: var(--fill-color);\n",
              "      border-top-color: var(--fill-color);\n",
              "    }\n",
              "    60% {\n",
              "      border-color: transparent;\n",
              "      border-right-color: var(--fill-color);\n",
              "    }\n",
              "    80% {\n",
              "      border-color: transparent;\n",
              "      border-right-color: var(--fill-color);\n",
              "      border-bottom-color: var(--fill-color);\n",
              "    }\n",
              "    90% {\n",
              "      border-color: transparent;\n",
              "      border-bottom-color: var(--fill-color);\n",
              "    }\n",
              "  }\n",
              "</style>\n",
              "\n",
              "      <script>\n",
              "        async function quickchart(key) {\n",
              "          const quickchartButtonEl =\n",
              "            document.querySelector('#' + key + ' button');\n",
              "          quickchartButtonEl.disabled = true;  // To prevent multiple clicks.\n",
              "          quickchartButtonEl.classList.add('colab-df-spinner');\n",
              "          try {\n",
              "            const charts = await google.colab.kernel.invokeFunction(\n",
              "                'suggestCharts', [key], {});\n",
              "          } catch (error) {\n",
              "            console.error('Error during call to suggestCharts:', error);\n",
              "          }\n",
              "          quickchartButtonEl.classList.remove('colab-df-spinner');\n",
              "          quickchartButtonEl.classList.add('colab-df-quickchart-complete');\n",
              "        }\n",
              "        (() => {\n",
              "          let quickchartButtonEl =\n",
              "            document.querySelector('#df-fdf9cff5-7bf9-4013-a761-d67caa5ae94e button');\n",
              "          quickchartButtonEl.style.display =\n",
              "            google.colab.kernel.accessAllowed ? 'block' : 'none';\n",
              "        })();\n",
              "      </script>\n",
              "    </div>\n",
              "\n",
              "    </div>\n",
              "  </div>\n"
            ],
            "application/vnd.google.colaboratory.intrinsic+json": {
              "type": "dataframe",
              "variable_name": "df"
            }
          },
          "metadata": {},
          "execution_count": 156
        }
      ]
    },
    {
      "cell_type": "code",
      "source": [
        "# df.sample(n = 10)"
      ],
      "metadata": {
        "id": "58Jpr3_y6Kwk"
      },
      "execution_count": null,
      "outputs": []
    },
    {
      "cell_type": "code",
      "source": [
        "# Drop the DoctorInCharge column\n",
        "df.drop(columns='DoctorInCharge', inplace=True)"
      ],
      "metadata": {
        "id": "MmnC1tQRcKBo"
      },
      "execution_count": null,
      "outputs": []
    },
    {
      "cell_type": "code",
      "source": [
        "# Drop rows with any NaN values\n",
        "df = df.dropna()"
      ],
      "metadata": {
        "id": "qoslSB76mw5T"
      },
      "execution_count": null,
      "outputs": []
    },
    {
      "cell_type": "code",
      "source": [
        "df.sample(n = 10)"
      ],
      "metadata": {
        "colab": {
          "base_uri": "https://localhost:8080/",
          "height": 412
        },
        "id": "h6AQLPjHBj1n",
        "outputId": "3c7ed2ce-65b0-4391-ba77-b22a0d8c1464"
      },
      "execution_count": null,
      "outputs": [
        {
          "output_type": "execute_result",
          "data": {
            "text/plain": [
              "      PatientID  Age  Gender  Ethnicity  EducationLevel        BMI  Smoking  \\\n",
              "1729       6480   68       1          0               2  35.999281        0   \n",
              "515        5266   71       0          0               0  20.650885        0   \n",
              "1951       6702   87       0          0               1  30.629049        1   \n",
              "2075       6826   68       0          0               3  17.908259        0   \n",
              "766        5517   61       1          1               1  31.414055        0   \n",
              "662        5413   61       1          3               2  17.606458        0   \n",
              "496        5247   79       1          0               1  36.733340        0   \n",
              "484        5235   62       0          0               1  17.458485        0   \n",
              "85         4836   71       1          0               2  22.619513        0   \n",
              "1364       6115   78       0          1               2  36.577665        0   \n",
              "\n",
              "      AlcoholConsumption  PhysicalActivity  DietQuality  ...  \\\n",
              "1729           11.821463          3.323240     8.286929  ...   \n",
              "515             7.051123          8.221333     8.121182  ...   \n",
              "1951            6.245747          9.111274     8.117240  ...   \n",
              "2075           18.487284          6.295096     6.074756  ...   \n",
              "766            14.254247          9.252043     0.937933  ...   \n",
              "662             4.595971          6.198392     6.993952  ...   \n",
              "496             2.000227          0.737339     5.015220  ...   \n",
              "484             3.548892          1.699286     0.852807  ...   \n",
              "85              5.436570          4.012126     1.442216  ...   \n",
              "1364            9.043887          7.118054     0.953797  ...   \n",
              "\n",
              "      FunctionalAssessment  MemoryComplaints  BehavioralProblems       ADL  \\\n",
              "1729              7.958844                 0                   0  9.077719   \n",
              "515               2.513649                 0                   1  6.462173   \n",
              "1951              4.220353                 0                   0  7.071664   \n",
              "2075              7.650751                 0                   0  9.453192   \n",
              "766               0.885236                 0                   1  8.638541   \n",
              "662               3.016133                 0                   0  2.454000   \n",
              "496               2.104051                 0                   0  2.261660   \n",
              "484               5.969031                 1                   0  8.294355   \n",
              "85                4.980645                 0                   0  5.601810   \n",
              "1364              5.525455                 0                   0  9.289412   \n",
              "\n",
              "      Confusion  Disorientation  PersonalityChanges  \\\n",
              "1729          0               0                   0   \n",
              "515           0               1                   0   \n",
              "1951          0               0                   0   \n",
              "2075          0               0                   0   \n",
              "766           0               0                   0   \n",
              "662           0               0                   0   \n",
              "496           0               0                   0   \n",
              "484           0               1                   0   \n",
              "85            0               0                   0   \n",
              "1364          0               0                   0   \n",
              "\n",
              "      DifficultyCompletingTasks  Forgetfulness  Diagnosis  \n",
              "1729                          0              1          0  \n",
              "515                           0              0          1  \n",
              "1951                          0              0          0  \n",
              "2075                          0              0          0  \n",
              "766                           0              0          0  \n",
              "662                           0              0          1  \n",
              "496                           0              0          1  \n",
              "484                           1              1          0  \n",
              "85                            0              0          0  \n",
              "1364                          0              0          0  \n",
              "\n",
              "[10 rows x 34 columns]"
            ],
            "text/html": [
              "\n",
              "  <div id=\"df-6c48d878-633d-423f-85d4-b641f1582b1d\" class=\"colab-df-container\">\n",
              "    <div>\n",
              "<style scoped>\n",
              "    .dataframe tbody tr th:only-of-type {\n",
              "        vertical-align: middle;\n",
              "    }\n",
              "\n",
              "    .dataframe tbody tr th {\n",
              "        vertical-align: top;\n",
              "    }\n",
              "\n",
              "    .dataframe thead th {\n",
              "        text-align: right;\n",
              "    }\n",
              "</style>\n",
              "<table border=\"1\" class=\"dataframe\">\n",
              "  <thead>\n",
              "    <tr style=\"text-align: right;\">\n",
              "      <th></th>\n",
              "      <th>PatientID</th>\n",
              "      <th>Age</th>\n",
              "      <th>Gender</th>\n",
              "      <th>Ethnicity</th>\n",
              "      <th>EducationLevel</th>\n",
              "      <th>BMI</th>\n",
              "      <th>Smoking</th>\n",
              "      <th>AlcoholConsumption</th>\n",
              "      <th>PhysicalActivity</th>\n",
              "      <th>DietQuality</th>\n",
              "      <th>...</th>\n",
              "      <th>FunctionalAssessment</th>\n",
              "      <th>MemoryComplaints</th>\n",
              "      <th>BehavioralProblems</th>\n",
              "      <th>ADL</th>\n",
              "      <th>Confusion</th>\n",
              "      <th>Disorientation</th>\n",
              "      <th>PersonalityChanges</th>\n",
              "      <th>DifficultyCompletingTasks</th>\n",
              "      <th>Forgetfulness</th>\n",
              "      <th>Diagnosis</th>\n",
              "    </tr>\n",
              "  </thead>\n",
              "  <tbody>\n",
              "    <tr>\n",
              "      <th>1729</th>\n",
              "      <td>6480</td>\n",
              "      <td>68</td>\n",
              "      <td>1</td>\n",
              "      <td>0</td>\n",
              "      <td>2</td>\n",
              "      <td>35.999281</td>\n",
              "      <td>0</td>\n",
              "      <td>11.821463</td>\n",
              "      <td>3.323240</td>\n",
              "      <td>8.286929</td>\n",
              "      <td>...</td>\n",
              "      <td>7.958844</td>\n",
              "      <td>0</td>\n",
              "      <td>0</td>\n",
              "      <td>9.077719</td>\n",
              "      <td>0</td>\n",
              "      <td>0</td>\n",
              "      <td>0</td>\n",
              "      <td>0</td>\n",
              "      <td>1</td>\n",
              "      <td>0</td>\n",
              "    </tr>\n",
              "    <tr>\n",
              "      <th>515</th>\n",
              "      <td>5266</td>\n",
              "      <td>71</td>\n",
              "      <td>0</td>\n",
              "      <td>0</td>\n",
              "      <td>0</td>\n",
              "      <td>20.650885</td>\n",
              "      <td>0</td>\n",
              "      <td>7.051123</td>\n",
              "      <td>8.221333</td>\n",
              "      <td>8.121182</td>\n",
              "      <td>...</td>\n",
              "      <td>2.513649</td>\n",
              "      <td>0</td>\n",
              "      <td>1</td>\n",
              "      <td>6.462173</td>\n",
              "      <td>0</td>\n",
              "      <td>1</td>\n",
              "      <td>0</td>\n",
              "      <td>0</td>\n",
              "      <td>0</td>\n",
              "      <td>1</td>\n",
              "    </tr>\n",
              "    <tr>\n",
              "      <th>1951</th>\n",
              "      <td>6702</td>\n",
              "      <td>87</td>\n",
              "      <td>0</td>\n",
              "      <td>0</td>\n",
              "      <td>1</td>\n",
              "      <td>30.629049</td>\n",
              "      <td>1</td>\n",
              "      <td>6.245747</td>\n",
              "      <td>9.111274</td>\n",
              "      <td>8.117240</td>\n",
              "      <td>...</td>\n",
              "      <td>4.220353</td>\n",
              "      <td>0</td>\n",
              "      <td>0</td>\n",
              "      <td>7.071664</td>\n",
              "      <td>0</td>\n",
              "      <td>0</td>\n",
              "      <td>0</td>\n",
              "      <td>0</td>\n",
              "      <td>0</td>\n",
              "      <td>0</td>\n",
              "    </tr>\n",
              "    <tr>\n",
              "      <th>2075</th>\n",
              "      <td>6826</td>\n",
              "      <td>68</td>\n",
              "      <td>0</td>\n",
              "      <td>0</td>\n",
              "      <td>3</td>\n",
              "      <td>17.908259</td>\n",
              "      <td>0</td>\n",
              "      <td>18.487284</td>\n",
              "      <td>6.295096</td>\n",
              "      <td>6.074756</td>\n",
              "      <td>...</td>\n",
              "      <td>7.650751</td>\n",
              "      <td>0</td>\n",
              "      <td>0</td>\n",
              "      <td>9.453192</td>\n",
              "      <td>0</td>\n",
              "      <td>0</td>\n",
              "      <td>0</td>\n",
              "      <td>0</td>\n",
              "      <td>0</td>\n",
              "      <td>0</td>\n",
              "    </tr>\n",
              "    <tr>\n",
              "      <th>766</th>\n",
              "      <td>5517</td>\n",
              "      <td>61</td>\n",
              "      <td>1</td>\n",
              "      <td>1</td>\n",
              "      <td>1</td>\n",
              "      <td>31.414055</td>\n",
              "      <td>0</td>\n",
              "      <td>14.254247</td>\n",
              "      <td>9.252043</td>\n",
              "      <td>0.937933</td>\n",
              "      <td>...</td>\n",
              "      <td>0.885236</td>\n",
              "      <td>0</td>\n",
              "      <td>1</td>\n",
              "      <td>8.638541</td>\n",
              "      <td>0</td>\n",
              "      <td>0</td>\n",
              "      <td>0</td>\n",
              "      <td>0</td>\n",
              "      <td>0</td>\n",
              "      <td>0</td>\n",
              "    </tr>\n",
              "    <tr>\n",
              "      <th>662</th>\n",
              "      <td>5413</td>\n",
              "      <td>61</td>\n",
              "      <td>1</td>\n",
              "      <td>3</td>\n",
              "      <td>2</td>\n",
              "      <td>17.606458</td>\n",
              "      <td>0</td>\n",
              "      <td>4.595971</td>\n",
              "      <td>6.198392</td>\n",
              "      <td>6.993952</td>\n",
              "      <td>...</td>\n",
              "      <td>3.016133</td>\n",
              "      <td>0</td>\n",
              "      <td>0</td>\n",
              "      <td>2.454000</td>\n",
              "      <td>0</td>\n",
              "      <td>0</td>\n",
              "      <td>0</td>\n",
              "      <td>0</td>\n",
              "      <td>0</td>\n",
              "      <td>1</td>\n",
              "    </tr>\n",
              "    <tr>\n",
              "      <th>496</th>\n",
              "      <td>5247</td>\n",
              "      <td>79</td>\n",
              "      <td>1</td>\n",
              "      <td>0</td>\n",
              "      <td>1</td>\n",
              "      <td>36.733340</td>\n",
              "      <td>0</td>\n",
              "      <td>2.000227</td>\n",
              "      <td>0.737339</td>\n",
              "      <td>5.015220</td>\n",
              "      <td>...</td>\n",
              "      <td>2.104051</td>\n",
              "      <td>0</td>\n",
              "      <td>0</td>\n",
              "      <td>2.261660</td>\n",
              "      <td>0</td>\n",
              "      <td>0</td>\n",
              "      <td>0</td>\n",
              "      <td>0</td>\n",
              "      <td>0</td>\n",
              "      <td>1</td>\n",
              "    </tr>\n",
              "    <tr>\n",
              "      <th>484</th>\n",
              "      <td>5235</td>\n",
              "      <td>62</td>\n",
              "      <td>0</td>\n",
              "      <td>0</td>\n",
              "      <td>1</td>\n",
              "      <td>17.458485</td>\n",
              "      <td>0</td>\n",
              "      <td>3.548892</td>\n",
              "      <td>1.699286</td>\n",
              "      <td>0.852807</td>\n",
              "      <td>...</td>\n",
              "      <td>5.969031</td>\n",
              "      <td>1</td>\n",
              "      <td>0</td>\n",
              "      <td>8.294355</td>\n",
              "      <td>0</td>\n",
              "      <td>1</td>\n",
              "      <td>0</td>\n",
              "      <td>1</td>\n",
              "      <td>1</td>\n",
              "      <td>0</td>\n",
              "    </tr>\n",
              "    <tr>\n",
              "      <th>85</th>\n",
              "      <td>4836</td>\n",
              "      <td>71</td>\n",
              "      <td>1</td>\n",
              "      <td>0</td>\n",
              "      <td>2</td>\n",
              "      <td>22.619513</td>\n",
              "      <td>0</td>\n",
              "      <td>5.436570</td>\n",
              "      <td>4.012126</td>\n",
              "      <td>1.442216</td>\n",
              "      <td>...</td>\n",
              "      <td>4.980645</td>\n",
              "      <td>0</td>\n",
              "      <td>0</td>\n",
              "      <td>5.601810</td>\n",
              "      <td>0</td>\n",
              "      <td>0</td>\n",
              "      <td>0</td>\n",
              "      <td>0</td>\n",
              "      <td>0</td>\n",
              "      <td>0</td>\n",
              "    </tr>\n",
              "    <tr>\n",
              "      <th>1364</th>\n",
              "      <td>6115</td>\n",
              "      <td>78</td>\n",
              "      <td>0</td>\n",
              "      <td>1</td>\n",
              "      <td>2</td>\n",
              "      <td>36.577665</td>\n",
              "      <td>0</td>\n",
              "      <td>9.043887</td>\n",
              "      <td>7.118054</td>\n",
              "      <td>0.953797</td>\n",
              "      <td>...</td>\n",
              "      <td>5.525455</td>\n",
              "      <td>0</td>\n",
              "      <td>0</td>\n",
              "      <td>9.289412</td>\n",
              "      <td>0</td>\n",
              "      <td>0</td>\n",
              "      <td>0</td>\n",
              "      <td>0</td>\n",
              "      <td>0</td>\n",
              "      <td>0</td>\n",
              "    </tr>\n",
              "  </tbody>\n",
              "</table>\n",
              "<p>10 rows × 34 columns</p>\n",
              "</div>\n",
              "    <div class=\"colab-df-buttons\">\n",
              "\n",
              "  <div class=\"colab-df-container\">\n",
              "    <button class=\"colab-df-convert\" onclick=\"convertToInteractive('df-6c48d878-633d-423f-85d4-b641f1582b1d')\"\n",
              "            title=\"Convert this dataframe to an interactive table.\"\n",
              "            style=\"display:none;\">\n",
              "\n",
              "  <svg xmlns=\"http://www.w3.org/2000/svg\" height=\"24px\" viewBox=\"0 -960 960 960\">\n",
              "    <path d=\"M120-120v-720h720v720H120Zm60-500h600v-160H180v160Zm220 220h160v-160H400v160Zm0 220h160v-160H400v160ZM180-400h160v-160H180v160Zm440 0h160v-160H620v160ZM180-180h160v-160H180v160Zm440 0h160v-160H620v160Z\"/>\n",
              "  </svg>\n",
              "    </button>\n",
              "\n",
              "  <style>\n",
              "    .colab-df-container {\n",
              "      display:flex;\n",
              "      gap: 12px;\n",
              "    }\n",
              "\n",
              "    .colab-df-convert {\n",
              "      background-color: #E8F0FE;\n",
              "      border: none;\n",
              "      border-radius: 50%;\n",
              "      cursor: pointer;\n",
              "      display: none;\n",
              "      fill: #1967D2;\n",
              "      height: 32px;\n",
              "      padding: 0 0 0 0;\n",
              "      width: 32px;\n",
              "    }\n",
              "\n",
              "    .colab-df-convert:hover {\n",
              "      background-color: #E2EBFA;\n",
              "      box-shadow: 0px 1px 2px rgba(60, 64, 67, 0.3), 0px 1px 3px 1px rgba(60, 64, 67, 0.15);\n",
              "      fill: #174EA6;\n",
              "    }\n",
              "\n",
              "    .colab-df-buttons div {\n",
              "      margin-bottom: 4px;\n",
              "    }\n",
              "\n",
              "    [theme=dark] .colab-df-convert {\n",
              "      background-color: #3B4455;\n",
              "      fill: #D2E3FC;\n",
              "    }\n",
              "\n",
              "    [theme=dark] .colab-df-convert:hover {\n",
              "      background-color: #434B5C;\n",
              "      box-shadow: 0px 1px 3px 1px rgba(0, 0, 0, 0.15);\n",
              "      filter: drop-shadow(0px 1px 2px rgba(0, 0, 0, 0.3));\n",
              "      fill: #FFFFFF;\n",
              "    }\n",
              "  </style>\n",
              "\n",
              "    <script>\n",
              "      const buttonEl =\n",
              "        document.querySelector('#df-6c48d878-633d-423f-85d4-b641f1582b1d button.colab-df-convert');\n",
              "      buttonEl.style.display =\n",
              "        google.colab.kernel.accessAllowed ? 'block' : 'none';\n",
              "\n",
              "      async function convertToInteractive(key) {\n",
              "        const element = document.querySelector('#df-6c48d878-633d-423f-85d4-b641f1582b1d');\n",
              "        const dataTable =\n",
              "          await google.colab.kernel.invokeFunction('convertToInteractive',\n",
              "                                                    [key], {});\n",
              "        if (!dataTable) return;\n",
              "\n",
              "        const docLinkHtml = 'Like what you see? Visit the ' +\n",
              "          '<a target=\"_blank\" href=https://colab.research.google.com/notebooks/data_table.ipynb>data table notebook</a>'\n",
              "          + ' to learn more about interactive tables.';\n",
              "        element.innerHTML = '';\n",
              "        dataTable['output_type'] = 'display_data';\n",
              "        await google.colab.output.renderOutput(dataTable, element);\n",
              "        const docLink = document.createElement('div');\n",
              "        docLink.innerHTML = docLinkHtml;\n",
              "        element.appendChild(docLink);\n",
              "      }\n",
              "    </script>\n",
              "  </div>\n",
              "\n",
              "\n",
              "    <div id=\"df-da3f2f7c-86c0-4966-8add-35293b10f303\">\n",
              "      <button class=\"colab-df-quickchart\" onclick=\"quickchart('df-da3f2f7c-86c0-4966-8add-35293b10f303')\"\n",
              "                title=\"Suggest charts\"\n",
              "                style=\"display:none;\">\n",
              "\n",
              "<svg xmlns=\"http://www.w3.org/2000/svg\" height=\"24px\"viewBox=\"0 0 24 24\"\n",
              "     width=\"24px\">\n",
              "    <g>\n",
              "        <path d=\"M19 3H5c-1.1 0-2 .9-2 2v14c0 1.1.9 2 2 2h14c1.1 0 2-.9 2-2V5c0-1.1-.9-2-2-2zM9 17H7v-7h2v7zm4 0h-2V7h2v10zm4 0h-2v-4h2v4z\"/>\n",
              "    </g>\n",
              "</svg>\n",
              "      </button>\n",
              "\n",
              "<style>\n",
              "  .colab-df-quickchart {\n",
              "      --bg-color: #E8F0FE;\n",
              "      --fill-color: #1967D2;\n",
              "      --hover-bg-color: #E2EBFA;\n",
              "      --hover-fill-color: #174EA6;\n",
              "      --disabled-fill-color: #AAA;\n",
              "      --disabled-bg-color: #DDD;\n",
              "  }\n",
              "\n",
              "  [theme=dark] .colab-df-quickchart {\n",
              "      --bg-color: #3B4455;\n",
              "      --fill-color: #D2E3FC;\n",
              "      --hover-bg-color: #434B5C;\n",
              "      --hover-fill-color: #FFFFFF;\n",
              "      --disabled-bg-color: #3B4455;\n",
              "      --disabled-fill-color: #666;\n",
              "  }\n",
              "\n",
              "  .colab-df-quickchart {\n",
              "    background-color: var(--bg-color);\n",
              "    border: none;\n",
              "    border-radius: 50%;\n",
              "    cursor: pointer;\n",
              "    display: none;\n",
              "    fill: var(--fill-color);\n",
              "    height: 32px;\n",
              "    padding: 0;\n",
              "    width: 32px;\n",
              "  }\n",
              "\n",
              "  .colab-df-quickchart:hover {\n",
              "    background-color: var(--hover-bg-color);\n",
              "    box-shadow: 0 1px 2px rgba(60, 64, 67, 0.3), 0 1px 3px 1px rgba(60, 64, 67, 0.15);\n",
              "    fill: var(--button-hover-fill-color);\n",
              "  }\n",
              "\n",
              "  .colab-df-quickchart-complete:disabled,\n",
              "  .colab-df-quickchart-complete:disabled:hover {\n",
              "    background-color: var(--disabled-bg-color);\n",
              "    fill: var(--disabled-fill-color);\n",
              "    box-shadow: none;\n",
              "  }\n",
              "\n",
              "  .colab-df-spinner {\n",
              "    border: 2px solid var(--fill-color);\n",
              "    border-color: transparent;\n",
              "    border-bottom-color: var(--fill-color);\n",
              "    animation:\n",
              "      spin 1s steps(1) infinite;\n",
              "  }\n",
              "\n",
              "  @keyframes spin {\n",
              "    0% {\n",
              "      border-color: transparent;\n",
              "      border-bottom-color: var(--fill-color);\n",
              "      border-left-color: var(--fill-color);\n",
              "    }\n",
              "    20% {\n",
              "      border-color: transparent;\n",
              "      border-left-color: var(--fill-color);\n",
              "      border-top-color: var(--fill-color);\n",
              "    }\n",
              "    30% {\n",
              "      border-color: transparent;\n",
              "      border-left-color: var(--fill-color);\n",
              "      border-top-color: var(--fill-color);\n",
              "      border-right-color: var(--fill-color);\n",
              "    }\n",
              "    40% {\n",
              "      border-color: transparent;\n",
              "      border-right-color: var(--fill-color);\n",
              "      border-top-color: var(--fill-color);\n",
              "    }\n",
              "    60% {\n",
              "      border-color: transparent;\n",
              "      border-right-color: var(--fill-color);\n",
              "    }\n",
              "    80% {\n",
              "      border-color: transparent;\n",
              "      border-right-color: var(--fill-color);\n",
              "      border-bottom-color: var(--fill-color);\n",
              "    }\n",
              "    90% {\n",
              "      border-color: transparent;\n",
              "      border-bottom-color: var(--fill-color);\n",
              "    }\n",
              "  }\n",
              "</style>\n",
              "\n",
              "      <script>\n",
              "        async function quickchart(key) {\n",
              "          const quickchartButtonEl =\n",
              "            document.querySelector('#' + key + ' button');\n",
              "          quickchartButtonEl.disabled = true;  // To prevent multiple clicks.\n",
              "          quickchartButtonEl.classList.add('colab-df-spinner');\n",
              "          try {\n",
              "            const charts = await google.colab.kernel.invokeFunction(\n",
              "                'suggestCharts', [key], {});\n",
              "          } catch (error) {\n",
              "            console.error('Error during call to suggestCharts:', error);\n",
              "          }\n",
              "          quickchartButtonEl.classList.remove('colab-df-spinner');\n",
              "          quickchartButtonEl.classList.add('colab-df-quickchart-complete');\n",
              "        }\n",
              "        (() => {\n",
              "          let quickchartButtonEl =\n",
              "            document.querySelector('#df-da3f2f7c-86c0-4966-8add-35293b10f303 button');\n",
              "          quickchartButtonEl.style.display =\n",
              "            google.colab.kernel.accessAllowed ? 'block' : 'none';\n",
              "        })();\n",
              "      </script>\n",
              "    </div>\n",
              "\n",
              "    </div>\n",
              "  </div>\n"
            ],
            "application/vnd.google.colaboratory.intrinsic+json": {
              "type": "dataframe"
            }
          },
          "metadata": {},
          "execution_count": 160
        }
      ]
    },
    {
      "cell_type": "code",
      "source": [
        "ones_count = df['Diagnosis'].value_counts()[1]\n",
        "print(ones_count)"
      ],
      "metadata": {
        "colab": {
          "base_uri": "https://localhost:8080/"
        },
        "id": "lkxMl0dXuflE",
        "outputId": "b084ba08-91b9-4a1c-e3c4-6bce8fc647df"
      },
      "execution_count": null,
      "outputs": [
        {
          "output_type": "stream",
          "name": "stdout",
          "text": [
            "760\n"
          ]
        }
      ]
    },
    {
      "cell_type": "code",
      "source": [
        "zeros_count = (df['Diagnosis'] == 0).sum()\n",
        "print(zeros_count)"
      ],
      "metadata": {
        "colab": {
          "base_uri": "https://localhost:8080/"
        },
        "id": "aHOV77JmuhRo",
        "outputId": "f422d5cc-cef5-42a4-f092-a5e49b615a93"
      },
      "execution_count": null,
      "outputs": [
        {
          "output_type": "stream",
          "name": "stdout",
          "text": [
            "1389\n"
          ]
        }
      ]
    },
    {
      "cell_type": "code",
      "source": [
        "import matplotlib.pyplot as plt\n",
        "import seaborn as sns\n",
        "\n",
        "# Create a figure with size 4x3 inches, 80 DPI resolution\n",
        "fig = plt.figure(figsize=(4, 3), dpi=80)\n",
        "\n",
        "# Use 'Diagnosis' as both x and hue to apply palette safely\n",
        "sns.countplot(data=df, x='Diagnosis', hue='Diagnosis', palette='Set2', legend=False)\n",
        "\n",
        "plt.tight_layout()\n",
        "plt.savefig('classes.png')\n",
        "plt.show()"
      ],
      "metadata": {
        "colab": {
          "base_uri": "https://localhost:8080/",
          "height": 249
        },
        "id": "PTwXwIjic4MW",
        "outputId": "cf084e11-729c-4221-ed8e-a57627e94123"
      },
      "execution_count": null,
      "outputs": [
        {
          "output_type": "display_data",
          "data": {
            "text/plain": [
              "<Figure size 320x240 with 1 Axes>"
            ],
            "image/png": "[encoded data removed]"
          },
          "metadata": {}
        }
      ]
    },
    {
      "cell_type": "code",
      "source": [
        "from matplotlib import pyplot as plt\n",
        "import seaborn as sns\n",
        "\n",
        "fig, axes = plt.subplots(1, 3, figsize=(8, 3), sharey=True)\n",
        "\n",
        "sns.countplot(ax=axes[0], data=df, x='Diagnosis', hue='Diagnosis', palette='Set2', legend=False)\n",
        "sns.countplot(ax=axes[1], data=df, x='Gender', hue='Gender', palette='Set1', legend=False)\n",
        "sns.countplot(ax=axes[2], data=df, x='Smoking', hue='Smoking', palette='Set3', legend=False)\n",
        "\n",
        "plt.tight_layout()\n",
        "plt.savefig('Statistics.png')\n",
        "plt.show()"
      ],
      "metadata": {
        "id": "o1zcACsf1bid",
        "colab": {
          "base_uri": "https://localhost:8080/",
          "height": 289
        },
        "outputId": "c6cfbb2c-b62e-4ff3-e7b0-df5ed1270f9b"
      },
      "execution_count": null,
      "outputs": [
        {
          "output_type": "display_data",
          "data": {
            "text/plain": [
              "<Figure size 800x300 with 3 Axes>"
            ],
            "image/png": "[encoded data removed]"
          },
          "metadata": {}
        }
      ]
    },
    {
      "cell_type": "markdown",
      "source": [
        "\n",
        "\n",
        "```\n",
        "# This is formatted as code\n",
        "```\n",
        "\n",
        "**Correlation between different variables**"
      ],
      "metadata": {
        "id": "387bzq4IvdXv"
      }
    },
    {
      "cell_type": "code",
      "source": [
        "# Correlation heatmap with mask for upper traingle\n",
        "# Correlation between different variables\n",
        "corr = df.corr()\n",
        "\n",
        "# get absolute correlation coefficients and sort in descending order\n",
        "abs_corr = corr.abs().sort_values(by='Diagnosis', ascending=False)\n",
        "\n",
        "# display the rank of features based on correlation coefficients\n",
        "rank = abs_corr['Diagnosis'].rank(ascending=False).astype(int)\n",
        "print('Rank of features based on correlation coefficients:\\n', rank)"
      ],
      "metadata": {
        "id": "xgFRof3nvcZ3",
        "outputId": "45f22020-381d-4da0-e023-c0441a1de3a5",
        "colab": {
          "base_uri": "https://localhost:8080/"
        }
      },
      "execution_count": null,
      "outputs": [
        {
          "output_type": "stream",
          "name": "stdout",
          "text": [
            "Rank of features based on correlation coefficients:\n",
            " Diagnosis                     1\n",
            "FunctionalAssessment          2\n",
            "ADL                           3\n",
            "MemoryComplaints              4\n",
            "MMSE                          5\n",
            "BehavioralProblems            6\n",
            "SleepQuality                  7\n",
            "EducationLevel                8\n",
            "CholesterolHDL                9\n",
            "PatientID                    10\n",
            "Hypertension                 11\n",
            "FamilyHistoryAlzheimers      12\n",
            "CholesterolLDL               13\n",
            "Diabetes                     14\n",
            "CardiovascularDisease        15\n",
            "BMI                          16\n",
            "Disorientation               17\n",
            "CholesterolTriglycerides     18\n",
            "HeadInjury                   19\n",
            "Gender                       20\n",
            "PersonalityChanges           21\n",
            "Confusion                    22\n",
            "SystolicBP                   23\n",
            "Ethnicity                    24\n",
            "DifficultyCompletingTasks    25\n",
            "DietQuality                  26\n",
            "AlcoholConsumption           27\n",
            "CholesterolTotal             28\n",
            "PhysicalActivity             29\n",
            "Depression                   30\n",
            "Age                          31\n",
            "DiastolicBP                  32\n",
            "Smoking                      33\n",
            "Forgetfulness                34\n",
            "Name: Diagnosis, dtype: int64\n"
          ]
        }
      ]
    },
    {
      "cell_type": "code",
      "source": [
        "# # Set up the matplotlib plot configuration\n",
        "# f, ax = plt.subplots(figsize=(18, 4))\n",
        "# # Generate a mask for upper traingle\n",
        "# mask = np.triu(np.ones_like(corr, dtype=bool))\n",
        "# # Configure a custom diverging colormap\n",
        "# cmap = sns.diverging_palette(230, 20, as_cmap=True)\n",
        "# # Draw the heatmap\n",
        "# sns.heatmap(corr, annot=True, mask = mask, cmap=cmap)\n",
        "# plt.savefig('Heatmap.png')"
      ],
      "metadata": {
        "id": "vskauaF1Y7DO"
      },
      "execution_count": null,
      "outputs": []
    },
    {
      "cell_type": "markdown",
      "source": [
        "**Oversampling**"
      ],
      "metadata": {
        "id": "qTjX6lZlFbij"
      }
    },
    {
      "cell_type": "code",
      "source": [
        "from imblearn.over_sampling import RandomOverSampler\n",
        "\n",
        "# Assuming your DataFrame is called `df` and the target variable is called `Prediction`\n",
        "X = df.drop('Diagnosis', axis=1)\n",
        "y = df['Diagnosis']\n",
        "\n",
        "# Instantiate a RandomOverSampler object\n",
        "oversampler = RandomOverSampler()\n",
        "\n",
        "# Fit and transform the data\n",
        "X_resampled, y_resampled = oversampler.fit_resample(X, y)\n",
        "\n",
        "# Combine the resampled X and y into a new DataFrame\n",
        "df = pd.concat([X_resampled, y_resampled], axis=1)\n"
      ],
      "metadata": {
        "id": "Z306uzWVBZXv"
      },
      "execution_count": null,
      "outputs": []
    },
    {
      "cell_type": "code",
      "source": [
        "df.shape"
      ],
      "metadata": {
        "id": "nGlKBMEKBlJG",
        "outputId": "697f47cd-8641-45b1-e430-3aa568c41e4c",
        "colab": {
          "base_uri": "https://localhost:8080/"
        }
      },
      "execution_count": null,
      "outputs": [
        {
          "output_type": "execute_result",
          "data": {
            "text/plain": [
              "(2778, 34)"
            ]
          },
          "metadata": {},
          "execution_count": 168
        }
      ]
    },
    {
      "cell_type": "code",
      "source": [
        "# # example of random undersampling to balance the class distribution\n",
        "# from collections import Counter\n",
        "# from sklearn.datasets import make_classification\n",
        "# from imblearn.under_sampling import RandomUnderSampler\n",
        "# from imblearn.over_sampling import RandomOverSampler\n",
        "\n",
        "# # The class can be used just like the RandomOverSampler class in the\n",
        "# # previous section, except the strategies impact the majority class\n",
        "# # instead of the minority class. For example, setting the sampling_strategy\n",
        "# # argument to “majority” will oversample the majority class determined\n",
        "# # by the class with the largest number of examples.\n",
        "\n",
        "# # define Oversample strategy\n",
        "# oversample = RandomOverSampler(sampling_strategy='not majority')\n",
        "# x_over, y_over = oversample.fit_resample(x_data,y_data)"
      ],
      "metadata": {
        "id": "GJiDJDEkqTHL"
      },
      "execution_count": null,
      "outputs": []
    },
    {
      "cell_type": "code",
      "source": [
        "# y_over.value_counts().plot.pie(autopct='%.2f')"
      ],
      "metadata": {
        "id": "w0HhWNiuq-5L"
      },
      "execution_count": null,
      "outputs": []
    },
    {
      "cell_type": "code",
      "source": [
        "# x_over.shape"
      ],
      "metadata": {
        "id": "D-VLe_QzrNV7"
      },
      "execution_count": null,
      "outputs": []
    },
    {
      "cell_type": "code",
      "source": [
        "# X"
      ],
      "metadata": {
        "id": "zjD2OqY8cVVg"
      },
      "execution_count": null,
      "outputs": []
    },
    {
      "cell_type": "markdown",
      "source": [
        "**Preparing data for machine learning classifier**\n",
        "\n"
      ],
      "metadata": {
        "id": "2xZAwB-bj_VT"
      }
    },
    {
      "cell_type": "code",
      "source": [
        "from sklearn.model_selection import train_test_split\n",
        "\n",
        "# Define features and labels\n",
        "X = df.drop(['Diagnosis'], axis=1)\n",
        "y = df['Diagnosis']\n",
        "\n",
        "# Split into training and testing sets\n",
        "x_train, x_test, y_train, y_test = train_test_split(X, y, test_size=0.2, random_state=42)"
      ],
      "metadata": {
        "id": "23DauDz0kFy5"
      },
      "execution_count": null,
      "outputs": []
    },
    {
      "cell_type": "markdown",
      "source": [
        "**Feature selection**"
      ],
      "metadata": {
        "id": "2lTEwq4Q_QEp"
      }
    },
    {
      "cell_type": "code",
      "source": [
        "import pandas as pd\n",
        "from sklearn.model_selection import train_test_split\n",
        "from sklearn.linear_model import LogisticRegression\n",
        "from sklearn.feature_selection import SelectKBest, f_classif\n",
        "\n",
        "#======================================\n",
        "# Apply feature selection using SelectKBest and F-test\n",
        "# We apply feature selection using SelectKBest and F-test, which selects the top 5 features based on their importance.\n",
        "selector  = SelectKBest(f_classif, k=5)\n",
        "#======================================\n",
        "\n",
        "x_train    = selector.fit_transform(X_train, Y_train)\n",
        "x_test     = selector.transform(X_test)\n",
        "\n",
        "y_train = Y_train\n",
        "y_test  = Y_test"
      ],
      "metadata": {
        "id": "9lFWsazaGdWz"
      },
      "execution_count": null,
      "outputs": []
    },
    {
      "cell_type": "code",
      "source": [
        "from sklearn.feature_selection import SelectKBest, f_classif\n",
        "import pandas as pd\n",
        "\n",
        "# Get the selected feature names\n",
        "selected_feature_names = X_train.columns[selector.get_support()]\n",
        "\n",
        "print(selected_feature_names)"
      ],
      "metadata": {
        "id": "wzcbU2X2Y9nS",
        "outputId": "92eae953-fd07-4d3c-bfac-87ae6d69d90f",
        "colab": {
          "base_uri": "https://localhost:8080/"
        }
      },
      "execution_count": null,
      "outputs": [
        {
          "output_type": "stream",
          "name": "stdout",
          "text": [
            "Index(['MMSE', 'FunctionalAssessment', 'MemoryComplaints',\n",
            "       'BehavioralProblems', 'ADL'],\n",
            "      dtype='object')\n"
          ]
        }
      ]
    },
    {
      "cell_type": "code",
      "source": [
        "import matplotlib.pyplot as plt\n",
        "import seaborn as sns\n",
        "\n",
        "# Select the desired columns\n",
        "cols = ['MMSE', 'FunctionalAssessment', 'MemoryComplaints', 'BehavioralProblems', 'ADL']\n",
        "\n",
        "# Compute the correlation matrix\n",
        "corr_matrix = df[cols].corr()\n",
        "\n",
        "# Plot the heatmap\n",
        "plt.figure(figsize=(6, 4))\n",
        "sns.heatmap(corr_matrix, annot=True, cmap='coolwarm', fmt=\".2f\", square=True)\n",
        "\n",
        "# Save the figure\n",
        "plt.tight_layout()\n",
        "plt.savefig('Correlation with Diagnosis.png')\n",
        "plt.show()"
      ],
      "metadata": {
        "id": "ARYJ966H6fT_",
        "colab": {
          "base_uri": "https://localhost:8080/",
          "height": 407
        },
        "outputId": "30b2245c-a589-4891-ba7d-71e2d255eec9"
      },
      "execution_count": null,
      "outputs": [
        {
          "output_type": "display_data",
          "data": {
            "text/plain": [
              "<Figure size 600x400 with 2 Axes>"
            ],
            "image/png": "[encoded data removed]"
          },
          "metadata": {}
        }
      ]
    },
    {
      "cell_type": "code",
      "source": [
        "X_train[selected_feature_names].head()"
      ],
      "metadata": {
        "id": "X4zNO6Vvj1XK",
        "outputId": "e03312e8-2bab-473d-8889-4c3c2551d910",
        "colab": {
          "base_uri": "https://localhost:8080/",
          "height": 206
        }
      },
      "execution_count": null,
      "outputs": [
        {
          "output_type": "execute_result",
          "data": {
            "text/plain": [
              "           MMSE  FunctionalAssessment  MemoryComplaints  BehavioralProblems  \\\n",
              "1334  25.908248              2.567683                 0                   0   \n",
              "2547  12.062543              3.262767                 0                   0   \n",
              "2157   0.364522              1.300508                 1                   0   \n",
              "1590  25.154378              4.243117                 0                   0   \n",
              "1351  25.520716              3.794439                 0                   1   \n",
              "\n",
              "           ADL  \n",
              "1334  4.938271  \n",
              "2547  1.590932  \n",
              "2157  0.880051  \n",
              "1590  8.936122  \n",
              "1351  6.303048  "
            ],
            "text/html": [
              "\n",
              "  <div id=\"df-b8ef1037-b4f1-4e88-a4c9-3dc606b5a346\" class=\"colab-df-container\">\n",
              "    <div>\n",
              "<style scoped>\n",
              "    .dataframe tbody tr th:only-of-type {\n",
              "        vertical-align: middle;\n",
              "    }\n",
              "\n",
              "    .dataframe tbody tr th {\n",
              "        vertical-align: top;\n",
              "    }\n",
              "\n",
              "    .dataframe thead th {\n",
              "        text-align: right;\n",
              "    }\n",
              "</style>\n",
              "<table border=\"1\" class=\"dataframe\">\n",
              "  <thead>\n",
              "    <tr style=\"text-align: right;\">\n",
              "      <th></th>\n",
              "      <th>MMSE</th>\n",
              "      <th>FunctionalAssessment</th>\n",
              "      <th>MemoryComplaints</th>\n",
              "      <th>BehavioralProblems</th>\n",
              "      <th>ADL</th>\n",
              "    </tr>\n",
              "  </thead>\n",
              "  <tbody>\n",
              "    <tr>\n",
              "      <th>1334</th>\n",
              "      <td>25.908248</td>\n",
              "      <td>2.567683</td>\n",
              "      <td>0</td>\n",
              "      <td>0</td>\n",
              "      <td>4.938271</td>\n",
              "    </tr>\n",
              "    <tr>\n",
              "      <th>2547</th>\n",
              "      <td>12.062543</td>\n",
              "      <td>3.262767</td>\n",
              "      <td>0</td>\n",
              "      <td>0</td>\n",
              "      <td>1.590932</td>\n",
              "    </tr>\n",
              "    <tr>\n",
              "      <th>2157</th>\n",
              "      <td>0.364522</td>\n",
              "      <td>1.300508</td>\n",
              "      <td>1</td>\n",
              "      <td>0</td>\n",
              "      <td>0.880051</td>\n",
              "    </tr>\n",
              "    <tr>\n",
              "      <th>1590</th>\n",
              "      <td>25.154378</td>\n",
              "      <td>4.243117</td>\n",
              "      <td>0</td>\n",
              "      <td>0</td>\n",
              "      <td>8.936122</td>\n",
              "    </tr>\n",
              "    <tr>\n",
              "      <th>1351</th>\n",
              "      <td>25.520716</td>\n",
              "      <td>3.794439</td>\n",
              "      <td>0</td>\n",
              "      <td>1</td>\n",
              "      <td>6.303048</td>\n",
              "    </tr>\n",
              "  </tbody>\n",
              "</table>\n",
              "</div>\n",
              "    <div class=\"colab-df-buttons\">\n",
              "\n",
              "  <div class=\"colab-df-container\">\n",
              "    <button class=\"colab-df-convert\" onclick=\"convertToInteractive('df-b8ef1037-b4f1-4e88-a4c9-3dc606b5a346')\"\n",
              "            title=\"Convert this dataframe to an interactive table.\"\n",
              "            style=\"display:none;\">\n",
              "\n",
              "  <svg xmlns=\"http://www.w3.org/2000/svg\" height=\"24px\" viewBox=\"0 -960 960 960\">\n",
              "    <path d=\"M120-120v-720h720v720H120Zm60-500h600v-160H180v160Zm220 220h160v-160H400v160Zm0 220h160v-160H400v160ZM180-400h160v-160H180v160Zm440 0h160v-160H620v160ZM180-180h160v-160H180v160Zm440 0h160v-160H620v160Z\"/>\n",
              "  </svg>\n",
              "    </button>\n",
              "\n",
              "  <style>\n",
              "    .colab-df-container {\n",
              "      display:flex;\n",
              "      gap: 12px;\n",
              "    }\n",
              "\n",
              "    .colab-df-convert {\n",
              "      background-color: #E8F0FE;\n",
              "      border: none;\n",
              "      border-radius: 50%;\n",
              "      cursor: pointer;\n",
              "      display: none;\n",
              "      fill: #1967D2;\n",
              "      height: 32px;\n",
              "      padding: 0 0 0 0;\n",
              "      width: 32px;\n",
              "    }\n",
              "\n",
              "    .colab-df-convert:hover {\n",
              "      background-color: #E2EBFA;\n",
              "      box-shadow: 0px 1px 2px rgba(60, 64, 67, 0.3), 0px 1px 3px 1px rgba(60, 64, 67, 0.15);\n",
              "      fill: #174EA6;\n",
              "    }\n",
              "\n",
              "    .colab-df-buttons div {\n",
              "      margin-bottom: 4px;\n",
              "    }\n",
              "\n",
              "    [theme=dark] .colab-df-convert {\n",
              "      background-color: #3B4455;\n",
              "      fill: #D2E3FC;\n",
              "    }\n",
              "\n",
              "    [theme=dark] .colab-df-convert:hover {\n",
              "      background-color: #434B5C;\n",
              "      box-shadow: 0px 1px 3px 1px rgba(0, 0, 0, 0.15);\n",
              "      filter: drop-shadow(0px 1px 2px rgba(0, 0, 0, 0.3));\n",
              "      fill: #FFFFFF;\n",
              "    }\n",
              "  </style>\n",
              "\n",
              "    <script>\n",
              "      const buttonEl =\n",
              "        document.querySelector('#df-b8ef1037-b4f1-4e88-a4c9-3dc606b5a346 button.colab-df-convert');\n",
              "      buttonEl.style.display =\n",
              "        google.colab.kernel.accessAllowed ? 'block' : 'none';\n",
              "\n",
              "      async function convertToInteractive(key) {\n",
              "        const element = document.querySelector('#df-b8ef1037-b4f1-4e88-a4c9-3dc606b5a346');\n",
              "        const dataTable =\n",
              "          await google.colab.kernel.invokeFunction('convertToInteractive',\n",
              "                                                    [key], {});\n",
              "        if (!dataTable) return;\n",
              "\n",
              "        const docLinkHtml = 'Like what you see? Visit the ' +\n",
              "          '<a target=\"_blank\" href=https://colab.research.google.com/notebooks/data_table.ipynb>data table notebook</a>'\n",
              "          + ' to learn more about interactive tables.';\n",
              "        element.innerHTML = '';\n",
              "        dataTable['output_type'] = 'display_data';\n",
              "        await google.colab.output.renderOutput(dataTable, element);\n",
              "        const docLink = document.createElement('div');\n",
              "        docLink.innerHTML = docLinkHtml;\n",
              "        element.appendChild(docLink);\n",
              "      }\n",
              "    </script>\n",
              "  </div>\n",
              "\n",
              "\n",
              "    <div id=\"df-167bceeb-263d-45fe-8467-a969a70cbe5b\">\n",
              "      <button class=\"colab-df-quickchart\" onclick=\"quickchart('df-167bceeb-263d-45fe-8467-a969a70cbe5b')\"\n",
              "                title=\"Suggest charts\"\n",
              "                style=\"display:none;\">\n",
              "\n",
              "<svg xmlns=\"http://www.w3.org/2000/svg\" height=\"24px\"viewBox=\"0 0 24 24\"\n",
              "     width=\"24px\">\n",
              "    <g>\n",
              "        <path d=\"M19 3H5c-1.1 0-2 .9-2 2v14c0 1.1.9 2 2 2h14c1.1 0 2-.9 2-2V5c0-1.1-.9-2-2-2zM9 17H7v-7h2v7zm4 0h-2V7h2v10zm4 0h-2v-4h2v4z\"/>\n",
              "    </g>\n",
              "</svg>\n",
              "      </button>\n",
              "\n",
              "<style>\n",
              "  .colab-df-quickchart {\n",
              "      --bg-color: #E8F0FE;\n",
              "      --fill-color: #1967D2;\n",
              "      --hover-bg-color: #E2EBFA;\n",
              "      --hover-fill-color: #174EA6;\n",
              "      --disabled-fill-color: #AAA;\n",
              "      --disabled-bg-color: #DDD;\n",
              "  }\n",
              "\n",
              "  [theme=dark] .colab-df-quickchart {\n",
              "      --bg-color: #3B4455;\n",
              "      --fill-color: #D2E3FC;\n",
              "      --hover-bg-color: #434B5C;\n",
              "      --hover-fill-color: #FFFFFF;\n",
              "      --disabled-bg-color: #3B4455;\n",
              "      --disabled-fill-color: #666;\n",
              "  }\n",
              "\n",
              "  .colab-df-quickchart {\n",
              "    background-color: var(--bg-color);\n",
              "    border: none;\n",
              "    border-radius: 50%;\n",
              "    cursor: pointer;\n",
              "    display: none;\n",
              "    fill: var(--fill-color);\n",
              "    height: 32px;\n",
              "    padding: 0;\n",
              "    width: 32px;\n",
              "  }\n",
              "\n",
              "  .colab-df-quickchart:hover {\n",
              "    background-color: var(--hover-bg-color);\n",
              "    box-shadow: 0 1px 2px rgba(60, 64, 67, 0.3), 0 1px 3px 1px rgba(60, 64, 67, 0.15);\n",
              "    fill: var(--button-hover-fill-color);\n",
              "  }\n",
              "\n",
              "  .colab-df-quickchart-complete:disabled,\n",
              "  .colab-df-quickchart-complete:disabled:hover {\n",
              "    background-color: var(--disabled-bg-color);\n",
              "    fill: var(--disabled-fill-color);\n",
              "    box-shadow: none;\n",
              "  }\n",
              "\n",
              "  .colab-df-spinner {\n",
              "    border: 2px solid var(--fill-color);\n",
              "    border-color: transparent;\n",
              "    border-bottom-color: var(--fill-color);\n",
              "    animation:\n",
              "      spin 1s steps(1) infinite;\n",
              "  }\n",
              "\n",
              "  @keyframes spin {\n",
              "    0% {\n",
              "      border-color: transparent;\n",
              "      border-bottom-color: var(--fill-color);\n",
              "      border-left-color: var(--fill-color);\n",
              "    }\n",
              "    20% {\n",
              "      border-color: transparent;\n",
              "      border-left-color: var(--fill-color);\n",
              "      border-top-color: var(--fill-color);\n",
              "    }\n",
              "    30% {\n",
              "      border-color: transparent;\n",
              "      border-left-color: var(--fill-color);\n",
              "      border-top-color: var(--fill-color);\n",
              "      border-right-color: var(--fill-color);\n",
              "    }\n",
              "    40% {\n",
              "      border-color: transparent;\n",
              "      border-right-color: var(--fill-color);\n",
              "      border-top-color: var(--fill-color);\n",
              "    }\n",
              "    60% {\n",
              "      border-color: transparent;\n",
              "      border-right-color: var(--fill-color);\n",
              "    }\n",
              "    80% {\n",
              "      border-color: transparent;\n",
              "      border-right-color: var(--fill-color);\n",
              "      border-bottom-color: var(--fill-color);\n",
              "    }\n",
              "    90% {\n",
              "      border-color: transparent;\n",
              "      border-bottom-color: var(--fill-color);\n",
              "    }\n",
              "  }\n",
              "</style>\n",
              "\n",
              "      <script>\n",
              "        async function quickchart(key) {\n",
              "          const quickchartButtonEl =\n",
              "            document.querySelector('#' + key + ' button');\n",
              "          quickchartButtonEl.disabled = true;  // To prevent multiple clicks.\n",
              "          quickchartButtonEl.classList.add('colab-df-spinner');\n",
              "          try {\n",
              "            const charts = await google.colab.kernel.invokeFunction(\n",
              "                'suggestCharts', [key], {});\n",
              "          } catch (error) {\n",
              "            console.error('Error during call to suggestCharts:', error);\n",
              "          }\n",
              "          quickchartButtonEl.classList.remove('colab-df-spinner');\n",
              "          quickchartButtonEl.classList.add('colab-df-quickchart-complete');\n",
              "        }\n",
              "        (() => {\n",
              "          let quickchartButtonEl =\n",
              "            document.querySelector('#df-167bceeb-263d-45fe-8467-a969a70cbe5b button');\n",
              "          quickchartButtonEl.style.display =\n",
              "            google.colab.kernel.accessAllowed ? 'block' : 'none';\n",
              "        })();\n",
              "      </script>\n",
              "    </div>\n",
              "\n",
              "    </div>\n",
              "  </div>\n"
            ],
            "application/vnd.google.colaboratory.intrinsic+json": {
              "type": "dataframe",
              "summary": "{\n  \"name\": \"X_train[selected_feature_names]\",\n  \"rows\": 5,\n  \"fields\": [\n    {\n      \"column\": \"MMSE\",\n      \"properties\": {\n        \"dtype\": \"number\",\n        \"std\": 11.36171543198243,\n        \"min\": 0.3645221093105155,\n        \"max\": 25.9082479137816,\n        \"num_unique_values\": 5,\n        \"samples\": [\n          12.06254256369743,\n          25.52071646869185,\n          0.3645221093105155\n        ],\n        \"semantic_type\": \"\",\n        \"description\": \"\"\n      }\n    },\n    {\n      \"column\": \"FunctionalAssessment\",\n      \"properties\": {\n        \"dtype\": \"number\",\n        \"std\": 1.1527151871875676,\n        \"min\": 1.3005083997577571,\n        \"max\": 4.24311665159035,\n        \"num_unique_values\": 5,\n        \"samples\": [\n          3.262767171543277,\n          3.794439209595545,\n          1.3005083997577571\n        ],\n        \"semantic_type\": \"\",\n        \"description\": \"\"\n      }\n    },\n    {\n      \"column\": \"MemoryComplaints\",\n      \"properties\": {\n        \"dtype\": \"number\",\n        \"std\": 0,\n        \"min\": 0,\n        \"max\": 1,\n        \"num_unique_values\": 2,\n        \"samples\": [\n          1,\n          0\n        ],\n        \"semantic_type\": \"\",\n        \"description\": \"\"\n      }\n    },\n    {\n      \"column\": \"BehavioralProblems\",\n      \"properties\": {\n        \"dtype\": \"number\",\n        \"std\": 0,\n        \"min\": 0,\n        \"max\": 1,\n        \"num_unique_values\": 2,\n        \"samples\": [\n          1,\n          0\n        ],\n        \"semantic_type\": \"\",\n        \"description\": \"\"\n      }\n    },\n    {\n      \"column\": \"ADL\",\n      \"properties\": {\n        \"dtype\": \"number\",\n        \"std\": 3.3423253014451104,\n        \"min\": 0.8800506155907706,\n        \"max\": 8.93612245174379,\n        \"num_unique_values\": 5,\n        \"samples\": [\n          1.5909316335651713,\n          6.303048343305249\n        ],\n        \"semantic_type\": \"\",\n        \"description\": \"\"\n      }\n    }\n  ]\n}"
            }
          },
          "metadata": {},
          "execution_count": 177
        }
      ]
    },
    {
      "cell_type": "markdown",
      "source": [
        "**Scaling the data**"
      ],
      "metadata": {
        "id": "n3Ez-4XlQTtV"
      }
    },
    {
      "cell_type": "code",
      "source": [
        "from sklearn.preprocessing import StandardScaler\n",
        "\n",
        "sc = StandardScaler()\n",
        "x_train = sc.fit_transform(x_train)\n",
        "x_test  = sc.fit_transform(x_test)"
      ],
      "metadata": {
        "id": "tfhRvhWeQWw9"
      },
      "execution_count": null,
      "outputs": []
    },
    {
      "cell_type": "code",
      "source": [
        "import numpy as np\n",
        "import matplotlib.pyplot as plt\n",
        "import seaborn as sns\n",
        "from sklearn.metrics import accuracy_score, precision_score, recall_score, f1_score, confusion_matrix\n",
        "from tabulate import tabulate\n",
        "\n",
        "def calculate_confusion(clf_name, y_train, y_pred_train, y_test, y_pred_test):\n",
        "\n",
        "    # Calculate accuracy, precision, recall, and F1 score for training and testing sets\n",
        "    train_acc = accuracy_score(y_train, y_pred_train)\n",
        "    test_acc = accuracy_score(y_test, y_pred_test)\n",
        "    train_prec = precision_score(y_train, y_pred_train)\n",
        "    test_prec = precision_score(y_test, y_pred_test)\n",
        "    train_rec = recall_score(y_train, y_pred_train)\n",
        "    test_rec = recall_score(y_test, y_pred_test)\n",
        "    train_f1 = f1_score(y_train, y_pred_train)\n",
        "    test_f1 = f1_score(y_test, y_pred_test)\n",
        "\n",
        "    # Calculate the confusion matrix for training and testing sets\n",
        "    train_cm = confusion_matrix(y_train, y_pred_train)\n",
        "    test_cm = confusion_matrix(y_test, y_pred_test)\n",
        "\n",
        "    # Create a 1x2 figure with the confusion matrix on the left and evaluation metrics on the right\n",
        "    fig, axs = plt.subplots(1, 2, figsize=(6,2),sharey=True)\n",
        "\n",
        "    # Plot the confusion matrix for training set\n",
        "    sns.heatmap(train_cm, annot=True, cmap='YlGnBu', fmt='g', ax=axs[0], annot_kws={\"size\": 12}, cbar_kws={\"shrink\": 0.7})\n",
        "    axs[0].set_title('Training Set',fontsize=10)\n",
        "    axs[0].set_xlabel('Predicted Labels',fontsize=10)\n",
        "    axs[0].set_ylabel('True Labels',fontsize=10)\n",
        "\n",
        "    # Plot the confusion matrix for testing set\n",
        "    sns.heatmap(test_cm, annot=True, cmap='YlGnBu', fmt='g', ax=axs[1], annot_kws={\"size\": 12}, cbar_kws={\"shrink\": 0.7})\n",
        "    axs[1].set_title('Testing Set',fontsize=10)\n",
        "    axs[1].set_xlabel('Predicted Labels',fontsize=10)\n",
        "    axs[1].set_ylabel('True Labels',fontsize=10)\n",
        "\n",
        "    # Add a main title to the figure\n",
        "    # fig.suptitle(f'Confusion matrix using {clf_name} ', fontsize=12, y=1.01, fontname='Times')\n",
        "    # fig.suptitle(f'Confusion matrix using {clf_name} ', fontsize=12, y=1.09)\n",
        "    plt.savefig(clf_name + \".png\")\n",
        "    # Show the plot\n",
        "    plt.show()\n",
        "\n",
        "    # Define the performance metrics for training and testing cases\n",
        "    train_metrics = [\"Train Accuracy\", \"Train Precision\", \"Train Recall\", \"Train F1\"]\n",
        "    test_metrics = [\"Test Accuracy\", \"Test Precision\", \"Test Recall\", \"Test F1\"]\n",
        "\n",
        "    # Create a list of lists containing the metrics\n",
        "    table = [train_metrics + test_metrics,\n",
        "         [train_acc, train_prec, train_rec, train_f1, test_acc, test_prec, test_rec, test_f1]]\n",
        "\n",
        "    # Print the table\n",
        "    print('-----Results for',clf_name,'----------------------')\n",
        "    print(tabulate(table, headers='firstrow'))"
      ],
      "metadata": {
        "id": "Q3Wi-Qc4LxFJ"
      },
      "execution_count": null,
      "outputs": []
    },
    {
      "cell_type": "markdown",
      "source": [
        "# Logistic Regression"
      ],
      "metadata": {
        "id": "q-L7MnxU1Qtd"
      }
    },
    {
      "cell_type": "code",
      "source": [
        "#set up plotting area\n",
        "from matplotlib.pyplot import figure\n",
        "from sklearn import metrics\n",
        "from sklearn.metrics import confusion_matrix\n",
        "from sklearn.metrics import roc_curve, roc_auc_score\n",
        "\n",
        "# We now prepare our selected models\n",
        "models  = []\n",
        "results = []\n",
        "names   = []\n",
        "scoring = 'accuracy'\n",
        "names   = ['LRC', 'SVC', 'GBC', 'GNB', 'RFC', 'KNC']\n",
        "\n",
        "#LogisticRegression ####################################\n",
        "from sklearn.linear_model import LogisticRegression\n",
        "lr = LogisticRegression(solver='liblinear', max_iter=20)\n",
        "lr.fit(x_train, y_train)\n",
        "y_pred_train = lr.predict(x_train)\n",
        "y_pred_test  = lr.predict(x_test)\n",
        "calculate_confusion(\"LR\",y_train, y_pred_train, y_test, y_pred_test)\n",
        "fpr1, tpr1, _ = metrics.roc_curve(y_test, y_pred_test)\n",
        "auc = round(metrics.roc_auc_score(y_test, y_pred_test), 4)\n",
        "cv_results = cross_val_score(lr, x_test, y_test)\n",
        "results.append(cv_results)"
      ],
      "metadata": {
        "id": "XjCSnIoViOul",
        "outputId": "51d3f0e6-bc23-4f26-95f2-829df64b259e",
        "colab": {
          "base_uri": "https://localhost:8080/",
          "height": 345
        }
      },
      "execution_count": null,
      "outputs": [
        {
          "output_type": "display_data",
          "data": {
            "text/plain": [
              "<Figure size 600x200 with 4 Axes>"
            ],
            "image/png": "[encoded data removed]"
          },
          "metadata": {}
        },
        {
          "output_type": "stream",
          "name": "stdout",
          "text": [
            "-----Results for LR ----------------------\n",
            "  Train Accuracy    Train Precision    Train Recall    Train F1    Test Accuracy    Test Precision    Test Recall    Test F1\n",
            "----------------  -----------------  --------------  ----------  ---------------  ----------------  -------------  ---------\n",
            "        0.827172           0.826756        0.826756    0.826756         0.834532          0.836676       0.834286   0.835479\n"
          ]
        }
      ]
    },
    {
      "cell_type": "code",
      "source": [
        "# Compute False postive rate, and True positive rate\n",
        "fpr1, tpr1, thresholds1 = metrics.roc_curve(y_train, y_pred_train)\n",
        "# Calculate Area under the curve to display on the plot\n",
        "auc1 = metrics.roc_auc_score(y_train,lr.predict(x_train))"
      ],
      "metadata": {
        "id": "ar2ulcp1EsoU"
      },
      "execution_count": null,
      "outputs": []
    },
    {
      "cell_type": "markdown",
      "source": [
        "# Support Vector Machine"
      ],
      "metadata": {
        "id": "ciA4UQuD1Uld"
      }
    },
    {
      "cell_type": "code",
      "source": [
        "#SVM ####################################\n",
        "from sklearn.svm import SVC\n",
        "svm = SVC(kernel='rbf', C=1.0, probability=True)\n",
        "svm.fit(x_train, y_train)\n",
        "y_pred_train = svm.predict(x_train)\n",
        "y_pred_test  = svm.predict(x_test)\n",
        "calculate_confusion(\"SVM\",y_train, y_pred_train, y_test, y_pred_test)\n",
        "fpr2, tpr2, _ = metrics.roc_curve(y_test, y_pred_test)\n",
        "auc = round(metrics.roc_auc_score(y_test, y_pred_test), 4)\n",
        "cv_results = cross_val_score(svm, x_test, y_test)\n",
        "results.append(cv_results)"
      ],
      "metadata": {
        "id": "GF3yuI06iz3t",
        "outputId": "7bf999a9-0d72-44df-ea9a-81c5ef837119",
        "colab": {
          "base_uri": "https://localhost:8080/",
          "height": 345
        }
      },
      "execution_count": null,
      "outputs": [
        {
          "output_type": "display_data",
          "data": {
            "text/plain": [
              "<Figure size 600x200 with 4 Axes>"
            ],
            "image/png": "[encoded data removed]"
          },
          "metadata": {}
        },
        {
          "output_type": "stream",
          "name": "stdout",
          "text": [
            "-----Results for SVM ----------------------\n",
            "  Train Accuracy    Train Precision    Train Recall    Train F1    Test Accuracy    Test Precision    Test Recall    Test F1\n",
            "----------------  -----------------  --------------  ----------  ---------------  ----------------  -------------  ---------\n",
            "        0.919827           0.924951        0.913378    0.919128         0.910791          0.913793       0.908571   0.911175\n"
          ]
        }
      ]
    },
    {
      "cell_type": "code",
      "source": [
        "# Compute False postive rate, and True positive rate\n",
        "fpr2, tpr2, thresholds2 = metrics.roc_curve(y_train, y_pred_train)\n",
        "# Calculate Area under the curve to display on the plot\n",
        "auc2 = metrics.roc_auc_score(y_train,svm.predict(x_train))"
      ],
      "metadata": {
        "id": "3WEhQ3qqExl0"
      },
      "execution_count": null,
      "outputs": []
    },
    {
      "cell_type": "markdown",
      "source": [
        "# Gradient Boosting Classifier"
      ],
      "metadata": {
        "id": "ctnPKAdu1Y3m"
      }
    },
    {
      "cell_type": "code",
      "source": [
        "#GradientBoostingClassifier\n",
        "from sklearn.ensemble import GradientBoostingClassifier\n",
        "from sklearn.model_selection import GridSearchCV\n",
        "\n",
        "GBC = GradientBoostingClassifier(random_state=1)\n",
        "GBC.fit(x_train, y_train)\n",
        "y_pred_train = GBC.predict(x_train)\n",
        "y_pred_test  = GBC.predict(x_test)\n",
        "\n",
        "calculate_confusion(\"GBC\",y_train, y_pred_train, y_test, y_pred_test)\n",
        "fpr3, tpr3, _ = metrics.roc_curve(y_test, y_pred_test)\n",
        "auc = round(metrics.roc_auc_score(y_test, y_pred_test), 4)\n",
        "cv_results = cross_val_score(GBC, x_test, y_test)\n",
        "results.append(cv_results)"
      ],
      "metadata": {
        "id": "MwwZrX6qi6CN",
        "outputId": "c18c347c-4ebc-4033-c8c3-1c6070a12550",
        "colab": {
          "base_uri": "https://localhost:8080/",
          "height": 345
        }
      },
      "execution_count": null,
      "outputs": [
        {
          "output_type": "display_data",
          "data": {
            "text/plain": [
              "<Figure size 600x200 with 4 Axes>"
            ],
            "image/png": "[encoded data removed]"
          },
          "metadata": {}
        },
        {
          "output_type": "stream",
          "name": "stdout",
          "text": [
            "-----Results for GBC ----------------------\n",
            "  Train Accuracy    Train Precision    Train Recall    Train F1    Test Accuracy    Test Precision    Test Recall    Test F1\n",
            "----------------  -----------------  --------------  ----------  ---------------  ----------------  -------------  ---------\n",
            "        0.961594           0.972414        0.949952    0.961052         0.932374          0.954955       0.908571   0.931186\n"
          ]
        }
      ]
    },
    {
      "cell_type": "code",
      "source": [
        "# Compute False postive rate, and True positive rate\n",
        "fpr3, tpr3, thresholds3 = metrics.roc_curve(y_train, y_pred_train)\n",
        "# Calculate Area under the curve to display on the plot\n",
        "auc3 = metrics.roc_auc_score(y_train,y_pred_train)"
      ],
      "metadata": {
        "id": "tFvVZbETEz00"
      },
      "execution_count": null,
      "outputs": []
    },
    {
      "cell_type": "markdown",
      "source": [
        "# GaussianNB"
      ],
      "metadata": {
        "id": "9s0YzF8W1b5Y"
      }
    },
    {
      "cell_type": "code",
      "source": [
        "#GaussianNB\n",
        "from sklearn.metrics import precision_score\n",
        "from sklearn.naive_bayes import GaussianNB\n",
        "\n",
        "GNB = GaussianNB(priors=None, var_smoothing=1e-9)\n",
        "GNB.fit(x_train, y_train)\n",
        "\n",
        "# Adjust classification threshold to 0.3\n",
        "y_pred_train = GNB.predict(x_train)\n",
        "# y_pred_train = (y_pred_train >= 0.1).astype(int)\n",
        "\n",
        "y_pred_test  = GNB.predict(x_test)\n",
        "# y_pred_test = (y_pred_test >= 0.1).astype(int)\n",
        "\n",
        "calculate_confusion(\"GNB\",y_train, y_pred_train, y_test, y_pred_test)\n",
        "fpr4, tpr4, _ = metrics.roc_curve(y_test, y_pred_test)\n",
        "auc = round(metrics.roc_auc_score(y_test, y_pred_test), 4)\n",
        "cv_results = cross_val_score(GNB, x_test, y_test)\n",
        "results.append(cv_results)"
      ],
      "metadata": {
        "id": "tdYyIkUDi8iR",
        "outputId": "a2da4914-df93-4dc7-ee63-55c8f99ae6e7",
        "colab": {
          "base_uri": "https://localhost:8080/",
          "height": 345
        }
      },
      "execution_count": null,
      "outputs": [
        {
          "output_type": "display_data",
          "data": {
            "text/plain": [
              "<Figure size 600x200 with 4 Axes>"
            ],
            "image/png": "[encoded data removed]"
          },
          "metadata": {}
        },
        {
          "output_type": "stream",
          "name": "stdout",
          "text": [
            "-----Results for GNB ----------------------\n",
            "  Train Accuracy    Train Precision    Train Recall    Train F1    Test Accuracy    Test Precision    Test Recall    Test F1\n",
            "----------------  -----------------  --------------  ----------  ---------------  ----------------  -------------  ---------\n",
            "        0.822852           0.817837        0.829644    0.823698         0.848921           0.84507       0.857143   0.851064\n"
          ]
        }
      ]
    },
    {
      "cell_type": "code",
      "source": [
        "# Compute False postive rate, and True positive rate\n",
        "fpr4, tpr4, thresholds4 = metrics.roc_curve(y_train, y_pred_train)\n",
        "# Calculate Area under the curve to display on the plot\n",
        "auc4 = metrics.roc_auc_score(y_train,GNB.predict(x_train))"
      ],
      "metadata": {
        "id": "Fq--0hXpE7dD"
      },
      "execution_count": null,
      "outputs": []
    },
    {
      "cell_type": "markdown",
      "source": [
        "# KNeighborsClassifier"
      ],
      "metadata": {
        "id": "LLxcE3UY1fSt"
      }
    },
    {
      "cell_type": "code",
      "source": [
        "# KNN Model\n",
        "from sklearn.neighbors import KNeighborsClassifier\n",
        "KNC = KNeighborsClassifier()\n",
        "KNC.fit(x_train, y_train)\n",
        "y_pred_train = KNC.predict(x_train)\n",
        "y_pred_test  = KNC.predict(x_test)\n",
        "calculate_confusion(\"KNC\",y_train, y_pred_train, y_test, y_pred_test)\n",
        "fpr5, tpr5, _ = metrics.roc_curve(y_test, y_pred_test)\n",
        "auc = round(metrics.roc_auc_score(y_test, y_pred_test), 4)\n",
        "cv_results = cross_val_score(KNC, x_test, y_test)\n",
        "results.append(cv_results)"
      ],
      "metadata": {
        "id": "wgv2kjk6jBpY",
        "outputId": "9f598477-f18b-4c3e-93eb-b58217fdf770",
        "colab": {
          "base_uri": "https://localhost:8080/",
          "height": 345
        }
      },
      "execution_count": null,
      "outputs": [
        {
          "output_type": "display_data",
          "data": {
            "text/plain": [
              "<Figure size 600x200 with 4 Axes>"
            ],
            "image/png": "[encoded data removed]"
          },
          "metadata": {}
        },
        {
          "output_type": "stream",
          "name": "stdout",
          "text": [
            "-----Results for KNC ----------------------\n",
            "  Train Accuracy    Train Precision    Train Recall    Train F1    Test Accuracy    Test Precision    Test Recall    Test F1\n",
            "----------------  -----------------  --------------  ----------  ---------------  ----------------  -------------  ---------\n",
            "         0.93615           0.921788        0.952839    0.937056         0.910791               0.9       0.925714   0.912676\n"
          ]
        }
      ]
    },
    {
      "cell_type": "code",
      "source": [
        "# Compute False postive rate, and True positive rate\n",
        "fpr5, tpr5, thresholds5 = metrics.roc_curve(y_train, y_pred_train)\n",
        "# Calculate Area under the curve to display on the plot\n",
        "auc5 = metrics.roc_auc_score(y_train,KNC.predict(x_train))"
      ],
      "metadata": {
        "id": "GMiIIM1vFJ1b"
      },
      "execution_count": null,
      "outputs": []
    },
    {
      "cell_type": "markdown",
      "source": [
        "# Decision Tree"
      ],
      "metadata": {
        "id": "fpCVmu1L1iNa"
      }
    },
    {
      "cell_type": "code",
      "source": [
        "# Decision Tree Model\n",
        "from sklearn import tree\n",
        "DT = tree.DecisionTreeClassifier(criterion='gini', splitter='best', max_depth=None,ccp_alpha=0.01)\n",
        "DT.fit(x_train, y_train)\n",
        "y_pred_train = DT.predict(x_train)\n",
        "y_pred_test  = DT.predict(x_test)\n",
        "calculate_confusion(\"DT\",y_train, y_pred_train, y_test, y_pred_test)\n",
        "fpr6, tpr6, _ = metrics.roc_curve(y_test, y_pred_test)\n",
        "auc = round(metrics.roc_auc_score(y_test, y_pred_test), 4)\n",
        "cv_results = cross_val_score(DT, x_test, y_test)\n",
        "results.append(cv_results)"
      ],
      "metadata": {
        "id": "VtfQhLBxjOcN",
        "outputId": "45e40c41-d473-4fb1-df3d-c503a45d0ca0",
        "colab": {
          "base_uri": "https://localhost:8080/",
          "height": 345
        }
      },
      "execution_count": null,
      "outputs": [
        {
          "output_type": "display_data",
          "data": {
            "text/plain": [
              "<Figure size 600x200 with 4 Axes>"
            ],
            "image/png": "[encoded data removed]"
          },
          "metadata": {}
        },
        {
          "output_type": "stream",
          "name": "stdout",
          "text": [
            "-----Results for DT ----------------------\n",
            "  Train Accuracy    Train Precision    Train Recall    Train F1    Test Accuracy    Test Precision    Test Recall    Test F1\n",
            "----------------  -----------------  --------------  ----------  ---------------  ----------------  -------------  ---------\n",
            "        0.946711           0.960317        0.931665    0.945774         0.923741          0.940653       0.905714   0.922853\n"
          ]
        }
      ]
    },
    {
      "cell_type": "code",
      "source": [
        "# Compute False postive rate, and True positive rate\n",
        "fpr6, tpr6, thresholds6 = metrics.roc_curve(y_train, DT.predict_proba(x_train)[:,1])\n",
        "# Calculate Area under the curve to display on the plot\n",
        "auc6 = metrics.roc_auc_score(y_train,y_pred_train)"
      ],
      "metadata": {
        "id": "SiuRx0FQFO-8"
      },
      "execution_count": null,
      "outputs": []
    },
    {
      "cell_type": "code",
      "source": [
        "from sklearn.preprocessing import StandardScaler\n",
        "from sklearn.tree import DecisionTreeClassifier, export_graphviz\n",
        "import graphviz\n",
        "\n",
        "X_train, X_test, Y_train, Y_test = train_test_split(df.drop(['Diagnosis'], axis=1),\n",
        "                                                    df['Diagnosis'],\n",
        "                                                    test_size=0.25,\n",
        "                                                    random_state=42)\n",
        "\n",
        "# Train the decision tree on the scaled data\n",
        "DT = tree.DecisionTreeClassifier(criterion='gini', splitter='best', max_depth=None,ccp_alpha=0.01)\n",
        "DT.fit(x_train, y_train)\n",
        "\n",
        "# Export the tree as a Graphviz dot file\n",
        "dot_data = export_graphviz(DT, out_file=None, feature_names=selected_feature_names,\n",
        "                           class_names=['Negative', 'Positive'], filled=True, rounded=True,\n",
        "                           special_characters=True, rotate=True)\n",
        "\n",
        "# Create a graph from the dot file\n",
        "graph = graphviz.Source(dot_data)\n",
        "\n",
        "# Render the graph as a PNG image\n",
        "graph.format = 'png'\n",
        "graph.render('decision tree', view=False)\n",
        "\n",
        "# Display the graph\n",
        "graph\n"
      ],
      "metadata": {
        "id": "9IwVUvkP6rGN",
        "outputId": "3f102d0e-9655-4c8c-e971-70bd92137d4d",
        "colab": {
          "base_uri": "https://localhost:8080/",
          "height": 1000
        }
      },
      "execution_count": null,
      "outputs": [
        {
          "output_type": "execute_result",
          "data": {
            "image/svg+xml": "<?xml version=\"1.0\" encoding=\"UTF-8\" standalone=\"no\"?>\n<!DOCTYPE svg PUBLIC \"-//W3C//DTD SVG 1.1//EN\"\n \"http://www.w3.org/Graphics/SVG/1.1/DTD/svg11.dtd\">\n<!-- Generated by graphviz version 2.43.0 (0)\n -->\n<!-- Title: Tree Pages: 1 -->\n<svg width=\"1252pt\" height=\"738pt\"\n viewBox=\"0.00 0.00 1252.00 738.00\" xmlns=\"http://www.w3.org/2000/svg\" xmlns:xlink=\"http://www.w3.org/1999/xlink\">\n<g id=\"graph0\" class=\"graph\" transform=\"scale(1 1) rotate(0) translate(4 734)\">\n<title>Tree</title>\n<polygon fill=\"white\" stroke=\"transparent\" points=\"-4,4 -4,-734 1248,-734 1248,4 -4,4\"/>\n<!-- 0 -->\n<g id=\"node1\" class=\"node\">\n<title>0</title>\n<path fill=\"#fffefe\" stroke=\"black\" d=\"M190,-467.5C190,-467.5 12,-467.5 12,-467.5 6,-467.5 0,-461.5 0,-455.5 0,-455.5 0,-396.5 0,-396.5 0,-390.5 6,-384.5 12,-384.5 12,-384.5 190,-384.5 190,-384.5 196,-384.5 202,-390.5 202,-396.5 202,-396.5 202,-455.5 202,-455.5 202,-461.5 196,-467.5 190,-467.5\"/>\n<text text-anchor=\"start\" x=\"8\" y=\"-452.3\" font-family=\"Helvetica,sans-Serif\" font-size=\"14.00\">FunctionalAssessment ≤ 0.077</text>\n<text text-anchor=\"start\" x=\"73\" y=\"-437.3\" font-family=\"Helvetica,sans-Serif\" font-size=\"14.00\">gini = 0.5</text>\n<text text-anchor=\"start\" x=\"52.5\" y=\"-422.3\" font-family=\"Helvetica,sans-Serif\" font-size=\"14.00\">samples = 2083</text>\n<text text-anchor=\"start\" x=\"39\" y=\"-407.3\" font-family=\"Helvetica,sans-Serif\" font-size=\"14.00\">value = [1044, 1039]</text>\n<text text-anchor=\"start\" x=\"51\" y=\"-392.3\" font-family=\"Helvetica,sans-Serif\" font-size=\"14.00\">class = Negative</text>\n</g>\n<!-- 1 -->\n<g id=\"node2\" class=\"node\">\n<title>1</title>\n<path fill=\"#8fc8f0\" stroke=\"black\" d=\"M380.5,-518.5C380.5,-518.5 279.5,-518.5 279.5,-518.5 273.5,-518.5 267.5,-512.5 267.5,-506.5 267.5,-506.5 267.5,-447.5 267.5,-447.5 267.5,-441.5 273.5,-435.5 279.5,-435.5 279.5,-435.5 380.5,-435.5 380.5,-435.5 386.5,-435.5 392.5,-441.5 392.5,-447.5 392.5,-447.5 392.5,-506.5 392.5,-506.5 392.5,-512.5 386.5,-518.5 380.5,-518.5\"/>\n<text text-anchor=\"start\" x=\"284.5\" y=\"-503.3\" font-family=\"Helvetica,sans-Serif\" font-size=\"14.00\">MMSE ≤ 1.205</text>\n<text text-anchor=\"start\" x=\"294.5\" y=\"-488.3\" font-family=\"Helvetica,sans-Serif\" font-size=\"14.00\">gini = 0.423</text>\n<text text-anchor=\"start\" x=\"281.5\" y=\"-473.3\" font-family=\"Helvetica,sans-Serif\" font-size=\"14.00\">samples = 1156</text>\n<text text-anchor=\"start\" x=\"275.5\" y=\"-458.3\" font-family=\"Helvetica,sans-Serif\" font-size=\"14.00\">value = [351, 805]</text>\n<text text-anchor=\"start\" x=\"283\" y=\"-443.3\" font-family=\"Helvetica,sans-Serif\" font-size=\"14.00\">class = Positive</text>\n</g>\n<!-- 0&#45;&gt;1 -->\n<g id=\"edge1\" class=\"edge\">\n<title>0&#45;&gt;1</title>\n<path fill=\"none\" stroke=\"black\" d=\"M202.23,-448.52C220.79,-452.69 239.84,-456.97 257.34,-460.9\"/>\n<polygon fill=\"black\" stroke=\"black\" points=\"256.93,-464.4 267.45,-463.17 258.46,-457.57 256.93,-464.4\"/>\n<text text-anchor=\"middle\" x=\"246.33\" y=\"-472.85\" font-family=\"Helvetica,sans-Serif\" font-size=\"14.00\">True</text>\n</g>\n<!-- 10 -->\n<g id=\"node11\" class=\"node\">\n<title>10</title>\n<path fill=\"#eeac7c\" stroke=\"black\" d=\"M410,-417.5C410,-417.5 250,-417.5 250,-417.5 244,-417.5 238,-411.5 238,-405.5 238,-405.5 238,-346.5 238,-346.5 238,-340.5 244,-334.5 250,-334.5 250,-334.5 410,-334.5 410,-334.5 416,-334.5 422,-340.5 422,-346.5 422,-346.5 422,-405.5 422,-405.5 422,-411.5 416,-417.5 410,-417.5\"/>\n<text text-anchor=\"start\" x=\"246\" y=\"-402.3\" font-family=\"Helvetica,sans-Serif\" font-size=\"14.00\">MemoryComplaints ≤ 0.559</text>\n<text text-anchor=\"start\" x=\"294.5\" y=\"-387.3\" font-family=\"Helvetica,sans-Serif\" font-size=\"14.00\">gini = 0.377</text>\n<text text-anchor=\"start\" x=\"285\" y=\"-372.3\" font-family=\"Helvetica,sans-Serif\" font-size=\"14.00\">samples = 927</text>\n<text text-anchor=\"start\" x=\"275.5\" y=\"-357.3\" font-family=\"Helvetica,sans-Serif\" font-size=\"14.00\">value = [693, 234]</text>\n<text text-anchor=\"start\" x=\"280\" y=\"-342.3\" font-family=\"Helvetica,sans-Serif\" font-size=\"14.00\">class = Negative</text>\n</g>\n<!-- 0&#45;&gt;10 -->\n<g id=\"edge10\" class=\"edge\">\n<title>0&#45;&gt;10</title>\n<path fill=\"none\" stroke=\"black\" d=\"M202.23,-403.92C210.76,-402.04 219.4,-400.14 227.94,-398.26\"/>\n<polygon fill=\"black\" stroke=\"black\" points=\"228.9,-401.63 237.92,-396.06 227.4,-394.8 228.9,-401.63\"/>\n<text text-anchor=\"middle\" x=\"216.85\" y=\"-378.9\" font-family=\"Helvetica,sans-Serif\" font-size=\"14.00\">False</text>\n</g>\n<!-- 2 -->\n<g id=\"node3\" class=\"node\">\n<title>2</title>\n<path fill=\"#6db7ec\" stroke=\"black\" d=\"M602,-610.5C602,-610.5 501,-610.5 501,-610.5 495,-610.5 489,-604.5 489,-598.5 489,-598.5 489,-539.5 489,-539.5 489,-533.5 495,-527.5 501,-527.5 501,-527.5 602,-527.5 602,-527.5 608,-527.5 614,-533.5 614,-539.5 614,-539.5 614,-598.5 614,-598.5 614,-604.5 608,-610.5 602,-610.5\"/>\n<text text-anchor=\"start\" x=\"513.5\" y=\"-595.3\" font-family=\"Helvetica,sans-Serif\" font-size=\"14.00\">ADL ≤ 0.131</text>\n<text text-anchor=\"start\" x=\"516\" y=\"-580.3\" font-family=\"Helvetica,sans-Serif\" font-size=\"14.00\">gini = 0.328</text>\n<text text-anchor=\"start\" x=\"503\" y=\"-565.3\" font-family=\"Helvetica,sans-Serif\" font-size=\"14.00\">samples = 1002</text>\n<text text-anchor=\"start\" x=\"497\" y=\"-550.3\" font-family=\"Helvetica,sans-Serif\" font-size=\"14.00\">value = [207, 795]</text>\n<text text-anchor=\"start\" x=\"504.5\" y=\"-535.3\" font-family=\"Helvetica,sans-Serif\" font-size=\"14.00\">class = Positive</text>\n</g>\n<!-- 1&#45;&gt;2 -->\n<g id=\"edge2\" class=\"edge\">\n<title>1&#45;&gt;2</title>\n<path fill=\"none\" stroke=\"black\" d=\"M392.73,-502.87C419.73,-514.19 451.56,-527.53 479.53,-539.25\"/>\n<polygon fill=\"black\" stroke=\"black\" points=\"478.28,-542.53 488.86,-543.16 480.99,-536.07 478.28,-542.53\"/>\n</g>\n<!-- 9 -->\n<g id=\"node10\" class=\"node\">\n<title>9</title>\n<path fill=\"#e78a47\" stroke=\"black\" d=\"M609.5,-509C609.5,-509 493.5,-509 493.5,-509 487.5,-509 481.5,-503 481.5,-497 481.5,-497 481.5,-453 481.5,-453 481.5,-447 487.5,-441 493.5,-441 493.5,-441 609.5,-441 609.5,-441 615.5,-441 621.5,-447 621.5,-453 621.5,-453 621.5,-497 621.5,-497 621.5,-503 615.5,-509 609.5,-509\"/>\n<text text-anchor=\"start\" x=\"516\" y=\"-493.8\" font-family=\"Helvetica,sans-Serif\" font-size=\"14.00\">gini = 0.121</text>\n<text text-anchor=\"start\" x=\"506.5\" y=\"-478.8\" font-family=\"Helvetica,sans-Serif\" font-size=\"14.00\">samples = 154</text>\n<text text-anchor=\"start\" x=\"489.5\" y=\"-463.8\" font-family=\"Helvetica,sans-Serif\" font-size=\"14.00\">value = [144.0, 10.0]</text>\n<text text-anchor=\"start\" x=\"501.5\" y=\"-448.8\" font-family=\"Helvetica,sans-Serif\" font-size=\"14.00\">class = Negative</text>\n</g>\n<!-- 1&#45;&gt;9 -->\n<g id=\"edge9\" class=\"edge\">\n<title>1&#45;&gt;9</title>\n<path fill=\"none\" stroke=\"black\" d=\"M392.73,-476.44C417.02,-476.22 445.22,-475.96 471,-475.72\"/>\n<polygon fill=\"black\" stroke=\"black\" points=\"471.16,-479.22 481.13,-475.63 471.1,-472.22 471.16,-479.22\"/>\n</g>\n<!-- 3 -->\n<g id=\"node4\" class=\"node\">\n<title>3</title>\n<path fill=\"#3e9fe6\" stroke=\"black\" d=\"M821,-696C821,-696 728,-696 728,-696 722,-696 716,-690 716,-684 716,-684 716,-640 716,-640 716,-634 722,-628 728,-628 728,-628 821,-628 821,-628 827,-628 833,-634 833,-640 833,-640 833,-684 833,-684 833,-690 827,-696 821,-696\"/>\n<text text-anchor=\"start\" x=\"739\" y=\"-680.8\" font-family=\"Helvetica,sans-Serif\" font-size=\"14.00\">gini = 0.048</text>\n<text text-anchor=\"start\" x=\"729.5\" y=\"-665.8\" font-family=\"Helvetica,sans-Serif\" font-size=\"14.00\">samples = 612</text>\n<text text-anchor=\"start\" x=\"724\" y=\"-650.8\" font-family=\"Helvetica,sans-Serif\" font-size=\"14.00\">value = [15, 597]</text>\n<text text-anchor=\"start\" x=\"727.5\" y=\"-635.8\" font-family=\"Helvetica,sans-Serif\" font-size=\"14.00\">class = Positive</text>\n</g>\n<!-- 2&#45;&gt;3 -->\n<g id=\"edge3\" class=\"edge\">\n<title>2&#45;&gt;3</title>\n<path fill=\"none\" stroke=\"black\" d=\"M614.06,-594.91C642.76,-606.98 676.97,-621.38 706.34,-633.74\"/>\n<polygon fill=\"black\" stroke=\"black\" points=\"705.11,-637.02 715.69,-637.67 707.83,-630.57 705.11,-637.02\"/>\n</g>\n<!-- 4 -->\n<g id=\"node5\" class=\"node\">\n<title>4</title>\n<path fill=\"#f9fcfe\" stroke=\"black\" d=\"M854.5,-609.5C854.5,-609.5 694.5,-609.5 694.5,-609.5 688.5,-609.5 682.5,-603.5 682.5,-597.5 682.5,-597.5 682.5,-538.5 682.5,-538.5 682.5,-532.5 688.5,-526.5 694.5,-526.5 694.5,-526.5 854.5,-526.5 854.5,-526.5 860.5,-526.5 866.5,-532.5 866.5,-538.5 866.5,-538.5 866.5,-597.5 866.5,-597.5 866.5,-603.5 860.5,-609.5 854.5,-609.5\"/>\n<text text-anchor=\"start\" x=\"690.5\" y=\"-594.3\" font-family=\"Helvetica,sans-Serif\" font-size=\"14.00\">MemoryComplaints ≤ 0.559</text>\n<text text-anchor=\"start\" x=\"746.5\" y=\"-579.3\" font-family=\"Helvetica,sans-Serif\" font-size=\"14.00\">gini = 0.5</text>\n<text text-anchor=\"start\" x=\"729.5\" y=\"-564.3\" font-family=\"Helvetica,sans-Serif\" font-size=\"14.00\">samples = 390</text>\n<text text-anchor=\"start\" x=\"720\" y=\"-549.3\" font-family=\"Helvetica,sans-Serif\" font-size=\"14.00\">value = [192, 198]</text>\n<text text-anchor=\"start\" x=\"727.5\" y=\"-534.3\" font-family=\"Helvetica,sans-Serif\" font-size=\"14.00\">class = Positive</text>\n</g>\n<!-- 2&#45;&gt;4 -->\n<g id=\"edge4\" class=\"edge\">\n<title>2&#45;&gt;4</title>\n<path fill=\"none\" stroke=\"black\" d=\"M614.06,-568.72C632.01,-568.64 652.11,-568.55 671.84,-568.46\"/>\n<polygon fill=\"black\" stroke=\"black\" points=\"672.12,-571.96 682.1,-568.41 672.09,-564.96 672.12,-571.96\"/>\n</g>\n<!-- 5 -->\n<g id=\"node6\" class=\"node\">\n<title>5</title>\n<path fill=\"#f0b991\" stroke=\"black\" d=\"M1079,-694.5C1079,-694.5 916,-694.5 916,-694.5 910,-694.5 904,-688.5 904,-682.5 904,-682.5 904,-623.5 904,-623.5 904,-617.5 910,-611.5 916,-611.5 916,-611.5 1079,-611.5 1079,-611.5 1085,-611.5 1091,-617.5 1091,-623.5 1091,-623.5 1091,-682.5 1091,-682.5 1091,-688.5 1085,-694.5 1079,-694.5\"/>\n<text text-anchor=\"start\" x=\"912\" y=\"-679.3\" font-family=\"Helvetica,sans-Serif\" font-size=\"14.00\">BehavioralProblems ≤ 0.861</text>\n<text text-anchor=\"start\" x=\"962\" y=\"-664.3\" font-family=\"Helvetica,sans-Serif\" font-size=\"14.00\">gini = 0.425</text>\n<text text-anchor=\"start\" x=\"952.5\" y=\"-649.3\" font-family=\"Helvetica,sans-Serif\" font-size=\"14.00\">samples = 274</text>\n<text text-anchor=\"start\" x=\"947\" y=\"-634.3\" font-family=\"Helvetica,sans-Serif\" font-size=\"14.00\">value = [190, 84]</text>\n<text text-anchor=\"start\" x=\"947.5\" y=\"-619.3\" font-family=\"Helvetica,sans-Serif\" font-size=\"14.00\">class = Negative</text>\n</g>\n<!-- 4&#45;&gt;5 -->\n<g id=\"edge5\" class=\"edge\">\n<title>4&#45;&gt;5</title>\n<path fill=\"none\" stroke=\"black\" d=\"M866.67,-603.06C875.75,-606.56 885.02,-610.12 894.22,-613.66\"/>\n<polygon fill=\"black\" stroke=\"black\" points=\"893.17,-617.01 903.76,-617.33 895.68,-610.47 893.17,-617.01\"/>\n</g>\n<!-- 8 -->\n<g id=\"node9\" class=\"node\">\n<title>8</title>\n<path fill=\"#3c9fe5\" stroke=\"black\" d=\"M1040.5,-593C1040.5,-593 954.5,-593 954.5,-593 948.5,-593 942.5,-587 942.5,-581 942.5,-581 942.5,-537 942.5,-537 942.5,-531 948.5,-525 954.5,-525 954.5,-525 1040.5,-525 1040.5,-525 1046.5,-525 1052.5,-531 1052.5,-537 1052.5,-537 1052.5,-581 1052.5,-581 1052.5,-587 1046.5,-593 1040.5,-593\"/>\n<text text-anchor=\"start\" x=\"962\" y=\"-577.8\" font-family=\"Helvetica,sans-Serif\" font-size=\"14.00\">gini = 0.034</text>\n<text text-anchor=\"start\" x=\"952.5\" y=\"-562.8\" font-family=\"Helvetica,sans-Serif\" font-size=\"14.00\">samples = 116</text>\n<text text-anchor=\"start\" x=\"950.5\" y=\"-547.8\" font-family=\"Helvetica,sans-Serif\" font-size=\"14.00\">value = [2, 114]</text>\n<text text-anchor=\"start\" x=\"950.5\" y=\"-532.8\" font-family=\"Helvetica,sans-Serif\" font-size=\"14.00\">class = Positive</text>\n</g>\n<!-- 4&#45;&gt;8 -->\n<g id=\"edge8\" class=\"edge\">\n<title>4&#45;&gt;8</title>\n<path fill=\"none\" stroke=\"black\" d=\"M866.67,-564.29C888.64,-563.39 911.66,-562.46 932.11,-561.62\"/>\n<polygon fill=\"black\" stroke=\"black\" points=\"932.39,-565.11 942.24,-561.21 932.11,-558.12 932.39,-565.11\"/>\n</g>\n<!-- 6 -->\n<g id=\"node7\" class=\"node\">\n<title>6</title>\n<path fill=\"#e78a47\" stroke=\"black\" d=\"M1232,-730C1232,-730 1139,-730 1139,-730 1133,-730 1127,-724 1127,-718 1127,-718 1127,-674 1127,-674 1127,-668 1133,-662 1139,-662 1139,-662 1232,-662 1232,-662 1238,-662 1244,-668 1244,-674 1244,-674 1244,-718 1244,-718 1244,-724 1238,-730 1232,-730\"/>\n<text text-anchor=\"start\" x=\"1150\" y=\"-714.8\" font-family=\"Helvetica,sans-Serif\" font-size=\"14.00\">gini = 0.122</text>\n<text text-anchor=\"start\" x=\"1140.5\" y=\"-699.8\" font-family=\"Helvetica,sans-Serif\" font-size=\"14.00\">samples = 200</text>\n<text text-anchor=\"start\" x=\"1135\" y=\"-684.8\" font-family=\"Helvetica,sans-Serif\" font-size=\"14.00\">value = [187, 13]</text>\n<text text-anchor=\"start\" x=\"1135.5\" y=\"-669.8\" font-family=\"Helvetica,sans-Serif\" font-size=\"14.00\">class = Negative</text>\n</g>\n<!-- 5&#45;&gt;6 -->\n<g id=\"edge6\" class=\"edge\">\n<title>5&#45;&gt;6</title>\n<path fill=\"none\" stroke=\"black\" d=\"M1091.23,-674.44C1099.99,-676.46 1108.76,-678.49 1117.22,-680.45\"/>\n<polygon fill=\"black\" stroke=\"black\" points=\"1116.46,-683.86 1126.99,-682.7 1118.03,-677.04 1116.46,-683.86\"/>\n</g>\n<!-- 7 -->\n<g id=\"node8\" class=\"node\">\n<title>7</title>\n<path fill=\"#41a1e6\" stroke=\"black\" d=\"M1228.5,-644C1228.5,-644 1142.5,-644 1142.5,-644 1136.5,-644 1130.5,-638 1130.5,-632 1130.5,-632 1130.5,-588 1130.5,-588 1130.5,-582 1136.5,-576 1142.5,-576 1142.5,-576 1228.5,-576 1228.5,-576 1234.5,-576 1240.5,-582 1240.5,-588 1240.5,-588 1240.5,-632 1240.5,-632 1240.5,-638 1234.5,-644 1228.5,-644\"/>\n<text text-anchor=\"start\" x=\"1150\" y=\"-628.8\" font-family=\"Helvetica,sans-Serif\" font-size=\"14.00\">gini = 0.078</text>\n<text text-anchor=\"start\" x=\"1144.5\" y=\"-613.8\" font-family=\"Helvetica,sans-Serif\" font-size=\"14.00\">samples = 74</text>\n<text text-anchor=\"start\" x=\"1142.5\" y=\"-598.8\" font-family=\"Helvetica,sans-Serif\" font-size=\"14.00\">value = [3, 71]</text>\n<text text-anchor=\"start\" x=\"1138.5\" y=\"-583.8\" font-family=\"Helvetica,sans-Serif\" font-size=\"14.00\">class = Positive</text>\n</g>\n<!-- 5&#45;&gt;7 -->\n<g id=\"edge7\" class=\"edge\">\n<title>5&#45;&gt;7</title>\n<path fill=\"none\" stroke=\"black\" d=\"M1091.23,-631.56C1101.05,-629.29 1110.88,-627.02 1120.27,-624.85\"/>\n<polygon fill=\"black\" stroke=\"black\" points=\"1121.32,-628.2 1130.27,-622.54 1119.74,-621.38 1121.32,-628.2\"/>\n</g>\n<!-- 11 -->\n<g id=\"node12\" class=\"node\">\n<title>11</title>\n<path fill=\"#e99457\" stroke=\"black\" d=\"M633,-419.5C633,-419.5 470,-419.5 470,-419.5 464,-419.5 458,-413.5 458,-407.5 458,-407.5 458,-348.5 458,-348.5 458,-342.5 464,-336.5 470,-336.5 470,-336.5 633,-336.5 633,-336.5 639,-336.5 645,-342.5 645,-348.5 645,-348.5 645,-407.5 645,-407.5 645,-413.5 639,-419.5 633,-419.5\"/>\n<text text-anchor=\"start\" x=\"466\" y=\"-404.3\" font-family=\"Helvetica,sans-Serif\" font-size=\"14.00\">BehavioralProblems ≤ 0.861</text>\n<text text-anchor=\"start\" x=\"516\" y=\"-389.3\" font-family=\"Helvetica,sans-Serif\" font-size=\"14.00\">gini = 0.229</text>\n<text text-anchor=\"start\" x=\"506.5\" y=\"-374.3\" font-family=\"Helvetica,sans-Serif\" font-size=\"14.00\">samples = 684</text>\n<text text-anchor=\"start\" x=\"501\" y=\"-359.3\" font-family=\"Helvetica,sans-Serif\" font-size=\"14.00\">value = [594, 90]</text>\n<text text-anchor=\"start\" x=\"501.5\" y=\"-344.3\" font-family=\"Helvetica,sans-Serif\" font-size=\"14.00\">class = Negative</text>\n</g>\n<!-- 10&#45;&gt;11 -->\n<g id=\"edge11\" class=\"edge\">\n<title>10&#45;&gt;11</title>\n<path fill=\"none\" stroke=\"black\" d=\"M422.18,-376.83C430.65,-376.91 439.26,-376.99 447.82,-377.06\"/>\n<polygon fill=\"black\" stroke=\"black\" points=\"447.8,-380.56 457.83,-377.16 447.87,-373.56 447.8,-380.56\"/>\n</g>\n<!-- 16 -->\n<g id=\"node17\" class=\"node\">\n<title>16</title>\n<path fill=\"#c1e0f7\" stroke=\"black\" d=\"M598,-290.5C598,-290.5 505,-290.5 505,-290.5 499,-290.5 493,-284.5 493,-278.5 493,-278.5 493,-219.5 493,-219.5 493,-213.5 499,-207.5 505,-207.5 505,-207.5 598,-207.5 598,-207.5 604,-207.5 610,-213.5 610,-219.5 610,-219.5 610,-278.5 610,-278.5 610,-284.5 604,-290.5 598,-290.5\"/>\n<text text-anchor=\"start\" x=\"513.5\" y=\"-275.3\" font-family=\"Helvetica,sans-Serif\" font-size=\"14.00\">ADL ≤ 0.086</text>\n<text text-anchor=\"start\" x=\"516\" y=\"-260.3\" font-family=\"Helvetica,sans-Serif\" font-size=\"14.00\">gini = 0.483</text>\n<text text-anchor=\"start\" x=\"506.5\" y=\"-245.3\" font-family=\"Helvetica,sans-Serif\" font-size=\"14.00\">samples = 243</text>\n<text text-anchor=\"start\" x=\"501\" y=\"-230.3\" font-family=\"Helvetica,sans-Serif\" font-size=\"14.00\">value = [99, 144]</text>\n<text text-anchor=\"start\" x=\"504.5\" y=\"-215.3\" font-family=\"Helvetica,sans-Serif\" font-size=\"14.00\">class = Positive</text>\n</g>\n<!-- 10&#45;&gt;16 -->\n<g id=\"edge16\" class=\"edge\">\n<title>10&#45;&gt;16</title>\n<path fill=\"none\" stroke=\"black\" d=\"M402.87,-334.42C428.93,-319.34 458.24,-302.38 483.83,-287.57\"/>\n<polygon fill=\"black\" stroke=\"black\" points=\"485.81,-290.47 492.72,-282.43 482.31,-284.41 485.81,-290.47\"/>\n</g>\n<!-- 12 -->\n<g id=\"node13\" class=\"node\">\n<title>12</title>\n<path fill=\"#e78a47\" stroke=\"black\" d=\"M821,-506C821,-506 728,-506 728,-506 722,-506 716,-500 716,-494 716,-494 716,-450 716,-450 716,-444 722,-438 728,-438 728,-438 821,-438 821,-438 827,-438 833,-444 833,-450 833,-450 833,-494 833,-494 833,-500 827,-506 821,-506\"/>\n<text text-anchor=\"start\" x=\"742.5\" y=\"-490.8\" font-family=\"Helvetica,sans-Serif\" font-size=\"14.00\">gini = 0.12</text>\n<text text-anchor=\"start\" x=\"729.5\" y=\"-475.8\" font-family=\"Helvetica,sans-Serif\" font-size=\"14.00\">samples = 563</text>\n<text text-anchor=\"start\" x=\"724\" y=\"-460.8\" font-family=\"Helvetica,sans-Serif\" font-size=\"14.00\">value = [527, 36]</text>\n<text text-anchor=\"start\" x=\"724.5\" y=\"-445.8\" font-family=\"Helvetica,sans-Serif\" font-size=\"14.00\">class = Negative</text>\n</g>\n<!-- 11&#45;&gt;12 -->\n<g id=\"edge12\" class=\"edge\">\n<title>11&#45;&gt;12</title>\n<path fill=\"none\" stroke=\"black\" d=\"M645.26,-417.46C665.87,-426.22 687.32,-435.35 706.65,-443.57\"/>\n<polygon fill=\"black\" stroke=\"black\" points=\"705.38,-446.83 715.96,-447.52 708.12,-440.39 705.38,-446.83\"/>\n</g>\n<!-- 13 -->\n<g id=\"node14\" class=\"node\">\n<title>13</title>\n<path fill=\"#fae7d9\" stroke=\"black\" d=\"M820.5,-419.5C820.5,-419.5 728.5,-419.5 728.5,-419.5 722.5,-419.5 716.5,-413.5 716.5,-407.5 716.5,-407.5 716.5,-348.5 716.5,-348.5 716.5,-342.5 722.5,-336.5 728.5,-336.5 728.5,-336.5 820.5,-336.5 820.5,-336.5 826.5,-336.5 832.5,-342.5 832.5,-348.5 832.5,-348.5 832.5,-407.5 832.5,-407.5 832.5,-413.5 826.5,-419.5 820.5,-419.5\"/>\n<text text-anchor=\"start\" x=\"736.5\" y=\"-404.3\" font-family=\"Helvetica,sans-Serif\" font-size=\"14.00\">ADL ≤ 0.103</text>\n<text text-anchor=\"start\" x=\"739\" y=\"-389.3\" font-family=\"Helvetica,sans-Serif\" font-size=\"14.00\">gini = 0.494</text>\n<text text-anchor=\"start\" x=\"729.5\" y=\"-374.3\" font-family=\"Helvetica,sans-Serif\" font-size=\"14.00\">samples = 121</text>\n<text text-anchor=\"start\" x=\"727.5\" y=\"-359.3\" font-family=\"Helvetica,sans-Serif\" font-size=\"14.00\">value = [67, 54]</text>\n<text text-anchor=\"start\" x=\"724.5\" y=\"-344.3\" font-family=\"Helvetica,sans-Serif\" font-size=\"14.00\">class = Negative</text>\n</g>\n<!-- 11&#45;&gt;13 -->\n<g id=\"edge13\" class=\"edge\">\n<title>11&#45;&gt;13</title>\n<path fill=\"none\" stroke=\"black\" d=\"M645.26,-378C665.69,-378 686.95,-378 706.14,-378\"/>\n<polygon fill=\"black\" stroke=\"black\" points=\"706.27,-381.5 716.27,-378 706.27,-374.5 706.27,-381.5\"/>\n</g>\n<!-- 14 -->\n<g id=\"node15\" class=\"node\">\n<title>14</title>\n<path fill=\"#69b5eb\" stroke=\"black\" d=\"M1040.5,-498C1040.5,-498 954.5,-498 954.5,-498 948.5,-498 942.5,-492 942.5,-486 942.5,-486 942.5,-442 942.5,-442 942.5,-436 948.5,-430 954.5,-430 954.5,-430 1040.5,-430 1040.5,-430 1046.5,-430 1052.5,-436 1052.5,-442 1052.5,-442 1052.5,-486 1052.5,-486 1052.5,-492 1046.5,-498 1040.5,-498\"/>\n<text text-anchor=\"start\" x=\"962\" y=\"-482.8\" font-family=\"Helvetica,sans-Serif\" font-size=\"14.00\">gini = 0.316</text>\n<text text-anchor=\"start\" x=\"956.5\" y=\"-467.8\" font-family=\"Helvetica,sans-Serif\" font-size=\"14.00\">samples = 61</text>\n<text text-anchor=\"start\" x=\"950.5\" y=\"-452.8\" font-family=\"Helvetica,sans-Serif\" font-size=\"14.00\">value = [12, 49]</text>\n<text text-anchor=\"start\" x=\"950.5\" y=\"-437.8\" font-family=\"Helvetica,sans-Serif\" font-size=\"14.00\">class = Positive</text>\n</g>\n<!-- 13&#45;&gt;14 -->\n<g id=\"edge14\" class=\"edge\">\n<title>13&#45;&gt;14</title>\n<path fill=\"none\" stroke=\"black\" d=\"M832.7,-400.26C863.3,-412.17 901.07,-426.86 932.62,-439.14\"/>\n<polygon fill=\"black\" stroke=\"black\" points=\"931.61,-442.51 942.2,-442.87 934.15,-435.98 931.61,-442.51\"/>\n</g>\n<!-- 15 -->\n<g id=\"node16\" class=\"node\">\n<title>15</title>\n<path fill=\"#e78c4b\" stroke=\"black\" d=\"M1043.5,-412C1043.5,-412 951.5,-412 951.5,-412 945.5,-412 939.5,-406 939.5,-400 939.5,-400 939.5,-356 939.5,-356 939.5,-350 945.5,-344 951.5,-344 951.5,-344 1043.5,-344 1043.5,-344 1049.5,-344 1055.5,-350 1055.5,-356 1055.5,-356 1055.5,-400 1055.5,-400 1055.5,-406 1049.5,-412 1043.5,-412\"/>\n<text text-anchor=\"start\" x=\"962\" y=\"-396.8\" font-family=\"Helvetica,sans-Serif\" font-size=\"14.00\">gini = 0.153</text>\n<text text-anchor=\"start\" x=\"956.5\" y=\"-381.8\" font-family=\"Helvetica,sans-Serif\" font-size=\"14.00\">samples = 60</text>\n<text text-anchor=\"start\" x=\"954.5\" y=\"-366.8\" font-family=\"Helvetica,sans-Serif\" font-size=\"14.00\">value = [55, 5]</text>\n<text text-anchor=\"start\" x=\"947.5\" y=\"-351.8\" font-family=\"Helvetica,sans-Serif\" font-size=\"14.00\">class = Negative</text>\n</g>\n<!-- 13&#45;&gt;15 -->\n<g id=\"edge15\" class=\"edge\">\n<title>13&#45;&gt;15</title>\n<path fill=\"none\" stroke=\"black\" d=\"M832.7,-378C862.12,-378 898.16,-378 928.94,-378\"/>\n<polygon fill=\"black\" stroke=\"black\" points=\"929.16,-381.5 939.16,-378 929.16,-374.5 929.16,-381.5\"/>\n</g>\n<!-- 17 -->\n<g id=\"node18\" class=\"node\">\n<title>17</title>\n<path fill=\"#66b3eb\" stroke=\"black\" d=\"M821,-290.5C821,-290.5 728,-290.5 728,-290.5 722,-290.5 716,-284.5 716,-278.5 716,-278.5 716,-219.5 716,-219.5 716,-213.5 722,-207.5 728,-207.5 728,-207.5 821,-207.5 821,-207.5 827,-207.5 833,-213.5 833,-219.5 833,-219.5 833,-278.5 833,-278.5 833,-284.5 827,-290.5 821,-290.5\"/>\n<text text-anchor=\"start\" x=\"729\" y=\"-275.3\" font-family=\"Helvetica,sans-Serif\" font-size=\"14.00\">MMSE ≤ 1.155</text>\n<text text-anchor=\"start\" x=\"739\" y=\"-260.3\" font-family=\"Helvetica,sans-Serif\" font-size=\"14.00\">gini = 0.301</text>\n<text text-anchor=\"start\" x=\"729.5\" y=\"-245.3\" font-family=\"Helvetica,sans-Serif\" font-size=\"14.00\">samples = 141</text>\n<text text-anchor=\"start\" x=\"724\" y=\"-230.3\" font-family=\"Helvetica,sans-Serif\" font-size=\"14.00\">value = [26, 115]</text>\n<text text-anchor=\"start\" x=\"727.5\" y=\"-215.3\" font-family=\"Helvetica,sans-Serif\" font-size=\"14.00\">class = Positive</text>\n</g>\n<!-- 16&#45;&gt;17 -->\n<g id=\"edge17\" class=\"edge\">\n<title>16&#45;&gt;17</title>\n<path fill=\"none\" stroke=\"black\" d=\"M610.28,-249C639.46,-249 675.06,-249 705.55,-249\"/>\n<polygon fill=\"black\" stroke=\"black\" points=\"705.68,-252.5 715.68,-249 705.68,-245.5 705.68,-252.5\"/>\n</g>\n<!-- 20 -->\n<g id=\"node21\" class=\"node\">\n<title>20</title>\n<path fill=\"#efb388\" stroke=\"black\" d=\"M856,-161.5C856,-161.5 693,-161.5 693,-161.5 687,-161.5 681,-155.5 681,-149.5 681,-149.5 681,-90.5 681,-90.5 681,-84.5 687,-78.5 693,-78.5 693,-78.5 856,-78.5 856,-78.5 862,-78.5 868,-84.5 868,-90.5 868,-90.5 868,-149.5 868,-149.5 868,-155.5 862,-161.5 856,-161.5\"/>\n<text text-anchor=\"start\" x=\"689\" y=\"-146.3\" font-family=\"Helvetica,sans-Serif\" font-size=\"14.00\">BehavioralProblems ≤ 0.861</text>\n<text text-anchor=\"start\" x=\"739\" y=\"-131.3\" font-family=\"Helvetica,sans-Serif\" font-size=\"14.00\">gini = 0.407</text>\n<text text-anchor=\"start\" x=\"729.5\" y=\"-116.3\" font-family=\"Helvetica,sans-Serif\" font-size=\"14.00\">samples = 102</text>\n<text text-anchor=\"start\" x=\"727.5\" y=\"-101.3\" font-family=\"Helvetica,sans-Serif\" font-size=\"14.00\">value = [73, 29]</text>\n<text text-anchor=\"start\" x=\"724.5\" y=\"-86.3\" font-family=\"Helvetica,sans-Serif\" font-size=\"14.00\">class = Negative</text>\n</g>\n<!-- 16&#45;&gt;20 -->\n<g id=\"edge20\" class=\"edge\">\n<title>16&#45;&gt;20</title>\n<path fill=\"none\" stroke=\"black\" d=\"M610.28,-215.28C635.66,-200.46 665.9,-182.81 693.41,-166.75\"/>\n<polygon fill=\"black\" stroke=\"black\" points=\"695.37,-169.66 702.24,-161.59 691.84,-163.61 695.37,-169.66\"/>\n</g>\n<!-- 18 -->\n<g id=\"node19\" class=\"node\">\n<title>18</title>\n<path fill=\"#43a2e6\" stroke=\"black\" d=\"M1040.5,-326C1040.5,-326 954.5,-326 954.5,-326 948.5,-326 942.5,-320 942.5,-314 942.5,-314 942.5,-270 942.5,-270 942.5,-264 948.5,-258 954.5,-258 954.5,-258 1040.5,-258 1040.5,-258 1046.5,-258 1052.5,-264 1052.5,-270 1052.5,-270 1052.5,-314 1052.5,-314 1052.5,-320 1046.5,-326 1040.5,-326\"/>\n<text text-anchor=\"start\" x=\"962\" y=\"-310.8\" font-family=\"Helvetica,sans-Serif\" font-size=\"14.00\">gini = 0.094</text>\n<text text-anchor=\"start\" x=\"952.5\" y=\"-295.8\" font-family=\"Helvetica,sans-Serif\" font-size=\"14.00\">samples = 121</text>\n<text text-anchor=\"start\" x=\"950.5\" y=\"-280.8\" font-family=\"Helvetica,sans-Serif\" font-size=\"14.00\">value = [6, 115]</text>\n<text text-anchor=\"start\" x=\"950.5\" y=\"-265.8\" font-family=\"Helvetica,sans-Serif\" font-size=\"14.00\">class = Positive</text>\n</g>\n<!-- 17&#45;&gt;18 -->\n<g id=\"edge18\" class=\"edge\">\n<title>17&#45;&gt;18</title>\n<path fill=\"none\" stroke=\"black\" d=\"M833.28,-260.24C863.74,-266.17 901.19,-273.46 932.53,-279.55\"/>\n<polygon fill=\"black\" stroke=\"black\" points=\"931.99,-283.01 942.48,-281.49 933.33,-276.14 931.99,-283.01\"/>\n</g>\n<!-- 19 -->\n<g id=\"node20\" class=\"node\">\n<title>19</title>\n<path fill=\"#e58139\" stroke=\"black\" d=\"M1043.5,-240C1043.5,-240 951.5,-240 951.5,-240 945.5,-240 939.5,-234 939.5,-228 939.5,-228 939.5,-184 939.5,-184 939.5,-178 945.5,-172 951.5,-172 951.5,-172 1043.5,-172 1043.5,-172 1049.5,-172 1055.5,-178 1055.5,-184 1055.5,-184 1055.5,-228 1055.5,-228 1055.5,-234 1049.5,-240 1043.5,-240\"/>\n<text text-anchor=\"start\" x=\"969.5\" y=\"-224.8\" font-family=\"Helvetica,sans-Serif\" font-size=\"14.00\">gini = 0.0</text>\n<text text-anchor=\"start\" x=\"956.5\" y=\"-209.8\" font-family=\"Helvetica,sans-Serif\" font-size=\"14.00\">samples = 20</text>\n<text text-anchor=\"start\" x=\"954.5\" y=\"-194.8\" font-family=\"Helvetica,sans-Serif\" font-size=\"14.00\">value = [20, 0]</text>\n<text text-anchor=\"start\" x=\"947.5\" y=\"-179.8\" font-family=\"Helvetica,sans-Serif\" font-size=\"14.00\">class = Negative</text>\n</g>\n<!-- 17&#45;&gt;19 -->\n<g id=\"edge19\" class=\"edge\">\n<title>17&#45;&gt;19</title>\n<path fill=\"none\" stroke=\"black\" d=\"M833.28,-237.76C862.69,-232.04 898.62,-225.05 929.27,-219.08\"/>\n<polygon fill=\"black\" stroke=\"black\" points=\"930.3,-222.45 939.44,-217.1 928.96,-215.58 930.3,-222.45\"/>\n</g>\n<!-- 21 -->\n<g id=\"node22\" class=\"node\">\n<title>21</title>\n<path fill=\"#e88d4d\" stroke=\"black\" d=\"M1043.5,-154C1043.5,-154 951.5,-154 951.5,-154 945.5,-154 939.5,-148 939.5,-142 939.5,-142 939.5,-98 939.5,-98 939.5,-92 945.5,-86 951.5,-86 951.5,-86 1043.5,-86 1043.5,-86 1049.5,-86 1055.5,-92 1055.5,-98 1055.5,-98 1055.5,-142 1055.5,-142 1055.5,-148 1049.5,-154 1043.5,-154\"/>\n<text text-anchor=\"start\" x=\"962\" y=\"-138.8\" font-family=\"Helvetica,sans-Serif\" font-size=\"14.00\">gini = 0.163</text>\n<text text-anchor=\"start\" x=\"956.5\" y=\"-123.8\" font-family=\"Helvetica,sans-Serif\" font-size=\"14.00\">samples = 78</text>\n<text text-anchor=\"start\" x=\"954.5\" y=\"-108.8\" font-family=\"Helvetica,sans-Serif\" font-size=\"14.00\">value = [71, 7]</text>\n<text text-anchor=\"start\" x=\"947.5\" y=\"-93.8\" font-family=\"Helvetica,sans-Serif\" font-size=\"14.00\">class = Negative</text>\n</g>\n<!-- 20&#45;&gt;21 -->\n<g id=\"edge21\" class=\"edge\">\n<title>20&#45;&gt;21</title>\n<path fill=\"none\" stroke=\"black\" d=\"M868.26,-120C888.69,-120 909.95,-120 929.14,-120\"/>\n<polygon fill=\"black\" stroke=\"black\" points=\"929.27,-123.5 939.27,-120 929.27,-116.5 929.27,-123.5\"/>\n</g>\n<!-- 22 -->\n<g id=\"node23\" class=\"node\">\n<title>22</title>\n<path fill=\"#4ba6e7\" stroke=\"black\" d=\"M1040.5,-68C1040.5,-68 954.5,-68 954.5,-68 948.5,-68 942.5,-62 942.5,-56 942.5,-56 942.5,-12 942.5,-12 942.5,-6 948.5,0 954.5,0 954.5,0 1040.5,0 1040.5,0 1046.5,0 1052.5,-6 1052.5,-12 1052.5,-12 1052.5,-56 1052.5,-56 1052.5,-62 1046.5,-68 1040.5,-68\"/>\n<text text-anchor=\"start\" x=\"962\" y=\"-52.8\" font-family=\"Helvetica,sans-Serif\" font-size=\"14.00\">gini = 0.153</text>\n<text text-anchor=\"start\" x=\"956.5\" y=\"-37.8\" font-family=\"Helvetica,sans-Serif\" font-size=\"14.00\">samples = 24</text>\n<text text-anchor=\"start\" x=\"954.5\" y=\"-22.8\" font-family=\"Helvetica,sans-Serif\" font-size=\"14.00\">value = [2, 22]</text>\n<text text-anchor=\"start\" x=\"950.5\" y=\"-7.8\" font-family=\"Helvetica,sans-Serif\" font-size=\"14.00\">class = Positive</text>\n</g>\n<!-- 20&#45;&gt;22 -->\n<g id=\"edge22\" class=\"edge\">\n<title>20&#45;&gt;22</title>\n<path fill=\"none\" stroke=\"black\" d=\"M868.26,-83.9C890.09,-75.41 912.86,-66.55 933.05,-58.69\"/>\n<polygon fill=\"black\" stroke=\"black\" points=\"934.38,-61.93 942.43,-55.04 931.85,-55.4 934.38,-61.93\"/>\n</g>\n</g>\n</svg>\n",
            "text/plain": [
              "<graphviz.sources.Source at 0x7d0ef3e605d0>"
            ]
          },
          "metadata": {},
          "execution_count": 192
        }
      ]
    },
    {
      "cell_type": "code",
      "source": [
        "# Plotting the Decision Tree diagram\n",
        "# from sklearn.tree import plot_tree\n",
        "# plt.figure(figsize=(4,4))\n",
        "# plot_tree(DT, filled=True, feature_names=selected_feature_names, class_names='Diagnosis')\n",
        "# plt.show()"
      ],
      "metadata": {
        "id": "iJxy4CbsCfFR"
      },
      "execution_count": null,
      "outputs": []
    },
    {
      "cell_type": "markdown",
      "source": [
        "# Random Forest Classifier"
      ],
      "metadata": {
        "id": "qfmm4IwY1lvl"
      }
    },
    {
      "cell_type": "code",
      "source": [
        "#RandomForestClassifier\n",
        "from sklearn.ensemble import RandomForestClassifier\n",
        "# Create a Random Forest classifier with max_features set to 0.5\n",
        "RFC = RandomForestClassifier(n_estimators=100, max_depth=7, criterion='gini', max_features=1.0, random_state=42)\n",
        "RFC.fit(x_train, y_train)\n",
        "y_pred_train = RFC.predict(x_train)\n",
        "y_pred_test  = RFC.predict(x_test)\n",
        "calculate_confusion(\"RFC\",y_train, y_pred_train, y_test, y_pred_test)\n",
        "fpr7, tpr7, _ = metrics.roc_curve(y_test, y_pred_test)\n",
        "auc = round(metrics.roc_auc_score(y_test, y_pred_test), 4)\n",
        "cv_results = cross_val_score(RFC, x_test, y_test)\n",
        "results.append(cv_results)"
      ],
      "metadata": {
        "id": "R3C9uzf7hY5e",
        "outputId": "822f0ed0-d4ba-4cff-aa9a-d77f15de5a4c",
        "colab": {
          "base_uri": "https://localhost:8080/",
          "height": 345
        }
      },
      "execution_count": null,
      "outputs": [
        {
          "output_type": "display_data",
          "data": {
            "text/plain": [
              "<Figure size 600x200 with 4 Axes>"
            ],
            "image/png": "[encoded data removed]"
          },
          "metadata": {}
        },
        {
          "output_type": "stream",
          "name": "stdout",
          "text": [
            "-----Results for RFC ----------------------\n",
            "  Train Accuracy    Train Precision    Train Recall    Train F1    Test Accuracy    Test Precision    Test Recall    Test F1\n",
            "----------------  -----------------  --------------  ----------  ---------------  ----------------  -------------  ---------\n",
            "        0.968795           0.979331        0.957652     0.96837         0.933813          0.957831       0.908571   0.932551\n"
          ]
        }
      ]
    },
    {
      "cell_type": "code",
      "source": [
        "# Compute False postive rate, and True positive rate\n",
        "fpr7, tpr7, thresholds7 = metrics.roc_curve(y_train, RFC.predict_proba(x_train)[:,1])\n",
        "# Calculate Area under the curve to display on the plot\n",
        "auc7 = metrics.roc_auc_score(y_train,y_pred_train)"
      ],
      "metadata": {
        "id": "5lptiiD5FSzL"
      },
      "execution_count": null,
      "outputs": []
    },
    {
      "cell_type": "code",
      "source": [
        "# Create a Random Forest classifier object\n",
        "RFC= RandomForestClassifier(n_estimators=10, ccp_alpha=0.01)\n",
        "\n",
        "# Train the model on the data\n",
        "RFC.fit(X, y)\n",
        "\n",
        "# Print the trained decision trees\n",
        "for i, tree in enumerate(RFC.estimators_):\n",
        "    print(f\"Tree {i}:\")\n",
        "    print(tree.tree_.max_depth)  # print the depth of each tree"
      ],
      "metadata": {
        "id": "hoDJCrJ4KUZT",
        "outputId": "e403d948-0e11-4c0f-f50d-cd85fc359dcb",
        "colab": {
          "base_uri": "https://localhost:8080/"
        }
      },
      "execution_count": null,
      "outputs": [
        {
          "output_type": "stream",
          "name": "stdout",
          "text": [
            "Tree 0:\n",
            "4\n",
            "Tree 1:\n",
            "9\n",
            "Tree 2:\n",
            "6\n",
            "Tree 3:\n",
            "11\n",
            "Tree 4:\n",
            "7\n",
            "Tree 5:\n",
            "8\n",
            "Tree 6:\n",
            "4\n",
            "Tree 7:\n",
            "4\n",
            "Tree 8:\n",
            "8\n",
            "Tree 9:\n",
            "7\n"
          ]
        }
      ]
    },
    {
      "cell_type": "code",
      "source": [
        "# from sklearn.ensemble import RandomForestClassifier\n",
        "# from sklearn.tree import plot_tree\n",
        "# import matplotlib.pyplot as plt\n",
        "\n",
        "# # Assuming you have trained your RandomForestClassifier and named it RFC\n",
        "# # Make sure to replace RFC with your actual RandomForestClassifier instance\n",
        "\n",
        "# # Check if the RFC has been fitted and contains estimators\n",
        "# if hasattr(RFC, 'estimators_') and len(RFC.estimators_) > 0:\n",
        "#     # Choose the best tree from the forest based on mean decrease impurity\n",
        "#     best_tree_index = RFC.feature_importances_.argmax()\n",
        "\n",
        "#     # Verify that the best_tree_index is within valid range\n",
        "#     if 0 <= best_tree_index < len(RFC.estimators_):\n",
        "#         # Plot the best tree in the forest\n",
        "#         fig, ax = plt.subplots(figsize=(10, 10))\n",
        "#         plot_tree(RFC.estimators_[best_tree_index], ax=ax)\n",
        "#         plt.show()\n",
        "#     else:\n",
        "#         print(\"Invalid best_tree_index.\")\n",
        "# else:\n",
        "#     print(\"RandomForestClassifier not properly fitted.\")\n"
      ],
      "metadata": {
        "id": "wZMDfm8RWzI6"
      },
      "execution_count": null,
      "outputs": []
    },
    {
      "cell_type": "code",
      "source": [
        "print(selected_feature_names)"
      ],
      "metadata": {
        "id": "wgreOIqyK6rc",
        "outputId": "f12e3eed-6265-424c-8854-1759b5779996",
        "colab": {
          "base_uri": "https://localhost:8080/"
        }
      },
      "execution_count": null,
      "outputs": [
        {
          "output_type": "stream",
          "name": "stdout",
          "text": [
            "Index(['MMSE', 'FunctionalAssessment', 'MemoryComplaints',\n",
            "       'BehavioralProblems', 'ADL'],\n",
            "      dtype='object')\n"
          ]
        }
      ]
    },
    {
      "cell_type": "code",
      "source": [
        "from sklearn.ensemble import RandomForestClassifier\n",
        "from sklearn.model_selection import train_test_split\n",
        "from sklearn.tree import export_graphviz\n",
        "import graphviz\n",
        "\n",
        "# Split data into training and testing sets\n",
        "X_train, X_test, y_train, y_test = train_test_split(df.drop(['Diagnosis'], axis=1), df['Diagnosis'], test_size=0.25, random_state=42)\n",
        "\n",
        "# Train a random forest classifier on the training data\n",
        "RFC = RandomForestClassifier(n_estimators=100, max_depth=7, criterion='gini', max_features=1.0, random_state=42, ccp_alpha=0.01)\n",
        "RFC.fit(X_train, y_train)\n",
        "\n",
        "# Extract feature names from the dataframe\n",
        "feature_names = X_train.columns\n",
        "\n",
        "# Export the random forest as a Graphviz dot file\n",
        "dot_data = export_graphviz(RFC.estimators_[0], out_file=None, feature_names=feature_names,\n",
        "                           class_names=['Negative', 'Positive'], filled=True, rounded=True,\n",
        "                           special_characters=True, rotate=True)\n",
        "\n",
        "# Create a graph from the dot file\n",
        "graph = graphviz.Source(dot_data)\n",
        "\n",
        "# Render the graph as a PNG image\n",
        "graph.format = 'png'\n",
        "graph.render('random forest', view=False)\n",
        "\n",
        "# Display the graph\n",
        "graph"
      ],
      "metadata": {
        "id": "2XrkGb9sKxou",
        "outputId": "0ba9d1cc-62ef-4885-a4c6-f1860ed4a2c6",
        "colab": {
          "base_uri": "https://localhost:8080/",
          "height": 897
        }
      },
      "execution_count": null,
      "outputs": [
        {
          "output_type": "execute_result",
          "data": {
            "image/svg+xml": "<?xml version=\"1.0\" encoding=\"UTF-8\" standalone=\"no\"?>\n<!DOCTYPE svg PUBLIC \"-//W3C//DTD SVG 1.1//EN\"\n \"http://www.w3.org/Graphics/SVG/1.1/DTD/svg11.dtd\">\n<!-- Generated by graphviz version 2.43.0 (0)\n -->\n<!-- Title: Tree Pages: 1 -->\n<svg width=\"1330pt\" height=\"642pt\"\n viewBox=\"0.00 0.00 1330.00 642.00\" xmlns=\"http://www.w3.org/2000/svg\" xmlns:xlink=\"http://www.w3.org/1999/xlink\">\n<g id=\"graph0\" class=\"graph\" transform=\"scale(1 1) rotate(0) translate(4 638)\">\n<title>Tree</title>\n<polygon fill=\"white\" stroke=\"transparent\" points=\"-4,4 -4,-638 1326,-638 1326,4 -4,4\"/>\n<!-- 0 -->\n<g id=\"node1\" class=\"node\">\n<title>0</title>\n<path fill=\"#fefcfa\" stroke=\"black\" d=\"M190,-316.5C190,-316.5 12,-316.5 12,-316.5 6,-316.5 0,-310.5 0,-304.5 0,-304.5 0,-245.5 0,-245.5 0,-239.5 6,-233.5 12,-233.5 12,-233.5 190,-233.5 190,-233.5 196,-233.5 202,-239.5 202,-245.5 202,-245.5 202,-304.5 202,-304.5 202,-310.5 196,-316.5 190,-316.5\"/>\n<text text-anchor=\"start\" x=\"8\" y=\"-301.3\" font-family=\"Helvetica,sans-Serif\" font-size=\"14.00\">FunctionalAssessment ≤ 4.967</text>\n<text text-anchor=\"start\" x=\"73\" y=\"-286.3\" font-family=\"Helvetica,sans-Serif\" font-size=\"14.00\">gini = 0.5</text>\n<text text-anchor=\"start\" x=\"52.5\" y=\"-271.3\" font-family=\"Helvetica,sans-Serif\" font-size=\"14.00\">samples = 1337</text>\n<text text-anchor=\"start\" x=\"39\" y=\"-256.3\" font-family=\"Helvetica,sans-Serif\" font-size=\"14.00\">value = [1056, 1027]</text>\n<text text-anchor=\"start\" x=\"51\" y=\"-241.3\" font-family=\"Helvetica,sans-Serif\" font-size=\"14.00\">class = Negative</text>\n</g>\n<!-- 1 -->\n<g id=\"node2\" class=\"node\">\n<title>1</title>\n<path fill=\"#92c9f1\" stroke=\"black\" d=\"M373,-367.5C373,-367.5 272,-367.5 272,-367.5 266,-367.5 260,-361.5 260,-355.5 260,-355.5 260,-296.5 260,-296.5 260,-290.5 266,-284.5 272,-284.5 272,-284.5 373,-284.5 373,-284.5 379,-284.5 385,-290.5 385,-296.5 385,-296.5 385,-355.5 385,-355.5 385,-361.5 379,-367.5 373,-367.5\"/>\n<text text-anchor=\"start\" x=\"273\" y=\"-352.3\" font-family=\"Helvetica,sans-Serif\" font-size=\"14.00\">MMSE ≤ 24.014</text>\n<text text-anchor=\"start\" x=\"287\" y=\"-337.3\" font-family=\"Helvetica,sans-Serif\" font-size=\"14.00\">gini = 0.428</text>\n<text text-anchor=\"start\" x=\"277.5\" y=\"-322.3\" font-family=\"Helvetica,sans-Serif\" font-size=\"14.00\">samples = 732</text>\n<text text-anchor=\"start\" x=\"268\" y=\"-307.3\" font-family=\"Helvetica,sans-Serif\" font-size=\"14.00\">value = [352, 783]</text>\n<text text-anchor=\"start\" x=\"275.5\" y=\"-292.3\" font-family=\"Helvetica,sans-Serif\" font-size=\"14.00\">class = Positive</text>\n</g>\n<!-- 0&#45;&gt;1 -->\n<g id=\"edge1\" class=\"edge\">\n<title>0&#45;&gt;1</title>\n<path fill=\"none\" stroke=\"black\" d=\"M202.12,-298.26C218.25,-302.01 234.67,-305.83 249.96,-309.38\"/>\n<polygon fill=\"black\" stroke=\"black\" points=\"249.3,-312.82 259.83,-311.67 250.88,-306 249.3,-312.82\"/>\n<text text-anchor=\"middle\" x=\"238.61\" y=\"-321.19\" font-family=\"Helvetica,sans-Serif\" font-size=\"14.00\">True</text>\n</g>\n<!-- 12 -->\n<g id=\"node13\" class=\"node\">\n<title>12</title>\n<path fill=\"#eead7e\" stroke=\"black\" d=\"M395,-266.5C395,-266.5 250,-266.5 250,-266.5 244,-266.5 238,-260.5 238,-254.5 238,-254.5 238,-195.5 238,-195.5 238,-189.5 244,-183.5 250,-183.5 250,-183.5 395,-183.5 395,-183.5 401,-183.5 407,-189.5 407,-195.5 407,-195.5 407,-254.5 407,-254.5 407,-260.5 401,-266.5 395,-266.5\"/>\n<text text-anchor=\"start\" x=\"246\" y=\"-251.3\" font-family=\"Helvetica,sans-Serif\" font-size=\"14.00\">MemoryComplaints ≤ 0.5</text>\n<text text-anchor=\"start\" x=\"287\" y=\"-236.3\" font-family=\"Helvetica,sans-Serif\" font-size=\"14.00\">gini = 0.382</text>\n<text text-anchor=\"start\" x=\"277.5\" y=\"-221.3\" font-family=\"Helvetica,sans-Serif\" font-size=\"14.00\">samples = 605</text>\n<text text-anchor=\"start\" x=\"257\" y=\"-206.3\" font-family=\"Helvetica,sans-Serif\" font-size=\"14.00\">value = [704.0, 244.0]</text>\n<text text-anchor=\"start\" x=\"272.5\" y=\"-191.3\" font-family=\"Helvetica,sans-Serif\" font-size=\"14.00\">class = Negative</text>\n</g>\n<!-- 0&#45;&gt;12 -->\n<g id=\"edge12\" class=\"edge\">\n<title>0&#45;&gt;12</title>\n<path fill=\"none\" stroke=\"black\" d=\"M202.12,-252.19C210.73,-250.23 219.42,-248.25 227.98,-246.3\"/>\n<polygon fill=\"black\" stroke=\"black\" points=\"228.98,-249.66 237.96,-244.03 227.43,-242.84 228.98,-249.66\"/>\n<text text-anchor=\"middle\" x=\"216.79\" y=\"-227.02\" font-family=\"Helvetica,sans-Serif\" font-size=\"14.00\">False</text>\n</g>\n<!-- 2 -->\n<g id=\"node3\" class=\"node\">\n<title>2</title>\n<path fill=\"#6eb7ec\" stroke=\"black\" d=\"M567,-461.5C567,-461.5 466,-461.5 466,-461.5 460,-461.5 454,-455.5 454,-449.5 454,-449.5 454,-390.5 454,-390.5 454,-384.5 460,-378.5 466,-378.5 466,-378.5 567,-378.5 567,-378.5 573,-378.5 579,-384.5 579,-390.5 579,-390.5 579,-449.5 579,-449.5 579,-455.5 573,-461.5 567,-461.5\"/>\n<text text-anchor=\"start\" x=\"478.5\" y=\"-446.3\" font-family=\"Helvetica,sans-Serif\" font-size=\"14.00\">ADL ≤ 5.161</text>\n<text text-anchor=\"start\" x=\"481\" y=\"-431.3\" font-family=\"Helvetica,sans-Serif\" font-size=\"14.00\">gini = 0.334</text>\n<text text-anchor=\"start\" x=\"471.5\" y=\"-416.3\" font-family=\"Helvetica,sans-Serif\" font-size=\"14.00\">samples = 631</text>\n<text text-anchor=\"start\" x=\"462\" y=\"-401.3\" font-family=\"Helvetica,sans-Serif\" font-size=\"14.00\">value = [208, 772]</text>\n<text text-anchor=\"start\" x=\"469.5\" y=\"-386.3\" font-family=\"Helvetica,sans-Serif\" font-size=\"14.00\">class = Positive</text>\n</g>\n<!-- 1&#45;&gt;2 -->\n<g id=\"edge2\" class=\"edge\">\n<title>1&#45;&gt;2</title>\n<path fill=\"none\" stroke=\"black\" d=\"M385.04,-356.13C404.07,-365.45 425.19,-375.79 444.79,-385.38\"/>\n<polygon fill=\"black\" stroke=\"black\" points=\"443.46,-388.63 453.98,-389.88 446.53,-382.34 443.46,-388.63\"/>\n</g>\n<!-- 11 -->\n<g id=\"node12\" class=\"node\">\n<title>11</title>\n<path fill=\"#e78b48\" stroke=\"black\" d=\"M563,-360C563,-360 470,-360 470,-360 464,-360 458,-354 458,-348 458,-348 458,-304 458,-304 458,-298 464,-292 470,-292 470,-292 563,-292 563,-292 569,-292 575,-298 575,-304 575,-304 575,-348 575,-348 575,-354 569,-360 563,-360\"/>\n<text text-anchor=\"start\" x=\"481\" y=\"-344.8\" font-family=\"Helvetica,sans-Serif\" font-size=\"14.00\">gini = 0.132</text>\n<text text-anchor=\"start\" x=\"471.5\" y=\"-329.8\" font-family=\"Helvetica,sans-Serif\" font-size=\"14.00\">samples = 101</text>\n<text text-anchor=\"start\" x=\"466\" y=\"-314.8\" font-family=\"Helvetica,sans-Serif\" font-size=\"14.00\">value = [144, 11]</text>\n<text text-anchor=\"start\" x=\"466.5\" y=\"-299.8\" font-family=\"Helvetica,sans-Serif\" font-size=\"14.00\">class = Negative</text>\n</g>\n<!-- 1&#45;&gt;11 -->\n<g id=\"edge11\" class=\"edge\">\n<title>1&#45;&gt;11</title>\n<path fill=\"none\" stroke=\"black\" d=\"M385.04,-326C405.03,-326 427.31,-326 447.73,-326\"/>\n<polygon fill=\"black\" stroke=\"black\" points=\"447.89,-329.5 457.89,-326 447.89,-322.5 447.89,-329.5\"/>\n</g>\n<!-- 3 -->\n<g id=\"node4\" class=\"node\">\n<title>3</title>\n<path fill=\"#3d9fe6\" stroke=\"black\" d=\"M758.5,-548C758.5,-548 665.5,-548 665.5,-548 659.5,-548 653.5,-542 653.5,-536 653.5,-536 653.5,-492 653.5,-492 653.5,-486 659.5,-480 665.5,-480 665.5,-480 758.5,-480 758.5,-480 764.5,-480 770.5,-486 770.5,-492 770.5,-492 770.5,-536 770.5,-536 770.5,-542 764.5,-548 758.5,-548\"/>\n<text text-anchor=\"start\" x=\"676.5\" y=\"-532.8\" font-family=\"Helvetica,sans-Serif\" font-size=\"14.00\">gini = 0.041</text>\n<text text-anchor=\"start\" x=\"667\" y=\"-517.8\" font-family=\"Helvetica,sans-Serif\" font-size=\"14.00\">samples = 402</text>\n<text text-anchor=\"start\" x=\"661.5\" y=\"-502.8\" font-family=\"Helvetica,sans-Serif\" font-size=\"14.00\">value = [13, 610]</text>\n<text text-anchor=\"start\" x=\"665\" y=\"-487.8\" font-family=\"Helvetica,sans-Serif\" font-size=\"14.00\">class = Positive</text>\n</g>\n<!-- 2&#45;&gt;3 -->\n<g id=\"edge3\" class=\"edge\">\n<title>2&#45;&gt;3</title>\n<path fill=\"none\" stroke=\"black\" d=\"M579.26,-450C599.97,-460.06 623.16,-471.33 644.24,-481.57\"/>\n<polygon fill=\"black\" stroke=\"black\" points=\"642.92,-484.82 653.44,-486.04 645.98,-478.52 642.92,-484.82\"/>\n</g>\n<!-- 4 -->\n<g id=\"node5\" class=\"node\">\n<title>4</title>\n<path fill=\"#fbeadd\" stroke=\"black\" d=\"M784.5,-461.5C784.5,-461.5 639.5,-461.5 639.5,-461.5 633.5,-461.5 627.5,-455.5 627.5,-449.5 627.5,-449.5 627.5,-390.5 627.5,-390.5 627.5,-384.5 633.5,-378.5 639.5,-378.5 639.5,-378.5 784.5,-378.5 784.5,-378.5 790.5,-378.5 796.5,-384.5 796.5,-390.5 796.5,-390.5 796.5,-449.5 796.5,-449.5 796.5,-455.5 790.5,-461.5 784.5,-461.5\"/>\n<text text-anchor=\"start\" x=\"635.5\" y=\"-446.3\" font-family=\"Helvetica,sans-Serif\" font-size=\"14.00\">MemoryComplaints ≤ 0.5</text>\n<text text-anchor=\"start\" x=\"676.5\" y=\"-431.3\" font-family=\"Helvetica,sans-Serif\" font-size=\"14.00\">gini = 0.496</text>\n<text text-anchor=\"start\" x=\"667\" y=\"-416.3\" font-family=\"Helvetica,sans-Serif\" font-size=\"14.00\">samples = 229</text>\n<text text-anchor=\"start\" x=\"646.5\" y=\"-401.3\" font-family=\"Helvetica,sans-Serif\" font-size=\"14.00\">value = [195.0, 162.0]</text>\n<text text-anchor=\"start\" x=\"662\" y=\"-386.3\" font-family=\"Helvetica,sans-Serif\" font-size=\"14.00\">class = Negative</text>\n</g>\n<!-- 2&#45;&gt;4 -->\n<g id=\"edge4\" class=\"edge\">\n<title>2&#45;&gt;4</title>\n<path fill=\"none\" stroke=\"black\" d=\"M579.26,-420C591.3,-420 604.18,-420 617,-420\"/>\n<polygon fill=\"black\" stroke=\"black\" points=\"617.24,-423.5 627.24,-420 617.24,-416.5 617.24,-423.5\"/>\n</g>\n<!-- 5 -->\n<g id=\"node6\" class=\"node\">\n<title>5</title>\n<path fill=\"#efb185\" stroke=\"black\" d=\"M994,-551.5C994,-551.5 846,-551.5 846,-551.5 840,-551.5 834,-545.5 834,-539.5 834,-539.5 834,-480.5 834,-480.5 834,-474.5 840,-468.5 846,-468.5 846,-468.5 994,-468.5 994,-468.5 1000,-468.5 1006,-474.5 1006,-480.5 1006,-480.5 1006,-539.5 1006,-539.5 1006,-545.5 1000,-551.5 994,-551.5\"/>\n<text text-anchor=\"start\" x=\"842\" y=\"-536.3\" font-family=\"Helvetica,sans-Serif\" font-size=\"14.00\">BehavioralProblems ≤ 0.5</text>\n<text text-anchor=\"start\" x=\"884.5\" y=\"-521.3\" font-family=\"Helvetica,sans-Serif\" font-size=\"14.00\">gini = 0.401</text>\n<text text-anchor=\"start\" x=\"875\" y=\"-506.3\" font-family=\"Helvetica,sans-Serif\" font-size=\"14.00\">samples = 167</text>\n<text text-anchor=\"start\" x=\"869.5\" y=\"-491.3\" font-family=\"Helvetica,sans-Serif\" font-size=\"14.00\">value = [193, 74]</text>\n<text text-anchor=\"start\" x=\"870\" y=\"-476.3\" font-family=\"Helvetica,sans-Serif\" font-size=\"14.00\">class = Negative</text>\n</g>\n<!-- 4&#45;&gt;5 -->\n<g id=\"edge5\" class=\"edge\">\n<title>4&#45;&gt;5</title>\n<path fill=\"none\" stroke=\"black\" d=\"M796.79,-456.61C805.98,-460.62 815.38,-464.73 824.69,-468.79\"/>\n<polygon fill=\"black\" stroke=\"black\" points=\"823.38,-472.05 833.95,-472.84 826.19,-465.63 823.38,-472.05\"/>\n</g>\n<!-- 10 -->\n<g id=\"node11\" class=\"node\">\n<title>10</title>\n<path fill=\"#3d9fe6\" stroke=\"black\" d=\"M963,-450C963,-450 877,-450 877,-450 871,-450 865,-444 865,-438 865,-438 865,-394 865,-394 865,-388 871,-382 877,-382 877,-382 963,-382 963,-382 969,-382 975,-388 975,-394 975,-394 975,-438 975,-438 975,-444 969,-450 963,-450\"/>\n<text text-anchor=\"start\" x=\"884.5\" y=\"-434.8\" font-family=\"Helvetica,sans-Serif\" font-size=\"14.00\">gini = 0.043</text>\n<text text-anchor=\"start\" x=\"879\" y=\"-419.8\" font-family=\"Helvetica,sans-Serif\" font-size=\"14.00\">samples = 62</text>\n<text text-anchor=\"start\" x=\"877\" y=\"-404.8\" font-family=\"Helvetica,sans-Serif\" font-size=\"14.00\">value = [2, 88]</text>\n<text text-anchor=\"start\" x=\"873\" y=\"-389.8\" font-family=\"Helvetica,sans-Serif\" font-size=\"14.00\">class = Positive</text>\n</g>\n<!-- 4&#45;&gt;10 -->\n<g id=\"edge10\" class=\"edge\">\n<title>4&#45;&gt;10</title>\n<path fill=\"none\" stroke=\"black\" d=\"M796.79,-418.37C816.06,-418 836.26,-417.61 854.56,-417.25\"/>\n<polygon fill=\"black\" stroke=\"black\" points=\"854.88,-420.75 864.81,-417.05 854.74,-413.75 854.88,-420.75\"/>\n</g>\n<!-- 6 -->\n<g id=\"node7\" class=\"node\">\n<title>6</title>\n<path fill=\"#e88f4f\" stroke=\"black\" d=\"M1158,-598.5C1158,-598.5 1054,-598.5 1054,-598.5 1048,-598.5 1042,-592.5 1042,-586.5 1042,-586.5 1042,-527.5 1042,-527.5 1042,-521.5 1048,-515.5 1054,-515.5 1054,-515.5 1158,-515.5 1158,-515.5 1164,-515.5 1170,-521.5 1170,-527.5 1170,-527.5 1170,-586.5 1170,-586.5 1170,-592.5 1164,-598.5 1158,-598.5\"/>\n<text text-anchor=\"start\" x=\"1050\" y=\"-583.3\" font-family=\"Helvetica,sans-Serif\" font-size=\"14.00\">PatientID ≤ 6726.5</text>\n<text text-anchor=\"start\" x=\"1070.5\" y=\"-568.3\" font-family=\"Helvetica,sans-Serif\" font-size=\"14.00\">gini = 0.179</text>\n<text text-anchor=\"start\" x=\"1061\" y=\"-553.3\" font-family=\"Helvetica,sans-Serif\" font-size=\"14.00\">samples = 125</text>\n<text text-anchor=\"start\" x=\"1055.5\" y=\"-538.3\" font-family=\"Helvetica,sans-Serif\" font-size=\"14.00\">value = [190, 21]</text>\n<text text-anchor=\"start\" x=\"1056\" y=\"-523.3\" font-family=\"Helvetica,sans-Serif\" font-size=\"14.00\">class = Negative</text>\n</g>\n<!-- 5&#45;&gt;6 -->\n<g id=\"edge6\" class=\"edge\">\n<title>5&#45;&gt;6</title>\n<path fill=\"none\" stroke=\"black\" d=\"M1006.27,-531.78C1014.92,-533.99 1023.64,-536.22 1032.14,-538.39\"/>\n<polygon fill=\"black\" stroke=\"black\" points=\"1031.44,-541.82 1042,-540.91 1033.18,-535.04 1031.44,-541.82\"/>\n</g>\n<!-- 9 -->\n<g id=\"node10\" class=\"node\">\n<title>9</title>\n<path fill=\"#44a3e6\" stroke=\"black\" d=\"M1149,-497C1149,-497 1063,-497 1063,-497 1057,-497 1051,-491 1051,-485 1051,-485 1051,-441 1051,-441 1051,-435 1057,-429 1063,-429 1063,-429 1149,-429 1149,-429 1155,-429 1161,-435 1161,-441 1161,-441 1161,-485 1161,-485 1161,-491 1155,-497 1149,-497\"/>\n<text text-anchor=\"start\" x=\"1070.5\" y=\"-481.8\" font-family=\"Helvetica,sans-Serif\" font-size=\"14.00\">gini = 0.101</text>\n<text text-anchor=\"start\" x=\"1065\" y=\"-466.8\" font-family=\"Helvetica,sans-Serif\" font-size=\"14.00\">samples = 42</text>\n<text text-anchor=\"start\" x=\"1063\" y=\"-451.8\" font-family=\"Helvetica,sans-Serif\" font-size=\"14.00\">value = [3, 53]</text>\n<text text-anchor=\"start\" x=\"1059\" y=\"-436.8\" font-family=\"Helvetica,sans-Serif\" font-size=\"14.00\">class = Positive</text>\n</g>\n<!-- 5&#45;&gt;9 -->\n<g id=\"edge9\" class=\"edge\">\n<title>5&#45;&gt;9</title>\n<path fill=\"none\" stroke=\"black\" d=\"M1006.27,-488.22C1017.97,-485.23 1029.83,-482.2 1041.06,-479.33\"/>\n<polygon fill=\"black\" stroke=\"black\" points=\"1041.93,-482.72 1050.75,-476.86 1040.2,-475.94 1041.93,-482.72\"/>\n</g>\n<!-- 7 -->\n<g id=\"node8\" class=\"node\">\n<title>7</title>\n<path fill=\"#e58139\" stroke=\"black\" d=\"M1310,-634C1310,-634 1218,-634 1218,-634 1212,-634 1206,-628 1206,-622 1206,-622 1206,-578 1206,-578 1206,-572 1212,-566 1218,-566 1218,-566 1310,-566 1310,-566 1316,-566 1322,-572 1322,-578 1322,-578 1322,-622 1322,-622 1322,-628 1316,-634 1310,-634\"/>\n<text text-anchor=\"start\" x=\"1236\" y=\"-618.8\" font-family=\"Helvetica,sans-Serif\" font-size=\"14.00\">gini = 0.0</text>\n<text text-anchor=\"start\" x=\"1219\" y=\"-603.8\" font-family=\"Helvetica,sans-Serif\" font-size=\"14.00\">samples = 107</text>\n<text text-anchor=\"start\" x=\"1217\" y=\"-588.8\" font-family=\"Helvetica,sans-Serif\" font-size=\"14.00\">value = [177, 0]</text>\n<text text-anchor=\"start\" x=\"1214\" y=\"-573.8\" font-family=\"Helvetica,sans-Serif\" font-size=\"14.00\">class = Negative</text>\n</g>\n<!-- 6&#45;&gt;7 -->\n<g id=\"edge7\" class=\"edge\">\n<title>6&#45;&gt;7</title>\n<path fill=\"none\" stroke=\"black\" d=\"M1170,-574.37C1178.6,-576.74 1187.46,-579.18 1196.12,-581.57\"/>\n<polygon fill=\"black\" stroke=\"black\" points=\"1195.24,-584.95 1205.81,-584.24 1197.1,-578.2 1195.24,-584.95\"/>\n</g>\n<!-- 8 -->\n<g id=\"node9\" class=\"node\">\n<title>8</title>\n<path fill=\"#b4daf5\" stroke=\"black\" d=\"M1307,-548C1307,-548 1221,-548 1221,-548 1215,-548 1209,-542 1209,-536 1209,-536 1209,-492 1209,-492 1209,-486 1215,-480 1221,-480 1221,-480 1307,-480 1307,-480 1313,-480 1319,-486 1319,-492 1319,-492 1319,-536 1319,-536 1319,-542 1313,-548 1307,-548\"/>\n<text text-anchor=\"start\" x=\"1228.5\" y=\"-532.8\" font-family=\"Helvetica,sans-Serif\" font-size=\"14.00\">gini = 0.472</text>\n<text text-anchor=\"start\" x=\"1223\" y=\"-517.8\" font-family=\"Helvetica,sans-Serif\" font-size=\"14.00\">samples = 18</text>\n<text text-anchor=\"start\" x=\"1217\" y=\"-502.8\" font-family=\"Helvetica,sans-Serif\" font-size=\"14.00\">value = [13, 21]</text>\n<text text-anchor=\"start\" x=\"1217\" y=\"-487.8\" font-family=\"Helvetica,sans-Serif\" font-size=\"14.00\">class = Positive</text>\n</g>\n<!-- 6&#45;&gt;8 -->\n<g id=\"edge8\" class=\"edge\">\n<title>6&#45;&gt;8</title>\n<path fill=\"none\" stroke=\"black\" d=\"M1170,-539.63C1179.54,-537 1189.39,-534.29 1198.95,-531.65\"/>\n<polygon fill=\"black\" stroke=\"black\" points=\"1200.08,-534.97 1208.79,-528.94 1198.22,-528.23 1200.08,-534.97\"/>\n</g>\n<!-- 13 -->\n<g id=\"node14\" class=\"node\">\n<title>13</title>\n<path fill=\"#e9975b\" stroke=\"black\" d=\"M578,-268.5C578,-268.5 455,-268.5 455,-268.5 449,-268.5 443,-262.5 443,-256.5 443,-256.5 443,-197.5 443,-197.5 443,-191.5 449,-185.5 455,-185.5 455,-185.5 578,-185.5 578,-185.5 584,-185.5 590,-191.5 590,-197.5 590,-197.5 590,-256.5 590,-256.5 590,-262.5 584,-268.5 578,-268.5\"/>\n<text text-anchor=\"start\" x=\"460.5\" y=\"-253.3\" font-family=\"Helvetica,sans-Serif\" font-size=\"14.00\">PatientID ≤ 6750.0</text>\n<text text-anchor=\"start\" x=\"481\" y=\"-238.3\" font-family=\"Helvetica,sans-Serif\" font-size=\"14.00\">gini = 0.251</text>\n<text text-anchor=\"start\" x=\"471.5\" y=\"-223.3\" font-family=\"Helvetica,sans-Serif\" font-size=\"14.00\">samples = 449</text>\n<text text-anchor=\"start\" x=\"451\" y=\"-208.3\" font-family=\"Helvetica,sans-Serif\" font-size=\"14.00\">value = [597.0, 103.0]</text>\n<text text-anchor=\"start\" x=\"466.5\" y=\"-193.3\" font-family=\"Helvetica,sans-Serif\" font-size=\"14.00\">class = Negative</text>\n</g>\n<!-- 12&#45;&gt;13 -->\n<g id=\"edge13\" class=\"edge\">\n<title>12&#45;&gt;13</title>\n<path fill=\"none\" stroke=\"black\" d=\"M407.16,-225.87C415.63,-225.96 424.24,-226.05 432.71,-226.14\"/>\n<polygon fill=\"black\" stroke=\"black\" points=\"432.92,-229.64 442.95,-226.24 432.99,-222.64 432.92,-229.64\"/>\n</g>\n<!-- 20 -->\n<g id=\"node21\" class=\"node\">\n<title>20</title>\n<path fill=\"#cfe7f9\" stroke=\"black\" d=\"M567,-167.5C567,-167.5 466,-167.5 466,-167.5 460,-167.5 454,-161.5 454,-155.5 454,-155.5 454,-96.5 454,-96.5 454,-90.5 460,-84.5 466,-84.5 466,-84.5 567,-84.5 567,-84.5 573,-84.5 579,-90.5 579,-96.5 579,-96.5 579,-155.5 579,-155.5 579,-161.5 573,-167.5 567,-167.5\"/>\n<text text-anchor=\"start\" x=\"482.5\" y=\"-152.3\" font-family=\"Helvetica,sans-Serif\" font-size=\"14.00\">ADL ≤ 5.01</text>\n<text text-anchor=\"start\" x=\"481\" y=\"-137.3\" font-family=\"Helvetica,sans-Serif\" font-size=\"14.00\">gini = 0.491</text>\n<text text-anchor=\"start\" x=\"471.5\" y=\"-122.3\" font-family=\"Helvetica,sans-Serif\" font-size=\"14.00\">samples = 156</text>\n<text text-anchor=\"start\" x=\"462\" y=\"-107.3\" font-family=\"Helvetica,sans-Serif\" font-size=\"14.00\">value = [107, 141]</text>\n<text text-anchor=\"start\" x=\"469.5\" y=\"-92.3\" font-family=\"Helvetica,sans-Serif\" font-size=\"14.00\">class = Positive</text>\n</g>\n<!-- 12&#45;&gt;20 -->\n<g id=\"edge20\" class=\"edge\">\n<title>12&#45;&gt;20</title>\n<path fill=\"none\" stroke=\"black\" d=\"M404.09,-183.45C417.6,-176.48 431.52,-169.3 444.76,-162.48\"/>\n<polygon fill=\"black\" stroke=\"black\" points=\"446.52,-165.51 453.8,-157.81 443.31,-159.29 446.52,-165.51\"/>\n</g>\n<!-- 14 -->\n<g id=\"node15\" class=\"node\">\n<title>14</title>\n<path fill=\"#e78d4b\" stroke=\"black\" d=\"M786,-360.5C786,-360.5 638,-360.5 638,-360.5 632,-360.5 626,-354.5 626,-348.5 626,-348.5 626,-289.5 626,-289.5 626,-283.5 632,-277.5 638,-277.5 638,-277.5 786,-277.5 786,-277.5 792,-277.5 798,-283.5 798,-289.5 798,-289.5 798,-348.5 798,-348.5 798,-354.5 792,-360.5 786,-360.5\"/>\n<text text-anchor=\"start\" x=\"634\" y=\"-345.3\" font-family=\"Helvetica,sans-Serif\" font-size=\"14.00\">BehavioralProblems ≤ 0.5</text>\n<text text-anchor=\"start\" x=\"676.5\" y=\"-330.3\" font-family=\"Helvetica,sans-Serif\" font-size=\"14.00\">gini = 0.155</text>\n<text text-anchor=\"start\" x=\"667\" y=\"-315.3\" font-family=\"Helvetica,sans-Serif\" font-size=\"14.00\">samples = 399</text>\n<text text-anchor=\"start\" x=\"661.5\" y=\"-300.3\" font-family=\"Helvetica,sans-Serif\" font-size=\"14.00\">value = [571, 53]</text>\n<text text-anchor=\"start\" x=\"662\" y=\"-285.3\" font-family=\"Helvetica,sans-Serif\" font-size=\"14.00\">class = Negative</text>\n</g>\n<!-- 13&#45;&gt;14 -->\n<g id=\"edge14\" class=\"edge\">\n<title>13&#45;&gt;14</title>\n<path fill=\"none\" stroke=\"black\" d=\"M590.1,-261.52C598.78,-265.64 607.73,-269.9 616.66,-274.14\"/>\n<polygon fill=\"black\" stroke=\"black\" points=\"615.4,-277.42 625.93,-278.55 618.41,-271.1 615.4,-277.42\"/>\n</g>\n<!-- 19 -->\n<g id=\"node20\" class=\"node\">\n<title>19</title>\n<path fill=\"#a0d0f3\" stroke=\"black\" d=\"M755,-259C755,-259 669,-259 669,-259 663,-259 657,-253 657,-247 657,-247 657,-203 657,-203 657,-197 663,-191 669,-191 669,-191 755,-191 755,-191 761,-191 767,-197 767,-203 767,-203 767,-247 767,-247 767,-253 761,-259 755,-259\"/>\n<text text-anchor=\"start\" x=\"680\" y=\"-243.8\" font-family=\"Helvetica,sans-Serif\" font-size=\"14.00\">gini = 0.45</text>\n<text text-anchor=\"start\" x=\"671\" y=\"-228.8\" font-family=\"Helvetica,sans-Serif\" font-size=\"14.00\">samples = 50</text>\n<text text-anchor=\"start\" x=\"665\" y=\"-213.8\" font-family=\"Helvetica,sans-Serif\" font-size=\"14.00\">value = [26, 50]</text>\n<text text-anchor=\"start\" x=\"665\" y=\"-198.8\" font-family=\"Helvetica,sans-Serif\" font-size=\"14.00\">class = Positive</text>\n</g>\n<!-- 13&#45;&gt;19 -->\n<g id=\"edge19\" class=\"edge\">\n<title>13&#45;&gt;19</title>\n<path fill=\"none\" stroke=\"black\" d=\"M590.1,-226.25C608.66,-226.06 628.47,-225.85 646.59,-225.67\"/>\n<polygon fill=\"black\" stroke=\"black\" points=\"646.78,-229.16 656.74,-225.56 646.7,-222.16 646.78,-229.16\"/>\n</g>\n<!-- 15 -->\n<g id=\"node16\" class=\"node\">\n<title>15</title>\n<path fill=\"#e58139\" stroke=\"black\" d=\"M966,-357C966,-357 874,-357 874,-357 868,-357 862,-351 862,-345 862,-345 862,-301 862,-301 862,-295 868,-289 874,-289 874,-289 966,-289 966,-289 972,-289 978,-295 978,-301 978,-301 978,-345 978,-345 978,-351 972,-357 966,-357\"/>\n<text text-anchor=\"start\" x=\"884.5\" y=\"-341.8\" font-family=\"Helvetica,sans-Serif\" font-size=\"14.00\">gini = 0.004</text>\n<text text-anchor=\"start\" x=\"875\" y=\"-326.8\" font-family=\"Helvetica,sans-Serif\" font-size=\"14.00\">samples = 325</text>\n<text text-anchor=\"start\" x=\"873\" y=\"-311.8\" font-family=\"Helvetica,sans-Serif\" font-size=\"14.00\">value = [501, 1]</text>\n<text text-anchor=\"start\" x=\"870\" y=\"-296.8\" font-family=\"Helvetica,sans-Serif\" font-size=\"14.00\">class = Negative</text>\n</g>\n<!-- 14&#45;&gt;15 -->\n<g id=\"edge15\" class=\"edge\">\n<title>14&#45;&gt;15</title>\n<path fill=\"none\" stroke=\"black\" d=\"M798.28,-320.66C816.06,-321 834.57,-321.36 851.6,-321.69\"/>\n<polygon fill=\"black\" stroke=\"black\" points=\"851.92,-325.2 861.99,-321.89 852.06,-318.2 851.92,-325.2\"/>\n</g>\n<!-- 16 -->\n<g id=\"node17\" class=\"node\">\n<title>16</title>\n<path fill=\"#f8dfcc\" stroke=\"black\" d=\"M966,-270.5C966,-270.5 874,-270.5 874,-270.5 868,-270.5 862,-264.5 862,-258.5 862,-258.5 862,-199.5 862,-199.5 862,-193.5 868,-187.5 874,-187.5 874,-187.5 966,-187.5 966,-187.5 972,-187.5 978,-193.5 978,-199.5 978,-199.5 978,-258.5 978,-258.5 978,-264.5 972,-270.5 966,-270.5\"/>\n<text text-anchor=\"start\" x=\"882\" y=\"-255.3\" font-family=\"Helvetica,sans-Serif\" font-size=\"14.00\">ADL ≤ 5.361</text>\n<text text-anchor=\"start\" x=\"884.5\" y=\"-240.3\" font-family=\"Helvetica,sans-Serif\" font-size=\"14.00\">gini = 0.489</text>\n<text text-anchor=\"start\" x=\"879\" y=\"-225.3\" font-family=\"Helvetica,sans-Serif\" font-size=\"14.00\">samples = 74</text>\n<text text-anchor=\"start\" x=\"873\" y=\"-210.3\" font-family=\"Helvetica,sans-Serif\" font-size=\"14.00\">value = [70, 52]</text>\n<text text-anchor=\"start\" x=\"870\" y=\"-195.3\" font-family=\"Helvetica,sans-Serif\" font-size=\"14.00\">class = Negative</text>\n</g>\n<!-- 14&#45;&gt;16 -->\n<g id=\"edge16\" class=\"edge\">\n<title>14&#45;&gt;16</title>\n<path fill=\"none\" stroke=\"black\" d=\"M798.28,-281.74C816.39,-273.83 835.27,-265.58 852.56,-258.03\"/>\n<polygon fill=\"black\" stroke=\"black\" points=\"854.23,-261.12 861.99,-253.91 851.42,-254.7 854.23,-261.12\"/>\n</g>\n<!-- 17 -->\n<g id=\"node18\" class=\"node\">\n<title>17</title>\n<path fill=\"#63b2ea\" stroke=\"black\" d=\"M1149,-306C1149,-306 1063,-306 1063,-306 1057,-306 1051,-300 1051,-294 1051,-294 1051,-250 1051,-250 1051,-244 1057,-238 1063,-238 1063,-238 1149,-238 1149,-238 1155,-238 1161,-244 1161,-250 1161,-250 1161,-294 1161,-294 1161,-300 1155,-306 1149,-306\"/>\n<text text-anchor=\"start\" x=\"1070.5\" y=\"-290.8\" font-family=\"Helvetica,sans-Serif\" font-size=\"14.00\">gini = 0.288</text>\n<text text-anchor=\"start\" x=\"1065\" y=\"-275.8\" font-family=\"Helvetica,sans-Serif\" font-size=\"14.00\">samples = 38</text>\n<text text-anchor=\"start\" x=\"1059\" y=\"-260.8\" font-family=\"Helvetica,sans-Serif\" font-size=\"14.00\">value = [11, 52]</text>\n<text text-anchor=\"start\" x=\"1059\" y=\"-245.8\" font-family=\"Helvetica,sans-Serif\" font-size=\"14.00\">class = Positive</text>\n</g>\n<!-- 16&#45;&gt;17 -->\n<g id=\"edge17\" class=\"edge\">\n<title>16&#45;&gt;17</title>\n<path fill=\"none\" stroke=\"black\" d=\"M978.21,-242.37C998.16,-247.03 1020.66,-252.29 1041.11,-257.07\"/>\n<polygon fill=\"black\" stroke=\"black\" points=\"1040.43,-260.51 1050.97,-259.37 1042.03,-253.69 1040.43,-260.51\"/>\n</g>\n<!-- 18 -->\n<g id=\"node19\" class=\"node\">\n<title>18</title>\n<path fill=\"#e58139\" stroke=\"black\" d=\"M1152,-220C1152,-220 1060,-220 1060,-220 1054,-220 1048,-214 1048,-208 1048,-208 1048,-164 1048,-164 1048,-158 1054,-152 1060,-152 1060,-152 1152,-152 1152,-152 1158,-152 1164,-158 1164,-164 1164,-164 1164,-208 1164,-208 1164,-214 1158,-220 1152,-220\"/>\n<text text-anchor=\"start\" x=\"1078\" y=\"-204.8\" font-family=\"Helvetica,sans-Serif\" font-size=\"14.00\">gini = 0.0</text>\n<text text-anchor=\"start\" x=\"1065\" y=\"-189.8\" font-family=\"Helvetica,sans-Serif\" font-size=\"14.00\">samples = 36</text>\n<text text-anchor=\"start\" x=\"1063\" y=\"-174.8\" font-family=\"Helvetica,sans-Serif\" font-size=\"14.00\">value = [59, 0]</text>\n<text text-anchor=\"start\" x=\"1056\" y=\"-159.8\" font-family=\"Helvetica,sans-Serif\" font-size=\"14.00\">class = Negative</text>\n</g>\n<!-- 16&#45;&gt;18 -->\n<g id=\"edge18\" class=\"edge\">\n<title>16&#45;&gt;18</title>\n<path fill=\"none\" stroke=\"black\" d=\"M978.21,-215.63C997.16,-211.2 1018.42,-206.23 1038.04,-201.65\"/>\n<polygon fill=\"black\" stroke=\"black\" points=\"1038.88,-205.05 1047.83,-199.36 1037.29,-198.23 1038.88,-205.05\"/>\n</g>\n<!-- 21 -->\n<g id=\"node22\" class=\"node\">\n<title>21</title>\n<path fill=\"#7cbeee\" stroke=\"black\" d=\"M758.5,-169.5C758.5,-169.5 665.5,-169.5 665.5,-169.5 659.5,-169.5 653.5,-163.5 653.5,-157.5 653.5,-157.5 653.5,-98.5 653.5,-98.5 653.5,-92.5 659.5,-86.5 665.5,-86.5 665.5,-86.5 758.5,-86.5 758.5,-86.5 764.5,-86.5 770.5,-92.5 770.5,-98.5 770.5,-98.5 770.5,-157.5 770.5,-157.5 770.5,-163.5 764.5,-169.5 758.5,-169.5\"/>\n<text text-anchor=\"start\" x=\"662.5\" y=\"-154.3\" font-family=\"Helvetica,sans-Serif\" font-size=\"14.00\">MMSE ≤ 23.896</text>\n<text text-anchor=\"start\" x=\"676.5\" y=\"-139.3\" font-family=\"Helvetica,sans-Serif\" font-size=\"14.00\">gini = 0.378</text>\n<text text-anchor=\"start\" x=\"671\" y=\"-124.3\" font-family=\"Helvetica,sans-Serif\" font-size=\"14.00\">samples = 91</text>\n<text text-anchor=\"start\" x=\"661.5\" y=\"-109.3\" font-family=\"Helvetica,sans-Serif\" font-size=\"14.00\">value = [37, 109]</text>\n<text text-anchor=\"start\" x=\"665\" y=\"-94.3\" font-family=\"Helvetica,sans-Serif\" font-size=\"14.00\">class = Positive</text>\n</g>\n<!-- 20&#45;&gt;21 -->\n<g id=\"edge21\" class=\"edge\">\n<title>20&#45;&gt;21</title>\n<path fill=\"none\" stroke=\"black\" d=\"M579.26,-126.64C599.69,-126.85 622.54,-127.09 643.39,-127.3\"/>\n<polygon fill=\"black\" stroke=\"black\" points=\"643.41,-130.8 653.44,-127.41 643.48,-123.8 643.41,-130.8\"/>\n</g>\n<!-- 24 -->\n<g id=\"node25\" class=\"node\">\n<title>24</title>\n<path fill=\"#f1bb94\" stroke=\"black\" d=\"M758,-68C758,-68 666,-68 666,-68 660,-68 654,-62 654,-56 654,-56 654,-12 654,-12 654,-6 660,0 666,0 666,0 758,0 758,0 764,0 770,-6 770,-12 770,-12 770,-56 770,-56 770,-62 764,-68 758,-68\"/>\n<text text-anchor=\"start\" x=\"676.5\" y=\"-52.8\" font-family=\"Helvetica,sans-Serif\" font-size=\"14.00\">gini = 0.431</text>\n<text text-anchor=\"start\" x=\"671\" y=\"-37.8\" font-family=\"Helvetica,sans-Serif\" font-size=\"14.00\">samples = 65</text>\n<text text-anchor=\"start\" x=\"665\" y=\"-22.8\" font-family=\"Helvetica,sans-Serif\" font-size=\"14.00\">value = [70, 32]</text>\n<text text-anchor=\"start\" x=\"662\" y=\"-7.8\" font-family=\"Helvetica,sans-Serif\" font-size=\"14.00\">class = Negative</text>\n</g>\n<!-- 20&#45;&gt;24 -->\n<g id=\"edge24\" class=\"edge\">\n<title>20&#45;&gt;24</title>\n<path fill=\"none\" stroke=\"black\" d=\"M579.26,-96.64C600.07,-86.74 623.37,-75.66 644.53,-65.6\"/>\n<polygon fill=\"black\" stroke=\"black\" points=\"646.24,-68.67 653.77,-61.21 643.24,-62.34 646.24,-68.67\"/>\n</g>\n<!-- 22 -->\n<g id=\"node23\" class=\"node\">\n<title>22</title>\n<path fill=\"#4fa8e8\" stroke=\"black\" d=\"M966.5,-163C966.5,-163 873.5,-163 873.5,-163 867.5,-163 861.5,-157 861.5,-151 861.5,-151 861.5,-107 861.5,-107 861.5,-101 867.5,-95 873.5,-95 873.5,-95 966.5,-95 966.5,-95 972.5,-95 978.5,-101 978.5,-107 978.5,-107 978.5,-151 978.5,-151 978.5,-157 972.5,-163 966.5,-163\"/>\n<text text-anchor=\"start\" x=\"884.5\" y=\"-147.8\" font-family=\"Helvetica,sans-Serif\" font-size=\"14.00\">gini = 0.179</text>\n<text text-anchor=\"start\" x=\"879\" y=\"-132.8\" font-family=\"Helvetica,sans-Serif\" font-size=\"14.00\">samples = 75</text>\n<text text-anchor=\"start\" x=\"869.5\" y=\"-117.8\" font-family=\"Helvetica,sans-Serif\" font-size=\"14.00\">value = [12, 109]</text>\n<text text-anchor=\"start\" x=\"873\" y=\"-102.8\" font-family=\"Helvetica,sans-Serif\" font-size=\"14.00\">class = Positive</text>\n</g>\n<!-- 21&#45;&gt;22 -->\n<g id=\"edge22\" class=\"edge\">\n<title>21&#45;&gt;22</title>\n<path fill=\"none\" stroke=\"black\" d=\"M770.66,-128.28C795.67,-128.4 825.13,-128.54 851.18,-128.67\"/>\n<polygon fill=\"black\" stroke=\"black\" points=\"851.34,-132.17 861.36,-128.72 851.37,-125.17 851.34,-132.17\"/>\n</g>\n<!-- 23 -->\n<g id=\"node24\" class=\"node\">\n<title>23</title>\n<path fill=\"#e58139\" stroke=\"black\" d=\"M966,-77C966,-77 874,-77 874,-77 868,-77 862,-71 862,-65 862,-65 862,-21 862,-21 862,-15 868,-9 874,-9 874,-9 966,-9 966,-9 972,-9 978,-15 978,-21 978,-21 978,-65 978,-65 978,-71 972,-77 966,-77\"/>\n<text text-anchor=\"start\" x=\"892\" y=\"-61.8\" font-family=\"Helvetica,sans-Serif\" font-size=\"14.00\">gini = 0.0</text>\n<text text-anchor=\"start\" x=\"879\" y=\"-46.8\" font-family=\"Helvetica,sans-Serif\" font-size=\"14.00\">samples = 16</text>\n<text text-anchor=\"start\" x=\"877\" y=\"-31.8\" font-family=\"Helvetica,sans-Serif\" font-size=\"14.00\">value = [25, 0]</text>\n<text text-anchor=\"start\" x=\"870\" y=\"-16.8\" font-family=\"Helvetica,sans-Serif\" font-size=\"14.00\">class = Negative</text>\n</g>\n<!-- 21&#45;&gt;23 -->\n<g id=\"edge23\" class=\"edge\">\n<title>21&#45;&gt;23</title>\n<path fill=\"none\" stroke=\"black\" d=\"M770.66,-104.21C795.99,-93.76 825.9,-81.41 852.2,-70.56\"/>\n<polygon fill=\"black\" stroke=\"black\" points=\"853.81,-73.69 861.71,-66.64 851.14,-67.22 853.81,-73.69\"/>\n</g>\n</g>\n</svg>\n",
            "text/plain": [
              "<graphviz.sources.Source at 0x7d0ef3c1acd0>"
            ]
          },
          "metadata": {},
          "execution_count": 199
        }
      ]
    },
    {
      "cell_type": "markdown",
      "source": [
        "# Artificial Neural Network"
      ],
      "metadata": {
        "id": "_ivbAdDV1qW9"
      }
    },
    {
      "cell_type": "code",
      "source": [
        "#Artificial Neural Network\n",
        "from sklearn.neural_network import MLPClassifier\n",
        "ANN = MLPClassifier(solver='adam', max_iter= 1000, alpha=1e-5,hidden_layer_sizes=(5, 2), random_state=1)\n",
        "ANN.fit(x_train, y_train)\n",
        "y_pred_train = ANN.predict(x_train)\n",
        "y_pred_test  = ANN.predict(x_test)\n",
        "calculate_confusion(\"ANN\",y_train, y_pred_train, y_test, y_pred_test)\n",
        "fpr8, tpr8, _ = metrics.roc_curve(y_test, y_pred_test)\n",
        "auc = round(metrics.roc_auc_score(y_test, y_pred_test), 4)\n",
        "cv_results = cross_val_score(ANN, x_test, y_test)\n",
        "results.append(cv_results)"
      ],
      "metadata": {
        "id": "qdjvGFCljT9H",
        "outputId": "6d255051-4765-4798-a19a-4da351e95962",
        "colab": {
          "base_uri": "https://localhost:8080/",
          "height": 345
        }
      },
      "execution_count": null,
      "outputs": [
        {
          "output_type": "display_data",
          "data": {
            "text/plain": [
              "<Figure size 600x200 with 4 Axes>"
            ],
            "image/png": "[encoded data removed]"
          },
          "metadata": {}
        },
        {
          "output_type": "stream",
          "name": "stdout",
          "text": [
            "-----Results for ANN ----------------------\n",
            "  Train Accuracy    Train Precision    Train Recall    Train F1    Test Accuracy    Test Precision    Test Recall    Test F1\n",
            "----------------  -----------------  --------------  ----------  ---------------  ----------------  -------------  ---------\n",
            "        0.880941           0.891972        0.866218    0.878906         0.900719          0.919403           0.88    0.89927\n"
          ]
        }
      ]
    },
    {
      "cell_type": "code",
      "source": [
        "# Compute False postive rate, and True positive rate\n",
        "fpr8, tpr8, thresholds8 = metrics.roc_curve(y_train, ANN.predict_proba(x_train)[:,1])\n",
        "# Calculate Area under the curve to display on the plot\n",
        "auc8 = metrics.roc_auc_score(y_train,y_pred_train)"
      ],
      "metadata": {
        "id": "Uel-FHMyFXWc"
      },
      "execution_count": null,
      "outputs": []
    },
    {
      "cell_type": "code",
      "source": [
        "# Get the training loss values at each iteration\n",
        "loss_values = ANN.loss_curve_\n",
        "\n",
        "fig = plt.figure(figsize=(5,3))\n",
        "# Plot the convergence curve\n",
        "plt.plot(loss_values)\n",
        "plt.grid(True)\n",
        "plt.title('Convergence Curve')\n",
        "plt.xlabel('Iteration', fontsize=10)\n",
        "plt.ylabel('Training Loss', fontsize=10)\n",
        "plt.savefig('ANN_convergence.png')\n",
        "plt.show()"
      ],
      "metadata": {
        "id": "OfyCW1Ybh8Vc",
        "outputId": "7db4e372-40d2-4a6c-d2d6-f38b60dfc223",
        "colab": {
          "base_uri": "https://localhost:8080/",
          "height": 333
        }
      },
      "execution_count": null,
      "outputs": [
        {
          "output_type": "display_data",
          "data": {
            "text/plain": [
              "<Figure size 500x300 with 1 Axes>"
            ],
            "image/png": "[encoded data removed]"
          },
          "metadata": {}
        }
      ]
    },
    {
      "cell_type": "markdown",
      "source": [
        "# Box Plot"
      ],
      "metadata": {
        "id": "N8xRW3sC1tcZ"
      }
    },
    {
      "cell_type": "code",
      "source": [
        "names = ['LRC', 'SVC', 'GBC', 'GNB', 'KNC', 'DT', 'RFC', 'ANN']\n",
        "\n",
        "# Create a figure with a single subplot\n",
        "fig, ax = plt.subplots(1, 1)\n",
        "\n",
        "# Draw the box plots\n",
        "ax.boxplot(results)\n",
        "\n",
        "# Set the labels for each box plot\n",
        "ax.set_xticklabels(names)\n",
        "\n",
        "# Add a title to the plot\n",
        "ax.set_title('Box Plots')\n",
        "\n",
        "# Save the figure\n",
        "plt.savefig('boxplots.png')\n",
        "\n",
        "# Show the plot\n",
        "plt.show()\n"
      ],
      "metadata": {
        "id": "bx31fqAJKoUR",
        "outputId": "49e2bd23-afb4-43f0-db8b-7fb2cfe1c35b",
        "colab": {
          "base_uri": "https://localhost:8080/",
          "height": 452
        }
      },
      "execution_count": null,
      "outputs": [
        {
          "output_type": "display_data",
          "data": {
            "text/plain": [
              "<Figure size 640x480 with 1 Axes>"
            ],
            "image/png": "[encoded data removed]"
          },
          "metadata": {}
        }
      ]
    },
    {
      "cell_type": "code",
      "source": [
        "# import matplotlib.pyplot as plt\n",
        "# import numpy as np\n",
        "\n",
        "# # Define the FPR and TPR values for each algorithm as arrays\n",
        "# np.array(['LRC', 'SVC', 'GBC', 'GNB', 'KNC', 'DT','RFC', 'ANN'])\n",
        "# fpr = [fpr1,fpr2,fpr3,fpr4,fpr5,fpr6,fpr7,fpr8]\n",
        "# tpr = [tpr1,tpr2,tpr3,tpr4,tpr5,tpr6,tpr7,tpr8]\n",
        "# auc = [auc1,auc2,auc3,auc4,auc5,auc6,auc7,auc8]\n",
        "\n",
        "# # Plot the ROC curve for each algorithm\n",
        "# plt.figure(figsize=(8, 4))\n",
        "# # Create plot\n",
        "# for i in range(len(fpr)):\n",
        "#     label_str = f\"{names[i]} AUC = {auc[i]:.2f}\"\n",
        "#     plt.plot(fpr[i], tpr[i], label=label_str)\n",
        "\n",
        "# # Set the axis labels and title\n",
        "# plt.xlabel('False Positive Rate (FPR)')\n",
        "# plt.ylabel('True Positive Rate (TPR)')\n",
        "# plt.title('ROC Curve')\n",
        "\n",
        "# # Set the axis limits\n",
        "# plt.xlim([0, 1])\n",
        "# plt.ylim([0, 1])\n",
        "\n",
        "# # Add a legend\n",
        "# plt.legend()\n",
        "\n",
        "# # Show the plot\n",
        "# plt.show()"
      ],
      "metadata": {
        "id": "iM88mKG7cLS_"
      },
      "execution_count": null,
      "outputs": []
    },
    {
      "cell_type": "code",
      "source": [
        "print(selected_feature_names)"
      ],
      "metadata": {
        "id": "ZY0KP3iYDXqF",
        "outputId": "33077e7c-de19-4d2a-a637-f16418f5e9b2",
        "colab": {
          "base_uri": "https://localhost:8080/"
        }
      },
      "execution_count": null,
      "outputs": [
        {
          "output_type": "stream",
          "name": "stdout",
          "text": [
            "Index(['MMSE', 'FunctionalAssessment', 'MemoryComplaints',\n",
            "       'BehavioralProblems', 'ADL'],\n",
            "      dtype='object')\n"
          ]
        }
      ]
    },
    {
      "cell_type": "markdown",
      "source": [
        "# ROC Curves"
      ],
      "metadata": {
        "id": "wf4r6ORq15Jv"
      }
    },
    {
      "cell_type": "code",
      "source": [
        "# Now, plot the computed values\n",
        "fig = plt.figure(figsize=(7,5))\n",
        "\n",
        "plt.plot(fpr1, tpr1, linestyle='-',color='green', label='LR ROC = %.2f' %auc1)\n",
        "plt.plot(fpr2, tpr2, linestyle='--',color='black', label='SVM ROC = %.2f' %auc2)\n",
        "plt.plot(fpr3, tpr3, linestyle='--',color='blue', label='GBC ROC = %.2f' %auc3)\n",
        "plt.plot(fpr4, tpr4, linestyle='--',color='green', label='GNB ROC = %.2f' %auc4)\n",
        "plt.plot(fpr5, tpr5, linestyle='--',color='magenta', label='KNN ROC = %.2f' %auc5)\n",
        "plt.plot(fpr6, tpr6, linestyle=':',color='blue', label='DT ROC = %.2f' %auc6)\n",
        "plt.plot(fpr7, tpr7, linestyle='-',color='black', label='RF ROC = %.2f' %auc7)\n",
        "plt.plot(fpr8, tpr8,linestyle='-',color='red', label='ANN ROC = %.2f' %auc8)\n",
        "\n",
        "# Custom settings for the plot\n",
        "plt.plot([0, 1], [0, 1],'r--')\n",
        "plt.xlim([0.0, 1.0])\n",
        "plt.ylim([0.0, 1.05])\n",
        "plt.xlabel('Specificity(False Positive Rate)')\n",
        "plt.ylabel('Sensitivity(True Positive Rate)')\n",
        "plt.title('Receiver Operating Characteristic')\n",
        "plt.legend(loc=\"lower right\")\n",
        "plt.savefig('ROC_Curves.png')\n",
        "plt.show()   # Display"
      ],
      "metadata": {
        "id": "RdZpNtT9-JVF",
        "outputId": "29544a9c-7ef5-4227-dd76-c4c446a28a40",
        "colab": {
          "base_uri": "https://localhost:8080/",
          "height": 487
        }
      },
      "execution_count": null,
      "outputs": [
        {
          "output_type": "display_data",
          "data": {
            "text/plain": [
              "<Figure size 700x500 with 1 Axes>"
            ],
            "image/png": "[encoded data removed]"
          },
          "metadata": {}
        }
      ]
    }
  ]
}